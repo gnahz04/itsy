{
  "nbformat": 4,
  "nbformat_minor": 0,
  "metadata": {
    "colab": {
      "provenance": [],
      "authorship_tag": "ABX9TyO1YT41BnfE7YCTmpZgAkWq",
      "include_colab_link": true
    },
    "kernelspec": {
      "name": "python3",
      "display_name": "Python 3"
    },
    "language_info": {
      "name": "python"
    }
  },
  "cells": [
    {
      "cell_type": "markdown",
      "metadata": {
        "id": "view-in-github",
        "colab_type": "text"
      },
      "source": [
        "<a href=\"https://colab.research.google.com/github/gnahz04/itsy/blob/master/Newton%E2%80%99s_method_for_exeter_fall_2023.ipynb\" target=\"_parent\"><img src=\"https://colab.research.google.com/assets/colab-badge.svg\" alt=\"Open In Colab\"/></a>"
      ]
    },
    {
      "cell_type": "code",
      "execution_count": null,
      "metadata": {
        "id": "nDh5Q5KTwgAZ"
      },
      "outputs": [],
      "source": [
        "import numpy as np\n",
        "from fractions import Fraction"
      ]
    },
    {
      "cell_type": "code",
      "source": [
        "n = 5\n",
        "def f(x):\n",
        "  return x**n - 1\n",
        "def f_prime(x):\n",
        "  return n*x**(n-1)"
      ],
      "metadata": {
        "id": "336tm6oLBUNa"
      },
      "execution_count": null,
      "outputs": []
    },
    {
      "cell_type": "code",
      "source": [
        "def newton_step(f, f_prime, x):\n",
        "  return x - f(x)/f_prime(x)"
      ],
      "metadata": {
        "id": "P0H2r77AwnB7"
      },
      "execution_count": null,
      "outputs": []
    },
    {
      "cell_type": "code",
      "source": [],
      "metadata": {
        "id": "CeGC_fVACNvm"
      },
      "execution_count": null,
      "outputs": []
    },
    {
      "cell_type": "code",
      "source": [
        "def f(x):\n",
        "  #return x**3-3*x-1\n",
        "  return x-np.sin(x)-0.5\n",
        "def f_prime(x):\n",
        "  #return 3*x*x-3\n",
        "  return 1-np.cos(x)\n",
        "\n"
      ],
      "metadata": {
        "id": "BW5YyEzmxFgK"
      },
      "execution_count": null,
      "outputs": []
    },
    {
      "cell_type": "code",
      "source": [
        "x1 = newton_step(f, f_prime, 2.4)\n",
        "print(f'{x1=}')"
      ],
      "metadata": {
        "colab": {
          "base_uri": "https://localhost:8080/"
        },
        "id": "HSg3hwwWxfRm",
        "outputId": "77e31a35-085f-472e-a3e6-a6c294166a7d"
      },
      "execution_count": null,
      "outputs": [
        {
          "output_type": "stream",
          "name": "stdout",
          "text": [
            "x1=1.6951874934879845\n"
          ]
        }
      ]
    },
    {
      "cell_type": "code",
      "source": [
        "x2 = newton_step(f, f_prime, x1)\n",
        "print(f'{x2=}')"
      ],
      "metadata": {
        "colab": {
          "base_uri": "https://localhost:8080/"
        },
        "id": "Mq9Ns_LdyeLx",
        "outputId": "d6492b5a-5629-4183-cdff-d2d969b5193b"
      },
      "execution_count": null,
      "outputs": [
        {
          "output_type": "stream",
          "name": "stdout",
          "text": [
            "x2=1.5146702741133644\n"
          ]
        }
      ]
    },
    {
      "cell_type": "code",
      "source": [
        "x3 = newton_step(f, f_prime, x2)\n",
        "print(f'{x3=}')"
      ],
      "metadata": {
        "colab": {
          "base_uri": "https://localhost:8080/"
        },
        "id": "8CHQo2472QFC",
        "outputId": "a4d3fcff-9c83-4912-d51c-97513c8f8920"
      },
      "execution_count": null,
      "outputs": [
        {
          "output_type": "stream",
          "name": "stdout",
          "text": [
            "x3=1.4974599034281615\n"
          ]
        }
      ]
    }
  ]
}