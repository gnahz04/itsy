{
 "cells": [
  {
   "cell_type": "markdown",
   "id": "3af149c1",
   "metadata": {},
   "source": [
    "Forty-eight dice are rolled and each die that shows a \"2\" (a deuce) on top is removed. THe remaining dice are rolled again and the deuces are removed. This procedure is repeated until all the dice are gone. How many rools will be needed? Explain."
   ]
  },
  {
   "cell_type": "markdown",
   "id": "add53b64",
   "metadata": {},
   "source": [
    "Main idea: consider each die, and not each roll (which leads to a blind alley of Binomial dist'n etc.)\n",
    "\n",
    "Consider a single die, let $T_1$ be the number of rolls before it gets removed. We know\n",
    "$$P(T_1 > t) = (1-1/6)^t$$\n",
    "\n",
    "We are interested in $T = \\max(T_1, \\dots, T_n)$ where $n=48$.\n",
    "\n",
    "The $T_i$'s are i.i.d. Thus, $$P(T \\leq t) = P(T_1 \\leq t) \\cdots P(T_n \\leq t) = (1-(5/6)^t) \\cdots (1-(5/6)^t) = (1-(5/6)^t)^{48}$$ "
   ]
  },
  {
   "cell_type": "markdown",
   "id": "6e824512",
   "metadata": {},
   "source": [
    "This doesn't evoke any well-known distributions (for example, if I were to treat $\\theta = 5/6$ as a parameter, this does not seem to be in the [exponential family](https://en.wikipedia.org/wiki/Exponential_family). \n",
    "\n",
    "Usually this type of problem asks for the expected value, which can be computed by a [CAS system](https://en.wikipedia.org/wiki/Computer_algebra_system), in this case, SymPy.\n",
    "\n",
    "The numerical answer is \"about 25 rolls\". "
   ]
  },
  {
   "cell_type": "code",
   "execution_count": 1,
   "id": "0a8b3140",
   "metadata": {},
   "outputs": [],
   "source": [
    "from sympy import Sum, oo, Rational\n",
    "from sympy.abc import t"
   ]
  },
  {
   "cell_type": "code",
   "execution_count": 2,
   "id": "c25a7ed8",
   "metadata": {},
   "outputs": [
    {
     "data": {
      "text/latex": [
       "$\\displaystyle \\sum_{t=0}^{\\infty} \\left(1 - \\left(1 - \\left(\\frac{5}{6}\\right)^{t}\\right)^{48}\\right)$"
      ],
      "text/plain": [
       "Sum(1 - (1 - (5/6)**t)**48, (t, 0, oo))"
      ]
     },
     "metadata": {},
     "output_type": "display_data"
    }
   ],
   "source": [
    "e=Sum(1-(1-Rational(5,6)**t)**48, (t,0, oo)); display(e)"
   ]
  },
  {
   "cell_type": "code",
   "execution_count": 3,
   "id": "5bcbee20",
   "metadata": {},
   "outputs": [
    {
     "data": {
      "text/latex": [
       "$\\displaystyle \\frac{2912804267645154456699415622324619471368684629812526685819883939525704695842853719641972919683494041947837905631643034601476986037157930685461469479520582331332961342667636577143927344580970446449749819996612393732640424469063198686591166851317224370255526196319130914737183416883757636635381223565921334856636681808978979450410686613376395990078084922837152373724076037965078321369427271176218127036046672018664293243274959869225072334851681926776311810082334137917946314786510124754556098045521196944314850233616889640365617719184132269157580446074624}{116719102493939178544600272326192753853481909132348433784601449422273077010218200473743541229033925631206648080320180738797874511384423862983421963279425410259744223731651426173883689815341641693818384639582210579457824948385771661429219647425535351280422609562238981348375604550853449289804368906110081184640240877421430260126720538198686224144602699344955920614321748099359998432436011233714010526868027051877722571134351867371141582259935462351813076979167336693954938480491763700249501369929471130767047631434403083889239400609650650684420227962439}$"
      ],
      "text/plain": [
       "2912804267645154456699415622324619471368684629812526685819883939525704695842853719641972919683494041947837905631643034601476986037157930685461469479520582331332961342667636577143927344580970446449749819996612393732640424469063198686591166851317224370255526196319130914737183416883757636635381223565921334856636681808978979450410686613376395990078084922837152373724076037965078321369427271176218127036046672018664293243274959869225072334851681926776311810082334137917946314786510124754556098045521196944314850233616889640365617719184132269157580446074624/116719102493939178544600272326192753853481909132348433784601449422273077010218200473743541229033925631206648080320180738797874511384423862983421963279425410259744223731651426173883689815341641693818384639582210579457824948385771661429219647425535351280422609562238981348375604550853449289804368906110081184640240877421430260126720538198686224144602699344955920614321748099359998432436011233714010526868027051877722571134351867371141582259935462351813076979167336693954938480491763700249501369929471130767047631434403083889239400609650650684420227962439"
      ]
     },
     "metadata": {},
     "output_type": "display_data"
    }
   ],
   "source": [
    "e_d = e.doit(); display(e_d)"
   ]
  },
  {
   "cell_type": "code",
   "execution_count": 4,
   "id": "c4dceacf",
   "metadata": {},
   "outputs": [
    {
     "data": {
      "text/latex": [
       "$\\displaystyle 24.9556773947641$"
      ],
      "text/plain": [
       "24.9556773947641"
      ]
     },
     "execution_count": 4,
     "metadata": {},
     "output_type": "execute_result"
    }
   ],
   "source": [
    "e_d.n()"
   ]
  },
  {
   "cell_type": "code",
   "execution_count": null,
   "id": "de07273e",
   "metadata": {},
   "outputs": [],
   "source": []
  }
 ],
 "metadata": {
  "kernelspec": {
   "display_name": "Python 3 (ipykernel)",
   "language": "python",
   "name": "python3"
  },
  "language_info": {
   "codemirror_mode": {
    "name": "ipython",
    "version": 3
   },
   "file_extension": ".py",
   "mimetype": "text/x-python",
   "name": "python",
   "nbconvert_exporter": "python",
   "pygments_lexer": "ipython3",
   "version": "3.10.4"
  }
 },
 "nbformat": 4,
 "nbformat_minor": 5
}
