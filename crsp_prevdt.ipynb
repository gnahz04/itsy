{
 "cells": [
  {
   "cell_type": "code",
   "execution_count": 1,
   "id": "2370ac99-b8db-4adc-8481-aa6187f24087",
   "metadata": {
    "execution": {
     "iopub.execute_input": "2025-02-12T21:36:16.231146Z",
     "iopub.status.busy": "2025-02-12T21:36:16.230335Z",
     "iopub.status.idle": "2025-02-12T21:36:16.396965Z",
     "shell.execute_reply": "2025-02-12T21:36:16.396200Z",
     "shell.execute_reply.started": "2025-02-12T21:36:16.231086Z"
    }
   },
   "outputs": [],
   "source": [
    "import polars as pl\n",
    "from polars import col as c\n",
    "from datetime import datetime"
   ]
  },
  {
   "cell_type": "markdown",
   "id": "29cb1407-16dc-4c18-8d0a-fc80acce65b2",
   "metadata": {},
   "source": [
    "## Reproducing `DlyPrevDt`\n",
    "## Sorted dataframe\n",
    "Note that the dataframe is already sorted by `['DlyCalDt', 'PERMNO']`"
   ]
  },
  {
   "cell_type": "code",
   "execution_count": 2,
   "id": "ebce6c2e-7c1b-4124-b5cf-e0d6f48f7621",
   "metadata": {
    "execution": {
     "iopub.execute_input": "2025-02-12T21:36:16.398651Z",
     "iopub.status.busy": "2025-02-12T21:36:16.397738Z",
     "iopub.status.idle": "2025-02-12T21:36:17.588529Z",
     "shell.execute_reply": "2025-02-12T21:36:17.587672Z",
     "shell.execute_reply.started": "2025-02-12T21:36:16.398629Z"
    }
   },
   "outputs": [],
   "source": [
    "df_crsp = pl.read_parquet('/home/hzhang/data/wrds/crsp_prevdt.parq')"
   ]
  },
  {
   "cell_type": "code",
   "execution_count": 3,
   "id": "726f62ce-cab1-4a1b-9617-85e08e29e31e",
   "metadata": {
    "execution": {
     "iopub.execute_input": "2025-02-12T21:36:17.590314Z",
     "iopub.status.busy": "2025-02-12T21:36:17.589938Z",
     "iopub.status.idle": "2025-02-12T21:36:17.786743Z",
     "shell.execute_reply": "2025-02-12T21:36:17.785936Z",
     "shell.execute_reply.started": "2025-02-12T21:36:17.590293Z"
    }
   },
   "outputs": [],
   "source": [
    "## assert non NaN in any float columns\n",
    "assert not any(df_crsp.select(pl.col(pl.Float64,pl.Float32)).select(pl.all().is_nan().any()).row(0)),  \"There are NaN values in at least one float column.\""
   ]
  },
  {
   "cell_type": "markdown",
   "id": "4c01f39e-e3c5-4761-b3dc-069fcfd89343",
   "metadata": {},
   "source": [
    "### Full logic\n",
    "\n",
    "`prev_cal_dt` is the *last*, *non-null* DlyPrc, up to 10 periods ago:\n",
    "1. *last*: so the present value is filled forward, and then `shift`ed\n",
    "2. *non-null*: thus the fill forward is only performed when `DlyPrc` is non-null (the `when` clause)\n",
    "3. up to 10 periods: thus there is a limit on fill forward periods, of 10-1 periods due to the `shift`\n"
   ]
  },
  {
   "cell_type": "code",
   "execution_count": 4,
   "id": "ac5dfe03-d503-4bef-9771-b4ec2d67a74e",
   "metadata": {
    "execution": {
     "iopub.execute_input": "2025-02-12T21:36:17.788055Z",
     "iopub.status.busy": "2025-02-12T21:36:17.787482Z",
     "iopub.status.idle": "2025-02-12T21:36:32.577928Z",
     "shell.execute_reply": "2025-02-12T21:36:32.577068Z",
     "shell.execute_reply.started": "2025-02-12T21:36:17.788033Z"
    }
   },
   "outputs": [],
   "source": [
    "max_missing_period = 10\n",
    "df = (df_crsp\n",
    "      .unique(subset=['DlyCalDt', 'PERMNO'], keep='first', maintain_order=True) # get rid of multiple rows of dividends\n",
    "      .with_columns(\n",
    "          prev_cal_dt = pl.when(c('DlyPrc').is_not_null()).then(c('DlyCalDt')).forward_fill(limit=max_missing_period-1).shift().over('PERMNO'))) #  "
   ]
  },
  {
   "cell_type": "markdown",
   "id": "75ce0f6f-0103-4dc2-9e09-90df1e2ae090",
   "metadata": {
    "execution": {
     "iopub.execute_input": "2025-02-12T21:18:20.497566Z",
     "iopub.status.busy": "2025-02-12T21:18:20.497322Z",
     "iopub.status.idle": "2025-02-12T21:18:20.515705Z",
     "shell.execute_reply": "2025-02-12T21:18:20.514855Z",
     "shell.execute_reply.started": "2025-02-12T21:18:20.497548Z"
    }
   },
   "source": [
    "## Compare to CRSP value\n",
    "1. Boundary effects: if the ground truth `DlyPrevDt` goes beyond dataframe's start_date, then it's OK not to match.\n",
    "2. Only care when `DlyPrc` is not null\n",
    "3. Use `ne_missing` so that `null` patterns match as well\n",
    "\n",
    "I'm left with a very small number of rows of mismatch, out of 67M rows. \n",
    "\n",
    "Note that a simple fix by setting `prev_cal_dt` to null when smaller than `SecInfoStartDt` results in many more mismatches elsewhere."
   ]
  },
  {
   "cell_type": "code",
   "execution_count": 5,
   "id": "0d5fa000-ca89-4b08-a76f-a21f19c75a2c",
   "metadata": {
    "execution": {
     "iopub.execute_input": "2025-02-12T21:36:32.578831Z",
     "iopub.status.busy": "2025-02-12T21:36:32.578638Z",
     "iopub.status.idle": "2025-02-12T21:36:32.707818Z",
     "shell.execute_reply": "2025-02-12T21:36:32.707088Z",
     "shell.execute_reply.started": "2025-02-12T21:36:32.578816Z"
    }
   },
   "outputs": [
    {
     "data": {
      "text/html": [
       "<div><style>\n",
       ".dataframe > thead > tr,\n",
       ".dataframe > tbody > tr {\n",
       "  text-align: right;\n",
       "  white-space: pre-wrap;\n",
       "}\n",
       "</style>\n",
       "<small>shape: (17, 11)</small><table border=\"1\" class=\"dataframe\"><thead><tr><th>PERMNO</th><th>SecInfoStartDt</th><th>SecInfoEndDt</th><th>HdrCUSIP</th><th>SecurityActiveFlg</th><th>Ticker</th><th>PERMCO</th><th>DlyCalDt</th><th>DlyPrc</th><th>DlyPrevDt</th><th>prev_cal_dt</th></tr><tr><td>f64</td><td>datetime[ns]</td><td>datetime[ns]</td><td>str</td><td>str</td><td>str</td><td>f64</td><td>datetime[ns]</td><td>f64</td><td>datetime[ns]</td><td>datetime[ns]</td></tr></thead><tbody><tr><td>11178.0</td><td>1994-08-03 00:00:00</td><td>1994-09-08 00:00:00</td><td>&quot;90462840&quot;</td><td>&quot;Y&quot;</td><td>&quot;UNRC&quot;</td><td>9026.0</td><td>1994-08-03 00:00:00</td><td>1.875</td><td>null</td><td>1994-07-20 00:00:00</td></tr><tr><td>81014.0</td><td>1995-06-26 00:00:00</td><td>1997-04-22 00:00:00</td><td>&quot;89323B20&quot;</td><td>&quot;Y&quot;</td><td>&quot;TSRG&quot;</td><td>13370.0</td><td>1995-06-26 00:00:00</td><td>1.0</td><td>null</td><td>1995-06-16 00:00:00</td></tr><tr><td>76942.0</td><td>1995-09-18 00:00:00</td><td>1996-04-01 00:00:00</td><td>&quot;29087M30&quot;</td><td>&quot;Y&quot;</td><td>&quot;EMRL&quot;</td><td>11091.0</td><td>1995-09-18 00:00:00</td><td>0.21875</td><td>null</td><td>1995-09-13 00:00:00</td></tr><tr><td>10155.0</td><td>1996-08-22 00:00:00</td><td>1997-02-06 00:00:00</td><td>&quot;28485330&quot;</td><td>&quot;Y&quot;</td><td>&quot;ELGT&quot;</td><td>8079.0</td><td>1996-08-22 00:00:00</td><td>1.125</td><td>null</td><td>1996-08-09 00:00:00</td></tr><tr><td>88459.0</td><td>2008-04-28 00:00:00</td><td>2008-06-26 00:00:00</td><td>&quot;69511V20&quot;</td><td>&quot;Y&quot;</td><td>&quot;PACT&quot;</td><td>37950.0</td><td>2008-04-28 00:00:00</td><td>0.9988</td><td>null</td><td>2008-04-24 00:00:00</td></tr><tr><td>&hellip;</td><td>&hellip;</td><td>&hellip;</td><td>&hellip;</td><td>&hellip;</td><td>&hellip;</td><td>&hellip;</td><td>&hellip;</td><td>&hellip;</td><td>&hellip;</td><td>&hellip;</td></tr><tr><td>14675.0</td><td>2020-06-10 00:00:00</td><td>2020-06-18 00:00:00</td><td>&quot;87876P20&quot;</td><td>&quot;Y&quot;</td><td>&quot;TGEN&quot;</td><td>54873.0</td><td>2020-06-10 00:00:00</td><td>0.75</td><td>null</td><td>2020-06-08 00:00:00</td></tr><tr><td>21018.0</td><td>2023-10-18 00:00:00</td><td>2023-11-05 00:00:00</td><td>&quot;02369M10&quot;</td><td>&quot;Y&quot;</td><td>&quot;AMAO&quot;</td><td>58077.0</td><td>2023-10-18 00:00:00</td><td>10.895</td><td>null</td><td>2023-10-13 00:00:00</td></tr><tr><td>22798.0</td><td>2023-12-18 00:00:00</td><td>2024-04-21 00:00:00</td><td>&quot;83204U60&quot;</td><td>&quot;Y&quot;</td><td>&quot;SMFL&quot;</td><td>59195.0</td><td>2023-12-18 00:00:00</td><td>0.6589</td><td>null</td><td>2023-12-14 00:00:00</td></tr><tr><td>21859.0</td><td>2024-07-08 00:00:00</td><td>2024-12-26 00:00:00</td><td>&quot;G2263T12&quot;</td><td>&quot;Y&quot;</td><td>&quot;MITA&quot;</td><td>58478.0</td><td>2024-07-08 00:00:00</td><td>11.035</td><td>null</td><td>2024-07-03 00:00:00</td></tr><tr><td>22549.0</td><td>2024-11-07 00:00:00</td><td>2024-12-31 00:00:00</td><td>&quot;25193610&quot;</td><td>&quot;Y&quot;</td><td>&quot;DEVS&quot;</td><td>58851.0</td><td>2024-11-07 00:00:00</td><td>1.06</td><td>null</td><td>2024-11-01 00:00:00</td></tr></tbody></table></div>"
      ],
      "text/plain": [
       "shape: (17, 11)\n",
       "┌────────┬────────┬────────┬────────┬────────┬────────┬────────┬────────┬────────┬────────┬────────┐\n",
       "│ PERMNO ┆ SecInf ┆ SecInf ┆ HdrCUS ┆ Securi ┆ Ticker ┆ PERMCO ┆ DlyCal ┆ DlyPrc ┆ DlyPre ┆ prev_c │\n",
       "│ ---    ┆ oStart ┆ oEndDt ┆ IP     ┆ tyActi ┆ ---    ┆ ---    ┆ Dt     ┆ ---    ┆ vDt    ┆ al_dt  │\n",
       "│ f64    ┆ Dt     ┆ ---    ┆ ---    ┆ veFlg  ┆ str    ┆ f64    ┆ ---    ┆ f64    ┆ ---    ┆ ---    │\n",
       "│        ┆ ---    ┆ dateti ┆ str    ┆ ---    ┆        ┆        ┆ dateti ┆        ┆ dateti ┆ dateti │\n",
       "│        ┆ dateti ┆ me[ns] ┆        ┆ str    ┆        ┆        ┆ me[ns] ┆        ┆ me[ns] ┆ me[ns] │\n",
       "│        ┆ me[ns] ┆        ┆        ┆        ┆        ┆        ┆        ┆        ┆        ┆        │\n",
       "╞════════╪════════╪════════╪════════╪════════╪════════╪════════╪════════╪════════╪════════╪════════╡\n",
       "│ 11178. ┆ 1994-0 ┆ 1994-0 ┆ 904628 ┆ Y      ┆ UNRC   ┆ 9026.0 ┆ 1994-0 ┆ 1.875  ┆ null   ┆ 1994-0 │\n",
       "│ 0      ┆ 8-03   ┆ 9-08   ┆ 40     ┆        ┆        ┆        ┆ 8-03   ┆        ┆        ┆ 7-20   │\n",
       "│        ┆ 00:00: ┆ 00:00: ┆        ┆        ┆        ┆        ┆ 00:00: ┆        ┆        ┆ 00:00: │\n",
       "│        ┆ 00     ┆ 00     ┆        ┆        ┆        ┆        ┆ 00     ┆        ┆        ┆ 00     │\n",
       "│ 81014. ┆ 1995-0 ┆ 1997-0 ┆ 89323B ┆ Y      ┆ TSRG   ┆ 13370. ┆ 1995-0 ┆ 1.0    ┆ null   ┆ 1995-0 │\n",
       "│ 0      ┆ 6-26   ┆ 4-22   ┆ 20     ┆        ┆        ┆ 0      ┆ 6-26   ┆        ┆        ┆ 6-16   │\n",
       "│        ┆ 00:00: ┆ 00:00: ┆        ┆        ┆        ┆        ┆ 00:00: ┆        ┆        ┆ 00:00: │\n",
       "│        ┆ 00     ┆ 00     ┆        ┆        ┆        ┆        ┆ 00     ┆        ┆        ┆ 00     │\n",
       "│ 76942. ┆ 1995-0 ┆ 1996-0 ┆ 29087M ┆ Y      ┆ EMRL   ┆ 11091. ┆ 1995-0 ┆ 0.2187 ┆ null   ┆ 1995-0 │\n",
       "│ 0      ┆ 9-18   ┆ 4-01   ┆ 30     ┆        ┆        ┆ 0      ┆ 9-18   ┆ 5      ┆        ┆ 9-13   │\n",
       "│        ┆ 00:00: ┆ 00:00: ┆        ┆        ┆        ┆        ┆ 00:00: ┆        ┆        ┆ 00:00: │\n",
       "│        ┆ 00     ┆ 00     ┆        ┆        ┆        ┆        ┆ 00     ┆        ┆        ┆ 00     │\n",
       "│ 10155. ┆ 1996-0 ┆ 1997-0 ┆ 284853 ┆ Y      ┆ ELGT   ┆ 8079.0 ┆ 1996-0 ┆ 1.125  ┆ null   ┆ 1996-0 │\n",
       "│ 0      ┆ 8-22   ┆ 2-06   ┆ 30     ┆        ┆        ┆        ┆ 8-22   ┆        ┆        ┆ 8-09   │\n",
       "│        ┆ 00:00: ┆ 00:00: ┆        ┆        ┆        ┆        ┆ 00:00: ┆        ┆        ┆ 00:00: │\n",
       "│        ┆ 00     ┆ 00     ┆        ┆        ┆        ┆        ┆ 00     ┆        ┆        ┆ 00     │\n",
       "│ 88459. ┆ 2008-0 ┆ 2008-0 ┆ 69511V ┆ Y      ┆ PACT   ┆ 37950. ┆ 2008-0 ┆ 0.9988 ┆ null   ┆ 2008-0 │\n",
       "│ 0      ┆ 4-28   ┆ 6-26   ┆ 20     ┆        ┆        ┆ 0      ┆ 4-28   ┆        ┆        ┆ 4-24   │\n",
       "│        ┆ 00:00: ┆ 00:00: ┆        ┆        ┆        ┆        ┆ 00:00: ┆        ┆        ┆ 00:00: │\n",
       "│        ┆ 00     ┆ 00     ┆        ┆        ┆        ┆        ┆ 00     ┆        ┆        ┆ 00     │\n",
       "│ …      ┆ …      ┆ …      ┆ …      ┆ …      ┆ …      ┆ …      ┆ …      ┆ …      ┆ …      ┆ …      │\n",
       "│ 14675. ┆ 2020-0 ┆ 2020-0 ┆ 87876P ┆ Y      ┆ TGEN   ┆ 54873. ┆ 2020-0 ┆ 0.75   ┆ null   ┆ 2020-0 │\n",
       "│ 0      ┆ 6-10   ┆ 6-18   ┆ 20     ┆        ┆        ┆ 0      ┆ 6-10   ┆        ┆        ┆ 6-08   │\n",
       "│        ┆ 00:00: ┆ 00:00: ┆        ┆        ┆        ┆        ┆ 00:00: ┆        ┆        ┆ 00:00: │\n",
       "│        ┆ 00     ┆ 00     ┆        ┆        ┆        ┆        ┆ 00     ┆        ┆        ┆ 00     │\n",
       "│ 21018. ┆ 2023-1 ┆ 2023-1 ┆ 02369M ┆ Y      ┆ AMAO   ┆ 58077. ┆ 2023-1 ┆ 10.895 ┆ null   ┆ 2023-1 │\n",
       "│ 0      ┆ 0-18   ┆ 1-05   ┆ 10     ┆        ┆        ┆ 0      ┆ 0-18   ┆        ┆        ┆ 0-13   │\n",
       "│        ┆ 00:00: ┆ 00:00: ┆        ┆        ┆        ┆        ┆ 00:00: ┆        ┆        ┆ 00:00: │\n",
       "│        ┆ 00     ┆ 00     ┆        ┆        ┆        ┆        ┆ 00     ┆        ┆        ┆ 00     │\n",
       "│ 22798. ┆ 2023-1 ┆ 2024-0 ┆ 83204U ┆ Y      ┆ SMFL   ┆ 59195. ┆ 2023-1 ┆ 0.6589 ┆ null   ┆ 2023-1 │\n",
       "│ 0      ┆ 2-18   ┆ 4-21   ┆ 60     ┆        ┆        ┆ 0      ┆ 2-18   ┆        ┆        ┆ 2-14   │\n",
       "│        ┆ 00:00: ┆ 00:00: ┆        ┆        ┆        ┆        ┆ 00:00: ┆        ┆        ┆ 00:00: │\n",
       "│        ┆ 00     ┆ 00     ┆        ┆        ┆        ┆        ┆ 00     ┆        ┆        ┆ 00     │\n",
       "│ 21859. ┆ 2024-0 ┆ 2024-1 ┆ G2263T ┆ Y      ┆ MITA   ┆ 58478. ┆ 2024-0 ┆ 11.035 ┆ null   ┆ 2024-0 │\n",
       "│ 0      ┆ 7-08   ┆ 2-26   ┆ 12     ┆        ┆        ┆ 0      ┆ 7-08   ┆        ┆        ┆ 7-03   │\n",
       "│        ┆ 00:00: ┆ 00:00: ┆        ┆        ┆        ┆        ┆ 00:00: ┆        ┆        ┆ 00:00: │\n",
       "│        ┆ 00     ┆ 00     ┆        ┆        ┆        ┆        ┆ 00     ┆        ┆        ┆ 00     │\n",
       "│ 22549. ┆ 2024-1 ┆ 2024-1 ┆ 251936 ┆ Y      ┆ DEVS   ┆ 58851. ┆ 2024-1 ┆ 1.06   ┆ null   ┆ 2024-1 │\n",
       "│ 0      ┆ 1-07   ┆ 2-31   ┆ 10     ┆        ┆        ┆ 0      ┆ 1-07   ┆        ┆        ┆ 1-01   │\n",
       "│        ┆ 00:00: ┆ 00:00: ┆        ┆        ┆        ┆        ┆ 00:00: ┆        ┆        ┆ 00:00: │\n",
       "│        ┆ 00     ┆ 00     ┆        ┆        ┆        ┆        ┆ 00     ┆        ┆        ┆ 00     │\n",
       "└────────┴────────┴────────┴────────┴────────┴────────┴────────┴────────┴────────┴────────┴────────┘"
      ]
     },
     "metadata": {},
     "output_type": "display_data"
    }
   ],
   "source": [
    "min_date = df['DlyCalDt'].min()\n",
    "with pl.Config(tbl_cols=-1):\n",
    "    display(df.filter(\n",
    "        (c('DlyPrevDt').ge(min_date) | c('DlyPrevDt').is_null()) &\n",
    "        c(\"DlyPrc\").is_not_null() &\n",
    "        c('DlyPrevDt').ne_missing(c('prev_cal_dt')))\n",
    "            )"
   ]
  },
  {
   "cell_type": "code",
   "execution_count": 6,
   "id": "dd2e1e1b-c1f7-48f4-bfc8-dfbc0c35dada",
   "metadata": {
    "execution": {
     "iopub.execute_input": "2025-02-12T21:36:32.708842Z",
     "iopub.status.busy": "2025-02-12T21:36:32.708535Z",
     "iopub.status.idle": "2025-02-12T21:36:32.715880Z",
     "shell.execute_reply": "2025-02-12T21:36:32.713843Z",
     "shell.execute_reply.started": "2025-02-12T21:36:32.708826Z"
    }
   },
   "outputs": [
    {
     "data": {
      "text/plain": [
       "(67644099, 11)"
      ]
     },
     "execution_count": 6,
     "metadata": {},
     "output_type": "execute_result"
    }
   ],
   "source": [
    "df.shape"
   ]
  },
  {
   "cell_type": "code",
   "execution_count": null,
   "id": "597a9b0a-4194-46fd-b382-111010c69720",
   "metadata": {},
   "outputs": [],
   "source": []
  }
 ],
 "metadata": {
  "kernelspec": {
   "display_name": "Python 3 (ipykernel)",
   "language": "python",
   "name": "python3"
  },
  "language_info": {
   "codemirror_mode": {
    "name": "ipython",
    "version": 3
   },
   "file_extension": ".py",
   "mimetype": "text/x-python",
   "name": "python",
   "nbconvert_exporter": "python",
   "pygments_lexer": "ipython3",
   "version": "3.12.3"
  }
 },
 "nbformat": 4,
 "nbformat_minor": 5
}
