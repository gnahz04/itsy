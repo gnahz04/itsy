{
 "cells": [
  {
   "cell_type": "code",
   "execution_count": 1,
   "id": "2370ac99-b8db-4adc-8481-aa6187f24087",
   "metadata": {
    "execution": {
     "iopub.execute_input": "2025-02-14T01:58:16.372020Z",
     "iopub.status.busy": "2025-02-14T01:58:16.371662Z",
     "iopub.status.idle": "2025-02-14T01:58:16.793365Z",
     "shell.execute_reply": "2025-02-14T01:58:16.792606Z",
     "shell.execute_reply.started": "2025-02-14T01:58:16.371998Z"
    }
   },
   "outputs": [],
   "source": [
    "import polars as pl\n",
    "from polars import col as c\n",
    "from datetime import datetime\n",
    "import pandas as pd"
   ]
  },
  {
   "cell_type": "markdown",
   "id": "84e27819-3c90-443b-83b8-7dcd21efb091",
   "metadata": {},
   "source": [
    "## 2025-02-13 closer look at PERMNO 22798\n",
    "\n",
    "1. Delisting: it seems to have a single delisting event on 2024-09-18 according to `/wrds/crsp/sasdata/a_stock_v2/stkdelists.sas7bdat`\n",
    "2. That is beyond the date-range under question, 2023 mid-December. \n",
    "3. Of the all the columns from the daily_stock_v2 table, wonder which ones to rely on for the information of whether a stock is \"dropped from the CRSP universe\"?\n",
    "   1. The `Del*` columns seem like a fit, but a closer look shows that the value of this column continues to be the same for much of the latter half of 2023, thus difficult to pinpoint which day.\n"
   ]
  },
  {
   "cell_type": "code",
   "execution_count": 2,
   "id": "48347fbb-cd29-4968-8d04-b92d20ba7a40",
   "metadata": {
    "execution": {
     "iopub.execute_input": "2025-02-14T01:58:16.794811Z",
     "iopub.status.busy": "2025-02-14T01:58:16.794116Z",
     "iopub.status.idle": "2025-02-14T01:58:16.980728Z",
     "shell.execute_reply": "2025-02-14T01:58:16.977534Z",
     "shell.execute_reply.started": "2025-02-14T01:58:16.794791Z"
    }
   },
   "outputs": [],
   "source": [
    "df_two = pl.from_pandas(pd.read_stata('/home/hzhang/data/wrds/crsp_two_2023_cases.dta.gz'))"
   ]
  },
  {
   "cell_type": "code",
   "execution_count": 3,
   "id": "9e5a1302-e26d-487f-9347-99e1243bd331",
   "metadata": {
    "execution": {
     "iopub.execute_input": "2025-02-14T01:58:16.983861Z",
     "iopub.status.busy": "2025-02-14T01:58:16.983363Z",
     "iopub.status.idle": "2025-02-14T01:58:17.329289Z",
     "shell.execute_reply": "2025-02-14T01:58:17.328344Z",
     "shell.execute_reply.started": "2025-02-14T01:58:16.983835Z"
    }
   },
   "outputs": [],
   "source": [
    "d = pl.from_pandas(pd.read_sas('/home/hzhang/data/wrds/stkdelists.sas7bdat', encoding=\"latin-1\"))"
   ]
  },
  {
   "cell_type": "code",
   "execution_count": 4,
   "id": "b985a364-c9ce-4476-82d0-aa89151cdebc",
   "metadata": {
    "execution": {
     "iopub.execute_input": "2025-02-14T01:58:17.330782Z",
     "iopub.status.busy": "2025-02-14T01:58:17.330068Z",
     "iopub.status.idle": "2025-02-14T01:58:17.341885Z",
     "shell.execute_reply": "2025-02-14T01:58:17.341032Z",
     "shell.execute_reply.started": "2025-02-14T01:58:17.330762Z"
    }
   },
   "outputs": [
    {
     "data": {
      "text/html": [
       "<div><style>\n",
       ".dataframe > thead > tr,\n",
       ".dataframe > tbody > tr {\n",
       "  text-align: right;\n",
       "  white-space: pre-wrap;\n",
       "}\n",
       "</style>\n",
       "<small>shape: (1, 19)</small><table border=\"1\" class=\"dataframe\"><thead><tr><th>PERMNO</th><th>DelistingDt</th><th>DelDtPrc</th><th>DelDtPrcFlg</th><th>DelActionType</th><th>DelStatusType</th><th>DelReasonType</th><th>DelPaymentType</th><th>DelPERMNO</th><th>DelPERMCO</th><th>DelRet</th><th>DelRetMissType</th><th>DelNextDt</th><th>DelNextPrc</th><th>DelNextPrcFlg</th><th>DelAmtDt</th><th>DelDivAmt</th><th>DelDisType</th><th>DelDlyDt</th></tr><tr><td>f64</td><td>datetime[ms]</td><td>f64</td><td>str</td><td>str</td><td>str</td><td>str</td><td>str</td><td>f64</td><td>f64</td><td>f64</td><td>str</td><td>datetime[ms]</td><td>f64</td><td>str</td><td>datetime[ms]</td><td>f64</td><td>str</td><td>datetime[ms]</td></tr></thead><tbody><tr><td>22798.0</td><td>2024-09-18 00:00:00</td><td>0.78</td><td>&quot;TR&quot;</td><td>&quot;GDR&quot;</td><td>&quot;VCL&quot;</td><td>&quot;FING&quot;</td><td>&quot;PRCF&quot;</td><td>0.0</td><td>0.0</td><td>-0.812821</td><td>&quot;NA&quot;</td><td>2024-09-19 00:00:00</td><td>0.146</td><td>&quot;DP&quot;</td><td>2024-09-19 00:00:00</td><td>0.0</td><td>&quot;NO&quot;</td><td>2024-09-19 00:00:00</td></tr></tbody></table></div>"
      ],
      "text/plain": [
       "shape: (1, 19)\n",
       "┌─────────┬────────────┬──────────┬────────────┬───┬───────────┬───────────┬───────────┬───────────┐\n",
       "│ PERMNO  ┆ DelistingD ┆ DelDtPrc ┆ DelDtPrcFl ┆ … ┆ DelAmtDt  ┆ DelDivAmt ┆ DelDisTyp ┆ DelDlyDt  │\n",
       "│ ---     ┆ t          ┆ ---      ┆ g          ┆   ┆ ---       ┆ ---       ┆ e         ┆ ---       │\n",
       "│ f64     ┆ ---        ┆ f64      ┆ ---        ┆   ┆ datetime[ ┆ f64       ┆ ---       ┆ datetime[ │\n",
       "│         ┆ datetime[m ┆          ┆ str        ┆   ┆ ms]       ┆           ┆ str       ┆ ms]       │\n",
       "│         ┆ s]         ┆          ┆            ┆   ┆           ┆           ┆           ┆           │\n",
       "╞═════════╪════════════╪══════════╪════════════╪═══╪═══════════╪═══════════╪═══════════╪═══════════╡\n",
       "│ 22798.0 ┆ 2024-09-18 ┆ 0.78     ┆ TR         ┆ … ┆ 2024-09-1 ┆ 0.0       ┆ NO        ┆ 2024-09-1 │\n",
       "│         ┆ 00:00:00   ┆          ┆            ┆   ┆ 9         ┆           ┆           ┆ 9         │\n",
       "│         ┆            ┆          ┆            ┆   ┆ 00:00:00  ┆           ┆           ┆ 00:00:00  │\n",
       "└─────────┴────────────┴──────────┴────────────┴───┴───────────┴───────────┴───────────┴───────────┘"
      ]
     },
     "execution_count": 4,
     "metadata": {},
     "output_type": "execute_result"
    }
   ],
   "source": [
    "d.filter(c('PERMNO').eq(22798))"
   ]
  },
  {
   "cell_type": "code",
   "execution_count": 5,
   "id": "9a385491-591e-43d9-85ce-50e36246a47d",
   "metadata": {
    "execution": {
     "iopub.execute_input": "2025-02-14T01:58:17.343138Z",
     "iopub.status.busy": "2025-02-14T01:58:17.342722Z",
     "iopub.status.idle": "2025-02-14T01:58:17.398864Z",
     "shell.execute_reply": "2025-02-14T01:58:17.397850Z",
     "shell.execute_reply.started": "2025-02-14T01:58:17.343114Z"
    }
   },
   "outputs": [
    {
     "data": {
      "text/html": [
       "<div><style>\n",
       ".dataframe > thead > tr,\n",
       ".dataframe > tbody > tr {\n",
       "  text-align: right;\n",
       "  white-space: pre-wrap;\n",
       "}\n",
       "</style>\n",
       "<small>shape: (8, 94)</small><table border=\"1\" class=\"dataframe\"><thead><tr><th>PERMNO</th><th>SecInfoStartDt</th><th>SecInfoEndDt</th><th>SecurityBegDt</th><th>SecurityEndDt</th><th>SecurityHdrFlg</th><th>HdrCUSIP</th><th>HdrCUSIP9</th><th>CUSIP</th><th>CUSIP9</th><th>PrimaryExch</th><th>ConditionalType</th><th>ExchangeTier</th><th>TradingStatusFlg</th><th>SecurityNm</th><th>ShareClass</th><th>USIncFlg</th><th>IssuerType</th><th>SecurityType</th><th>SecuritySubType</th><th>ShareType</th><th>SecurityActiveFlg</th><th>DelActionType</th><th>DelStatusType</th><th>DelReasonType</th><th>DelPaymentType</th><th>Ticker</th><th>TradingSymbol</th><th>PERMCO</th><th>SICCD</th><th>NAICS</th><th>ICBIndustry</th><th>NASDCompno</th><th>NASDIssuno</th><th>IssuerNm</th><th>YYYYMMDD</th><th>DlyCalDt</th><th>DlyDelFlg</th><th>DlyPrc</th><th>DlyPrcFlg</th><th>DlyCap</th><th>DlyCapFlg</th><th>DlyPrevPrc</th><th>DlyPrevPrcFlg</th><th>DlyPrevDt</th><th>DlyPrevCap</th><th>DlyPrevCapFlg</th><th>DlyRet</th><th>DlyRetx</th><th>DlyRetI</th><th>DlyRetMissFlg</th><th>DlyRetDurFlg</th><th>DlyOrdDivAmt</th><th>DlyNonOrdDivAmt</th><th>DlyFacPrc</th><th>DlyDistRetFlg</th><th>DlyVol</th><th>DlyClose</th><th>DlyLow</th><th>DlyHigh</th><th>DlyBid</th><th>DlyAsk</th><th>DlyOpen</th><th>DlyNumTrd</th><th>DlyMMCnt</th><th>DlyPrcVol</th><th>ShrStartDt</th><th>ShrEndDt</th><th>ShrOut</th><th>ShrSource</th><th>ShrFacType</th><th>ShrAdrFlg</th><th>DisExDt</th><th>DisSeqNbr</th><th>DisOrdinaryFlg</th><th>DisType</th><th>DisFreqType</th><th>DisPaymentType</th><th>DisDetailType</th><th>DisTaxType</th><th>DisOrigCurType</th><th>DisDivAmt</th><th>DisFacPr</th><th>DisFacShr</th><th>DisDeclareDt</th><th>DisRecordDt</th><th>DisPayDt</th><th>DisPERMNO</th><th>DisPERMCO</th><th>vwretd</th><th>vwretx</th><th>ewretd</th><th>ewretx</th><th>sprtrn</th></tr><tr><td>f64</td><td>datetime[ns]</td><td>datetime[ns]</td><td>datetime[ns]</td><td>datetime[ns]</td><td>str</td><td>str</td><td>str</td><td>str</td><td>str</td><td>str</td><td>str</td><td>str</td><td>str</td><td>str</td><td>str</td><td>str</td><td>str</td><td>str</td><td>str</td><td>str</td><td>str</td><td>str</td><td>str</td><td>str</td><td>str</td><td>str</td><td>str</td><td>f64</td><td>f64</td><td>str</td><td>str</td><td>f64</td><td>f64</td><td>str</td><td>f64</td><td>datetime[ns]</td><td>str</td><td>f64</td><td>str</td><td>f64</td><td>str</td><td>f64</td><td>str</td><td>datetime[ns]</td><td>f64</td><td>str</td><td>f64</td><td>f64</td><td>f64</td><td>str</td><td>str</td><td>f64</td><td>f64</td><td>f64</td><td>str</td><td>f64</td><td>f64</td><td>f64</td><td>f64</td><td>f64</td><td>f64</td><td>f64</td><td>f64</td><td>f64</td><td>f64</td><td>datetime[ns]</td><td>datetime[ns]</td><td>f64</td><td>str</td><td>str</td><td>str</td><td>datetime[ns]</td><td>f64</td><td>str</td><td>str</td><td>str</td><td>str</td><td>str</td><td>str</td><td>str</td><td>f64</td><td>f64</td><td>f64</td><td>datetime[ns]</td><td>datetime[ns]</td><td>datetime[ns]</td><td>f64</td><td>f64</td><td>f64</td><td>f64</td><td>f64</td><td>f64</td><td>f64</td></tr></thead><tbody><tr><td>22798.0</td><td>2023-10-27 00:00:00</td><td>2023-12-14 00:00:00</td><td>2022-02-16 00:00:00</td><td>2024-09-18 00:00:00</td><td>&quot;N&quot;</td><td>&quot;83204U60&quot;</td><td>&quot;83204U608&quot;</td><td>&quot;83204U50&quot;</td><td>&quot;83204U509&quot;</td><td>&quot;Q&quot;</td><td>&quot;RW&quot;</td><td>&quot;S&quot;</td><td>&quot;A&quot;</td><td>&quot;SMART FOR LIFE INC; COM NONE; …</td><td>&quot;&quot;</td><td>&quot;Y&quot;</td><td>&quot;CORP&quot;</td><td>&quot;EQTY&quot;</td><td>&quot;COM&quot;</td><td>&quot;NS&quot;</td><td>&quot;Y&quot;</td><td>&quot;GDR&quot;</td><td>&quot;VCL&quot;</td><td>&quot;FING&quot;</td><td>&quot;PRCF&quot;</td><td>&quot;SMFL&quot;</td><td>&quot;SMFL&quot;</td><td>59195.0</td><td>9999.0</td><td>&quot;325412&quot;</td><td>&quot;NOAVAIL&quot;</td><td>6.0079691e7</td><td>86651.0</td><td>&quot;SMART FOR LIFE INC&quot;</td><td>2.0231211e7</td><td>2023-12-11 00:00:00</td><td>&quot;N&quot;</td><td>0.8141</td><td>&quot;TR&quot;</td><td>648.8377</td><td>&quot;BP&quot;</td><td>1.03</td><td>&quot;TR&quot;</td><td>2023-12-08 00:00:00</td><td>820.91</td><td>&quot;PB&quot;</td><td>-0.209612</td><td>-0.209612</td><td>0.0</td><td>&quot;NA&quot;</td><td>&quot;D3&quot;</td><td>0.0</td><td>0.0</td><td>1.0</td><td>&quot;NO&quot;</td><td>431588.0</td><td>0.8141</td><td>0.76</td><td>1.0</td><td>0.8099</td><td>0.81</td><td>1.0</td><td>1576.0</td><td>24.0</td><td>351355.7908</td><td>2023-11-17 00:00:00</td><td>2023-12-14 00:00:00</td><td>797.0</td><td>&quot;OBS&quot;</td><td>&quot;NA&quot;</td><td>&quot;N&quot;</td><td>null</td><td>null</td><td>&quot;&quot;</td><td>&quot;&quot;</td><td>&quot;&quot;</td><td>&quot;&quot;</td><td>&quot;&quot;</td><td>&quot;&quot;</td><td>&quot;&quot;</td><td>null</td><td>null</td><td>null</td><td>null</td><td>null</td><td>null</td><td>null</td><td>null</td><td>0.00369</td><td>0.003684</td><td>-0.004576</td><td>-0.004604</td><td>0.003924</td></tr><tr><td>22798.0</td><td>2023-10-27 00:00:00</td><td>2023-12-14 00:00:00</td><td>2022-02-16 00:00:00</td><td>2024-09-18 00:00:00</td><td>&quot;N&quot;</td><td>&quot;83204U60&quot;</td><td>&quot;83204U608&quot;</td><td>&quot;83204U50&quot;</td><td>&quot;83204U509&quot;</td><td>&quot;Q&quot;</td><td>&quot;RW&quot;</td><td>&quot;S&quot;</td><td>&quot;A&quot;</td><td>&quot;SMART FOR LIFE INC; COM NONE; …</td><td>&quot;&quot;</td><td>&quot;Y&quot;</td><td>&quot;CORP&quot;</td><td>&quot;EQTY&quot;</td><td>&quot;COM&quot;</td><td>&quot;NS&quot;</td><td>&quot;Y&quot;</td><td>&quot;GDR&quot;</td><td>&quot;VCL&quot;</td><td>&quot;FING&quot;</td><td>&quot;PRCF&quot;</td><td>&quot;SMFL&quot;</td><td>&quot;SMFL&quot;</td><td>59195.0</td><td>9999.0</td><td>&quot;325412&quot;</td><td>&quot;NOAVAIL&quot;</td><td>6.0079691e7</td><td>86651.0</td><td>&quot;SMART FOR LIFE INC&quot;</td><td>2.0231212e7</td><td>2023-12-12 00:00:00</td><td>&quot;N&quot;</td><td>0.7603</td><td>&quot;TR&quot;</td><td>605.9591</td><td>&quot;BP&quot;</td><td>0.8141</td><td>&quot;TR&quot;</td><td>2023-12-11 00:00:00</td><td>648.8377</td><td>&quot;PB&quot;</td><td>-0.066085</td><td>-0.066085</td><td>0.0</td><td>&quot;NA&quot;</td><td>&quot;D1&quot;</td><td>0.0</td><td>0.0</td><td>1.0</td><td>&quot;NO&quot;</td><td>116693.0</td><td>0.7603</td><td>0.76</td><td>0.8001</td><td>0.7601</td><td>0.78</td><td>0.7897</td><td>541.0</td><td>24.0</td><td>88721.6879</td><td>2023-11-17 00:00:00</td><td>2023-12-14 00:00:00</td><td>797.0</td><td>&quot;OBS&quot;</td><td>&quot;NA&quot;</td><td>&quot;N&quot;</td><td>null</td><td>null</td><td>&quot;&quot;</td><td>&quot;&quot;</td><td>&quot;&quot;</td><td>&quot;&quot;</td><td>&quot;&quot;</td><td>&quot;&quot;</td><td>&quot;&quot;</td><td>null</td><td>null</td><td>null</td><td>null</td><td>null</td><td>null</td><td>null</td><td>null</td><td>0.003133</td><td>0.00309</td><td>-0.00421</td><td>-0.004254</td><td>0.004599</td></tr><tr><td>22798.0</td><td>2023-10-27 00:00:00</td><td>2023-12-14 00:00:00</td><td>2022-02-16 00:00:00</td><td>2024-09-18 00:00:00</td><td>&quot;N&quot;</td><td>&quot;83204U60&quot;</td><td>&quot;83204U608&quot;</td><td>&quot;83204U50&quot;</td><td>&quot;83204U509&quot;</td><td>&quot;Q&quot;</td><td>&quot;RW&quot;</td><td>&quot;S&quot;</td><td>&quot;A&quot;</td><td>&quot;SMART FOR LIFE INC; COM NONE; …</td><td>&quot;&quot;</td><td>&quot;Y&quot;</td><td>&quot;CORP&quot;</td><td>&quot;EQTY&quot;</td><td>&quot;COM&quot;</td><td>&quot;NS&quot;</td><td>&quot;Y&quot;</td><td>&quot;GDR&quot;</td><td>&quot;VCL&quot;</td><td>&quot;FING&quot;</td><td>&quot;PRCF&quot;</td><td>&quot;SMFL&quot;</td><td>&quot;SMFL&quot;</td><td>59195.0</td><td>9999.0</td><td>&quot;325412&quot;</td><td>&quot;NOAVAIL&quot;</td><td>6.0079691e7</td><td>86651.0</td><td>&quot;SMART FOR LIFE INC&quot;</td><td>2.0231213e7</td><td>2023-12-13 00:00:00</td><td>&quot;N&quot;</td><td>0.791</td><td>&quot;TR&quot;</td><td>630.427</td><td>&quot;BP&quot;</td><td>0.7603</td><td>&quot;TR&quot;</td><td>2023-12-12 00:00:00</td><td>605.9591</td><td>&quot;PB&quot;</td><td>0.040379</td><td>0.040379</td><td>0.0</td><td>&quot;NA&quot;</td><td>&quot;D1&quot;</td><td>0.0</td><td>0.0</td><td>1.0</td><td>&quot;NO&quot;</td><td>279671.0</td><td>0.791</td><td>0.745</td><td>0.864</td><td>0.79</td><td>0.8</td><td>0.76</td><td>1098.0</td><td>20.0</td><td>221219.761</td><td>2023-11-17 00:00:00</td><td>2023-12-14 00:00:00</td><td>797.0</td><td>&quot;OBS&quot;</td><td>&quot;NA&quot;</td><td>&quot;N&quot;</td><td>null</td><td>null</td><td>&quot;&quot;</td><td>&quot;&quot;</td><td>&quot;&quot;</td><td>&quot;&quot;</td><td>&quot;&quot;</td><td>&quot;&quot;</td><td>&quot;&quot;</td><td>null</td><td>null</td><td>null</td><td>null</td><td>null</td><td>null</td><td>null</td><td>null</td><td>0.0162</td><td>0.016182</td><td>0.022396</td><td>0.022298</td><td>0.013651</td></tr><tr><td>22798.0</td><td>2023-10-27 00:00:00</td><td>2023-12-14 00:00:00</td><td>2022-02-16 00:00:00</td><td>2024-09-18 00:00:00</td><td>&quot;N&quot;</td><td>&quot;83204U60&quot;</td><td>&quot;83204U608&quot;</td><td>&quot;83204U50&quot;</td><td>&quot;83204U509&quot;</td><td>&quot;Q&quot;</td><td>&quot;RW&quot;</td><td>&quot;S&quot;</td><td>&quot;A&quot;</td><td>&quot;SMART FOR LIFE INC; COM NONE; …</td><td>&quot;&quot;</td><td>&quot;Y&quot;</td><td>&quot;CORP&quot;</td><td>&quot;EQTY&quot;</td><td>&quot;COM&quot;</td><td>&quot;NS&quot;</td><td>&quot;Y&quot;</td><td>&quot;GDR&quot;</td><td>&quot;VCL&quot;</td><td>&quot;FING&quot;</td><td>&quot;PRCF&quot;</td><td>&quot;SMFL&quot;</td><td>&quot;SMFL&quot;</td><td>59195.0</td><td>9999.0</td><td>&quot;325412&quot;</td><td>&quot;NOAVAIL&quot;</td><td>6.0079691e7</td><td>86651.0</td><td>&quot;SMART FOR LIFE INC&quot;</td><td>2.0231214e7</td><td>2023-12-14 00:00:00</td><td>&quot;N&quot;</td><td>0.75</td><td>&quot;TR&quot;</td><td>597.75</td><td>&quot;BP&quot;</td><td>0.791</td><td>&quot;TR&quot;</td><td>2023-12-13 00:00:00</td><td>630.427</td><td>&quot;PB&quot;</td><td>-0.051833</td><td>-0.051833</td><td>0.0</td><td>&quot;NA&quot;</td><td>&quot;D1&quot;</td><td>0.0</td><td>0.0</td><td>1.0</td><td>&quot;NO&quot;</td><td>306442.0</td><td>0.75</td><td>0.68335</td><td>0.8</td><td>0.7381</td><td>0.75</td><td>0.8</td><td>1165.0</td><td>21.0</td><td>229831.5</td><td>2023-11-17 00:00:00</td><td>2023-12-14 00:00:00</td><td>797.0</td><td>&quot;OBS&quot;</td><td>&quot;NA&quot;</td><td>&quot;N&quot;</td><td>null</td><td>null</td><td>&quot;&quot;</td><td>&quot;&quot;</td><td>&quot;&quot;</td><td>&quot;&quot;</td><td>&quot;&quot;</td><td>&quot;&quot;</td><td>&quot;&quot;</td><td>null</td><td>null</td><td>null</td><td>null</td><td>null</td><td>null</td><td>null</td><td>null</td><td>0.006931</td><td>0.006638</td><td>0.01816</td><td>0.017728</td><td>0.002647</td></tr><tr><td>22798.0</td><td>2023-12-15 00:00:00</td><td>2023-12-17 00:00:00</td><td>2022-02-16 00:00:00</td><td>2024-09-18 00:00:00</td><td>&quot;N&quot;</td><td>&quot;83204U60&quot;</td><td>&quot;83204U608&quot;</td><td>&quot;83204U50&quot;</td><td>&quot;83204U509&quot;</td><td>&quot;X&quot;</td><td>&quot;NT&quot;</td><td>&quot;N/A&quot;</td><td>&quot;X&quot;</td><td>&quot;SMART FOR LIFE INC; COM NONE; …</td><td>&quot;&quot;</td><td>&quot;Y&quot;</td><td>&quot;CORP&quot;</td><td>&quot;EQTY&quot;</td><td>&quot;COM&quot;</td><td>&quot;NS&quot;</td><td>&quot;N&quot;</td><td>&quot;GDR&quot;</td><td>&quot;VCL&quot;</td><td>&quot;FING&quot;</td><td>&quot;PRCF&quot;</td><td>&quot;&quot;</td><td>&quot;&quot;</td><td>59195.0</td><td>9999.0</td><td>&quot;325412&quot;</td><td>&quot;NOAVAIL&quot;</td><td>6.0079691e7</td><td>86651.0</td><td>&quot;SMART FOR LIFE INC&quot;</td><td>2.0231215e7</td><td>2023-12-15 00:00:00</td><td>&quot;N&quot;</td><td>null</td><td>&quot;NT&quot;</td><td>null</td><td>&quot;NT&quot;</td><td>null</td><td>&quot;NA&quot;</td><td>null</td><td>null</td><td>&quot;NA&quot;</td><td>null</td><td>null</td><td>null</td><td>&quot;NT&quot;</td><td>&quot;MR&quot;</td><td>0.0</td><td>0.0</td><td>1.0</td><td>&quot;NO&quot;</td><td>null</td><td>null</td><td>null</td><td>null</td><td>null</td><td>null</td><td>null</td><td>null</td><td>null</td><td>null</td><td>2023-12-15 00:00:00</td><td>2023-12-17 00:00:00</td><td>797.0</td><td>&quot;NC&quot;</td><td>&quot;NA&quot;</td><td>&quot;N&quot;</td><td>null</td><td>null</td><td>&quot;&quot;</td><td>&quot;&quot;</td><td>&quot;&quot;</td><td>&quot;&quot;</td><td>&quot;&quot;</td><td>&quot;&quot;</td><td>&quot;&quot;</td><td>null</td><td>null</td><td>null</td><td>null</td><td>null</td><td>null</td><td>null</td><td>null</td><td>-0.001579</td><td>-0.001674</td><td>-0.005318</td><td>-0.005558</td><td>-0.000076</td></tr><tr><td>22798.0</td><td>2023-12-18 00:00:00</td><td>2024-04-21 00:00:00</td><td>2022-02-16 00:00:00</td><td>2024-09-18 00:00:00</td><td>&quot;N&quot;</td><td>&quot;83204U60&quot;</td><td>&quot;83204U608&quot;</td><td>&quot;83204U50&quot;</td><td>&quot;83204U509&quot;</td><td>&quot;Q&quot;</td><td>&quot;RW&quot;</td><td>&quot;S&quot;</td><td>&quot;A&quot;</td><td>&quot;SMART FOR LIFE INC; COM NONE; …</td><td>&quot;&quot;</td><td>&quot;Y&quot;</td><td>&quot;CORP&quot;</td><td>&quot;EQTY&quot;</td><td>&quot;COM&quot;</td><td>&quot;NS&quot;</td><td>&quot;Y&quot;</td><td>&quot;GDR&quot;</td><td>&quot;VCL&quot;</td><td>&quot;FING&quot;</td><td>&quot;PRCF&quot;</td><td>&quot;SMFL&quot;</td><td>&quot;SMFL&quot;</td><td>59195.0</td><td>9999.0</td><td>&quot;325412&quot;</td><td>&quot;NOAVAIL&quot;</td><td>6.0079691e7</td><td>86651.0</td><td>&quot;SMART FOR LIFE INC&quot;</td><td>2.0231218e7</td><td>2023-12-18 00:00:00</td><td>&quot;N&quot;</td><td>0.6589</td><td>&quot;TR&quot;</td><td>525.1433</td><td>&quot;BP&quot;</td><td>null</td><td>&quot;NT&quot;</td><td>null</td><td>null</td><td>&quot;NT&quot;</td><td>null</td><td>null</td><td>null</td><td>&quot;RA&quot;</td><td>&quot;MR&quot;</td><td>0.0</td><td>0.0</td><td>1.0</td><td>&quot;NO&quot;</td><td>4.990814e6</td><td>0.6589</td><td>0.47</td><td>0.82</td><td>0.6251</td><td>0.65</td><td>0.6389</td><td>22273.0</td><td>13.0</td><td>3.2884e6</td><td>2023-12-18 00:00:00</td><td>2024-04-17 00:00:00</td><td>797.0</td><td>&quot;OBS&quot;</td><td>&quot;NA&quot;</td><td>&quot;N&quot;</td><td>null</td><td>null</td><td>&quot;&quot;</td><td>&quot;&quot;</td><td>&quot;&quot;</td><td>&quot;&quot;</td><td>&quot;&quot;</td><td>&quot;&quot;</td><td>&quot;&quot;</td><td>null</td><td>null</td><td>null</td><td>null</td><td>null</td><td>null</td><td>null</td><td>null</td><td>0.003856</td><td>0.003657</td><td>-0.000888</td><td>-0.00137</td><td>0.004528</td></tr><tr><td>22798.0</td><td>2023-12-18 00:00:00</td><td>2024-04-21 00:00:00</td><td>2022-02-16 00:00:00</td><td>2024-09-18 00:00:00</td><td>&quot;N&quot;</td><td>&quot;83204U60&quot;</td><td>&quot;83204U608&quot;</td><td>&quot;83204U50&quot;</td><td>&quot;83204U509&quot;</td><td>&quot;Q&quot;</td><td>&quot;RW&quot;</td><td>&quot;S&quot;</td><td>&quot;A&quot;</td><td>&quot;SMART FOR LIFE INC; COM NONE; …</td><td>&quot;&quot;</td><td>&quot;Y&quot;</td><td>&quot;CORP&quot;</td><td>&quot;EQTY&quot;</td><td>&quot;COM&quot;</td><td>&quot;NS&quot;</td><td>&quot;Y&quot;</td><td>&quot;GDR&quot;</td><td>&quot;VCL&quot;</td><td>&quot;FING&quot;</td><td>&quot;PRCF&quot;</td><td>&quot;SMFL&quot;</td><td>&quot;SMFL&quot;</td><td>59195.0</td><td>9999.0</td><td>&quot;325412&quot;</td><td>&quot;NOAVAIL&quot;</td><td>6.0079691e7</td><td>86651.0</td><td>&quot;SMART FOR LIFE INC&quot;</td><td>2.0231219e7</td><td>2023-12-19 00:00:00</td><td>&quot;N&quot;</td><td>0.63</td><td>&quot;TR&quot;</td><td>502.11</td><td>&quot;BP&quot;</td><td>0.6589</td><td>&quot;TR&quot;</td><td>2023-12-18 00:00:00</td><td>525.1433</td><td>&quot;PB&quot;</td><td>-0.043861</td><td>-0.043861</td><td>0.0</td><td>&quot;NA&quot;</td><td>&quot;D1&quot;</td><td>0.0</td><td>0.0</td><td>1.0</td><td>&quot;NO&quot;</td><td>1.077064e6</td><td>0.63</td><td>0.48</td><td>0.74</td><td>0.63</td><td>0.65</td><td>0.5001</td><td>4770.0</td><td>19.0</td><td>678550.32</td><td>2023-12-18 00:00:00</td><td>2024-04-17 00:00:00</td><td>797.0</td><td>&quot;OBS&quot;</td><td>&quot;NA&quot;</td><td>&quot;N&quot;</td><td>null</td><td>null</td><td>&quot;&quot;</td><td>&quot;&quot;</td><td>&quot;&quot;</td><td>&quot;&quot;</td><td>&quot;&quot;</td><td>&quot;&quot;</td><td>&quot;&quot;</td><td>null</td><td>null</td><td>null</td><td>null</td><td>null</td><td>null</td><td>null</td><td>null</td><td>0.007711</td><td>0.007626</td><td>0.012567</td><td>0.012418</td><td>0.005866</td></tr><tr><td>22798.0</td><td>2023-12-18 00:00:00</td><td>2024-04-21 00:00:00</td><td>2022-02-16 00:00:00</td><td>2024-09-18 00:00:00</td><td>&quot;N&quot;</td><td>&quot;83204U60&quot;</td><td>&quot;83204U608&quot;</td><td>&quot;83204U50&quot;</td><td>&quot;83204U509&quot;</td><td>&quot;Q&quot;</td><td>&quot;RW&quot;</td><td>&quot;S&quot;</td><td>&quot;A&quot;</td><td>&quot;SMART FOR LIFE INC; COM NONE; …</td><td>&quot;&quot;</td><td>&quot;Y&quot;</td><td>&quot;CORP&quot;</td><td>&quot;EQTY&quot;</td><td>&quot;COM&quot;</td><td>&quot;NS&quot;</td><td>&quot;Y&quot;</td><td>&quot;GDR&quot;</td><td>&quot;VCL&quot;</td><td>&quot;FING&quot;</td><td>&quot;PRCF&quot;</td><td>&quot;SMFL&quot;</td><td>&quot;SMFL&quot;</td><td>59195.0</td><td>9999.0</td><td>&quot;325412&quot;</td><td>&quot;NOAVAIL&quot;</td><td>6.0079691e7</td><td>86651.0</td><td>&quot;SMART FOR LIFE INC&quot;</td><td>2.023122e7</td><td>2023-12-20 00:00:00</td><td>&quot;N&quot;</td><td>0.7637</td><td>&quot;TR&quot;</td><td>608.6689</td><td>&quot;BP&quot;</td><td>0.63</td><td>&quot;TR&quot;</td><td>2023-12-19 00:00:00</td><td>502.11</td><td>&quot;PB&quot;</td><td>0.212222</td><td>0.212222</td><td>0.0</td><td>&quot;NA&quot;</td><td>&quot;D1&quot;</td><td>0.0</td><td>0.0</td><td>1.0</td><td>&quot;NO&quot;</td><td>1.217674e6</td><td>0.7637</td><td>0.525</td><td>0.95</td><td>0.7235</td><td>0.8</td><td>0.6017</td><td>5315.0</td><td>17.0</td><td>929937.6338</td><td>2023-12-18 00:00:00</td><td>2024-04-17 00:00:00</td><td>797.0</td><td>&quot;OBS&quot;</td><td>&quot;NA&quot;</td><td>&quot;N&quot;</td><td>null</td><td>null</td><td>&quot;&quot;</td><td>&quot;&quot;</td><td>&quot;&quot;</td><td>&quot;&quot;</td><td>&quot;&quot;</td><td>&quot;&quot;</td><td>&quot;&quot;</td><td>null</td><td>null</td><td>null</td><td>null</td><td>null</td><td>null</td><td>null</td><td>null</td><td>-0.014802</td><td>-0.015095</td><td>-0.011488</td><td>-0.012052</td><td>-0.014684</td></tr></tbody></table></div>"
      ],
      "text/plain": [
       "shape: (8, 94)\n",
       "┌─────┬─────┬─────┬─────┬─────┬─────┬─────┬─────┬─────┬─────┬─────┬─────┬─────┬─────┬─────┬─────┬─────┬─────┬─────┬─────┬─────┬─────┬─────┬─────┬─────┬─────┬─────┬─────┬─────┬─────┬─────┬─────┬─────┬─────┬─────┬─────┬─────┬─────┬─────┬─────┬─────┬─────┬─────┬─────┬─────┬─────┬─────┬─────┬─────┬─────┬─────┬─────┬─────┬─────┬─────┬─────┬─────┬─────┬─────┬─────┬─────┬─────┬─────┬─────┬─────┬─────┬─────┬─────┬─────┬─────┬─────┬─────┬─────┬─────┬─────┬─────┬─────┬─────┬─────┬─────┬─────┬─────┬─────┬─────┬─────┬─────┬─────┬─────┬─────┬─────┬─────┬─────┬─────┬─────┐\n",
       "│ PER ┆ Sec ┆ Sec ┆ Sec ┆ Sec ┆ Sec ┆ Hdr ┆ Hdr ┆ CUS ┆ CUS ┆ Pri ┆ Con ┆ Exc ┆ Tra ┆ Sec ┆ Sha ┆ USI ┆ Iss ┆ Sec ┆ Sec ┆ Sha ┆ Sec ┆ Del ┆ Del ┆ Del ┆ Del ┆ Tic ┆ Tra ┆ PER ┆ SIC ┆ NAI ┆ ICB ┆ NAS ┆ NAS ┆ Iss ┆ YYY ┆ Dly ┆ Dly ┆ Dly ┆ Dly ┆ Dly ┆ Dly ┆ Dly ┆ Dly ┆ Dly ┆ Dly ┆ Dly ┆ Dly ┆ Dly ┆ Dly ┆ Dly ┆ Dly ┆ Dly ┆ Dly ┆ Dly ┆ Dly ┆ Dly ┆ Dly ┆ Dly ┆ Dly ┆ Dly ┆ Dly ┆ Dly ┆ Dly ┆ Dly ┆ Dly ┆ Shr ┆ Shr ┆ Shr ┆ Shr ┆ Shr ┆ Shr ┆ Dis ┆ Dis ┆ Dis ┆ Dis ┆ Dis ┆ Dis ┆ Dis ┆ Dis ┆ Dis ┆ Dis ┆ Dis ┆ Dis ┆ Dis ┆ Dis ┆ Dis ┆ Dis ┆ Dis ┆ vwr ┆ vwr ┆ ewr ┆ ewr ┆ spr │\n",
       "│ MNO ┆ Inf ┆ Inf ┆ uri ┆ uri ┆ uri ┆ CUS ┆ CUS ┆ IP  ┆ IP9 ┆ mar ┆ dit ┆ han ┆ din ┆ uri ┆ reC ┆ ncF ┆ uer ┆ uri ┆ uri ┆ reT ┆ uri ┆ Act ┆ Sta ┆ Rea ┆ Pay ┆ ker ┆ din ┆ MCO ┆ CD  ┆ CS  ┆ Ind ┆ DCo ┆ DIs ┆ uer ┆ YMM ┆ Cal ┆ Del ┆ Prc ┆ Prc ┆ Cap ┆ Cap ┆ Pre ┆ Pre ┆ Pre ┆ Pre ┆ Pre ┆ Ret ┆ Ret ┆ Ret ┆ Ret ┆ Ret ┆ Ord ┆ Non ┆ Fac ┆ Dis ┆ Vol ┆ Clo ┆ Low ┆ Hig ┆ Bid ┆ Ask ┆ Ope ┆ Num ┆ MMC ┆ Prc ┆ Sta ┆ End ┆ Out ┆ Sou ┆ Fac ┆ Adr ┆ ExD ┆ Seq ┆ Ord ┆ Typ ┆ Fre ┆ Pay ┆ Det ┆ Tax ┆ Ori ┆ Div ┆ Fac ┆ Fac ┆ Dec ┆ Rec ┆ Pay ┆ PER ┆ PER ┆ etd ┆ etx ┆ etd ┆ etx ┆ trn │\n",
       "│ --- ┆ oSt ┆ oEn ┆ tyB ┆ tyE ┆ tyH ┆ IP  ┆ IP9 ┆ --- ┆ --- ┆ yEx ┆ ion ┆ geT ┆ gSt ┆ tyN ┆ las ┆ lg  ┆ Typ ┆ tyT ┆ tyS ┆ ype ┆ tyA ┆ ion ┆ tus ┆ son ┆ men ┆ --- ┆ gSy ┆ --- ┆ --- ┆ --- ┆ ust ┆ mpn ┆ sun ┆ Nm  ┆ DD  ┆ Dt  ┆ Flg ┆ --- ┆ Flg ┆ --- ┆ Flg ┆ vPr ┆ vPr ┆ vDt ┆ vCa ┆ vCa ┆ --- ┆ x   ┆ I   ┆ Mis ┆ Dur ┆ Div ┆ Ord ┆ Prc ┆ tRe ┆ --- ┆ se  ┆ --- ┆ h   ┆ --- ┆ --- ┆ n   ┆ Trd ┆ nt  ┆ Vol ┆ rtD ┆ Dt  ┆ --- ┆ rce ┆ Typ ┆ Flg ┆ t   ┆ Nbr ┆ ina ┆ e   ┆ qTy ┆ men ┆ ail ┆ Typ ┆ gCu ┆ Amt ┆ Pr  ┆ Shr ┆ lar ┆ ord ┆ Dt  ┆ MNO ┆ MCO ┆ --- ┆ --- ┆ --- ┆ --- ┆ --- │\n",
       "│ f64 ┆ art ┆ dDt ┆ egD ┆ ndD ┆ drF ┆ --- ┆ --- ┆ str ┆ str ┆ ch  ┆ alT ┆ ier ┆ atu ┆ m   ┆ s   ┆ --- ┆ e   ┆ ype ┆ ubT ┆ --- ┆ cti ┆ Typ ┆ Typ ┆ Typ ┆ tTy ┆ str ┆ mbo ┆ f64 ┆ f64 ┆ str ┆ ry  ┆ o   ┆ o   ┆ --- ┆ --- ┆ --- ┆ --- ┆ f64 ┆ --- ┆ f64 ┆ --- ┆ c   ┆ cFl ┆ --- ┆ p   ┆ pFl ┆ f64 ┆ --- ┆ --- ┆ sFl ┆ Flg ┆ Amt ┆ Div ┆ --- ┆ tFl ┆ f64 ┆ --- ┆ f64 ┆ --- ┆ f64 ┆ f64 ┆ --- ┆ --- ┆ --- ┆ --- ┆ t   ┆ --- ┆ f64 ┆ --- ┆ e   ┆ --- ┆ --- ┆ --- ┆ ryF ┆ --- ┆ pe  ┆ tTy ┆ Typ ┆ e   ┆ rTy ┆ --- ┆ --- ┆ --- ┆ eDt ┆ Dt  ┆ --- ┆ --- ┆ --- ┆ f64 ┆ f64 ┆ f64 ┆ f64 ┆ f64 │\n",
       "│     ┆ Dt  ┆ --- ┆ t   ┆ t   ┆ lg  ┆ str ┆ str ┆     ┆     ┆ --- ┆ ype ┆ --- ┆ sFl ┆ --- ┆ --- ┆ str ┆ --- ┆ --- ┆ ype ┆ str ┆ veF ┆ e   ┆ e   ┆ e   ┆ pe  ┆     ┆ l   ┆     ┆     ┆     ┆ --- ┆ --- ┆ --- ┆ str ┆ f64 ┆ dat ┆ str ┆     ┆ str ┆     ┆ str ┆ --- ┆ g   ┆ dat ┆ --- ┆ g   ┆     ┆ f64 ┆ f64 ┆ g   ┆ --- ┆ --- ┆ Amt ┆ f64 ┆ g   ┆     ┆ f64 ┆     ┆ f64 ┆     ┆     ┆ f64 ┆ f64 ┆ f64 ┆ f64 ┆ --- ┆ dat ┆     ┆ str ┆ --- ┆ str ┆ dat ┆ f64 ┆ lg  ┆ str ┆ --- ┆ pe  ┆ e   ┆ --- ┆ pe  ┆ f64 ┆ f64 ┆ f64 ┆ --- ┆ --- ┆ dat ┆ f64 ┆ f64 ┆     ┆     ┆     ┆     ┆     │\n",
       "│     ┆ --- ┆ dat ┆ --- ┆ --- ┆ --- ┆     ┆     ┆     ┆     ┆ str ┆ --- ┆ str ┆ g   ┆ str ┆ str ┆     ┆ str ┆ str ┆ --- ┆     ┆ lg  ┆ --- ┆ --- ┆ --- ┆ --- ┆     ┆ --- ┆     ┆     ┆     ┆ str ┆ f64 ┆ f64 ┆     ┆     ┆ eti ┆     ┆     ┆     ┆     ┆     ┆ f64 ┆ --- ┆ eti ┆ f64 ┆ --- ┆     ┆     ┆     ┆ --- ┆ str ┆ f64 ┆ --- ┆     ┆ --- ┆     ┆     ┆     ┆     ┆     ┆     ┆     ┆     ┆     ┆     ┆ dat ┆ eti ┆     ┆     ┆ str ┆     ┆ eti ┆     ┆ --- ┆     ┆ str ┆ --- ┆ --- ┆ str ┆ --- ┆     ┆     ┆     ┆ dat ┆ dat ┆ eti ┆     ┆     ┆     ┆     ┆     ┆     ┆     │\n",
       "│     ┆ dat ┆ eti ┆ dat ┆ dat ┆ str ┆     ┆     ┆     ┆     ┆     ┆ str ┆     ┆ --- ┆     ┆     ┆     ┆     ┆     ┆ str ┆     ┆ --- ┆ str ┆ str ┆ str ┆ str ┆     ┆ str ┆     ┆     ┆     ┆     ┆     ┆     ┆     ┆     ┆ me[ ┆     ┆     ┆     ┆     ┆     ┆     ┆ str ┆ me[ ┆     ┆ str ┆     ┆     ┆     ┆ str ┆     ┆     ┆ f64 ┆     ┆ str ┆     ┆     ┆     ┆     ┆     ┆     ┆     ┆     ┆     ┆     ┆ eti ┆ me[ ┆     ┆     ┆     ┆     ┆ me[ ┆     ┆ str ┆     ┆     ┆ str ┆ str ┆     ┆ str ┆     ┆     ┆     ┆ eti ┆ eti ┆ me[ ┆     ┆     ┆     ┆     ┆     ┆     ┆     │\n",
       "│     ┆ eti ┆ me[ ┆ eti ┆ eti ┆     ┆     ┆     ┆     ┆     ┆     ┆     ┆     ┆ str ┆     ┆     ┆     ┆     ┆     ┆     ┆     ┆ str ┆     ┆     ┆     ┆     ┆     ┆     ┆     ┆     ┆     ┆     ┆     ┆     ┆     ┆     ┆ ns] ┆     ┆     ┆     ┆     ┆     ┆     ┆     ┆ ns] ┆     ┆     ┆     ┆     ┆     ┆     ┆     ┆     ┆     ┆     ┆     ┆     ┆     ┆     ┆     ┆     ┆     ┆     ┆     ┆     ┆     ┆ me[ ┆ ns] ┆     ┆     ┆     ┆     ┆ ns] ┆     ┆     ┆     ┆     ┆     ┆     ┆     ┆     ┆     ┆     ┆     ┆ me[ ┆ me[ ┆ ns] ┆     ┆     ┆     ┆     ┆     ┆     ┆     │\n",
       "│     ┆ me[ ┆ ns] ┆ me[ ┆ me[ ┆     ┆     ┆     ┆     ┆     ┆     ┆     ┆     ┆     ┆     ┆     ┆     ┆     ┆     ┆     ┆     ┆     ┆     ┆     ┆     ┆     ┆     ┆     ┆     ┆     ┆     ┆     ┆     ┆     ┆     ┆     ┆     ┆     ┆     ┆     ┆     ┆     ┆     ┆     ┆     ┆     ┆     ┆     ┆     ┆     ┆     ┆     ┆     ┆     ┆     ┆     ┆     ┆     ┆     ┆     ┆     ┆     ┆     ┆     ┆     ┆     ┆ ns] ┆     ┆     ┆     ┆     ┆     ┆     ┆     ┆     ┆     ┆     ┆     ┆     ┆     ┆     ┆     ┆     ┆     ┆ ns] ┆ ns] ┆     ┆     ┆     ┆     ┆     ┆     ┆     ┆     │\n",
       "│     ┆ ns] ┆     ┆ ns] ┆ ns] ┆     ┆     ┆     ┆     ┆     ┆     ┆     ┆     ┆     ┆     ┆     ┆     ┆     ┆     ┆     ┆     ┆     ┆     ┆     ┆     ┆     ┆     ┆     ┆     ┆     ┆     ┆     ┆     ┆     ┆     ┆     ┆     ┆     ┆     ┆     ┆     ┆     ┆     ┆     ┆     ┆     ┆     ┆     ┆     ┆     ┆     ┆     ┆     ┆     ┆     ┆     ┆     ┆     ┆     ┆     ┆     ┆     ┆     ┆     ┆     ┆     ┆     ┆     ┆     ┆     ┆     ┆     ┆     ┆     ┆     ┆     ┆     ┆     ┆     ┆     ┆     ┆     ┆     ┆     ┆     ┆     ┆     ┆     ┆     ┆     ┆     ┆     ┆     ┆     │\n",
       "╞═════╪═════╪═════╪═════╪═════╪═════╪═════╪═════╪═════╪═════╪═════╪═════╪═════╪═════╪═════╪═════╪═════╪═════╪═════╪═════╪═════╪═════╪═════╪═════╪═════╪═════╪═════╪═════╪═════╪═════╪═════╪═════╪═════╪═════╪═════╪═════╪═════╪═════╪═════╪═════╪═════╪═════╪═════╪═════╪═════╪═════╪═════╪═════╪═════╪═════╪═════╪═════╪═════╪═════╪═════╪═════╪═════╪═════╪═════╪═════╪═════╪═════╪═════╪═════╪═════╪═════╪═════╪═════╪═════╪═════╪═════╪═════╪═════╪═════╪═════╪═════╪═════╪═════╪═════╪═════╪═════╪═════╪═════╪═════╪═════╪═════╪═════╪═════╪═════╪═════╪═════╪═════╪═════╪═════╡\n",
       "│ 227 ┆ 202 ┆ 202 ┆ 202 ┆ 202 ┆ N   ┆ 832 ┆ 832 ┆ 832 ┆ 832 ┆ Q   ┆ RW  ┆ S   ┆ A   ┆ SMA ┆     ┆ Y   ┆ COR ┆ EQT ┆ COM ┆ NS  ┆ Y   ┆ GDR ┆ VCL ┆ FIN ┆ PRC ┆ SMF ┆ SMF ┆ 591 ┆ 999 ┆ 325 ┆ NOA ┆ 6.0 ┆ 866 ┆ SMA ┆ 2.0 ┆ 202 ┆ N   ┆ 0.8 ┆ TR  ┆ 648 ┆ BP  ┆ 1.0 ┆ TR  ┆ 202 ┆ 820 ┆ PB  ┆ -0. ┆ -0. ┆ 0.0 ┆ NA  ┆ D3  ┆ 0.0 ┆ 0.0 ┆ 1.0 ┆ NO  ┆ 431 ┆ 0.8 ┆ 0.7 ┆ 1.0 ┆ 0.8 ┆ 0.8 ┆ 1.0 ┆ 157 ┆ 24. ┆ 351 ┆ 202 ┆ 202 ┆ 797 ┆ OBS ┆ NA  ┆ N   ┆ nul ┆ nul ┆     ┆     ┆     ┆     ┆     ┆     ┆     ┆ nul ┆ nul ┆ nul ┆ nul ┆ nul ┆ nul ┆ nul ┆ nul ┆ 0.0 ┆ 0.0 ┆ -0. ┆ -0. ┆ 0.0 │\n",
       "│ 98. ┆ 3-1 ┆ 3-1 ┆ 2-0 ┆ 4-0 ┆     ┆ 04U ┆ 04U ┆ 04U ┆ 04U ┆     ┆     ┆     ┆     ┆ RT  ┆     ┆     ┆ P   ┆ Y   ┆     ┆     ┆     ┆     ┆     ┆ G   ┆ F   ┆ L   ┆ L   ┆ 95. ┆ 9.0 ┆ 412 ┆ VAI ┆ 079 ┆ 51. ┆ RT  ┆ 231 ┆ 3-1 ┆     ┆ 141 ┆     ┆ .83 ┆     ┆ 3   ┆     ┆ 3-1 ┆ .91 ┆     ┆ 209 ┆ 209 ┆     ┆     ┆     ┆     ┆     ┆     ┆     ┆ 588 ┆ 141 ┆ 6   ┆     ┆ 099 ┆ 1   ┆     ┆ 6.0 ┆ 0   ┆ 355 ┆ 3-1 ┆ 3-1 ┆ .0  ┆     ┆     ┆     ┆ l   ┆ l   ┆     ┆     ┆     ┆     ┆     ┆     ┆     ┆ l   ┆ l   ┆ l   ┆ l   ┆ l   ┆ l   ┆ l   ┆ l   ┆ 036 ┆ 036 ┆ 004 ┆ 004 ┆ 039 │\n",
       "│ 0   ┆ 0-2 ┆ 2-1 ┆ 2-1 ┆ 9-1 ┆     ┆ 60  ┆ 608 ┆ 50  ┆ 509 ┆     ┆     ┆     ┆     ┆ FOR ┆     ┆     ┆     ┆     ┆     ┆     ┆     ┆     ┆     ┆     ┆     ┆     ┆     ┆ 0   ┆     ┆     ┆ L   ┆ 691 ┆ 0   ┆ FOR ┆ 211 ┆ 2-1 ┆     ┆     ┆     ┆ 77  ┆     ┆     ┆     ┆ 2-0 ┆     ┆     ┆ 612 ┆ 612 ┆     ┆     ┆     ┆     ┆     ┆     ┆     ┆ .0  ┆     ┆     ┆     ┆     ┆     ┆     ┆     ┆     ┆ .79 ┆ 1-1 ┆ 2-1 ┆     ┆     ┆     ┆     ┆     ┆     ┆     ┆     ┆     ┆     ┆     ┆     ┆     ┆     ┆     ┆     ┆     ┆     ┆     ┆     ┆     ┆ 9   ┆ 84  ┆ 576 ┆ 604 ┆ 24  │\n",
       "│     ┆ 7   ┆ 4   ┆ 6   ┆ 8   ┆     ┆     ┆     ┆     ┆     ┆     ┆     ┆     ┆     ┆ LIF ┆     ┆     ┆     ┆     ┆     ┆     ┆     ┆     ┆     ┆     ┆     ┆     ┆     ┆     ┆     ┆     ┆     ┆ e7  ┆     ┆ LIF ┆ e7  ┆ 1   ┆     ┆     ┆     ┆     ┆     ┆     ┆     ┆ 8   ┆     ┆     ┆     ┆     ┆     ┆     ┆     ┆     ┆     ┆     ┆     ┆     ┆     ┆     ┆     ┆     ┆     ┆     ┆     ┆     ┆ 08  ┆ 7   ┆ 4   ┆     ┆     ┆     ┆     ┆     ┆     ┆     ┆     ┆     ┆     ┆     ┆     ┆     ┆     ┆     ┆     ┆     ┆     ┆     ┆     ┆     ┆     ┆     ┆     ┆     ┆     │\n",
       "│     ┆ 00: ┆ 00: ┆ 00: ┆ 00: ┆     ┆     ┆     ┆     ┆     ┆     ┆     ┆     ┆     ┆ E   ┆     ┆     ┆     ┆     ┆     ┆     ┆     ┆     ┆     ┆     ┆     ┆     ┆     ┆     ┆     ┆     ┆     ┆     ┆     ┆ E   ┆     ┆ 00: ┆     ┆     ┆     ┆     ┆     ┆     ┆     ┆ 00: ┆     ┆     ┆     ┆     ┆     ┆     ┆     ┆     ┆     ┆     ┆     ┆     ┆     ┆     ┆     ┆     ┆     ┆     ┆     ┆     ┆     ┆ 00: ┆ 00: ┆     ┆     ┆     ┆     ┆     ┆     ┆     ┆     ┆     ┆     ┆     ┆     ┆     ┆     ┆     ┆     ┆     ┆     ┆     ┆     ┆     ┆     ┆     ┆     ┆     ┆     │\n",
       "│     ┆ 00: ┆ 00: ┆ 00: ┆ 00: ┆     ┆     ┆     ┆     ┆     ┆     ┆     ┆     ┆     ┆ INC ┆     ┆     ┆     ┆     ┆     ┆     ┆     ┆     ┆     ┆     ┆     ┆     ┆     ┆     ┆     ┆     ┆     ┆     ┆     ┆ INC ┆     ┆ 00: ┆     ┆     ┆     ┆     ┆     ┆     ┆     ┆ 00: ┆     ┆     ┆     ┆     ┆     ┆     ┆     ┆     ┆     ┆     ┆     ┆     ┆     ┆     ┆     ┆     ┆     ┆     ┆     ┆     ┆     ┆ 00: ┆ 00: ┆     ┆     ┆     ┆     ┆     ┆     ┆     ┆     ┆     ┆     ┆     ┆     ┆     ┆     ┆     ┆     ┆     ┆     ┆     ┆     ┆     ┆     ┆     ┆     ┆     ┆     │\n",
       "│     ┆ 00  ┆ 00  ┆ 00  ┆ 00  ┆     ┆     ┆     ┆     ┆     ┆     ┆     ┆     ┆     ┆ ;   ┆     ┆     ┆     ┆     ┆     ┆     ┆     ┆     ┆     ┆     ┆     ┆     ┆     ┆     ┆     ┆     ┆     ┆     ┆     ┆     ┆     ┆ 00  ┆     ┆     ┆     ┆     ┆     ┆     ┆     ┆ 00  ┆     ┆     ┆     ┆     ┆     ┆     ┆     ┆     ┆     ┆     ┆     ┆     ┆     ┆     ┆     ┆     ┆     ┆     ┆     ┆     ┆     ┆ 00  ┆ 00  ┆     ┆     ┆     ┆     ┆     ┆     ┆     ┆     ┆     ┆     ┆     ┆     ┆     ┆     ┆     ┆     ┆     ┆     ┆     ┆     ┆     ┆     ┆     ┆     ┆     ┆     │\n",
       "│     ┆     ┆     ┆     ┆     ┆     ┆     ┆     ┆     ┆     ┆     ┆     ┆     ┆     ┆ COM ┆     ┆     ┆     ┆     ┆     ┆     ┆     ┆     ┆     ┆     ┆     ┆     ┆     ┆     ┆     ┆     ┆     ┆     ┆     ┆     ┆     ┆     ┆     ┆     ┆     ┆     ┆     ┆     ┆     ┆     ┆     ┆     ┆     ┆     ┆     ┆     ┆     ┆     ┆     ┆     ┆     ┆     ┆     ┆     ┆     ┆     ┆     ┆     ┆     ┆     ┆     ┆     ┆     ┆     ┆     ┆     ┆     ┆     ┆     ┆     ┆     ┆     ┆     ┆     ┆     ┆     ┆     ┆     ┆     ┆     ┆     ┆     ┆     ┆     ┆     ┆     ┆     ┆     ┆     │\n",
       "│     ┆     ┆     ┆     ┆     ┆     ┆     ┆     ┆     ┆     ┆     ┆     ┆     ┆     ┆ NON ┆     ┆     ┆     ┆     ┆     ┆     ┆     ┆     ┆     ┆     ┆     ┆     ┆     ┆     ┆     ┆     ┆     ┆     ┆     ┆     ┆     ┆     ┆     ┆     ┆     ┆     ┆     ┆     ┆     ┆     ┆     ┆     ┆     ┆     ┆     ┆     ┆     ┆     ┆     ┆     ┆     ┆     ┆     ┆     ┆     ┆     ┆     ┆     ┆     ┆     ┆     ┆     ┆     ┆     ┆     ┆     ┆     ┆     ┆     ┆     ┆     ┆     ┆     ┆     ┆     ┆     ┆     ┆     ┆     ┆     ┆     ┆     ┆     ┆     ┆     ┆     ┆     ┆     ┆     │\n",
       "│     ┆     ┆     ┆     ┆     ┆     ┆     ┆     ┆     ┆     ┆     ┆     ┆     ┆     ┆ E;  ┆     ┆     ┆     ┆     ┆     ┆     ┆     ┆     ┆     ┆     ┆     ┆     ┆     ┆     ┆     ┆     ┆     ┆     ┆     ┆     ┆     ┆     ┆     ┆     ┆     ┆     ┆     ┆     ┆     ┆     ┆     ┆     ┆     ┆     ┆     ┆     ┆     ┆     ┆     ┆     ┆     ┆     ┆     ┆     ┆     ┆     ┆     ┆     ┆     ┆     ┆     ┆     ┆     ┆     ┆     ┆     ┆     ┆     ┆     ┆     ┆     ┆     ┆     ┆     ┆     ┆     ┆     ┆     ┆     ┆     ┆     ┆     ┆     ┆     ┆     ┆     ┆     ┆     ┆     │\n",
       "│     ┆     ┆     ┆     ┆     ┆     ┆     ┆     ┆     ┆     ┆     ┆     ┆     ┆     ┆ …   ┆     ┆     ┆     ┆     ┆     ┆     ┆     ┆     ┆     ┆     ┆     ┆     ┆     ┆     ┆     ┆     ┆     ┆     ┆     ┆     ┆     ┆     ┆     ┆     ┆     ┆     ┆     ┆     ┆     ┆     ┆     ┆     ┆     ┆     ┆     ┆     ┆     ┆     ┆     ┆     ┆     ┆     ┆     ┆     ┆     ┆     ┆     ┆     ┆     ┆     ┆     ┆     ┆     ┆     ┆     ┆     ┆     ┆     ┆     ┆     ┆     ┆     ┆     ┆     ┆     ┆     ┆     ┆     ┆     ┆     ┆     ┆     ┆     ┆     ┆     ┆     ┆     ┆     ┆     │\n",
       "│ 227 ┆ 202 ┆ 202 ┆ 202 ┆ 202 ┆ N   ┆ 832 ┆ 832 ┆ 832 ┆ 832 ┆ Q   ┆ RW  ┆ S   ┆ A   ┆ SMA ┆     ┆ Y   ┆ COR ┆ EQT ┆ COM ┆ NS  ┆ Y   ┆ GDR ┆ VCL ┆ FIN ┆ PRC ┆ SMF ┆ SMF ┆ 591 ┆ 999 ┆ 325 ┆ NOA ┆ 6.0 ┆ 866 ┆ SMA ┆ 2.0 ┆ 202 ┆ N   ┆ 0.7 ┆ TR  ┆ 605 ┆ BP  ┆ 0.8 ┆ TR  ┆ 202 ┆ 648 ┆ PB  ┆ -0. ┆ -0. ┆ 0.0 ┆ NA  ┆ D1  ┆ 0.0 ┆ 0.0 ┆ 1.0 ┆ NO  ┆ 116 ┆ 0.7 ┆ 0.7 ┆ 0.8 ┆ 0.7 ┆ 0.7 ┆ 0.7 ┆ 541 ┆ 24. ┆ 887 ┆ 202 ┆ 202 ┆ 797 ┆ OBS ┆ NA  ┆ N   ┆ nul ┆ nul ┆     ┆     ┆     ┆     ┆     ┆     ┆     ┆ nul ┆ nul ┆ nul ┆ nul ┆ nul ┆ nul ┆ nul ┆ nul ┆ 0.0 ┆ 0.0 ┆ -0. ┆ -0. ┆ 0.0 │\n",
       "│ 98. ┆ 3-1 ┆ 3-1 ┆ 2-0 ┆ 4-0 ┆     ┆ 04U ┆ 04U ┆ 04U ┆ 04U ┆     ┆     ┆     ┆     ┆ RT  ┆     ┆     ┆ P   ┆ Y   ┆     ┆     ┆     ┆     ┆     ┆ G   ┆ F   ┆ L   ┆ L   ┆ 95. ┆ 9.0 ┆ 412 ┆ VAI ┆ 079 ┆ 51. ┆ RT  ┆ 231 ┆ 3-1 ┆     ┆ 603 ┆     ┆ .95 ┆     ┆ 141 ┆     ┆ 3-1 ┆ .83 ┆     ┆ 066 ┆ 066 ┆     ┆     ┆     ┆     ┆     ┆     ┆     ┆ 693 ┆ 603 ┆ 6   ┆ 001 ┆ 601 ┆ 8   ┆ 897 ┆ .0  ┆ 0   ┆ 21. ┆ 3-1 ┆ 3-1 ┆ .0  ┆     ┆     ┆     ┆ l   ┆ l   ┆     ┆     ┆     ┆     ┆     ┆     ┆     ┆ l   ┆ l   ┆ l   ┆ l   ┆ l   ┆ l   ┆ l   ┆ l   ┆ 031 ┆ 030 ┆ 004 ┆ 004 ┆ 045 │\n",
       "│ 0   ┆ 0-2 ┆ 2-1 ┆ 2-1 ┆ 9-1 ┆     ┆ 60  ┆ 608 ┆ 50  ┆ 509 ┆     ┆     ┆     ┆     ┆ FOR ┆     ┆     ┆     ┆     ┆     ┆     ┆     ┆     ┆     ┆     ┆     ┆     ┆     ┆ 0   ┆     ┆     ┆ L   ┆ 691 ┆ 0   ┆ FOR ┆ 212 ┆ 2-1 ┆     ┆     ┆     ┆ 91  ┆     ┆     ┆     ┆ 2-1 ┆ 77  ┆     ┆ 085 ┆ 085 ┆     ┆     ┆     ┆     ┆     ┆     ┆     ┆ .0  ┆     ┆     ┆     ┆     ┆     ┆     ┆     ┆     ┆ 687 ┆ 1-1 ┆ 2-1 ┆     ┆     ┆     ┆     ┆     ┆     ┆     ┆     ┆     ┆     ┆     ┆     ┆     ┆     ┆     ┆     ┆     ┆     ┆     ┆     ┆     ┆ 33  ┆ 9   ┆ 21  ┆ 254 ┆ 99  │\n",
       "│     ┆ 7   ┆ 4   ┆ 6   ┆ 8   ┆     ┆     ┆     ┆     ┆     ┆     ┆     ┆     ┆     ┆ LIF ┆     ┆     ┆     ┆     ┆     ┆     ┆     ┆     ┆     ┆     ┆     ┆     ┆     ┆     ┆     ┆     ┆     ┆ e7  ┆     ┆ LIF ┆ e7  ┆ 2   ┆     ┆     ┆     ┆     ┆     ┆     ┆     ┆ 1   ┆     ┆     ┆     ┆     ┆     ┆     ┆     ┆     ┆     ┆     ┆     ┆     ┆     ┆     ┆     ┆     ┆     ┆     ┆     ┆     ┆ 9   ┆ 7   ┆ 4   ┆     ┆     ┆     ┆     ┆     ┆     ┆     ┆     ┆     ┆     ┆     ┆     ┆     ┆     ┆     ┆     ┆     ┆     ┆     ┆     ┆     ┆     ┆     ┆     ┆     ┆     │\n",
       "│     ┆ 00: ┆ 00: ┆ 00: ┆ 00: ┆     ┆     ┆     ┆     ┆     ┆     ┆     ┆     ┆     ┆ E   ┆     ┆     ┆     ┆     ┆     ┆     ┆     ┆     ┆     ┆     ┆     ┆     ┆     ┆     ┆     ┆     ┆     ┆     ┆     ┆ E   ┆     ┆ 00: ┆     ┆     ┆     ┆     ┆     ┆     ┆     ┆ 00: ┆     ┆     ┆     ┆     ┆     ┆     ┆     ┆     ┆     ┆     ┆     ┆     ┆     ┆     ┆     ┆     ┆     ┆     ┆     ┆     ┆     ┆ 00: ┆ 00: ┆     ┆     ┆     ┆     ┆     ┆     ┆     ┆     ┆     ┆     ┆     ┆     ┆     ┆     ┆     ┆     ┆     ┆     ┆     ┆     ┆     ┆     ┆     ┆     ┆     ┆     │\n",
       "│     ┆ 00: ┆ 00: ┆ 00: ┆ 00: ┆     ┆     ┆     ┆     ┆     ┆     ┆     ┆     ┆     ┆ INC ┆     ┆     ┆     ┆     ┆     ┆     ┆     ┆     ┆     ┆     ┆     ┆     ┆     ┆     ┆     ┆     ┆     ┆     ┆     ┆ INC ┆     ┆ 00: ┆     ┆     ┆     ┆     ┆     ┆     ┆     ┆ 00: ┆     ┆     ┆     ┆     ┆     ┆     ┆     ┆     ┆     ┆     ┆     ┆     ┆     ┆     ┆     ┆     ┆     ┆     ┆     ┆     ┆     ┆ 00: ┆ 00: ┆     ┆     ┆     ┆     ┆     ┆     ┆     ┆     ┆     ┆     ┆     ┆     ┆     ┆     ┆     ┆     ┆     ┆     ┆     ┆     ┆     ┆     ┆     ┆     ┆     ┆     │\n",
       "│     ┆ 00  ┆ 00  ┆ 00  ┆ 00  ┆     ┆     ┆     ┆     ┆     ┆     ┆     ┆     ┆     ┆ ;   ┆     ┆     ┆     ┆     ┆     ┆     ┆     ┆     ┆     ┆     ┆     ┆     ┆     ┆     ┆     ┆     ┆     ┆     ┆     ┆     ┆     ┆ 00  ┆     ┆     ┆     ┆     ┆     ┆     ┆     ┆ 00  ┆     ┆     ┆     ┆     ┆     ┆     ┆     ┆     ┆     ┆     ┆     ┆     ┆     ┆     ┆     ┆     ┆     ┆     ┆     ┆     ┆     ┆ 00  ┆ 00  ┆     ┆     ┆     ┆     ┆     ┆     ┆     ┆     ┆     ┆     ┆     ┆     ┆     ┆     ┆     ┆     ┆     ┆     ┆     ┆     ┆     ┆     ┆     ┆     ┆     ┆     │\n",
       "│     ┆     ┆     ┆     ┆     ┆     ┆     ┆     ┆     ┆     ┆     ┆     ┆     ┆     ┆ COM ┆     ┆     ┆     ┆     ┆     ┆     ┆     ┆     ┆     ┆     ┆     ┆     ┆     ┆     ┆     ┆     ┆     ┆     ┆     ┆     ┆     ┆     ┆     ┆     ┆     ┆     ┆     ┆     ┆     ┆     ┆     ┆     ┆     ┆     ┆     ┆     ┆     ┆     ┆     ┆     ┆     ┆     ┆     ┆     ┆     ┆     ┆     ┆     ┆     ┆     ┆     ┆     ┆     ┆     ┆     ┆     ┆     ┆     ┆     ┆     ┆     ┆     ┆     ┆     ┆     ┆     ┆     ┆     ┆     ┆     ┆     ┆     ┆     ┆     ┆     ┆     ┆     ┆     ┆     │\n",
       "│     ┆     ┆     ┆     ┆     ┆     ┆     ┆     ┆     ┆     ┆     ┆     ┆     ┆     ┆ NON ┆     ┆     ┆     ┆     ┆     ┆     ┆     ┆     ┆     ┆     ┆     ┆     ┆     ┆     ┆     ┆     ┆     ┆     ┆     ┆     ┆     ┆     ┆     ┆     ┆     ┆     ┆     ┆     ┆     ┆     ┆     ┆     ┆     ┆     ┆     ┆     ┆     ┆     ┆     ┆     ┆     ┆     ┆     ┆     ┆     ┆     ┆     ┆     ┆     ┆     ┆     ┆     ┆     ┆     ┆     ┆     ┆     ┆     ┆     ┆     ┆     ┆     ┆     ┆     ┆     ┆     ┆     ┆     ┆     ┆     ┆     ┆     ┆     ┆     ┆     ┆     ┆     ┆     ┆     │\n",
       "│     ┆     ┆     ┆     ┆     ┆     ┆     ┆     ┆     ┆     ┆     ┆     ┆     ┆     ┆ E;  ┆     ┆     ┆     ┆     ┆     ┆     ┆     ┆     ┆     ┆     ┆     ┆     ┆     ┆     ┆     ┆     ┆     ┆     ┆     ┆     ┆     ┆     ┆     ┆     ┆     ┆     ┆     ┆     ┆     ┆     ┆     ┆     ┆     ┆     ┆     ┆     ┆     ┆     ┆     ┆     ┆     ┆     ┆     ┆     ┆     ┆     ┆     ┆     ┆     ┆     ┆     ┆     ┆     ┆     ┆     ┆     ┆     ┆     ┆     ┆     ┆     ┆     ┆     ┆     ┆     ┆     ┆     ┆     ┆     ┆     ┆     ┆     ┆     ┆     ┆     ┆     ┆     ┆     ┆     │\n",
       "│     ┆     ┆     ┆     ┆     ┆     ┆     ┆     ┆     ┆     ┆     ┆     ┆     ┆     ┆ …   ┆     ┆     ┆     ┆     ┆     ┆     ┆     ┆     ┆     ┆     ┆     ┆     ┆     ┆     ┆     ┆     ┆     ┆     ┆     ┆     ┆     ┆     ┆     ┆     ┆     ┆     ┆     ┆     ┆     ┆     ┆     ┆     ┆     ┆     ┆     ┆     ┆     ┆     ┆     ┆     ┆     ┆     ┆     ┆     ┆     ┆     ┆     ┆     ┆     ┆     ┆     ┆     ┆     ┆     ┆     ┆     ┆     ┆     ┆     ┆     ┆     ┆     ┆     ┆     ┆     ┆     ┆     ┆     ┆     ┆     ┆     ┆     ┆     ┆     ┆     ┆     ┆     ┆     ┆     │\n",
       "│ 227 ┆ 202 ┆ 202 ┆ 202 ┆ 202 ┆ N   ┆ 832 ┆ 832 ┆ 832 ┆ 832 ┆ Q   ┆ RW  ┆ S   ┆ A   ┆ SMA ┆     ┆ Y   ┆ COR ┆ EQT ┆ COM ┆ NS  ┆ Y   ┆ GDR ┆ VCL ┆ FIN ┆ PRC ┆ SMF ┆ SMF ┆ 591 ┆ 999 ┆ 325 ┆ NOA ┆ 6.0 ┆ 866 ┆ SMA ┆ 2.0 ┆ 202 ┆ N   ┆ 0.7 ┆ TR  ┆ 630 ┆ BP  ┆ 0.7 ┆ TR  ┆ 202 ┆ 605 ┆ PB  ┆ 0.0 ┆ 0.0 ┆ 0.0 ┆ NA  ┆ D1  ┆ 0.0 ┆ 0.0 ┆ 1.0 ┆ NO  ┆ 279 ┆ 0.7 ┆ 0.7 ┆ 0.8 ┆ 0.7 ┆ 0.8 ┆ 0.7 ┆ 109 ┆ 20. ┆ 221 ┆ 202 ┆ 202 ┆ 797 ┆ OBS ┆ NA  ┆ N   ┆ nul ┆ nul ┆     ┆     ┆     ┆     ┆     ┆     ┆     ┆ nul ┆ nul ┆ nul ┆ nul ┆ nul ┆ nul ┆ nul ┆ nul ┆ 0.0 ┆ 0.0 ┆ 0.0 ┆ 0.0 ┆ 0.0 │\n",
       "│ 98. ┆ 3-1 ┆ 3-1 ┆ 2-0 ┆ 4-0 ┆     ┆ 04U ┆ 04U ┆ 04U ┆ 04U ┆     ┆     ┆     ┆     ┆ RT  ┆     ┆     ┆ P   ┆ Y   ┆     ┆     ┆     ┆     ┆     ┆ G   ┆ F   ┆ L   ┆ L   ┆ 95. ┆ 9.0 ┆ 412 ┆ VAI ┆ 079 ┆ 51. ┆ RT  ┆ 231 ┆ 3-1 ┆     ┆ 91  ┆     ┆ .42 ┆     ┆ 603 ┆     ┆ 3-1 ┆ .95 ┆     ┆ 403 ┆ 403 ┆     ┆     ┆     ┆     ┆     ┆     ┆     ┆ 671 ┆ 91  ┆ 45  ┆ 64  ┆ 9   ┆     ┆ 6   ┆ 8.0 ┆ 0   ┆ 219 ┆ 3-1 ┆ 3-1 ┆ .0  ┆     ┆     ┆     ┆ l   ┆ l   ┆     ┆     ┆     ┆     ┆     ┆     ┆     ┆ l   ┆ l   ┆ l   ┆ l   ┆ l   ┆ l   ┆ l   ┆ l   ┆ 162 ┆ 161 ┆ 223 ┆ 222 ┆ 136 │\n",
       "│ 0   ┆ 0-2 ┆ 2-1 ┆ 2-1 ┆ 9-1 ┆     ┆ 60  ┆ 608 ┆ 50  ┆ 509 ┆     ┆     ┆     ┆     ┆ FOR ┆     ┆     ┆     ┆     ┆     ┆     ┆     ┆     ┆     ┆     ┆     ┆     ┆     ┆ 0   ┆     ┆     ┆ L   ┆ 691 ┆ 0   ┆ FOR ┆ 213 ┆ 2-1 ┆     ┆     ┆     ┆ 7   ┆     ┆     ┆     ┆ 2-1 ┆ 91  ┆     ┆ 79  ┆ 79  ┆     ┆     ┆     ┆     ┆     ┆     ┆     ┆ .0  ┆     ┆     ┆     ┆     ┆     ┆     ┆     ┆     ┆ .76 ┆ 1-1 ┆ 2-1 ┆     ┆     ┆     ┆     ┆     ┆     ┆     ┆     ┆     ┆     ┆     ┆     ┆     ┆     ┆     ┆     ┆     ┆     ┆     ┆     ┆     ┆     ┆ 82  ┆ 96  ┆ 98  ┆ 51  │\n",
       "│     ┆ 7   ┆ 4   ┆ 6   ┆ 8   ┆     ┆     ┆     ┆     ┆     ┆     ┆     ┆     ┆     ┆ LIF ┆     ┆     ┆     ┆     ┆     ┆     ┆     ┆     ┆     ┆     ┆     ┆     ┆     ┆     ┆     ┆     ┆     ┆ e7  ┆     ┆ LIF ┆ e7  ┆ 3   ┆     ┆     ┆     ┆     ┆     ┆     ┆     ┆ 2   ┆     ┆     ┆     ┆     ┆     ┆     ┆     ┆     ┆     ┆     ┆     ┆     ┆     ┆     ┆     ┆     ┆     ┆     ┆     ┆     ┆ 1   ┆ 7   ┆ 4   ┆     ┆     ┆     ┆     ┆     ┆     ┆     ┆     ┆     ┆     ┆     ┆     ┆     ┆     ┆     ┆     ┆     ┆     ┆     ┆     ┆     ┆     ┆     ┆     ┆     ┆     │\n",
       "│     ┆ 00: ┆ 00: ┆ 00: ┆ 00: ┆     ┆     ┆     ┆     ┆     ┆     ┆     ┆     ┆     ┆ E   ┆     ┆     ┆     ┆     ┆     ┆     ┆     ┆     ┆     ┆     ┆     ┆     ┆     ┆     ┆     ┆     ┆     ┆     ┆     ┆ E   ┆     ┆ 00: ┆     ┆     ┆     ┆     ┆     ┆     ┆     ┆ 00: ┆     ┆     ┆     ┆     ┆     ┆     ┆     ┆     ┆     ┆     ┆     ┆     ┆     ┆     ┆     ┆     ┆     ┆     ┆     ┆     ┆     ┆ 00: ┆ 00: ┆     ┆     ┆     ┆     ┆     ┆     ┆     ┆     ┆     ┆     ┆     ┆     ┆     ┆     ┆     ┆     ┆     ┆     ┆     ┆     ┆     ┆     ┆     ┆     ┆     ┆     │\n",
       "│     ┆ 00: ┆ 00: ┆ 00: ┆ 00: ┆     ┆     ┆     ┆     ┆     ┆     ┆     ┆     ┆     ┆ INC ┆     ┆     ┆     ┆     ┆     ┆     ┆     ┆     ┆     ┆     ┆     ┆     ┆     ┆     ┆     ┆     ┆     ┆     ┆     ┆ INC ┆     ┆ 00: ┆     ┆     ┆     ┆     ┆     ┆     ┆     ┆ 00: ┆     ┆     ┆     ┆     ┆     ┆     ┆     ┆     ┆     ┆     ┆     ┆     ┆     ┆     ┆     ┆     ┆     ┆     ┆     ┆     ┆     ┆ 00: ┆ 00: ┆     ┆     ┆     ┆     ┆     ┆     ┆     ┆     ┆     ┆     ┆     ┆     ┆     ┆     ┆     ┆     ┆     ┆     ┆     ┆     ┆     ┆     ┆     ┆     ┆     ┆     │\n",
       "│     ┆ 00  ┆ 00  ┆ 00  ┆ 00  ┆     ┆     ┆     ┆     ┆     ┆     ┆     ┆     ┆     ┆ ;   ┆     ┆     ┆     ┆     ┆     ┆     ┆     ┆     ┆     ┆     ┆     ┆     ┆     ┆     ┆     ┆     ┆     ┆     ┆     ┆     ┆     ┆ 00  ┆     ┆     ┆     ┆     ┆     ┆     ┆     ┆ 00  ┆     ┆     ┆     ┆     ┆     ┆     ┆     ┆     ┆     ┆     ┆     ┆     ┆     ┆     ┆     ┆     ┆     ┆     ┆     ┆     ┆     ┆ 00  ┆ 00  ┆     ┆     ┆     ┆     ┆     ┆     ┆     ┆     ┆     ┆     ┆     ┆     ┆     ┆     ┆     ┆     ┆     ┆     ┆     ┆     ┆     ┆     ┆     ┆     ┆     ┆     │\n",
       "│     ┆     ┆     ┆     ┆     ┆     ┆     ┆     ┆     ┆     ┆     ┆     ┆     ┆     ┆ COM ┆     ┆     ┆     ┆     ┆     ┆     ┆     ┆     ┆     ┆     ┆     ┆     ┆     ┆     ┆     ┆     ┆     ┆     ┆     ┆     ┆     ┆     ┆     ┆     ┆     ┆     ┆     ┆     ┆     ┆     ┆     ┆     ┆     ┆     ┆     ┆     ┆     ┆     ┆     ┆     ┆     ┆     ┆     ┆     ┆     ┆     ┆     ┆     ┆     ┆     ┆     ┆     ┆     ┆     ┆     ┆     ┆     ┆     ┆     ┆     ┆     ┆     ┆     ┆     ┆     ┆     ┆     ┆     ┆     ┆     ┆     ┆     ┆     ┆     ┆     ┆     ┆     ┆     ┆     │\n",
       "│     ┆     ┆     ┆     ┆     ┆     ┆     ┆     ┆     ┆     ┆     ┆     ┆     ┆     ┆ NON ┆     ┆     ┆     ┆     ┆     ┆     ┆     ┆     ┆     ┆     ┆     ┆     ┆     ┆     ┆     ┆     ┆     ┆     ┆     ┆     ┆     ┆     ┆     ┆     ┆     ┆     ┆     ┆     ┆     ┆     ┆     ┆     ┆     ┆     ┆     ┆     ┆     ┆     ┆     ┆     ┆     ┆     ┆     ┆     ┆     ┆     ┆     ┆     ┆     ┆     ┆     ┆     ┆     ┆     ┆     ┆     ┆     ┆     ┆     ┆     ┆     ┆     ┆     ┆     ┆     ┆     ┆     ┆     ┆     ┆     ┆     ┆     ┆     ┆     ┆     ┆     ┆     ┆     ┆     │\n",
       "│     ┆     ┆     ┆     ┆     ┆     ┆     ┆     ┆     ┆     ┆     ┆     ┆     ┆     ┆ E;  ┆     ┆     ┆     ┆     ┆     ┆     ┆     ┆     ┆     ┆     ┆     ┆     ┆     ┆     ┆     ┆     ┆     ┆     ┆     ┆     ┆     ┆     ┆     ┆     ┆     ┆     ┆     ┆     ┆     ┆     ┆     ┆     ┆     ┆     ┆     ┆     ┆     ┆     ┆     ┆     ┆     ┆     ┆     ┆     ┆     ┆     ┆     ┆     ┆     ┆     ┆     ┆     ┆     ┆     ┆     ┆     ┆     ┆     ┆     ┆     ┆     ┆     ┆     ┆     ┆     ┆     ┆     ┆     ┆     ┆     ┆     ┆     ┆     ┆     ┆     ┆     ┆     ┆     ┆     │\n",
       "│     ┆     ┆     ┆     ┆     ┆     ┆     ┆     ┆     ┆     ┆     ┆     ┆     ┆     ┆ …   ┆     ┆     ┆     ┆     ┆     ┆     ┆     ┆     ┆     ┆     ┆     ┆     ┆     ┆     ┆     ┆     ┆     ┆     ┆     ┆     ┆     ┆     ┆     ┆     ┆     ┆     ┆     ┆     ┆     ┆     ┆     ┆     ┆     ┆     ┆     ┆     ┆     ┆     ┆     ┆     ┆     ┆     ┆     ┆     ┆     ┆     ┆     ┆     ┆     ┆     ┆     ┆     ┆     ┆     ┆     ┆     ┆     ┆     ┆     ┆     ┆     ┆     ┆     ┆     ┆     ┆     ┆     ┆     ┆     ┆     ┆     ┆     ┆     ┆     ┆     ┆     ┆     ┆     ┆     │\n",
       "│ 227 ┆ 202 ┆ 202 ┆ 202 ┆ 202 ┆ N   ┆ 832 ┆ 832 ┆ 832 ┆ 832 ┆ Q   ┆ RW  ┆ S   ┆ A   ┆ SMA ┆     ┆ Y   ┆ COR ┆ EQT ┆ COM ┆ NS  ┆ Y   ┆ GDR ┆ VCL ┆ FIN ┆ PRC ┆ SMF ┆ SMF ┆ 591 ┆ 999 ┆ 325 ┆ NOA ┆ 6.0 ┆ 866 ┆ SMA ┆ 2.0 ┆ 202 ┆ N   ┆ 0.7 ┆ TR  ┆ 597 ┆ BP  ┆ 0.7 ┆ TR  ┆ 202 ┆ 630 ┆ PB  ┆ -0. ┆ -0. ┆ 0.0 ┆ NA  ┆ D1  ┆ 0.0 ┆ 0.0 ┆ 1.0 ┆ NO  ┆ 306 ┆ 0.7 ┆ 0.6 ┆ 0.8 ┆ 0.7 ┆ 0.7 ┆ 0.8 ┆ 116 ┆ 21. ┆ 229 ┆ 202 ┆ 202 ┆ 797 ┆ OBS ┆ NA  ┆ N   ┆ nul ┆ nul ┆     ┆     ┆     ┆     ┆     ┆     ┆     ┆ nul ┆ nul ┆ nul ┆ nul ┆ nul ┆ nul ┆ nul ┆ nul ┆ 0.0 ┆ 0.0 ┆ 0.0 ┆ 0.0 ┆ 0.0 │\n",
       "│ 98. ┆ 3-1 ┆ 3-1 ┆ 2-0 ┆ 4-0 ┆     ┆ 04U ┆ 04U ┆ 04U ┆ 04U ┆     ┆     ┆     ┆     ┆ RT  ┆     ┆     ┆ P   ┆ Y   ┆     ┆     ┆     ┆     ┆     ┆ G   ┆ F   ┆ L   ┆ L   ┆ 95. ┆ 9.0 ┆ 412 ┆ VAI ┆ 079 ┆ 51. ┆ RT  ┆ 231 ┆ 3-1 ┆     ┆ 5   ┆     ┆ .75 ┆     ┆ 91  ┆     ┆ 3-1 ┆ .42 ┆     ┆ 051 ┆ 051 ┆     ┆     ┆     ┆     ┆     ┆     ┆     ┆ 442 ┆ 5   ┆ 833 ┆     ┆ 381 ┆ 5   ┆     ┆ 5.0 ┆ 0   ┆ 831 ┆ 3-1 ┆ 3-1 ┆ .0  ┆     ┆     ┆     ┆ l   ┆ l   ┆     ┆     ┆     ┆     ┆     ┆     ┆     ┆ l   ┆ l   ┆ l   ┆ l   ┆ l   ┆ l   ┆ l   ┆ l   ┆ 069 ┆ 066 ┆ 181 ┆ 177 ┆ 026 │\n",
       "│ 0   ┆ 0-2 ┆ 2-1 ┆ 2-1 ┆ 9-1 ┆     ┆ 60  ┆ 608 ┆ 50  ┆ 509 ┆     ┆     ┆     ┆     ┆ FOR ┆     ┆     ┆     ┆     ┆     ┆     ┆     ┆     ┆     ┆     ┆     ┆     ┆     ┆ 0   ┆     ┆     ┆ L   ┆ 691 ┆ 0   ┆ FOR ┆ 214 ┆ 2-1 ┆     ┆     ┆     ┆     ┆     ┆     ┆     ┆ 2-1 ┆ 7   ┆     ┆ 833 ┆ 833 ┆     ┆     ┆     ┆     ┆     ┆     ┆     ┆ .0  ┆     ┆ 5   ┆     ┆     ┆     ┆     ┆     ┆     ┆ .5  ┆ 1-1 ┆ 2-1 ┆     ┆     ┆     ┆     ┆     ┆     ┆     ┆     ┆     ┆     ┆     ┆     ┆     ┆     ┆     ┆     ┆     ┆     ┆     ┆     ┆     ┆ 31  ┆ 38  ┆ 6   ┆ 28  ┆ 47  │\n",
       "│     ┆ 7   ┆ 4   ┆ 6   ┆ 8   ┆     ┆     ┆     ┆     ┆     ┆     ┆     ┆     ┆     ┆ LIF ┆     ┆     ┆     ┆     ┆     ┆     ┆     ┆     ┆     ┆     ┆     ┆     ┆     ┆     ┆     ┆     ┆     ┆ e7  ┆     ┆ LIF ┆ e7  ┆ 4   ┆     ┆     ┆     ┆     ┆     ┆     ┆     ┆ 3   ┆     ┆     ┆     ┆     ┆     ┆     ┆     ┆     ┆     ┆     ┆     ┆     ┆     ┆     ┆     ┆     ┆     ┆     ┆     ┆     ┆     ┆ 7   ┆ 4   ┆     ┆     ┆     ┆     ┆     ┆     ┆     ┆     ┆     ┆     ┆     ┆     ┆     ┆     ┆     ┆     ┆     ┆     ┆     ┆     ┆     ┆     ┆     ┆     ┆     ┆     │\n",
       "│     ┆ 00: ┆ 00: ┆ 00: ┆ 00: ┆     ┆     ┆     ┆     ┆     ┆     ┆     ┆     ┆     ┆ E   ┆     ┆     ┆     ┆     ┆     ┆     ┆     ┆     ┆     ┆     ┆     ┆     ┆     ┆     ┆     ┆     ┆     ┆     ┆     ┆ E   ┆     ┆ 00: ┆     ┆     ┆     ┆     ┆     ┆     ┆     ┆ 00: ┆     ┆     ┆     ┆     ┆     ┆     ┆     ┆     ┆     ┆     ┆     ┆     ┆     ┆     ┆     ┆     ┆     ┆     ┆     ┆     ┆     ┆ 00: ┆ 00: ┆     ┆     ┆     ┆     ┆     ┆     ┆     ┆     ┆     ┆     ┆     ┆     ┆     ┆     ┆     ┆     ┆     ┆     ┆     ┆     ┆     ┆     ┆     ┆     ┆     ┆     │\n",
       "│     ┆ 00: ┆ 00: ┆ 00: ┆ 00: ┆     ┆     ┆     ┆     ┆     ┆     ┆     ┆     ┆     ┆ INC ┆     ┆     ┆     ┆     ┆     ┆     ┆     ┆     ┆     ┆     ┆     ┆     ┆     ┆     ┆     ┆     ┆     ┆     ┆     ┆ INC ┆     ┆ 00: ┆     ┆     ┆     ┆     ┆     ┆     ┆     ┆ 00: ┆     ┆     ┆     ┆     ┆     ┆     ┆     ┆     ┆     ┆     ┆     ┆     ┆     ┆     ┆     ┆     ┆     ┆     ┆     ┆     ┆     ┆ 00: ┆ 00: ┆     ┆     ┆     ┆     ┆     ┆     ┆     ┆     ┆     ┆     ┆     ┆     ┆     ┆     ┆     ┆     ┆     ┆     ┆     ┆     ┆     ┆     ┆     ┆     ┆     ┆     │\n",
       "│     ┆ 00  ┆ 00  ┆ 00  ┆ 00  ┆     ┆     ┆     ┆     ┆     ┆     ┆     ┆     ┆     ┆ ;   ┆     ┆     ┆     ┆     ┆     ┆     ┆     ┆     ┆     ┆     ┆     ┆     ┆     ┆     ┆     ┆     ┆     ┆     ┆     ┆     ┆     ┆ 00  ┆     ┆     ┆     ┆     ┆     ┆     ┆     ┆ 00  ┆     ┆     ┆     ┆     ┆     ┆     ┆     ┆     ┆     ┆     ┆     ┆     ┆     ┆     ┆     ┆     ┆     ┆     ┆     ┆     ┆     ┆ 00  ┆ 00  ┆     ┆     ┆     ┆     ┆     ┆     ┆     ┆     ┆     ┆     ┆     ┆     ┆     ┆     ┆     ┆     ┆     ┆     ┆     ┆     ┆     ┆     ┆     ┆     ┆     ┆     │\n",
       "│     ┆     ┆     ┆     ┆     ┆     ┆     ┆     ┆     ┆     ┆     ┆     ┆     ┆     ┆ COM ┆     ┆     ┆     ┆     ┆     ┆     ┆     ┆     ┆     ┆     ┆     ┆     ┆     ┆     ┆     ┆     ┆     ┆     ┆     ┆     ┆     ┆     ┆     ┆     ┆     ┆     ┆     ┆     ┆     ┆     ┆     ┆     ┆     ┆     ┆     ┆     ┆     ┆     ┆     ┆     ┆     ┆     ┆     ┆     ┆     ┆     ┆     ┆     ┆     ┆     ┆     ┆     ┆     ┆     ┆     ┆     ┆     ┆     ┆     ┆     ┆     ┆     ┆     ┆     ┆     ┆     ┆     ┆     ┆     ┆     ┆     ┆     ┆     ┆     ┆     ┆     ┆     ┆     ┆     │\n",
       "│     ┆     ┆     ┆     ┆     ┆     ┆     ┆     ┆     ┆     ┆     ┆     ┆     ┆     ┆ NON ┆     ┆     ┆     ┆     ┆     ┆     ┆     ┆     ┆     ┆     ┆     ┆     ┆     ┆     ┆     ┆     ┆     ┆     ┆     ┆     ┆     ┆     ┆     ┆     ┆     ┆     ┆     ┆     ┆     ┆     ┆     ┆     ┆     ┆     ┆     ┆     ┆     ┆     ┆     ┆     ┆     ┆     ┆     ┆     ┆     ┆     ┆     ┆     ┆     ┆     ┆     ┆     ┆     ┆     ┆     ┆     ┆     ┆     ┆     ┆     ┆     ┆     ┆     ┆     ┆     ┆     ┆     ┆     ┆     ┆     ┆     ┆     ┆     ┆     ┆     ┆     ┆     ┆     ┆     │\n",
       "│     ┆     ┆     ┆     ┆     ┆     ┆     ┆     ┆     ┆     ┆     ┆     ┆     ┆     ┆ E;  ┆     ┆     ┆     ┆     ┆     ┆     ┆     ┆     ┆     ┆     ┆     ┆     ┆     ┆     ┆     ┆     ┆     ┆     ┆     ┆     ┆     ┆     ┆     ┆     ┆     ┆     ┆     ┆     ┆     ┆     ┆     ┆     ┆     ┆     ┆     ┆     ┆     ┆     ┆     ┆     ┆     ┆     ┆     ┆     ┆     ┆     ┆     ┆     ┆     ┆     ┆     ┆     ┆     ┆     ┆     ┆     ┆     ┆     ┆     ┆     ┆     ┆     ┆     ┆     ┆     ┆     ┆     ┆     ┆     ┆     ┆     ┆     ┆     ┆     ┆     ┆     ┆     ┆     ┆     │\n",
       "│     ┆     ┆     ┆     ┆     ┆     ┆     ┆     ┆     ┆     ┆     ┆     ┆     ┆     ┆ …   ┆     ┆     ┆     ┆     ┆     ┆     ┆     ┆     ┆     ┆     ┆     ┆     ┆     ┆     ┆     ┆     ┆     ┆     ┆     ┆     ┆     ┆     ┆     ┆     ┆     ┆     ┆     ┆     ┆     ┆     ┆     ┆     ┆     ┆     ┆     ┆     ┆     ┆     ┆     ┆     ┆     ┆     ┆     ┆     ┆     ┆     ┆     ┆     ┆     ┆     ┆     ┆     ┆     ┆     ┆     ┆     ┆     ┆     ┆     ┆     ┆     ┆     ┆     ┆     ┆     ┆     ┆     ┆     ┆     ┆     ┆     ┆     ┆     ┆     ┆     ┆     ┆     ┆     ┆     │\n",
       "│ 227 ┆ 202 ┆ 202 ┆ 202 ┆ 202 ┆ N   ┆ 832 ┆ 832 ┆ 832 ┆ 832 ┆ X   ┆ NT  ┆ N/A ┆ X   ┆ SMA ┆     ┆ Y   ┆ COR ┆ EQT ┆ COM ┆ NS  ┆ N   ┆ GDR ┆ VCL ┆ FIN ┆ PRC ┆     ┆     ┆ 591 ┆ 999 ┆ 325 ┆ NOA ┆ 6.0 ┆ 866 ┆ SMA ┆ 2.0 ┆ 202 ┆ N   ┆ nul ┆ NT  ┆ nul ┆ NT  ┆ nul ┆ NA  ┆ nul ┆ nul ┆ NA  ┆ nul ┆ nul ┆ nul ┆ NT  ┆ MR  ┆ 0.0 ┆ 0.0 ┆ 1.0 ┆ NO  ┆ nul ┆ nul ┆ nul ┆ nul ┆ nul ┆ nul ┆ nul ┆ nul ┆ nul ┆ nul ┆ 202 ┆ 202 ┆ 797 ┆ NC  ┆ NA  ┆ N   ┆ nul ┆ nul ┆     ┆     ┆     ┆     ┆     ┆     ┆     ┆ nul ┆ nul ┆ nul ┆ nul ┆ nul ┆ nul ┆ nul ┆ nul ┆ -0. ┆ -0. ┆ -0. ┆ -0. ┆ -0. │\n",
       "│ 98. ┆ 3-1 ┆ 3-1 ┆ 2-0 ┆ 4-0 ┆     ┆ 04U ┆ 04U ┆ 04U ┆ 04U ┆     ┆     ┆     ┆     ┆ RT  ┆     ┆     ┆ P   ┆ Y   ┆     ┆     ┆     ┆     ┆     ┆ G   ┆ F   ┆     ┆     ┆ 95. ┆ 9.0 ┆ 412 ┆ VAI ┆ 079 ┆ 51. ┆ RT  ┆ 231 ┆ 3-1 ┆     ┆ l   ┆     ┆ l   ┆     ┆ l   ┆     ┆ l   ┆ l   ┆     ┆ l   ┆ l   ┆ l   ┆     ┆     ┆     ┆     ┆     ┆     ┆ l   ┆ l   ┆ l   ┆ l   ┆ l   ┆ l   ┆ l   ┆ l   ┆ l   ┆ l   ┆ 3-1 ┆ 3-1 ┆ .0  ┆     ┆     ┆     ┆ l   ┆ l   ┆     ┆     ┆     ┆     ┆     ┆     ┆     ┆ l   ┆ l   ┆ l   ┆ l   ┆ l   ┆ l   ┆ l   ┆ l   ┆ 001 ┆ 001 ┆ 005 ┆ 005 ┆ 000 │\n",
       "│ 0   ┆ 2-1 ┆ 2-1 ┆ 2-1 ┆ 9-1 ┆     ┆ 60  ┆ 608 ┆ 50  ┆ 509 ┆     ┆     ┆     ┆     ┆ FOR ┆     ┆     ┆     ┆     ┆     ┆     ┆     ┆     ┆     ┆     ┆     ┆     ┆     ┆ 0   ┆     ┆     ┆ L   ┆ 691 ┆ 0   ┆ FOR ┆ 215 ┆ 2-1 ┆     ┆     ┆     ┆     ┆     ┆     ┆     ┆     ┆     ┆     ┆     ┆     ┆     ┆     ┆     ┆     ┆     ┆     ┆     ┆     ┆     ┆     ┆     ┆     ┆     ┆     ┆     ┆     ┆     ┆ 2-1 ┆ 2-1 ┆     ┆     ┆     ┆     ┆     ┆     ┆     ┆     ┆     ┆     ┆     ┆     ┆     ┆     ┆     ┆     ┆     ┆     ┆     ┆     ┆     ┆ 579 ┆ 674 ┆ 318 ┆ 558 ┆ 076 │\n",
       "│     ┆ 5   ┆ 7   ┆ 6   ┆ 8   ┆     ┆     ┆     ┆     ┆     ┆     ┆     ┆     ┆     ┆ LIF ┆     ┆     ┆     ┆     ┆     ┆     ┆     ┆     ┆     ┆     ┆     ┆     ┆     ┆     ┆     ┆     ┆     ┆ e7  ┆     ┆ LIF ┆ e7  ┆ 5   ┆     ┆     ┆     ┆     ┆     ┆     ┆     ┆     ┆     ┆     ┆     ┆     ┆     ┆     ┆     ┆     ┆     ┆     ┆     ┆     ┆     ┆     ┆     ┆     ┆     ┆     ┆     ┆     ┆     ┆ 5   ┆ 7   ┆     ┆     ┆     ┆     ┆     ┆     ┆     ┆     ┆     ┆     ┆     ┆     ┆     ┆     ┆     ┆     ┆     ┆     ┆     ┆     ┆     ┆     ┆     ┆     ┆     ┆     │\n",
       "│     ┆ 00: ┆ 00: ┆ 00: ┆ 00: ┆     ┆     ┆     ┆     ┆     ┆     ┆     ┆     ┆     ┆ E   ┆     ┆     ┆     ┆     ┆     ┆     ┆     ┆     ┆     ┆     ┆     ┆     ┆     ┆     ┆     ┆     ┆     ┆     ┆     ┆ E   ┆     ┆ 00: ┆     ┆     ┆     ┆     ┆     ┆     ┆     ┆     ┆     ┆     ┆     ┆     ┆     ┆     ┆     ┆     ┆     ┆     ┆     ┆     ┆     ┆     ┆     ┆     ┆     ┆     ┆     ┆     ┆     ┆ 00: ┆ 00: ┆     ┆     ┆     ┆     ┆     ┆     ┆     ┆     ┆     ┆     ┆     ┆     ┆     ┆     ┆     ┆     ┆     ┆     ┆     ┆     ┆     ┆     ┆     ┆     ┆     ┆     │\n",
       "│     ┆ 00: ┆ 00: ┆ 00: ┆ 00: ┆     ┆     ┆     ┆     ┆     ┆     ┆     ┆     ┆     ┆ INC ┆     ┆     ┆     ┆     ┆     ┆     ┆     ┆     ┆     ┆     ┆     ┆     ┆     ┆     ┆     ┆     ┆     ┆     ┆     ┆ INC ┆     ┆ 00: ┆     ┆     ┆     ┆     ┆     ┆     ┆     ┆     ┆     ┆     ┆     ┆     ┆     ┆     ┆     ┆     ┆     ┆     ┆     ┆     ┆     ┆     ┆     ┆     ┆     ┆     ┆     ┆     ┆     ┆ 00: ┆ 00: ┆     ┆     ┆     ┆     ┆     ┆     ┆     ┆     ┆     ┆     ┆     ┆     ┆     ┆     ┆     ┆     ┆     ┆     ┆     ┆     ┆     ┆     ┆     ┆     ┆     ┆     │\n",
       "│     ┆ 00  ┆ 00  ┆ 00  ┆ 00  ┆     ┆     ┆     ┆     ┆     ┆     ┆     ┆     ┆     ┆ ;   ┆     ┆     ┆     ┆     ┆     ┆     ┆     ┆     ┆     ┆     ┆     ┆     ┆     ┆     ┆     ┆     ┆     ┆     ┆     ┆     ┆     ┆ 00  ┆     ┆     ┆     ┆     ┆     ┆     ┆     ┆     ┆     ┆     ┆     ┆     ┆     ┆     ┆     ┆     ┆     ┆     ┆     ┆     ┆     ┆     ┆     ┆     ┆     ┆     ┆     ┆     ┆     ┆ 00  ┆ 00  ┆     ┆     ┆     ┆     ┆     ┆     ┆     ┆     ┆     ┆     ┆     ┆     ┆     ┆     ┆     ┆     ┆     ┆     ┆     ┆     ┆     ┆     ┆     ┆     ┆     ┆     │\n",
       "│     ┆     ┆     ┆     ┆     ┆     ┆     ┆     ┆     ┆     ┆     ┆     ┆     ┆     ┆ COM ┆     ┆     ┆     ┆     ┆     ┆     ┆     ┆     ┆     ┆     ┆     ┆     ┆     ┆     ┆     ┆     ┆     ┆     ┆     ┆     ┆     ┆     ┆     ┆     ┆     ┆     ┆     ┆     ┆     ┆     ┆     ┆     ┆     ┆     ┆     ┆     ┆     ┆     ┆     ┆     ┆     ┆     ┆     ┆     ┆     ┆     ┆     ┆     ┆     ┆     ┆     ┆     ┆     ┆     ┆     ┆     ┆     ┆     ┆     ┆     ┆     ┆     ┆     ┆     ┆     ┆     ┆     ┆     ┆     ┆     ┆     ┆     ┆     ┆     ┆     ┆     ┆     ┆     ┆     │\n",
       "│     ┆     ┆     ┆     ┆     ┆     ┆     ┆     ┆     ┆     ┆     ┆     ┆     ┆     ┆ NON ┆     ┆     ┆     ┆     ┆     ┆     ┆     ┆     ┆     ┆     ┆     ┆     ┆     ┆     ┆     ┆     ┆     ┆     ┆     ┆     ┆     ┆     ┆     ┆     ┆     ┆     ┆     ┆     ┆     ┆     ┆     ┆     ┆     ┆     ┆     ┆     ┆     ┆     ┆     ┆     ┆     ┆     ┆     ┆     ┆     ┆     ┆     ┆     ┆     ┆     ┆     ┆     ┆     ┆     ┆     ┆     ┆     ┆     ┆     ┆     ┆     ┆     ┆     ┆     ┆     ┆     ┆     ┆     ┆     ┆     ┆     ┆     ┆     ┆     ┆     ┆     ┆     ┆     ┆     │\n",
       "│     ┆     ┆     ┆     ┆     ┆     ┆     ┆     ┆     ┆     ┆     ┆     ┆     ┆     ┆ E;  ┆     ┆     ┆     ┆     ┆     ┆     ┆     ┆     ┆     ┆     ┆     ┆     ┆     ┆     ┆     ┆     ┆     ┆     ┆     ┆     ┆     ┆     ┆     ┆     ┆     ┆     ┆     ┆     ┆     ┆     ┆     ┆     ┆     ┆     ┆     ┆     ┆     ┆     ┆     ┆     ┆     ┆     ┆     ┆     ┆     ┆     ┆     ┆     ┆     ┆     ┆     ┆     ┆     ┆     ┆     ┆     ┆     ┆     ┆     ┆     ┆     ┆     ┆     ┆     ┆     ┆     ┆     ┆     ┆     ┆     ┆     ┆     ┆     ┆     ┆     ┆     ┆     ┆     ┆     │\n",
       "│     ┆     ┆     ┆     ┆     ┆     ┆     ┆     ┆     ┆     ┆     ┆     ┆     ┆     ┆ …   ┆     ┆     ┆     ┆     ┆     ┆     ┆     ┆     ┆     ┆     ┆     ┆     ┆     ┆     ┆     ┆     ┆     ┆     ┆     ┆     ┆     ┆     ┆     ┆     ┆     ┆     ┆     ┆     ┆     ┆     ┆     ┆     ┆     ┆     ┆     ┆     ┆     ┆     ┆     ┆     ┆     ┆     ┆     ┆     ┆     ┆     ┆     ┆     ┆     ┆     ┆     ┆     ┆     ┆     ┆     ┆     ┆     ┆     ┆     ┆     ┆     ┆     ┆     ┆     ┆     ┆     ┆     ┆     ┆     ┆     ┆     ┆     ┆     ┆     ┆     ┆     ┆     ┆     ┆     │\n",
       "│ 227 ┆ 202 ┆ 202 ┆ 202 ┆ 202 ┆ N   ┆ 832 ┆ 832 ┆ 832 ┆ 832 ┆ Q   ┆ RW  ┆ S   ┆ A   ┆ SMA ┆     ┆ Y   ┆ COR ┆ EQT ┆ COM ┆ NS  ┆ Y   ┆ GDR ┆ VCL ┆ FIN ┆ PRC ┆ SMF ┆ SMF ┆ 591 ┆ 999 ┆ 325 ┆ NOA ┆ 6.0 ┆ 866 ┆ SMA ┆ 2.0 ┆ 202 ┆ N   ┆ 0.6 ┆ TR  ┆ 525 ┆ BP  ┆ nul ┆ NT  ┆ nul ┆ nul ┆ NT  ┆ nul ┆ nul ┆ nul ┆ RA  ┆ MR  ┆ 0.0 ┆ 0.0 ┆ 1.0 ┆ NO  ┆ 4.9 ┆ 0.6 ┆ 0.4 ┆ 0.8 ┆ 0.6 ┆ 0.6 ┆ 0.6 ┆ 222 ┆ 13. ┆ 3.2 ┆ 202 ┆ 202 ┆ 797 ┆ OBS ┆ NA  ┆ N   ┆ nul ┆ nul ┆     ┆     ┆     ┆     ┆     ┆     ┆     ┆ nul ┆ nul ┆ nul ┆ nul ┆ nul ┆ nul ┆ nul ┆ nul ┆ 0.0 ┆ 0.0 ┆ -0. ┆ -0. ┆ 0.0 │\n",
       "│ 98. ┆ 3-1 ┆ 4-0 ┆ 2-0 ┆ 4-0 ┆     ┆ 04U ┆ 04U ┆ 04U ┆ 04U ┆     ┆     ┆     ┆     ┆ RT  ┆     ┆     ┆ P   ┆ Y   ┆     ┆     ┆     ┆     ┆     ┆ G   ┆ F   ┆ L   ┆ L   ┆ 95. ┆ 9.0 ┆ 412 ┆ VAI ┆ 079 ┆ 51. ┆ RT  ┆ 231 ┆ 3-1 ┆     ┆ 589 ┆     ┆ .14 ┆     ┆ l   ┆     ┆ l   ┆ l   ┆     ┆ l   ┆ l   ┆ l   ┆     ┆     ┆     ┆     ┆     ┆     ┆ 908 ┆ 589 ┆ 7   ┆ 2   ┆ 251 ┆ 5   ┆ 389 ┆ 73. ┆ 0   ┆ 884 ┆ 3-1 ┆ 4-0 ┆ .0  ┆     ┆     ┆     ┆ l   ┆ l   ┆     ┆     ┆     ┆     ┆     ┆     ┆     ┆ l   ┆ l   ┆ l   ┆ l   ┆ l   ┆ l   ┆ l   ┆ l   ┆ 038 ┆ 036 ┆ 000 ┆ 001 ┆ 045 │\n",
       "│ 0   ┆ 2-1 ┆ 4-2 ┆ 2-1 ┆ 9-1 ┆     ┆ 60  ┆ 608 ┆ 50  ┆ 509 ┆     ┆     ┆     ┆     ┆ FOR ┆     ┆     ┆     ┆     ┆     ┆     ┆     ┆     ┆     ┆     ┆     ┆     ┆     ┆ 0   ┆     ┆     ┆ L   ┆ 691 ┆ 0   ┆ FOR ┆ 218 ┆ 2-1 ┆     ┆     ┆     ┆ 33  ┆     ┆     ┆     ┆     ┆     ┆     ┆     ┆     ┆     ┆     ┆     ┆     ┆     ┆     ┆     ┆ 14e ┆     ┆     ┆     ┆     ┆     ┆     ┆ 0   ┆     ┆ e6  ┆ 2-1 ┆ 4-1 ┆     ┆     ┆     ┆     ┆     ┆     ┆     ┆     ┆     ┆     ┆     ┆     ┆     ┆     ┆     ┆     ┆     ┆     ┆     ┆     ┆     ┆ 56  ┆ 57  ┆ 888 ┆ 37  ┆ 28  │\n",
       "│     ┆ 8   ┆ 1   ┆ 6   ┆ 8   ┆     ┆     ┆     ┆     ┆     ┆     ┆     ┆     ┆     ┆ LIF ┆     ┆     ┆     ┆     ┆     ┆     ┆     ┆     ┆     ┆     ┆     ┆     ┆     ┆     ┆     ┆     ┆     ┆ e7  ┆     ┆ LIF ┆ e7  ┆ 8   ┆     ┆     ┆     ┆     ┆     ┆     ┆     ┆     ┆     ┆     ┆     ┆     ┆     ┆     ┆     ┆     ┆     ┆     ┆     ┆ 6   ┆     ┆     ┆     ┆     ┆     ┆     ┆     ┆     ┆     ┆ 8   ┆ 7   ┆     ┆     ┆     ┆     ┆     ┆     ┆     ┆     ┆     ┆     ┆     ┆     ┆     ┆     ┆     ┆     ┆     ┆     ┆     ┆     ┆     ┆     ┆     ┆     ┆     ┆     │\n",
       "│     ┆ 00: ┆ 00: ┆ 00: ┆ 00: ┆     ┆     ┆     ┆     ┆     ┆     ┆     ┆     ┆     ┆ E   ┆     ┆     ┆     ┆     ┆     ┆     ┆     ┆     ┆     ┆     ┆     ┆     ┆     ┆     ┆     ┆     ┆     ┆     ┆     ┆ E   ┆     ┆ 00: ┆     ┆     ┆     ┆     ┆     ┆     ┆     ┆     ┆     ┆     ┆     ┆     ┆     ┆     ┆     ┆     ┆     ┆     ┆     ┆     ┆     ┆     ┆     ┆     ┆     ┆     ┆     ┆     ┆     ┆ 00: ┆ 00: ┆     ┆     ┆     ┆     ┆     ┆     ┆     ┆     ┆     ┆     ┆     ┆     ┆     ┆     ┆     ┆     ┆     ┆     ┆     ┆     ┆     ┆     ┆     ┆     ┆     ┆     │\n",
       "│     ┆ 00: ┆ 00: ┆ 00: ┆ 00: ┆     ┆     ┆     ┆     ┆     ┆     ┆     ┆     ┆     ┆ INC ┆     ┆     ┆     ┆     ┆     ┆     ┆     ┆     ┆     ┆     ┆     ┆     ┆     ┆     ┆     ┆     ┆     ┆     ┆     ┆ INC ┆     ┆ 00: ┆     ┆     ┆     ┆     ┆     ┆     ┆     ┆     ┆     ┆     ┆     ┆     ┆     ┆     ┆     ┆     ┆     ┆     ┆     ┆     ┆     ┆     ┆     ┆     ┆     ┆     ┆     ┆     ┆     ┆ 00: ┆ 00: ┆     ┆     ┆     ┆     ┆     ┆     ┆     ┆     ┆     ┆     ┆     ┆     ┆     ┆     ┆     ┆     ┆     ┆     ┆     ┆     ┆     ┆     ┆     ┆     ┆     ┆     │\n",
       "│     ┆ 00  ┆ 00  ┆ 00  ┆ 00  ┆     ┆     ┆     ┆     ┆     ┆     ┆     ┆     ┆     ┆ ;   ┆     ┆     ┆     ┆     ┆     ┆     ┆     ┆     ┆     ┆     ┆     ┆     ┆     ┆     ┆     ┆     ┆     ┆     ┆     ┆     ┆     ┆ 00  ┆     ┆     ┆     ┆     ┆     ┆     ┆     ┆     ┆     ┆     ┆     ┆     ┆     ┆     ┆     ┆     ┆     ┆     ┆     ┆     ┆     ┆     ┆     ┆     ┆     ┆     ┆     ┆     ┆     ┆ 00  ┆ 00  ┆     ┆     ┆     ┆     ┆     ┆     ┆     ┆     ┆     ┆     ┆     ┆     ┆     ┆     ┆     ┆     ┆     ┆     ┆     ┆     ┆     ┆     ┆     ┆     ┆     ┆     │\n",
       "│     ┆     ┆     ┆     ┆     ┆     ┆     ┆     ┆     ┆     ┆     ┆     ┆     ┆     ┆ COM ┆     ┆     ┆     ┆     ┆     ┆     ┆     ┆     ┆     ┆     ┆     ┆     ┆     ┆     ┆     ┆     ┆     ┆     ┆     ┆     ┆     ┆     ┆     ┆     ┆     ┆     ┆     ┆     ┆     ┆     ┆     ┆     ┆     ┆     ┆     ┆     ┆     ┆     ┆     ┆     ┆     ┆     ┆     ┆     ┆     ┆     ┆     ┆     ┆     ┆     ┆     ┆     ┆     ┆     ┆     ┆     ┆     ┆     ┆     ┆     ┆     ┆     ┆     ┆     ┆     ┆     ┆     ┆     ┆     ┆     ┆     ┆     ┆     ┆     ┆     ┆     ┆     ┆     ┆     │\n",
       "│     ┆     ┆     ┆     ┆     ┆     ┆     ┆     ┆     ┆     ┆     ┆     ┆     ┆     ┆ NON ┆     ┆     ┆     ┆     ┆     ┆     ┆     ┆     ┆     ┆     ┆     ┆     ┆     ┆     ┆     ┆     ┆     ┆     ┆     ┆     ┆     ┆     ┆     ┆     ┆     ┆     ┆     ┆     ┆     ┆     ┆     ┆     ┆     ┆     ┆     ┆     ┆     ┆     ┆     ┆     ┆     ┆     ┆     ┆     ┆     ┆     ┆     ┆     ┆     ┆     ┆     ┆     ┆     ┆     ┆     ┆     ┆     ┆     ┆     ┆     ┆     ┆     ┆     ┆     ┆     ┆     ┆     ┆     ┆     ┆     ┆     ┆     ┆     ┆     ┆     ┆     ┆     ┆     ┆     │\n",
       "│     ┆     ┆     ┆     ┆     ┆     ┆     ┆     ┆     ┆     ┆     ┆     ┆     ┆     ┆ E;  ┆     ┆     ┆     ┆     ┆     ┆     ┆     ┆     ┆     ┆     ┆     ┆     ┆     ┆     ┆     ┆     ┆     ┆     ┆     ┆     ┆     ┆     ┆     ┆     ┆     ┆     ┆     ┆     ┆     ┆     ┆     ┆     ┆     ┆     ┆     ┆     ┆     ┆     ┆     ┆     ┆     ┆     ┆     ┆     ┆     ┆     ┆     ┆     ┆     ┆     ┆     ┆     ┆     ┆     ┆     ┆     ┆     ┆     ┆     ┆     ┆     ┆     ┆     ┆     ┆     ┆     ┆     ┆     ┆     ┆     ┆     ┆     ┆     ┆     ┆     ┆     ┆     ┆     ┆     │\n",
       "│     ┆     ┆     ┆     ┆     ┆     ┆     ┆     ┆     ┆     ┆     ┆     ┆     ┆     ┆ …   ┆     ┆     ┆     ┆     ┆     ┆     ┆     ┆     ┆     ┆     ┆     ┆     ┆     ┆     ┆     ┆     ┆     ┆     ┆     ┆     ┆     ┆     ┆     ┆     ┆     ┆     ┆     ┆     ┆     ┆     ┆     ┆     ┆     ┆     ┆     ┆     ┆     ┆     ┆     ┆     ┆     ┆     ┆     ┆     ┆     ┆     ┆     ┆     ┆     ┆     ┆     ┆     ┆     ┆     ┆     ┆     ┆     ┆     ┆     ┆     ┆     ┆     ┆     ┆     ┆     ┆     ┆     ┆     ┆     ┆     ┆     ┆     ┆     ┆     ┆     ┆     ┆     ┆     ┆     │\n",
       "│ 227 ┆ 202 ┆ 202 ┆ 202 ┆ 202 ┆ N   ┆ 832 ┆ 832 ┆ 832 ┆ 832 ┆ Q   ┆ RW  ┆ S   ┆ A   ┆ SMA ┆     ┆ Y   ┆ COR ┆ EQT ┆ COM ┆ NS  ┆ Y   ┆ GDR ┆ VCL ┆ FIN ┆ PRC ┆ SMF ┆ SMF ┆ 591 ┆ 999 ┆ 325 ┆ NOA ┆ 6.0 ┆ 866 ┆ SMA ┆ 2.0 ┆ 202 ┆ N   ┆ 0.6 ┆ TR  ┆ 502 ┆ BP  ┆ 0.6 ┆ TR  ┆ 202 ┆ 525 ┆ PB  ┆ -0. ┆ -0. ┆ 0.0 ┆ NA  ┆ D1  ┆ 0.0 ┆ 0.0 ┆ 1.0 ┆ NO  ┆ 1.0 ┆ 0.6 ┆ 0.4 ┆ 0.7 ┆ 0.6 ┆ 0.6 ┆ 0.5 ┆ 477 ┆ 19. ┆ 678 ┆ 202 ┆ 202 ┆ 797 ┆ OBS ┆ NA  ┆ N   ┆ nul ┆ nul ┆     ┆     ┆     ┆     ┆     ┆     ┆     ┆ nul ┆ nul ┆ nul ┆ nul ┆ nul ┆ nul ┆ nul ┆ nul ┆ 0.0 ┆ 0.0 ┆ 0.0 ┆ 0.0 ┆ 0.0 │\n",
       "│ 98. ┆ 3-1 ┆ 4-0 ┆ 2-0 ┆ 4-0 ┆     ┆ 04U ┆ 04U ┆ 04U ┆ 04U ┆     ┆     ┆     ┆     ┆ RT  ┆     ┆     ┆ P   ┆ Y   ┆     ┆     ┆     ┆     ┆     ┆ G   ┆ F   ┆ L   ┆ L   ┆ 95. ┆ 9.0 ┆ 412 ┆ VAI ┆ 079 ┆ 51. ┆ RT  ┆ 231 ┆ 3-1 ┆     ┆ 3   ┆     ┆ .11 ┆     ┆ 589 ┆     ┆ 3-1 ┆ .14 ┆     ┆ 043 ┆ 043 ┆     ┆     ┆     ┆     ┆     ┆     ┆     ┆ 770 ┆ 3   ┆ 8   ┆ 4   ┆ 3   ┆ 5   ┆ 001 ┆ 0.0 ┆ 0   ┆ 550 ┆ 3-1 ┆ 4-0 ┆ .0  ┆     ┆     ┆     ┆ l   ┆ l   ┆     ┆     ┆     ┆     ┆     ┆     ┆     ┆ l   ┆ l   ┆ l   ┆ l   ┆ l   ┆ l   ┆ l   ┆ l   ┆ 077 ┆ 076 ┆ 125 ┆ 124 ┆ 058 │\n",
       "│ 0   ┆ 2-1 ┆ 4-2 ┆ 2-1 ┆ 9-1 ┆     ┆ 60  ┆ 608 ┆ 50  ┆ 509 ┆     ┆     ┆     ┆     ┆ FOR ┆     ┆     ┆     ┆     ┆     ┆     ┆     ┆     ┆     ┆     ┆     ┆     ┆     ┆ 0   ┆     ┆     ┆ L   ┆ 691 ┆ 0   ┆ FOR ┆ 219 ┆ 2-1 ┆     ┆     ┆     ┆     ┆     ┆     ┆     ┆ 2-1 ┆ 33  ┆     ┆ 861 ┆ 861 ┆     ┆     ┆     ┆     ┆     ┆     ┆     ┆ 64e ┆     ┆     ┆     ┆     ┆     ┆     ┆     ┆     ┆ .32 ┆ 2-1 ┆ 4-1 ┆     ┆     ┆     ┆     ┆     ┆     ┆     ┆     ┆     ┆     ┆     ┆     ┆     ┆     ┆     ┆     ┆     ┆     ┆     ┆     ┆     ┆ 11  ┆ 26  ┆ 67  ┆ 18  ┆ 66  │\n",
       "│     ┆ 8   ┆ 1   ┆ 6   ┆ 8   ┆     ┆     ┆     ┆     ┆     ┆     ┆     ┆     ┆     ┆ LIF ┆     ┆     ┆     ┆     ┆     ┆     ┆     ┆     ┆     ┆     ┆     ┆     ┆     ┆     ┆     ┆     ┆     ┆ e7  ┆     ┆ LIF ┆ e7  ┆ 9   ┆     ┆     ┆     ┆     ┆     ┆     ┆     ┆ 8   ┆     ┆     ┆     ┆     ┆     ┆     ┆     ┆     ┆     ┆     ┆     ┆ 6   ┆     ┆     ┆     ┆     ┆     ┆     ┆     ┆     ┆     ┆ 8   ┆ 7   ┆     ┆     ┆     ┆     ┆     ┆     ┆     ┆     ┆     ┆     ┆     ┆     ┆     ┆     ┆     ┆     ┆     ┆     ┆     ┆     ┆     ┆     ┆     ┆     ┆     ┆     │\n",
       "│     ┆ 00: ┆ 00: ┆ 00: ┆ 00: ┆     ┆     ┆     ┆     ┆     ┆     ┆     ┆     ┆     ┆ E   ┆     ┆     ┆     ┆     ┆     ┆     ┆     ┆     ┆     ┆     ┆     ┆     ┆     ┆     ┆     ┆     ┆     ┆     ┆     ┆ E   ┆     ┆ 00: ┆     ┆     ┆     ┆     ┆     ┆     ┆     ┆ 00: ┆     ┆     ┆     ┆     ┆     ┆     ┆     ┆     ┆     ┆     ┆     ┆     ┆     ┆     ┆     ┆     ┆     ┆     ┆     ┆     ┆     ┆ 00: ┆ 00: ┆     ┆     ┆     ┆     ┆     ┆     ┆     ┆     ┆     ┆     ┆     ┆     ┆     ┆     ┆     ┆     ┆     ┆     ┆     ┆     ┆     ┆     ┆     ┆     ┆     ┆     │\n",
       "│     ┆ 00: ┆ 00: ┆ 00: ┆ 00: ┆     ┆     ┆     ┆     ┆     ┆     ┆     ┆     ┆     ┆ INC ┆     ┆     ┆     ┆     ┆     ┆     ┆     ┆     ┆     ┆     ┆     ┆     ┆     ┆     ┆     ┆     ┆     ┆     ┆     ┆ INC ┆     ┆ 00: ┆     ┆     ┆     ┆     ┆     ┆     ┆     ┆ 00: ┆     ┆     ┆     ┆     ┆     ┆     ┆     ┆     ┆     ┆     ┆     ┆     ┆     ┆     ┆     ┆     ┆     ┆     ┆     ┆     ┆     ┆ 00: ┆ 00: ┆     ┆     ┆     ┆     ┆     ┆     ┆     ┆     ┆     ┆     ┆     ┆     ┆     ┆     ┆     ┆     ┆     ┆     ┆     ┆     ┆     ┆     ┆     ┆     ┆     ┆     │\n",
       "│     ┆ 00  ┆ 00  ┆ 00  ┆ 00  ┆     ┆     ┆     ┆     ┆     ┆     ┆     ┆     ┆     ┆ ;   ┆     ┆     ┆     ┆     ┆     ┆     ┆     ┆     ┆     ┆     ┆     ┆     ┆     ┆     ┆     ┆     ┆     ┆     ┆     ┆     ┆     ┆ 00  ┆     ┆     ┆     ┆     ┆     ┆     ┆     ┆ 00  ┆     ┆     ┆     ┆     ┆     ┆     ┆     ┆     ┆     ┆     ┆     ┆     ┆     ┆     ┆     ┆     ┆     ┆     ┆     ┆     ┆     ┆ 00  ┆ 00  ┆     ┆     ┆     ┆     ┆     ┆     ┆     ┆     ┆     ┆     ┆     ┆     ┆     ┆     ┆     ┆     ┆     ┆     ┆     ┆     ┆     ┆     ┆     ┆     ┆     ┆     │\n",
       "│     ┆     ┆     ┆     ┆     ┆     ┆     ┆     ┆     ┆     ┆     ┆     ┆     ┆     ┆ COM ┆     ┆     ┆     ┆     ┆     ┆     ┆     ┆     ┆     ┆     ┆     ┆     ┆     ┆     ┆     ┆     ┆     ┆     ┆     ┆     ┆     ┆     ┆     ┆     ┆     ┆     ┆     ┆     ┆     ┆     ┆     ┆     ┆     ┆     ┆     ┆     ┆     ┆     ┆     ┆     ┆     ┆     ┆     ┆     ┆     ┆     ┆     ┆     ┆     ┆     ┆     ┆     ┆     ┆     ┆     ┆     ┆     ┆     ┆     ┆     ┆     ┆     ┆     ┆     ┆     ┆     ┆     ┆     ┆     ┆     ┆     ┆     ┆     ┆     ┆     ┆     ┆     ┆     ┆     │\n",
       "│     ┆     ┆     ┆     ┆     ┆     ┆     ┆     ┆     ┆     ┆     ┆     ┆     ┆     ┆ NON ┆     ┆     ┆     ┆     ┆     ┆     ┆     ┆     ┆     ┆     ┆     ┆     ┆     ┆     ┆     ┆     ┆     ┆     ┆     ┆     ┆     ┆     ┆     ┆     ┆     ┆     ┆     ┆     ┆     ┆     ┆     ┆     ┆     ┆     ┆     ┆     ┆     ┆     ┆     ┆     ┆     ┆     ┆     ┆     ┆     ┆     ┆     ┆     ┆     ┆     ┆     ┆     ┆     ┆     ┆     ┆     ┆     ┆     ┆     ┆     ┆     ┆     ┆     ┆     ┆     ┆     ┆     ┆     ┆     ┆     ┆     ┆     ┆     ┆     ┆     ┆     ┆     ┆     ┆     │\n",
       "│     ┆     ┆     ┆     ┆     ┆     ┆     ┆     ┆     ┆     ┆     ┆     ┆     ┆     ┆ E;  ┆     ┆     ┆     ┆     ┆     ┆     ┆     ┆     ┆     ┆     ┆     ┆     ┆     ┆     ┆     ┆     ┆     ┆     ┆     ┆     ┆     ┆     ┆     ┆     ┆     ┆     ┆     ┆     ┆     ┆     ┆     ┆     ┆     ┆     ┆     ┆     ┆     ┆     ┆     ┆     ┆     ┆     ┆     ┆     ┆     ┆     ┆     ┆     ┆     ┆     ┆     ┆     ┆     ┆     ┆     ┆     ┆     ┆     ┆     ┆     ┆     ┆     ┆     ┆     ┆     ┆     ┆     ┆     ┆     ┆     ┆     ┆     ┆     ┆     ┆     ┆     ┆     ┆     ┆     │\n",
       "│     ┆     ┆     ┆     ┆     ┆     ┆     ┆     ┆     ┆     ┆     ┆     ┆     ┆     ┆ …   ┆     ┆     ┆     ┆     ┆     ┆     ┆     ┆     ┆     ┆     ┆     ┆     ┆     ┆     ┆     ┆     ┆     ┆     ┆     ┆     ┆     ┆     ┆     ┆     ┆     ┆     ┆     ┆     ┆     ┆     ┆     ┆     ┆     ┆     ┆     ┆     ┆     ┆     ┆     ┆     ┆     ┆     ┆     ┆     ┆     ┆     ┆     ┆     ┆     ┆     ┆     ┆     ┆     ┆     ┆     ┆     ┆     ┆     ┆     ┆     ┆     ┆     ┆     ┆     ┆     ┆     ┆     ┆     ┆     ┆     ┆     ┆     ┆     ┆     ┆     ┆     ┆     ┆     ┆     │\n",
       "│ 227 ┆ 202 ┆ 202 ┆ 202 ┆ 202 ┆ N   ┆ 832 ┆ 832 ┆ 832 ┆ 832 ┆ Q   ┆ RW  ┆ S   ┆ A   ┆ SMA ┆     ┆ Y   ┆ COR ┆ EQT ┆ COM ┆ NS  ┆ Y   ┆ GDR ┆ VCL ┆ FIN ┆ PRC ┆ SMF ┆ SMF ┆ 591 ┆ 999 ┆ 325 ┆ NOA ┆ 6.0 ┆ 866 ┆ SMA ┆ 2.0 ┆ 202 ┆ N   ┆ 0.7 ┆ TR  ┆ 608 ┆ BP  ┆ 0.6 ┆ TR  ┆ 202 ┆ 502 ┆ PB  ┆ 0.2 ┆ 0.2 ┆ 0.0 ┆ NA  ┆ D1  ┆ 0.0 ┆ 0.0 ┆ 1.0 ┆ NO  ┆ 1.2 ┆ 0.7 ┆ 0.5 ┆ 0.9 ┆ 0.7 ┆ 0.8 ┆ 0.6 ┆ 531 ┆ 17. ┆ 929 ┆ 202 ┆ 202 ┆ 797 ┆ OBS ┆ NA  ┆ N   ┆ nul ┆ nul ┆     ┆     ┆     ┆     ┆     ┆     ┆     ┆ nul ┆ nul ┆ nul ┆ nul ┆ nul ┆ nul ┆ nul ┆ nul ┆ -0. ┆ -0. ┆ -0. ┆ -0. ┆ -0. │\n",
       "│ 98. ┆ 3-1 ┆ 4-0 ┆ 2-0 ┆ 4-0 ┆     ┆ 04U ┆ 04U ┆ 04U ┆ 04U ┆     ┆     ┆     ┆     ┆ RT  ┆     ┆     ┆ P   ┆ Y   ┆     ┆     ┆     ┆     ┆     ┆ G   ┆ F   ┆ L   ┆ L   ┆ 95. ┆ 9.0 ┆ 412 ┆ VAI ┆ 079 ┆ 51. ┆ RT  ┆ 231 ┆ 3-1 ┆     ┆ 637 ┆     ┆ .66 ┆     ┆ 3   ┆     ┆ 3-1 ┆ .11 ┆     ┆ 122 ┆ 122 ┆     ┆     ┆     ┆     ┆     ┆     ┆     ┆ 176 ┆ 637 ┆ 25  ┆ 5   ┆ 235 ┆     ┆ 017 ┆ 5.0 ┆ 0   ┆ 937 ┆ 3-1 ┆ 4-0 ┆ .0  ┆     ┆     ┆     ┆ l   ┆ l   ┆     ┆     ┆     ┆     ┆     ┆     ┆     ┆ l   ┆ l   ┆ l   ┆ l   ┆ l   ┆ l   ┆ l   ┆ l   ┆ 014 ┆ 015 ┆ 011 ┆ 012 ┆ 014 │\n",
       "│ 0   ┆ 2-1 ┆ 4-2 ┆ 2-1 ┆ 9-1 ┆     ┆ 60  ┆ 608 ┆ 50  ┆ 509 ┆     ┆     ┆     ┆     ┆ FOR ┆     ┆     ┆     ┆     ┆     ┆     ┆     ┆     ┆     ┆     ┆     ┆     ┆     ┆ 0   ┆     ┆     ┆ L   ┆ 691 ┆ 0   ┆ FOR ┆ 22e ┆ 2-2 ┆     ┆     ┆     ┆ 89  ┆     ┆     ┆     ┆ 2-1 ┆     ┆     ┆ 22  ┆ 22  ┆     ┆     ┆     ┆     ┆     ┆     ┆     ┆ 74e ┆     ┆     ┆     ┆     ┆     ┆     ┆     ┆     ┆ .63 ┆ 2-1 ┆ 4-1 ┆     ┆     ┆     ┆     ┆     ┆     ┆     ┆     ┆     ┆     ┆     ┆     ┆     ┆     ┆     ┆     ┆     ┆     ┆     ┆     ┆     ┆ 802 ┆ 095 ┆ 488 ┆ 052 ┆ 684 │\n",
       "│     ┆ 8   ┆ 1   ┆ 6   ┆ 8   ┆     ┆     ┆     ┆     ┆     ┆     ┆     ┆     ┆     ┆ LIF ┆     ┆     ┆     ┆     ┆     ┆     ┆     ┆     ┆     ┆     ┆     ┆     ┆     ┆     ┆     ┆     ┆     ┆ e7  ┆     ┆ LIF ┆ 7   ┆ 0   ┆     ┆     ┆     ┆     ┆     ┆     ┆     ┆ 9   ┆     ┆     ┆     ┆     ┆     ┆     ┆     ┆     ┆     ┆     ┆     ┆ 6   ┆     ┆     ┆     ┆     ┆     ┆     ┆     ┆     ┆ 38  ┆ 8   ┆ 7   ┆     ┆     ┆     ┆     ┆     ┆     ┆     ┆     ┆     ┆     ┆     ┆     ┆     ┆     ┆     ┆     ┆     ┆     ┆     ┆     ┆     ┆     ┆     ┆     ┆     ┆     │\n",
       "│     ┆ 00: ┆ 00: ┆ 00: ┆ 00: ┆     ┆     ┆     ┆     ┆     ┆     ┆     ┆     ┆     ┆ E   ┆     ┆     ┆     ┆     ┆     ┆     ┆     ┆     ┆     ┆     ┆     ┆     ┆     ┆     ┆     ┆     ┆     ┆     ┆     ┆ E   ┆     ┆ 00: ┆     ┆     ┆     ┆     ┆     ┆     ┆     ┆ 00: ┆     ┆     ┆     ┆     ┆     ┆     ┆     ┆     ┆     ┆     ┆     ┆     ┆     ┆     ┆     ┆     ┆     ┆     ┆     ┆     ┆     ┆ 00: ┆ 00: ┆     ┆     ┆     ┆     ┆     ┆     ┆     ┆     ┆     ┆     ┆     ┆     ┆     ┆     ┆     ┆     ┆     ┆     ┆     ┆     ┆     ┆     ┆     ┆     ┆     ┆     │\n",
       "│     ┆ 00: ┆ 00: ┆ 00: ┆ 00: ┆     ┆     ┆     ┆     ┆     ┆     ┆     ┆     ┆     ┆ INC ┆     ┆     ┆     ┆     ┆     ┆     ┆     ┆     ┆     ┆     ┆     ┆     ┆     ┆     ┆     ┆     ┆     ┆     ┆     ┆ INC ┆     ┆ 00: ┆     ┆     ┆     ┆     ┆     ┆     ┆     ┆ 00: ┆     ┆     ┆     ┆     ┆     ┆     ┆     ┆     ┆     ┆     ┆     ┆     ┆     ┆     ┆     ┆     ┆     ┆     ┆     ┆     ┆     ┆ 00: ┆ 00: ┆     ┆     ┆     ┆     ┆     ┆     ┆     ┆     ┆     ┆     ┆     ┆     ┆     ┆     ┆     ┆     ┆     ┆     ┆     ┆     ┆     ┆     ┆     ┆     ┆     ┆     │\n",
       "│     ┆ 00  ┆ 00  ┆ 00  ┆ 00  ┆     ┆     ┆     ┆     ┆     ┆     ┆     ┆     ┆     ┆ ;   ┆     ┆     ┆     ┆     ┆     ┆     ┆     ┆     ┆     ┆     ┆     ┆     ┆     ┆     ┆     ┆     ┆     ┆     ┆     ┆     ┆     ┆ 00  ┆     ┆     ┆     ┆     ┆     ┆     ┆     ┆ 00  ┆     ┆     ┆     ┆     ┆     ┆     ┆     ┆     ┆     ┆     ┆     ┆     ┆     ┆     ┆     ┆     ┆     ┆     ┆     ┆     ┆     ┆ 00  ┆ 00  ┆     ┆     ┆     ┆     ┆     ┆     ┆     ┆     ┆     ┆     ┆     ┆     ┆     ┆     ┆     ┆     ┆     ┆     ┆     ┆     ┆     ┆     ┆     ┆     ┆     ┆     │\n",
       "│     ┆     ┆     ┆     ┆     ┆     ┆     ┆     ┆     ┆     ┆     ┆     ┆     ┆     ┆ COM ┆     ┆     ┆     ┆     ┆     ┆     ┆     ┆     ┆     ┆     ┆     ┆     ┆     ┆     ┆     ┆     ┆     ┆     ┆     ┆     ┆     ┆     ┆     ┆     ┆     ┆     ┆     ┆     ┆     ┆     ┆     ┆     ┆     ┆     ┆     ┆     ┆     ┆     ┆     ┆     ┆     ┆     ┆     ┆     ┆     ┆     ┆     ┆     ┆     ┆     ┆     ┆     ┆     ┆     ┆     ┆     ┆     ┆     ┆     ┆     ┆     ┆     ┆     ┆     ┆     ┆     ┆     ┆     ┆     ┆     ┆     ┆     ┆     ┆     ┆     ┆     ┆     ┆     ┆     │\n",
       "│     ┆     ┆     ┆     ┆     ┆     ┆     ┆     ┆     ┆     ┆     ┆     ┆     ┆     ┆ NON ┆     ┆     ┆     ┆     ┆     ┆     ┆     ┆     ┆     ┆     ┆     ┆     ┆     ┆     ┆     ┆     ┆     ┆     ┆     ┆     ┆     ┆     ┆     ┆     ┆     ┆     ┆     ┆     ┆     ┆     ┆     ┆     ┆     ┆     ┆     ┆     ┆     ┆     ┆     ┆     ┆     ┆     ┆     ┆     ┆     ┆     ┆     ┆     ┆     ┆     ┆     ┆     ┆     ┆     ┆     ┆     ┆     ┆     ┆     ┆     ┆     ┆     ┆     ┆     ┆     ┆     ┆     ┆     ┆     ┆     ┆     ┆     ┆     ┆     ┆     ┆     ┆     ┆     ┆     │\n",
       "│     ┆     ┆     ┆     ┆     ┆     ┆     ┆     ┆     ┆     ┆     ┆     ┆     ┆     ┆ E;  ┆     ┆     ┆     ┆     ┆     ┆     ┆     ┆     ┆     ┆     ┆     ┆     ┆     ┆     ┆     ┆     ┆     ┆     ┆     ┆     ┆     ┆     ┆     ┆     ┆     ┆     ┆     ┆     ┆     ┆     ┆     ┆     ┆     ┆     ┆     ┆     ┆     ┆     ┆     ┆     ┆     ┆     ┆     ┆     ┆     ┆     ┆     ┆     ┆     ┆     ┆     ┆     ┆     ┆     ┆     ┆     ┆     ┆     ┆     ┆     ┆     ┆     ┆     ┆     ┆     ┆     ┆     ┆     ┆     ┆     ┆     ┆     ┆     ┆     ┆     ┆     ┆     ┆     ┆     │\n",
       "│     ┆     ┆     ┆     ┆     ┆     ┆     ┆     ┆     ┆     ┆     ┆     ┆     ┆     ┆ …   ┆     ┆     ┆     ┆     ┆     ┆     ┆     ┆     ┆     ┆     ┆     ┆     ┆     ┆     ┆     ┆     ┆     ┆     ┆     ┆     ┆     ┆     ┆     ┆     ┆     ┆     ┆     ┆     ┆     ┆     ┆     ┆     ┆     ┆     ┆     ┆     ┆     ┆     ┆     ┆     ┆     ┆     ┆     ┆     ┆     ┆     ┆     ┆     ┆     ┆     ┆     ┆     ┆     ┆     ┆     ┆     ┆     ┆     ┆     ┆     ┆     ┆     ┆     ┆     ┆     ┆     ┆     ┆     ┆     ┆     ┆     ┆     ┆     ┆     ┆     ┆     ┆     ┆     ┆     │\n",
       "└─────┴─────┴─────┴─────┴─────┴─────┴─────┴─────┴─────┴─────┴─────┴─────┴─────┴─────┴─────┴─────┴─────┴─────┴─────┴─────┴─────┴─────┴─────┴─────┴─────┴─────┴─────┴─────┴─────┴─────┴─────┴─────┴─────┴─────┴─────┴─────┴─────┴─────┴─────┴─────┴─────┴─────┴─────┴─────┴─────┴─────┴─────┴─────┴─────┴─────┴─────┴─────┴─────┴─────┴─────┴─────┴─────┴─────┴─────┴─────┴─────┴─────┴─────┴─────┴─────┴─────┴─────┴─────┴─────┴─────┴─────┴─────┴─────┴─────┴─────┴─────┴─────┴─────┴─────┴─────┴─────┴─────┴─────┴─────┴─────┴─────┴─────┴─────┴─────┴─────┴─────┴─────┴─────┴─────┘"
      ]
     },
     "metadata": {},
     "output_type": "display_data"
    }
   ],
   "source": [
    "with pl.Config(tbl_cols=-1, tbl_rows=100):\n",
    "    display(df_two.filter(c('PERMNO').eq(22798) & c('DlyCalDt').is_between(datetime.fromisoformat('2023-12-10'), datetime.fromisoformat('2023-12-20'))))"
   ]
  },
  {
   "cell_type": "markdown",
   "id": "29cb1407-16dc-4c18-8d0a-fc80acce65b2",
   "metadata": {},
   "source": [
    "## Pre - 2025-02-13\n",
    "## Reproducing `DlyPrevDt`\n",
    "## Sorted dataframe\n",
    "Note that the dataframe is already sorted by `['DlyCalDt', 'PERMNO']`"
   ]
  },
  {
   "cell_type": "code",
   "execution_count": 6,
   "id": "ebce6c2e-7c1b-4124-b5cf-e0d6f48f7621",
   "metadata": {
    "execution": {
     "iopub.execute_input": "2025-02-14T01:58:17.401227Z",
     "iopub.status.busy": "2025-02-14T01:58:17.400976Z",
     "iopub.status.idle": "2025-02-14T01:58:18.746988Z",
     "shell.execute_reply": "2025-02-14T01:58:18.746123Z",
     "shell.execute_reply.started": "2025-02-14T01:58:17.401208Z"
    }
   },
   "outputs": [],
   "source": [
    "df_crsp = pl.read_parquet('/home/hzhang/data/wrds/crsp_prevdt.parq')"
   ]
  },
  {
   "cell_type": "code",
   "execution_count": 7,
   "id": "726f62ce-cab1-4a1b-9617-85e08e29e31e",
   "metadata": {
    "execution": {
     "iopub.execute_input": "2025-02-14T01:58:18.748197Z",
     "iopub.status.busy": "2025-02-14T01:58:18.747783Z",
     "iopub.status.idle": "2025-02-14T01:58:18.952889Z",
     "shell.execute_reply": "2025-02-14T01:58:18.951954Z",
     "shell.execute_reply.started": "2025-02-14T01:58:18.748175Z"
    }
   },
   "outputs": [],
   "source": [
    "## assert non NaN in any float columns\n",
    "assert not any(df_crsp.select(pl.col(pl.Float64,pl.Float32)).select(pl.all().is_nan().any()).row(0)),  \"There are NaN values in at least one float column.\""
   ]
  },
  {
   "cell_type": "markdown",
   "id": "4c01f39e-e3c5-4761-b3dc-069fcfd89343",
   "metadata": {},
   "source": [
    "### Full logic\n",
    "\n",
    "`prev_cal_dt` is the *last*, *non-null* DlyPrc, up to 10 periods ago:\n",
    "1. *last*: so the present value is filled forward, and then `shift`ed\n",
    "2. *non-null*: thus the fill forward is only performed when `DlyPrc` is non-null (the `when` clause)\n",
    "3. up to 10 periods: thus there is a limit on fill forward periods, of 10-1 periods due to the `shift`\n"
   ]
  },
  {
   "cell_type": "code",
   "execution_count": 8,
   "id": "ac5dfe03-d503-4bef-9771-b4ec2d67a74e",
   "metadata": {
    "execution": {
     "iopub.execute_input": "2025-02-14T01:58:18.953773Z",
     "iopub.status.busy": "2025-02-14T01:58:18.953587Z",
     "iopub.status.idle": "2025-02-14T01:58:33.666030Z",
     "shell.execute_reply": "2025-02-14T01:58:33.664870Z",
     "shell.execute_reply.started": "2025-02-14T01:58:18.953759Z"
    }
   },
   "outputs": [],
   "source": [
    "max_missing_period = 10\n",
    "df = (df_crsp\n",
    "      .unique(subset=['DlyCalDt', 'PERMNO'], keep='first', maintain_order=True) # get rid of multiple rows of dividends\n",
    "      .with_columns(\n",
    "          prev_cal_dt = pl.when(c('DlyPrc').is_not_null()).then(c('DlyCalDt')).forward_fill(limit=max_missing_period-1).shift().over('PERMNO'))) #  "
   ]
  },
  {
   "cell_type": "markdown",
   "id": "75ce0f6f-0103-4dc2-9e09-90df1e2ae090",
   "metadata": {
    "execution": {
     "iopub.execute_input": "2025-02-12T21:18:20.497566Z",
     "iopub.status.busy": "2025-02-12T21:18:20.497322Z",
     "iopub.status.idle": "2025-02-12T21:18:20.515705Z",
     "shell.execute_reply": "2025-02-12T21:18:20.514855Z",
     "shell.execute_reply.started": "2025-02-12T21:18:20.497548Z"
    }
   },
   "source": [
    "## Compare to CRSP value\n",
    "1. Boundary effects: if the ground truth `DlyPrevDt` goes beyond dataframe's start_date, then it's OK not to match.\n",
    "2. Only care when `DlyPrc` is not null\n",
    "3. Use `ne_missing` so that `null` patterns match as well\n",
    "\n",
    "I'm left with a very small number of rows of mismatch, out of 67M rows. \n",
    "\n",
    "Note that a simple fix by setting `prev_cal_dt` to null when smaller than `SecInfoStartDt` results in many more mismatches elsewhere."
   ]
  },
  {
   "cell_type": "code",
   "execution_count": 9,
   "id": "0d5fa000-ca89-4b08-a76f-a21f19c75a2c",
   "metadata": {
    "execution": {
     "iopub.execute_input": "2025-02-14T01:58:33.667602Z",
     "iopub.status.busy": "2025-02-14T01:58:33.667385Z",
     "iopub.status.idle": "2025-02-14T01:58:33.882665Z",
     "shell.execute_reply": "2025-02-14T01:58:33.880189Z",
     "shell.execute_reply.started": "2025-02-14T01:58:33.667586Z"
    }
   },
   "outputs": [
    {
     "data": {
      "text/html": [
       "<div><style>\n",
       ".dataframe > thead > tr,\n",
       ".dataframe > tbody > tr {\n",
       "  text-align: right;\n",
       "  white-space: pre-wrap;\n",
       "}\n",
       "</style>\n",
       "<small>shape: (17, 11)</small><table border=\"1\" class=\"dataframe\"><thead><tr><th>PERMNO</th><th>SecInfoStartDt</th><th>SecInfoEndDt</th><th>HdrCUSIP</th><th>SecurityActiveFlg</th><th>Ticker</th><th>PERMCO</th><th>DlyCalDt</th><th>DlyPrc</th><th>DlyPrevDt</th><th>prev_cal_dt</th></tr><tr><td>f64</td><td>datetime[ns]</td><td>datetime[ns]</td><td>str</td><td>str</td><td>str</td><td>f64</td><td>datetime[ns]</td><td>f64</td><td>datetime[ns]</td><td>datetime[ns]</td></tr></thead><tbody><tr><td>11178.0</td><td>1994-08-03 00:00:00</td><td>1994-09-08 00:00:00</td><td>&quot;90462840&quot;</td><td>&quot;Y&quot;</td><td>&quot;UNRC&quot;</td><td>9026.0</td><td>1994-08-03 00:00:00</td><td>1.875</td><td>null</td><td>1994-07-20 00:00:00</td></tr><tr><td>81014.0</td><td>1995-06-26 00:00:00</td><td>1997-04-22 00:00:00</td><td>&quot;89323B20&quot;</td><td>&quot;Y&quot;</td><td>&quot;TSRG&quot;</td><td>13370.0</td><td>1995-06-26 00:00:00</td><td>1.0</td><td>null</td><td>1995-06-16 00:00:00</td></tr><tr><td>76942.0</td><td>1995-09-18 00:00:00</td><td>1996-04-01 00:00:00</td><td>&quot;29087M30&quot;</td><td>&quot;Y&quot;</td><td>&quot;EMRL&quot;</td><td>11091.0</td><td>1995-09-18 00:00:00</td><td>0.21875</td><td>null</td><td>1995-09-13 00:00:00</td></tr><tr><td>10155.0</td><td>1996-08-22 00:00:00</td><td>1997-02-06 00:00:00</td><td>&quot;28485330&quot;</td><td>&quot;Y&quot;</td><td>&quot;ELGT&quot;</td><td>8079.0</td><td>1996-08-22 00:00:00</td><td>1.125</td><td>null</td><td>1996-08-09 00:00:00</td></tr><tr><td>88459.0</td><td>2008-04-28 00:00:00</td><td>2008-06-26 00:00:00</td><td>&quot;69511V20&quot;</td><td>&quot;Y&quot;</td><td>&quot;PACT&quot;</td><td>37950.0</td><td>2008-04-28 00:00:00</td><td>0.9988</td><td>null</td><td>2008-04-24 00:00:00</td></tr><tr><td>&hellip;</td><td>&hellip;</td><td>&hellip;</td><td>&hellip;</td><td>&hellip;</td><td>&hellip;</td><td>&hellip;</td><td>&hellip;</td><td>&hellip;</td><td>&hellip;</td><td>&hellip;</td></tr><tr><td>14675.0</td><td>2020-06-10 00:00:00</td><td>2020-06-18 00:00:00</td><td>&quot;87876P20&quot;</td><td>&quot;Y&quot;</td><td>&quot;TGEN&quot;</td><td>54873.0</td><td>2020-06-10 00:00:00</td><td>0.75</td><td>null</td><td>2020-06-08 00:00:00</td></tr><tr><td>21018.0</td><td>2023-10-18 00:00:00</td><td>2023-11-05 00:00:00</td><td>&quot;02369M10&quot;</td><td>&quot;Y&quot;</td><td>&quot;AMAO&quot;</td><td>58077.0</td><td>2023-10-18 00:00:00</td><td>10.895</td><td>null</td><td>2023-10-13 00:00:00</td></tr><tr><td>22798.0</td><td>2023-12-18 00:00:00</td><td>2024-04-21 00:00:00</td><td>&quot;83204U60&quot;</td><td>&quot;Y&quot;</td><td>&quot;SMFL&quot;</td><td>59195.0</td><td>2023-12-18 00:00:00</td><td>0.6589</td><td>null</td><td>2023-12-14 00:00:00</td></tr><tr><td>21859.0</td><td>2024-07-08 00:00:00</td><td>2024-12-26 00:00:00</td><td>&quot;G2263T12&quot;</td><td>&quot;Y&quot;</td><td>&quot;MITA&quot;</td><td>58478.0</td><td>2024-07-08 00:00:00</td><td>11.035</td><td>null</td><td>2024-07-03 00:00:00</td></tr><tr><td>22549.0</td><td>2024-11-07 00:00:00</td><td>2024-12-31 00:00:00</td><td>&quot;25193610&quot;</td><td>&quot;Y&quot;</td><td>&quot;DEVS&quot;</td><td>58851.0</td><td>2024-11-07 00:00:00</td><td>1.06</td><td>null</td><td>2024-11-01 00:00:00</td></tr></tbody></table></div>"
      ],
      "text/plain": [
       "shape: (17, 11)\n",
       "┌────────┬────────┬────────┬────────┬────────┬────────┬────────┬────────┬────────┬────────┬────────┐\n",
       "│ PERMNO ┆ SecInf ┆ SecInf ┆ HdrCUS ┆ Securi ┆ Ticker ┆ PERMCO ┆ DlyCal ┆ DlyPrc ┆ DlyPre ┆ prev_c │\n",
       "│ ---    ┆ oStart ┆ oEndDt ┆ IP     ┆ tyActi ┆ ---    ┆ ---    ┆ Dt     ┆ ---    ┆ vDt    ┆ al_dt  │\n",
       "│ f64    ┆ Dt     ┆ ---    ┆ ---    ┆ veFlg  ┆ str    ┆ f64    ┆ ---    ┆ f64    ┆ ---    ┆ ---    │\n",
       "│        ┆ ---    ┆ dateti ┆ str    ┆ ---    ┆        ┆        ┆ dateti ┆        ┆ dateti ┆ dateti │\n",
       "│        ┆ dateti ┆ me[ns] ┆        ┆ str    ┆        ┆        ┆ me[ns] ┆        ┆ me[ns] ┆ me[ns] │\n",
       "│        ┆ me[ns] ┆        ┆        ┆        ┆        ┆        ┆        ┆        ┆        ┆        │\n",
       "╞════════╪════════╪════════╪════════╪════════╪════════╪════════╪════════╪════════╪════════╪════════╡\n",
       "│ 11178. ┆ 1994-0 ┆ 1994-0 ┆ 904628 ┆ Y      ┆ UNRC   ┆ 9026.0 ┆ 1994-0 ┆ 1.875  ┆ null   ┆ 1994-0 │\n",
       "│ 0      ┆ 8-03   ┆ 9-08   ┆ 40     ┆        ┆        ┆        ┆ 8-03   ┆        ┆        ┆ 7-20   │\n",
       "│        ┆ 00:00: ┆ 00:00: ┆        ┆        ┆        ┆        ┆ 00:00: ┆        ┆        ┆ 00:00: │\n",
       "│        ┆ 00     ┆ 00     ┆        ┆        ┆        ┆        ┆ 00     ┆        ┆        ┆ 00     │\n",
       "│ 81014. ┆ 1995-0 ┆ 1997-0 ┆ 89323B ┆ Y      ┆ TSRG   ┆ 13370. ┆ 1995-0 ┆ 1.0    ┆ null   ┆ 1995-0 │\n",
       "│ 0      ┆ 6-26   ┆ 4-22   ┆ 20     ┆        ┆        ┆ 0      ┆ 6-26   ┆        ┆        ┆ 6-16   │\n",
       "│        ┆ 00:00: ┆ 00:00: ┆        ┆        ┆        ┆        ┆ 00:00: ┆        ┆        ┆ 00:00: │\n",
       "│        ┆ 00     ┆ 00     ┆        ┆        ┆        ┆        ┆ 00     ┆        ┆        ┆ 00     │\n",
       "│ 76942. ┆ 1995-0 ┆ 1996-0 ┆ 29087M ┆ Y      ┆ EMRL   ┆ 11091. ┆ 1995-0 ┆ 0.2187 ┆ null   ┆ 1995-0 │\n",
       "│ 0      ┆ 9-18   ┆ 4-01   ┆ 30     ┆        ┆        ┆ 0      ┆ 9-18   ┆ 5      ┆        ┆ 9-13   │\n",
       "│        ┆ 00:00: ┆ 00:00: ┆        ┆        ┆        ┆        ┆ 00:00: ┆        ┆        ┆ 00:00: │\n",
       "│        ┆ 00     ┆ 00     ┆        ┆        ┆        ┆        ┆ 00     ┆        ┆        ┆ 00     │\n",
       "│ 10155. ┆ 1996-0 ┆ 1997-0 ┆ 284853 ┆ Y      ┆ ELGT   ┆ 8079.0 ┆ 1996-0 ┆ 1.125  ┆ null   ┆ 1996-0 │\n",
       "│ 0      ┆ 8-22   ┆ 2-06   ┆ 30     ┆        ┆        ┆        ┆ 8-22   ┆        ┆        ┆ 8-09   │\n",
       "│        ┆ 00:00: ┆ 00:00: ┆        ┆        ┆        ┆        ┆ 00:00: ┆        ┆        ┆ 00:00: │\n",
       "│        ┆ 00     ┆ 00     ┆        ┆        ┆        ┆        ┆ 00     ┆        ┆        ┆ 00     │\n",
       "│ 88459. ┆ 2008-0 ┆ 2008-0 ┆ 69511V ┆ Y      ┆ PACT   ┆ 37950. ┆ 2008-0 ┆ 0.9988 ┆ null   ┆ 2008-0 │\n",
       "│ 0      ┆ 4-28   ┆ 6-26   ┆ 20     ┆        ┆        ┆ 0      ┆ 4-28   ┆        ┆        ┆ 4-24   │\n",
       "│        ┆ 00:00: ┆ 00:00: ┆        ┆        ┆        ┆        ┆ 00:00: ┆        ┆        ┆ 00:00: │\n",
       "│        ┆ 00     ┆ 00     ┆        ┆        ┆        ┆        ┆ 00     ┆        ┆        ┆ 00     │\n",
       "│ …      ┆ …      ┆ …      ┆ …      ┆ …      ┆ …      ┆ …      ┆ …      ┆ …      ┆ …      ┆ …      │\n",
       "│ 14675. ┆ 2020-0 ┆ 2020-0 ┆ 87876P ┆ Y      ┆ TGEN   ┆ 54873. ┆ 2020-0 ┆ 0.75   ┆ null   ┆ 2020-0 │\n",
       "│ 0      ┆ 6-10   ┆ 6-18   ┆ 20     ┆        ┆        ┆ 0      ┆ 6-10   ┆        ┆        ┆ 6-08   │\n",
       "│        ┆ 00:00: ┆ 00:00: ┆        ┆        ┆        ┆        ┆ 00:00: ┆        ┆        ┆ 00:00: │\n",
       "│        ┆ 00     ┆ 00     ┆        ┆        ┆        ┆        ┆ 00     ┆        ┆        ┆ 00     │\n",
       "│ 21018. ┆ 2023-1 ┆ 2023-1 ┆ 02369M ┆ Y      ┆ AMAO   ┆ 58077. ┆ 2023-1 ┆ 10.895 ┆ null   ┆ 2023-1 │\n",
       "│ 0      ┆ 0-18   ┆ 1-05   ┆ 10     ┆        ┆        ┆ 0      ┆ 0-18   ┆        ┆        ┆ 0-13   │\n",
       "│        ┆ 00:00: ┆ 00:00: ┆        ┆        ┆        ┆        ┆ 00:00: ┆        ┆        ┆ 00:00: │\n",
       "│        ┆ 00     ┆ 00     ┆        ┆        ┆        ┆        ┆ 00     ┆        ┆        ┆ 00     │\n",
       "│ 22798. ┆ 2023-1 ┆ 2024-0 ┆ 83204U ┆ Y      ┆ SMFL   ┆ 59195. ┆ 2023-1 ┆ 0.6589 ┆ null   ┆ 2023-1 │\n",
       "│ 0      ┆ 2-18   ┆ 4-21   ┆ 60     ┆        ┆        ┆ 0      ┆ 2-18   ┆        ┆        ┆ 2-14   │\n",
       "│        ┆ 00:00: ┆ 00:00: ┆        ┆        ┆        ┆        ┆ 00:00: ┆        ┆        ┆ 00:00: │\n",
       "│        ┆ 00     ┆ 00     ┆        ┆        ┆        ┆        ┆ 00     ┆        ┆        ┆ 00     │\n",
       "│ 21859. ┆ 2024-0 ┆ 2024-1 ┆ G2263T ┆ Y      ┆ MITA   ┆ 58478. ┆ 2024-0 ┆ 11.035 ┆ null   ┆ 2024-0 │\n",
       "│ 0      ┆ 7-08   ┆ 2-26   ┆ 12     ┆        ┆        ┆ 0      ┆ 7-08   ┆        ┆        ┆ 7-03   │\n",
       "│        ┆ 00:00: ┆ 00:00: ┆        ┆        ┆        ┆        ┆ 00:00: ┆        ┆        ┆ 00:00: │\n",
       "│        ┆ 00     ┆ 00     ┆        ┆        ┆        ┆        ┆ 00     ┆        ┆        ┆ 00     │\n",
       "│ 22549. ┆ 2024-1 ┆ 2024-1 ┆ 251936 ┆ Y      ┆ DEVS   ┆ 58851. ┆ 2024-1 ┆ 1.06   ┆ null   ┆ 2024-1 │\n",
       "│ 0      ┆ 1-07   ┆ 2-31   ┆ 10     ┆        ┆        ┆ 0      ┆ 1-07   ┆        ┆        ┆ 1-01   │\n",
       "│        ┆ 00:00: ┆ 00:00: ┆        ┆        ┆        ┆        ┆ 00:00: ┆        ┆        ┆ 00:00: │\n",
       "│        ┆ 00     ┆ 00     ┆        ┆        ┆        ┆        ┆ 00     ┆        ┆        ┆ 00     │\n",
       "└────────┴────────┴────────┴────────┴────────┴────────┴────────┴────────┴────────┴────────┴────────┘"
      ]
     },
     "metadata": {},
     "output_type": "display_data"
    }
   ],
   "source": [
    "min_date = df['DlyCalDt'].min()\n",
    "with pl.Config(tbl_cols=-1):\n",
    "    display(df.filter(\n",
    "        (c('DlyPrevDt').ge(min_date) | c('DlyPrevDt').is_null()) &\n",
    "        c(\"DlyPrc\").is_not_null() &\n",
    "        c('DlyPrevDt').ne_missing(c('prev_cal_dt')))\n",
    "            )"
   ]
  },
  {
   "cell_type": "code",
   "execution_count": 10,
   "id": "dd2e1e1b-c1f7-48f4-bfc8-dfbc0c35dada",
   "metadata": {
    "execution": {
     "iopub.execute_input": "2025-02-14T01:58:33.885101Z",
     "iopub.status.busy": "2025-02-14T01:58:33.884761Z",
     "iopub.status.idle": "2025-02-14T01:58:33.900256Z",
     "shell.execute_reply": "2025-02-14T01:58:33.897048Z",
     "shell.execute_reply.started": "2025-02-14T01:58:33.885077Z"
    }
   },
   "outputs": [
    {
     "data": {
      "text/plain": [
       "(67644099, 11)"
      ]
     },
     "execution_count": 10,
     "metadata": {},
     "output_type": "execute_result"
    }
   ],
   "source": [
    "df.shape"
   ]
  },
  {
   "cell_type": "code",
   "execution_count": null,
   "id": "597a9b0a-4194-46fd-b382-111010c69720",
   "metadata": {},
   "outputs": [],
   "source": []
  }
 ],
 "metadata": {
  "kernelspec": {
   "display_name": "Python 3 (ipykernel)",
   "language": "python",
   "name": "python3"
  },
  "language_info": {
   "codemirror_mode": {
    "name": "ipython",
    "version": 3
   },
   "file_extension": ".py",
   "mimetype": "text/x-python",
   "name": "python",
   "nbconvert_exporter": "python",
   "pygments_lexer": "ipython3",
   "version": "3.12.3"
  }
 },
 "nbformat": 4,
 "nbformat_minor": 5
}
