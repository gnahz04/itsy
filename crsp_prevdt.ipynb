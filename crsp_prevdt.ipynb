{
 "cells": [
  {
   "cell_type": "code",
   "execution_count": 1,
   "id": "2370ac99-b8db-4adc-8481-aa6187f24087",
   "metadata": {
    "execution": {
     "iopub.execute_input": "2025-02-12T21:32:50.921278Z",
     "iopub.status.busy": "2025-02-12T21:32:50.920257Z",
     "iopub.status.idle": "2025-02-12T21:32:51.006064Z",
     "shell.execute_reply": "2025-02-12T21:32:51.005275Z",
     "shell.execute_reply.started": "2025-02-12T21:32:50.921223Z"
    }
   },
   "outputs": [],
   "source": [
    "import polars as pl\n",
    "from polars import col as c\n",
    "from datetime import datetime"
   ]
  },
  {
   "cell_type": "markdown",
   "id": "29cb1407-16dc-4c18-8d0a-fc80acce65b2",
   "metadata": {},
   "source": [
    "## Reproducing `DlyPrevDt`\n",
    "## Sorted dataframe\n",
    "Note that the dataframe is already sorted by `['DlyCalDt', 'PERMNO']`"
   ]
  },
  {
   "cell_type": "code",
   "execution_count": 2,
   "id": "ebce6c2e-7c1b-4124-b5cf-e0d6f48f7621",
   "metadata": {
    "execution": {
     "iopub.execute_input": "2025-02-12T21:32:51.006867Z",
     "iopub.status.busy": "2025-02-12T21:32:51.006689Z",
     "iopub.status.idle": "2025-02-12T21:32:51.807518Z",
     "shell.execute_reply": "2025-02-12T21:32:51.806687Z",
     "shell.execute_reply.started": "2025-02-12T21:32:51.006852Z"
    }
   },
   "outputs": [],
   "source": [
    "df_crsp = pl.read_parquet('/home/hzhang/data/wrds/crsp_prevdt.parq')"
   ]
  },
  {
   "cell_type": "code",
   "execution_count": 3,
   "id": "726f62ce-cab1-4a1b-9617-85e08e29e31e",
   "metadata": {
    "execution": {
     "iopub.execute_input": "2025-02-12T21:32:51.808431Z",
     "iopub.status.busy": "2025-02-12T21:32:51.808230Z",
     "iopub.status.idle": "2025-02-12T21:32:52.017131Z",
     "shell.execute_reply": "2025-02-12T21:32:52.016328Z",
     "shell.execute_reply.started": "2025-02-12T21:32:51.808416Z"
    }
   },
   "outputs": [],
   "source": [
    "## assert non NaN in any float columns\n",
    "assert not any(df_crsp.select(pl.col(pl.Float64,pl.Float32)).select(pl.all().is_nan().any()).row(0)),  \"There are NaN values in at least one float column.\""
   ]
  },
  {
   "cell_type": "markdown",
   "id": "4c01f39e-e3c5-4761-b3dc-069fcfd89343",
   "metadata": {},
   "source": [
    "### Full logic\n",
    "\n",
    "`prev_cal_dt` is the *last*, *non-null* DlyPrc, up to 10 periods ago:\n",
    "1. *last*: so the present value is filled forward, and then `shift`ed\n",
    "2. *non-null*: thus the fill forward is only performed when `DlyPrc` is non-null (the `when` clause)\n",
    "3. up to 10 periods: thus there is a limit on fill forward periods, of 10-1 periods due to the `shift`\n"
   ]
  },
  {
   "cell_type": "code",
   "execution_count": null,
   "id": "ac5dfe03-d503-4bef-9771-b4ec2d67a74e",
   "metadata": {
    "execution": {
     "iopub.execute_input": "2025-02-12T21:32:52.018235Z",
     "iopub.status.busy": "2025-02-12T21:32:52.017830Z"
    }
   },
   "outputs": [],
   "source": [
    "max_missing_period = 10\n",
    "df = (df_crsp\n",
    "      .unique(subset=['DlyCalDt', 'PERMNO'], keep='first', maintain_order=True) # get rid of multiple rows of dividends\n",
    "      .with_columns(\n",
    "          prev_cal_dt = pl.when(c('DlyPrc').is_not_null()).then(c('DlyCalDt')).forward_fill(limit=max_missing_period-1).shift().over('PERMNO'))) #  "
   ]
  },
  {
   "cell_type": "markdown",
   "id": "75ce0f6f-0103-4dc2-9e09-90df1e2ae090",
   "metadata": {
    "execution": {
     "iopub.execute_input": "2025-02-12T21:18:20.497566Z",
     "iopub.status.busy": "2025-02-12T21:18:20.497322Z",
     "iopub.status.idle": "2025-02-12T21:18:20.515705Z",
     "shell.execute_reply": "2025-02-12T21:18:20.514855Z",
     "shell.execute_reply.started": "2025-02-12T21:18:20.497548Z"
    }
   },
   "source": [
    "## Compare to CRSP value\n",
    "1. Boundary effects: if the ground truth `DlyPrevDt` goes beyond dataframe's start_date, then it's OK not to match.\n",
    "2. Only care when `DlyPrc` is not null\n",
    "3. Use `ne_missing` so that `null` patterns match as well\n",
    "\n",
    "I'm left with a very small number of rows of mismatch, out of 67M rows. \n",
    "\n",
    "Note that a simple fix by setting `prev_cal_dt` to null when smaller than `SecInfoStartDt` results in many more mismatches elsewhere."
   ]
  },
  {
   "cell_type": "code",
   "execution_count": null,
   "id": "0d5fa000-ca89-4b08-a76f-a21f19c75a2c",
   "metadata": {},
   "outputs": [],
   "source": [
    "min_date = df['DlyCalDt'].min()\n",
    "with pl.Config(tbl_cols=-1):\n",
    "    display(df.filter(\n",
    "        (c('DlyPrevDt').ge(min_date) | c('DlyPrevDt').is_null()) &\n",
    "        c(\"DlyPrc\").is_not_null() &\n",
    "        c('DlyPrevDt').ne_missing(c('prev_cal_dt')))\n",
    "            )"
   ]
  },
  {
   "cell_type": "code",
   "execution_count": null,
   "id": "dd2e1e1b-c1f7-48f4-bfc8-dfbc0c35dada",
   "metadata": {},
   "outputs": [],
   "source": [
    "df.shape"
   ]
  },
  {
   "cell_type": "code",
   "execution_count": null,
   "id": "597a9b0a-4194-46fd-b382-111010c69720",
   "metadata": {},
   "outputs": [],
   "source": []
  }
 ],
 "metadata": {
  "kernelspec": {
   "display_name": "Python 3 (ipykernel)",
   "language": "python",
   "name": "python3"
  },
  "language_info": {
   "codemirror_mode": {
    "name": "ipython",
    "version": 3
   },
   "file_extension": ".py",
   "mimetype": "text/x-python",
   "name": "python",
   "nbconvert_exporter": "python",
   "pygments_lexer": "ipython3",
   "version": "3.12.3"
  }
 },
 "nbformat": 4,
 "nbformat_minor": 5
}
