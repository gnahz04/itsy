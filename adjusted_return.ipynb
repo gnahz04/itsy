{
 "cells": [
  {
   "cell_type": "markdown",
   "id": "dde0a3ef-4fa2-47e4-b034-384586aa1102",
   "metadata": {},
   "source": [
    "## Adjusted return definitions\n",
    "\n",
    "### Notations\n",
    "Let $t_1$ be the ex-dividend date (or ex-date), $t_0$ be one day before ex-date; let $p_1, p_0$ be the close price on those two dates; let $d$ be the dividend amount.\n",
    "\n",
    "### Yahoo\n",
    "Yahoo claims that the adjustment is done \"adhering to CRSP standards\" [link](https://help.yahoo.com/kb/SLN28256.html) and shows  examples of how the \"dividend multiplier\" is computed as $$1 - \\frac{d}{p_0}$$ Thus the return from $t_0$ to $t_1$ is $$\\frac{p_1}{(1-\\frac{d}{p_0})p_0}-1 = \\frac{p_1}{p_0-d}-1 \\qquad (1) $$\n",
    "\n",
    "### CRSP\n",
    "Per documentation [link](https://www.crsp.org/wp-content/uploads/guides/CRSP_US_Stock_&_Indexes_Database_Data_Descriptions_Guide.pdf) p. 86, \"`Total Return = (adjprc + (divamt/cumfacpr/facpr))/pre_adjprc - 1`\". For simplicity, assuming we are at the start of the price series, so that `adjprc` is just price; and there have been no splits, so that `cumfacpr` = `facpr` = 1, thus the return is computed as\n",
    "$$ (p_1 + d)/ p_0 - 1 \\qquad (2)$$\n",
    "\n",
    "### Difference\n",
    "A routine computation shows that\n",
    "$$ (1) > (2) \\quad \\Longleftrightarrow \\quad p_1-p_0+d > 0$$\n",
    "Namely the sign of the error depends on if $p_1 \\lessgtr p_0 - d$, namely whether the price just dropped by dividend amount on ex-date, which is the usual way to think about dividend payment effect on stock price."
   ]
  },
  {
   "cell_type": "code",
   "execution_count": 1,
   "id": "190be688-eae9-46b1-82e6-232e956a3ba5",
   "metadata": {
    "execution": {
     "iopub.execute_input": "2025-02-02T05:18:08.434590Z",
     "iopub.status.busy": "2025-02-02T05:18:08.434268Z",
     "iopub.status.idle": "2025-02-02T05:18:09.056074Z",
     "shell.execute_reply": "2025-02-02T05:18:09.054979Z",
     "shell.execute_reply.started": "2025-02-02T05:18:08.434572Z"
    }
   },
   "outputs": [],
   "source": [
    "import polars as pl\n",
    "from polars import col as c\n",
    "from datetime import datetime\n",
    "import numpy as np\n",
    "import pandas as pd"
   ]
  },
  {
   "cell_type": "markdown",
   "id": "3d90b397-1c7b-417c-aedc-e0008b3f846a",
   "metadata": {},
   "source": [
    "### Real world example 1\n",
    "\n",
    "COSTCO issued a $15 dividend at year-end 2023 [link](https://investor.costco.com/stock-info/dividend-history/default.aspx)\n"
   ]
  },
  {
   "cell_type": "code",
   "execution_count": 2,
   "id": "809e016f-4822-4259-8fd4-c4ace5bbfc2e",
   "metadata": {
    "execution": {
     "iopub.execute_input": "2025-02-02T05:18:09.056966Z",
     "iopub.status.busy": "2025-02-02T05:18:09.056734Z",
     "iopub.status.idle": "2025-02-02T05:18:09.102516Z",
     "shell.execute_reply": "2025-02-02T05:18:09.101855Z",
     "shell.execute_reply.started": "2025-02-02T05:18:09.056951Z"
    }
   },
   "outputs": [
    {
     "data": {
      "text/html": [
       "<div><style>\n",
       ".dataframe > thead > tr,\n",
       ".dataframe > tbody > tr {\n",
       "  text-align: right;\n",
       "  white-space: pre-wrap;\n",
       "}\n",
       "</style>\n",
       "<small>shape: (4, 94)</small><table border=\"1\" class=\"dataframe\"><thead><tr><th>PERMNO</th><th>SecInfoStartDt</th><th>SecInfoEndDt</th><th>SecurityBegDt</th><th>SecurityEndDt</th><th>SecurityHdrFlg</th><th>HdrCUSIP</th><th>HdrCUSIP9</th><th>CUSIP</th><th>CUSIP9</th><th>PrimaryExch</th><th>ConditionalType</th><th>ExchangeTier</th><th>TradingStatusFlg</th><th>SecurityNm</th><th>ShareClass</th><th>USIncFlg</th><th>IssuerType</th><th>SecurityType</th><th>SecuritySubType</th><th>ShareType</th><th>SecurityActiveFlg</th><th>DelActionType</th><th>DelStatusType</th><th>DelReasonType</th><th>DelPaymentType</th><th>Ticker</th><th>TradingSymbol</th><th>PERMCO</th><th>SICCD</th><th>NAICS</th><th>ICBIndustry</th><th>NASDCompno</th><th>NASDIssuno</th><th>IssuerNm</th><th>YYYYMMDD</th><th>DlyCalDt</th><th>DlyDelFlg</th><th>DlyPrc</th><th>DlyPrcFlg</th><th>DlyCap</th><th>DlyCapFlg</th><th>DlyPrevPrc</th><th>DlyPrevPrcFlg</th><th>DlyPrevDt</th><th>DlyPrevCap</th><th>DlyPrevCapFlg</th><th>DlyRet</th><th>DlyRetx</th><th>DlyRetI</th><th>DlyRetMissFlg</th><th>DlyRetDurFlg</th><th>DlyOrdDivAmt</th><th>DlyNonOrdDivAmt</th><th>DlyFacPrc</th><th>DlyDistRetFlg</th><th>DlyVol</th><th>DlyClose</th><th>DlyLow</th><th>DlyHigh</th><th>DlyBid</th><th>DlyAsk</th><th>DlyOpen</th><th>DlyNumTrd</th><th>DlyMMCnt</th><th>DlyPrcVol</th><th>ShrStartDt</th><th>ShrEndDt</th><th>ShrOut</th><th>ShrSource</th><th>ShrFacType</th><th>ShrAdrFlg</th><th>DisExDt</th><th>DisSeqNbr</th><th>DisOrdinaryFlg</th><th>DisType</th><th>DisFreqType</th><th>DisPaymentType</th><th>DisDetailType</th><th>DisTaxType</th><th>DisOrigCurType</th><th>DisDivAmt</th><th>DisFacPr</th><th>DisFacShr</th><th>DisDeclareDt</th><th>DisRecordDt</th><th>DisPayDt</th><th>DisPERMNO</th><th>DisPERMCO</th><th>vwretd</th><th>vwretx</th><th>ewretd</th><th>ewretx</th><th>sprtrn</th></tr><tr><td>f64</td><td>datetime[ns]</td><td>datetime[ns]</td><td>datetime[ns]</td><td>datetime[ns]</td><td>str</td><td>str</td><td>str</td><td>str</td><td>str</td><td>str</td><td>str</td><td>str</td><td>str</td><td>str</td><td>str</td><td>str</td><td>str</td><td>str</td><td>str</td><td>str</td><td>str</td><td>str</td><td>str</td><td>str</td><td>str</td><td>str</td><td>str</td><td>f64</td><td>f64</td><td>str</td><td>str</td><td>f64</td><td>f64</td><td>str</td><td>f64</td><td>datetime[ns]</td><td>str</td><td>f64</td><td>str</td><td>f64</td><td>str</td><td>f64</td><td>str</td><td>datetime[ns]</td><td>f64</td><td>str</td><td>f64</td><td>f64</td><td>f64</td><td>str</td><td>str</td><td>f64</td><td>f64</td><td>f64</td><td>str</td><td>f64</td><td>f64</td><td>f64</td><td>f64</td><td>f64</td><td>f64</td><td>f64</td><td>f64</td><td>f64</td><td>f64</td><td>datetime[ns]</td><td>datetime[ns]</td><td>f64</td><td>str</td><td>str</td><td>str</td><td>datetime[ns]</td><td>f64</td><td>str</td><td>str</td><td>str</td><td>str</td><td>str</td><td>str</td><td>str</td><td>f64</td><td>f64</td><td>f64</td><td>datetime[ns]</td><td>datetime[ns]</td><td>datetime[ns]</td><td>f64</td><td>f64</td><td>f64</td><td>f64</td><td>f64</td><td>f64</td><td>f64</td></tr></thead><tbody><tr><td>87055.0</td><td>2023-10-01 00:00:00</td><td>2023-12-29 00:00:00</td><td>1985-11-27 00:00:00</td><td>2023-12-29 00:00:00</td><td>&quot;Y&quot;</td><td>&quot;22160K10&quot;</td><td>&quot;22160K105&quot;</td><td>&quot;22160K10&quot;</td><td>&quot;22160K105&quot;</td><td>&quot;Q&quot;</td><td>&quot;RW&quot;</td><td>&quot;S&quot;</td><td>&quot;A&quot;</td><td>&quot;COSTCO WHOLESALE CORP NEW; COM…</td><td>&quot;&quot;</td><td>&quot;Y&quot;</td><td>&quot;CORP&quot;</td><td>&quot;EQTY&quot;</td><td>&quot;COM&quot;</td><td>&quot;NS&quot;</td><td>&quot;Y&quot;</td><td>&quot;N/A&quot;</td><td>&quot;UNAV&quot;</td><td>&quot;NACT&quot;</td><td>&quot;UNAV&quot;</td><td>&quot;COST&quot;</td><td>&quot;COST&quot;</td><td>7882.0</td><td>5330.0</td><td>&quot;452319&quot;</td><td>&quot;NOAVAIL&quot;</td><td>6.0012633e7</td><td>17254.0</td><td>&quot;COSTCO WHOLESALE CORP NEW&quot;</td><td>2.0231226e7</td><td>2023-12-26 00:00:00</td><td>&quot;N&quot;</td><td>674.62</td><td>&quot;TR&quot;</td><td>2.9939e8</td><td>&quot;BP&quot;</td><td>671.6</td><td>&quot;TR&quot;</td><td>2023-12-22 00:00:00</td><td>2.9805e8</td><td>&quot;PB&quot;</td><td>0.004497</td><td>0.004497</td><td>0.0</td><td>&quot;NA&quot;</td><td>&quot;D4&quot;</td><td>0.0</td><td>0.0</td><td>1.0</td><td>&quot;NO&quot;</td><td>1.760867e6</td><td>674.62</td><td>670.78</td><td>675.86</td><td>674.61</td><td>674.62</td><td>673.01</td><td>54823.0</td><td>55.0</td><td>1.1879e9</td><td>2023-11-24 00:00:00</td><td>2023-12-29 00:00:00</td><td>443787.0</td><td>&quot;OBS&quot;</td><td>&quot;NA&quot;</td><td>&quot;N&quot;</td><td>null</td><td>null</td><td>&quot;&quot;</td><td>&quot;&quot;</td><td>&quot;&quot;</td><td>&quot;&quot;</td><td>&quot;&quot;</td><td>&quot;&quot;</td><td>&quot;&quot;</td><td>null</td><td>null</td><td>null</td><td>null</td><td>null</td><td>null</td><td>null</td><td>null</td><td>0.005218</td><td>0.005199</td><td>0.009674</td><td>0.009299</td><td>0.004232</td></tr><tr><td>87055.0</td><td>2023-10-01 00:00:00</td><td>2023-12-29 00:00:00</td><td>1985-11-27 00:00:00</td><td>2023-12-29 00:00:00</td><td>&quot;Y&quot;</td><td>&quot;22160K10&quot;</td><td>&quot;22160K105&quot;</td><td>&quot;22160K10&quot;</td><td>&quot;22160K105&quot;</td><td>&quot;Q&quot;</td><td>&quot;RW&quot;</td><td>&quot;S&quot;</td><td>&quot;A&quot;</td><td>&quot;COSTCO WHOLESALE CORP NEW; COM…</td><td>&quot;&quot;</td><td>&quot;Y&quot;</td><td>&quot;CORP&quot;</td><td>&quot;EQTY&quot;</td><td>&quot;COM&quot;</td><td>&quot;NS&quot;</td><td>&quot;Y&quot;</td><td>&quot;N/A&quot;</td><td>&quot;UNAV&quot;</td><td>&quot;NACT&quot;</td><td>&quot;UNAV&quot;</td><td>&quot;COST&quot;</td><td>&quot;COST&quot;</td><td>7882.0</td><td>5330.0</td><td>&quot;452319&quot;</td><td>&quot;NOAVAIL&quot;</td><td>6.0012633e7</td><td>17254.0</td><td>&quot;COSTCO WHOLESALE CORP NEW&quot;</td><td>2.0231227e7</td><td>2023-12-27 00:00:00</td><td>&quot;N&quot;</td><td>666.8</td><td>&quot;TR&quot;</td><td>2.9592e8</td><td>&quot;BP&quot;</td><td>674.62</td><td>&quot;TR&quot;</td><td>2023-12-26 00:00:00</td><td>2.9939e8</td><td>&quot;PB&quot;</td><td>0.010643</td><td>-0.011592</td><td>0.022235</td><td>&quot;NA&quot;</td><td>&quot;D1&quot;</td><td>15.0</td><td>0.0</td><td>1.0</td><td>&quot;C1&quot;</td><td>1.855047e6</td><td>666.8</td><td>660.4</td><td>668.58</td><td>666.82</td><td>667.0</td><td>662.7</td><td>63649.0</td><td>55.0</td><td>1.2369e9</td><td>2023-11-24 00:00:00</td><td>2023-12-29 00:00:00</td><td>443787.0</td><td>&quot;OBS&quot;</td><td>&quot;NA&quot;</td><td>&quot;N&quot;</td><td>2023-12-27 00:00:00</td><td>1.0</td><td>&quot;Y&quot;</td><td>&quot;SD&quot;</td><td>&quot;E&quot;</td><td>&quot;USD&quot;</td><td>&quot;SDIV&quot;</td><td>&quot;D&quot;</td><td>&quot;USD&quot;</td><td>15.0</td><td>0.0</td><td>0.0</td><td>2023-12-14 00:00:00</td><td>2023-12-28 00:00:00</td><td>2024-01-12 00:00:00</td><td>0.0</td><td>0.0</td><td>0.001995</td><td>0.001807</td><td>0.005276</td><td>0.004907</td><td>0.00143</td></tr><tr><td>87055.0</td><td>2023-10-01 00:00:00</td><td>2023-12-29 00:00:00</td><td>1985-11-27 00:00:00</td><td>2023-12-29 00:00:00</td><td>&quot;Y&quot;</td><td>&quot;22160K10&quot;</td><td>&quot;22160K105&quot;</td><td>&quot;22160K10&quot;</td><td>&quot;22160K105&quot;</td><td>&quot;Q&quot;</td><td>&quot;RW&quot;</td><td>&quot;S&quot;</td><td>&quot;A&quot;</td><td>&quot;COSTCO WHOLESALE CORP NEW; COM…</td><td>&quot;&quot;</td><td>&quot;Y&quot;</td><td>&quot;CORP&quot;</td><td>&quot;EQTY&quot;</td><td>&quot;COM&quot;</td><td>&quot;NS&quot;</td><td>&quot;Y&quot;</td><td>&quot;N/A&quot;</td><td>&quot;UNAV&quot;</td><td>&quot;NACT&quot;</td><td>&quot;UNAV&quot;</td><td>&quot;COST&quot;</td><td>&quot;COST&quot;</td><td>7882.0</td><td>5330.0</td><td>&quot;452319&quot;</td><td>&quot;NOAVAIL&quot;</td><td>6.0012633e7</td><td>17254.0</td><td>&quot;COSTCO WHOLESALE CORP NEW&quot;</td><td>2.0231228e7</td><td>2023-12-28 00:00:00</td><td>&quot;N&quot;</td><td>663.1</td><td>&quot;TR&quot;</td><td>2.9428e8</td><td>&quot;BP&quot;</td><td>666.8</td><td>&quot;TR&quot;</td><td>2023-12-27 00:00:00</td><td>2.9592e8</td><td>&quot;PB&quot;</td><td>-0.005549</td><td>-0.005549</td><td>0.0</td><td>&quot;NA&quot;</td><td>&quot;D1&quot;</td><td>0.0</td><td>0.0</td><td>1.0</td><td>&quot;NO&quot;</td><td>1.480505e6</td><td>663.1</td><td>661.5901</td><td>666.86</td><td>663.1</td><td>663.29</td><td>665.85</td><td>61970.0</td><td>55.0</td><td>9.8172e8</td><td>2023-11-24 00:00:00</td><td>2023-12-29 00:00:00</td><td>443787.0</td><td>&quot;OBS&quot;</td><td>&quot;NA&quot;</td><td>&quot;N&quot;</td><td>null</td><td>null</td><td>&quot;&quot;</td><td>&quot;&quot;</td><td>&quot;&quot;</td><td>&quot;&quot;</td><td>&quot;&quot;</td><td>&quot;&quot;</td><td>&quot;&quot;</td><td>null</td><td>null</td><td>null</td><td>null</td><td>null</td><td>null</td><td>null</td><td>null</td><td>-0.000108</td><td>-0.000295</td><td>0.002042</td><td>0.001428</td><td>0.00037</td></tr><tr><td>87055.0</td><td>2023-10-01 00:00:00</td><td>2023-12-29 00:00:00</td><td>1985-11-27 00:00:00</td><td>2023-12-29 00:00:00</td><td>&quot;Y&quot;</td><td>&quot;22160K10&quot;</td><td>&quot;22160K105&quot;</td><td>&quot;22160K10&quot;</td><td>&quot;22160K105&quot;</td><td>&quot;Q&quot;</td><td>&quot;RW&quot;</td><td>&quot;S&quot;</td><td>&quot;A&quot;</td><td>&quot;COSTCO WHOLESALE CORP NEW; COM…</td><td>&quot;&quot;</td><td>&quot;Y&quot;</td><td>&quot;CORP&quot;</td><td>&quot;EQTY&quot;</td><td>&quot;COM&quot;</td><td>&quot;NS&quot;</td><td>&quot;Y&quot;</td><td>&quot;N/A&quot;</td><td>&quot;UNAV&quot;</td><td>&quot;NACT&quot;</td><td>&quot;UNAV&quot;</td><td>&quot;COST&quot;</td><td>&quot;COST&quot;</td><td>7882.0</td><td>5330.0</td><td>&quot;452319&quot;</td><td>&quot;NOAVAIL&quot;</td><td>6.0012633e7</td><td>17254.0</td><td>&quot;COSTCO WHOLESALE CORP NEW&quot;</td><td>2.0231229e7</td><td>2023-12-29 00:00:00</td><td>&quot;N&quot;</td><td>660.08</td><td>&quot;TR&quot;</td><td>2.9293e8</td><td>&quot;BP&quot;</td><td>663.1</td><td>&quot;TR&quot;</td><td>2023-12-28 00:00:00</td><td>2.9428e8</td><td>&quot;PB&quot;</td><td>-0.004554</td><td>-0.004554</td><td>0.0</td><td>&quot;NA&quot;</td><td>&quot;D1&quot;</td><td>0.0</td><td>0.0</td><td>1.0</td><td>&quot;NO&quot;</td><td>1.914341e6</td><td>660.08</td><td>657.16</td><td>663.185</td><td>660.21</td><td>660.32</td><td>661.0</td><td>59462.0</td><td>55.0</td><td>1.2636e9</td><td>2023-11-24 00:00:00</td><td>2023-12-29 00:00:00</td><td>443787.0</td><td>&quot;OBS&quot;</td><td>&quot;NA&quot;</td><td>&quot;N&quot;</td><td>null</td><td>null</td><td>&quot;&quot;</td><td>&quot;&quot;</td><td>&quot;&quot;</td><td>&quot;&quot;</td><td>&quot;&quot;</td><td>&quot;&quot;</td><td>&quot;&quot;</td><td>null</td><td>null</td><td>null</td><td>null</td><td>null</td><td>null</td><td>null</td><td>null</td><td>-0.004045</td><td>-0.004084</td><td>-0.00748</td><td>-0.007546</td><td>-0.002826</td></tr></tbody></table></div>"
      ],
      "text/plain": [
       "shape: (4, 94)\n",
       "┌─────┬─────┬─────┬─────┬─────┬─────┬─────┬─────┬─────┬─────┬─────┬─────┬─────┬─────┬─────┬─────┬─────┬─────┬─────┬─────┬─────┬─────┬─────┬─────┬─────┬─────┬─────┬─────┬─────┬─────┬─────┬─────┬─────┬─────┬─────┬─────┬─────┬─────┬─────┬─────┬─────┬─────┬─────┬─────┬─────┬─────┬─────┬─────┬─────┬─────┬─────┬─────┬─────┬─────┬─────┬─────┬─────┬─────┬─────┬─────┬─────┬─────┬─────┬─────┬─────┬─────┬─────┬─────┬─────┬─────┬─────┬─────┬─────┬─────┬─────┬─────┬─────┬─────┬─────┬─────┬─────┬─────┬─────┬─────┬─────┬─────┬─────┬─────┬─────┬─────┬─────┬─────┬─────┬─────┐\n",
       "│ PER ┆ Sec ┆ Sec ┆ Sec ┆ Sec ┆ Sec ┆ Hdr ┆ Hdr ┆ CUS ┆ CUS ┆ Pri ┆ Con ┆ Exc ┆ Tra ┆ Sec ┆ Sha ┆ USI ┆ Iss ┆ Sec ┆ Sec ┆ Sha ┆ Sec ┆ Del ┆ Del ┆ Del ┆ Del ┆ Tic ┆ Tra ┆ PER ┆ SIC ┆ NAI ┆ ICB ┆ NAS ┆ NAS ┆ Iss ┆ YYY ┆ Dly ┆ Dly ┆ Dly ┆ Dly ┆ Dly ┆ Dly ┆ Dly ┆ Dly ┆ Dly ┆ Dly ┆ Dly ┆ Dly ┆ Dly ┆ Dly ┆ Dly ┆ Dly ┆ Dly ┆ Dly ┆ Dly ┆ Dly ┆ Dly ┆ Dly ┆ Dly ┆ Dly ┆ Dly ┆ Dly ┆ Dly ┆ Dly ┆ Dly ┆ Dly ┆ Shr ┆ Shr ┆ Shr ┆ Shr ┆ Shr ┆ Shr ┆ Dis ┆ Dis ┆ Dis ┆ Dis ┆ Dis ┆ Dis ┆ Dis ┆ Dis ┆ Dis ┆ Dis ┆ Dis ┆ Dis ┆ Dis ┆ Dis ┆ Dis ┆ Dis ┆ Dis ┆ vwr ┆ vwr ┆ ewr ┆ ewr ┆ spr │\n",
       "│ MNO ┆ Inf ┆ Inf ┆ uri ┆ uri ┆ uri ┆ CUS ┆ CUS ┆ IP  ┆ IP9 ┆ mar ┆ dit ┆ han ┆ din ┆ uri ┆ reC ┆ ncF ┆ uer ┆ uri ┆ uri ┆ reT ┆ uri ┆ Act ┆ Sta ┆ Rea ┆ Pay ┆ ker ┆ din ┆ MCO ┆ CD  ┆ CS  ┆ Ind ┆ DCo ┆ DIs ┆ uer ┆ YMM ┆ Cal ┆ Del ┆ Prc ┆ Prc ┆ Cap ┆ Cap ┆ Pre ┆ Pre ┆ Pre ┆ Pre ┆ Pre ┆ Ret ┆ Ret ┆ Ret ┆ Ret ┆ Ret ┆ Ord ┆ Non ┆ Fac ┆ Dis ┆ Vol ┆ Clo ┆ Low ┆ Hig ┆ Bid ┆ Ask ┆ Ope ┆ Num ┆ MMC ┆ Prc ┆ Sta ┆ End ┆ Out ┆ Sou ┆ Fac ┆ Adr ┆ ExD ┆ Seq ┆ Ord ┆ Typ ┆ Fre ┆ Pay ┆ Det ┆ Tax ┆ Ori ┆ Div ┆ Fac ┆ Fac ┆ Dec ┆ Rec ┆ Pay ┆ PER ┆ PER ┆ etd ┆ etx ┆ etd ┆ etx ┆ trn │\n",
       "│ --- ┆ oSt ┆ oEn ┆ tyB ┆ tyE ┆ tyH ┆ IP  ┆ IP9 ┆ --- ┆ --- ┆ yEx ┆ ion ┆ geT ┆ gSt ┆ tyN ┆ las ┆ lg  ┆ Typ ┆ tyT ┆ tyS ┆ ype ┆ tyA ┆ ion ┆ tus ┆ son ┆ men ┆ --- ┆ gSy ┆ --- ┆ --- ┆ --- ┆ ust ┆ mpn ┆ sun ┆ Nm  ┆ DD  ┆ Dt  ┆ Flg ┆ --- ┆ Flg ┆ --- ┆ Flg ┆ vPr ┆ vPr ┆ vDt ┆ vCa ┆ vCa ┆ --- ┆ x   ┆ I   ┆ Mis ┆ Dur ┆ Div ┆ Ord ┆ Prc ┆ tRe ┆ --- ┆ se  ┆ --- ┆ h   ┆ --- ┆ --- ┆ n   ┆ Trd ┆ nt  ┆ Vol ┆ rtD ┆ Dt  ┆ --- ┆ rce ┆ Typ ┆ Flg ┆ t   ┆ Nbr ┆ ina ┆ e   ┆ qTy ┆ men ┆ ail ┆ Typ ┆ gCu ┆ Amt ┆ Pr  ┆ Shr ┆ lar ┆ ord ┆ Dt  ┆ MNO ┆ MCO ┆ --- ┆ --- ┆ --- ┆ --- ┆ --- │\n",
       "│ f64 ┆ art ┆ dDt ┆ egD ┆ ndD ┆ drF ┆ --- ┆ --- ┆ str ┆ str ┆ ch  ┆ alT ┆ ier ┆ atu ┆ m   ┆ s   ┆ --- ┆ e   ┆ ype ┆ ubT ┆ --- ┆ cti ┆ Typ ┆ Typ ┆ Typ ┆ tTy ┆ str ┆ mbo ┆ f64 ┆ f64 ┆ str ┆ ry  ┆ o   ┆ o   ┆ --- ┆ --- ┆ --- ┆ --- ┆ f64 ┆ --- ┆ f64 ┆ --- ┆ c   ┆ cFl ┆ --- ┆ p   ┆ pFl ┆ f64 ┆ --- ┆ --- ┆ sFl ┆ Flg ┆ Amt ┆ Div ┆ --- ┆ tFl ┆ f64 ┆ --- ┆ f64 ┆ --- ┆ f64 ┆ f64 ┆ --- ┆ --- ┆ --- ┆ --- ┆ t   ┆ --- ┆ f64 ┆ --- ┆ e   ┆ --- ┆ --- ┆ --- ┆ ryF ┆ --- ┆ pe  ┆ tTy ┆ Typ ┆ e   ┆ rTy ┆ --- ┆ --- ┆ --- ┆ eDt ┆ Dt  ┆ --- ┆ --- ┆ --- ┆ f64 ┆ f64 ┆ f64 ┆ f64 ┆ f64 │\n",
       "│     ┆ Dt  ┆ --- ┆ t   ┆ t   ┆ lg  ┆ str ┆ str ┆     ┆     ┆ --- ┆ ype ┆ --- ┆ sFl ┆ --- ┆ --- ┆ str ┆ --- ┆ --- ┆ ype ┆ str ┆ veF ┆ e   ┆ e   ┆ e   ┆ pe  ┆     ┆ l   ┆     ┆     ┆     ┆ --- ┆ --- ┆ --- ┆ str ┆ f64 ┆ dat ┆ str ┆     ┆ str ┆     ┆ str ┆ --- ┆ g   ┆ dat ┆ --- ┆ g   ┆     ┆ f64 ┆ f64 ┆ g   ┆ --- ┆ --- ┆ Amt ┆ f64 ┆ g   ┆     ┆ f64 ┆     ┆ f64 ┆     ┆     ┆ f64 ┆ f64 ┆ f64 ┆ f64 ┆ --- ┆ dat ┆     ┆ str ┆ --- ┆ str ┆ dat ┆ f64 ┆ lg  ┆ str ┆ --- ┆ pe  ┆ e   ┆ --- ┆ pe  ┆ f64 ┆ f64 ┆ f64 ┆ --- ┆ --- ┆ dat ┆ f64 ┆ f64 ┆     ┆     ┆     ┆     ┆     │\n",
       "│     ┆ --- ┆ dat ┆ --- ┆ --- ┆ --- ┆     ┆     ┆     ┆     ┆ str ┆ --- ┆ str ┆ g   ┆ str ┆ str ┆     ┆ str ┆ str ┆ --- ┆     ┆ lg  ┆ --- ┆ --- ┆ --- ┆ --- ┆     ┆ --- ┆     ┆     ┆     ┆ str ┆ f64 ┆ f64 ┆     ┆     ┆ eti ┆     ┆     ┆     ┆     ┆     ┆ f64 ┆ --- ┆ eti ┆ f64 ┆ --- ┆     ┆     ┆     ┆ --- ┆ str ┆ f64 ┆ --- ┆     ┆ --- ┆     ┆     ┆     ┆     ┆     ┆     ┆     ┆     ┆     ┆     ┆ dat ┆ eti ┆     ┆     ┆ str ┆     ┆ eti ┆     ┆ --- ┆     ┆ str ┆ --- ┆ --- ┆ str ┆ --- ┆     ┆     ┆     ┆ dat ┆ dat ┆ eti ┆     ┆     ┆     ┆     ┆     ┆     ┆     │\n",
       "│     ┆ dat ┆ eti ┆ dat ┆ dat ┆ str ┆     ┆     ┆     ┆     ┆     ┆ str ┆     ┆ --- ┆     ┆     ┆     ┆     ┆     ┆ str ┆     ┆ --- ┆ str ┆ str ┆ str ┆ str ┆     ┆ str ┆     ┆     ┆     ┆     ┆     ┆     ┆     ┆     ┆ me[ ┆     ┆     ┆     ┆     ┆     ┆     ┆ str ┆ me[ ┆     ┆ str ┆     ┆     ┆     ┆ str ┆     ┆     ┆ f64 ┆     ┆ str ┆     ┆     ┆     ┆     ┆     ┆     ┆     ┆     ┆     ┆     ┆ eti ┆ me[ ┆     ┆     ┆     ┆     ┆ me[ ┆     ┆ str ┆     ┆     ┆ str ┆ str ┆     ┆ str ┆     ┆     ┆     ┆ eti ┆ eti ┆ me[ ┆     ┆     ┆     ┆     ┆     ┆     ┆     │\n",
       "│     ┆ eti ┆ me[ ┆ eti ┆ eti ┆     ┆     ┆     ┆     ┆     ┆     ┆     ┆     ┆ str ┆     ┆     ┆     ┆     ┆     ┆     ┆     ┆ str ┆     ┆     ┆     ┆     ┆     ┆     ┆     ┆     ┆     ┆     ┆     ┆     ┆     ┆     ┆ ns] ┆     ┆     ┆     ┆     ┆     ┆     ┆     ┆ ns] ┆     ┆     ┆     ┆     ┆     ┆     ┆     ┆     ┆     ┆     ┆     ┆     ┆     ┆     ┆     ┆     ┆     ┆     ┆     ┆     ┆     ┆ me[ ┆ ns] ┆     ┆     ┆     ┆     ┆ ns] ┆     ┆     ┆     ┆     ┆     ┆     ┆     ┆     ┆     ┆     ┆     ┆ me[ ┆ me[ ┆ ns] ┆     ┆     ┆     ┆     ┆     ┆     ┆     │\n",
       "│     ┆ me[ ┆ ns] ┆ me[ ┆ me[ ┆     ┆     ┆     ┆     ┆     ┆     ┆     ┆     ┆     ┆     ┆     ┆     ┆     ┆     ┆     ┆     ┆     ┆     ┆     ┆     ┆     ┆     ┆     ┆     ┆     ┆     ┆     ┆     ┆     ┆     ┆     ┆     ┆     ┆     ┆     ┆     ┆     ┆     ┆     ┆     ┆     ┆     ┆     ┆     ┆     ┆     ┆     ┆     ┆     ┆     ┆     ┆     ┆     ┆     ┆     ┆     ┆     ┆     ┆     ┆     ┆     ┆ ns] ┆     ┆     ┆     ┆     ┆     ┆     ┆     ┆     ┆     ┆     ┆     ┆     ┆     ┆     ┆     ┆     ┆     ┆ ns] ┆ ns] ┆     ┆     ┆     ┆     ┆     ┆     ┆     ┆     │\n",
       "│     ┆ ns] ┆     ┆ ns] ┆ ns] ┆     ┆     ┆     ┆     ┆     ┆     ┆     ┆     ┆     ┆     ┆     ┆     ┆     ┆     ┆     ┆     ┆     ┆     ┆     ┆     ┆     ┆     ┆     ┆     ┆     ┆     ┆     ┆     ┆     ┆     ┆     ┆     ┆     ┆     ┆     ┆     ┆     ┆     ┆     ┆     ┆     ┆     ┆     ┆     ┆     ┆     ┆     ┆     ┆     ┆     ┆     ┆     ┆     ┆     ┆     ┆     ┆     ┆     ┆     ┆     ┆     ┆     ┆     ┆     ┆     ┆     ┆     ┆     ┆     ┆     ┆     ┆     ┆     ┆     ┆     ┆     ┆     ┆     ┆     ┆     ┆     ┆     ┆     ┆     ┆     ┆     ┆     ┆     ┆     │\n",
       "╞═════╪═════╪═════╪═════╪═════╪═════╪═════╪═════╪═════╪═════╪═════╪═════╪═════╪═════╪═════╪═════╪═════╪═════╪═════╪═════╪═════╪═════╪═════╪═════╪═════╪═════╪═════╪═════╪═════╪═════╪═════╪═════╪═════╪═════╪═════╪═════╪═════╪═════╪═════╪═════╪═════╪═════╪═════╪═════╪═════╪═════╪═════╪═════╪═════╪═════╪═════╪═════╪═════╪═════╪═════╪═════╪═════╪═════╪═════╪═════╪═════╪═════╪═════╪═════╪═════╪═════╪═════╪═════╪═════╪═════╪═════╪═════╪═════╪═════╪═════╪═════╪═════╪═════╪═════╪═════╪═════╪═════╪═════╪═════╪═════╪═════╪═════╪═════╪═════╪═════╪═════╪═════╪═════╪═════╡\n",
       "│ 870 ┆ 202 ┆ 202 ┆ 198 ┆ 202 ┆ Y   ┆ 221 ┆ 221 ┆ 221 ┆ 221 ┆ Q   ┆ RW  ┆ S   ┆ A   ┆ COS ┆     ┆ Y   ┆ COR ┆ EQT ┆ COM ┆ NS  ┆ Y   ┆ N/A ┆ UNA ┆ NAC ┆ UNA ┆ COS ┆ COS ┆ 788 ┆ 533 ┆ 452 ┆ NOA ┆ 6.0 ┆ 172 ┆ COS ┆ 2.0 ┆ 202 ┆ N   ┆ 674 ┆ TR  ┆ 2.9 ┆ BP  ┆ 671 ┆ TR  ┆ 202 ┆ 2.9 ┆ PB  ┆ 0.0 ┆ 0.0 ┆ 0.0 ┆ NA  ┆ D4  ┆ 0.0 ┆ 0.0 ┆ 1.0 ┆ NO  ┆ 1.7 ┆ 674 ┆ 670 ┆ 675 ┆ 674 ┆ 674 ┆ 673 ┆ 548 ┆ 55. ┆ 1.1 ┆ 202 ┆ 202 ┆ 443 ┆ OBS ┆ NA  ┆ N   ┆ nul ┆ nul ┆     ┆     ┆     ┆     ┆     ┆     ┆     ┆ nul ┆ nul ┆ nul ┆ nul ┆ nul ┆ nul ┆ nul ┆ nul ┆ 0.0 ┆ 0.0 ┆ 0.0 ┆ 0.0 ┆ 0.0 │\n",
       "│ 55. ┆ 3-1 ┆ 3-1 ┆ 5-1 ┆ 3-1 ┆     ┆ 60K ┆ 60K ┆ 60K ┆ 60K ┆     ┆     ┆     ┆     ┆ TCO ┆     ┆     ┆ P   ┆ Y   ┆     ┆     ┆     ┆     ┆ V   ┆ T   ┆ V   ┆ T   ┆ T   ┆ 2.0 ┆ 0.0 ┆ 319 ┆ VAI ┆ 012 ┆ 54. ┆ TCO ┆ 231 ┆ 3-1 ┆     ┆ .62 ┆     ┆ 939 ┆     ┆ .6  ┆     ┆ 3-1 ┆ 805 ┆     ┆ 044 ┆ 044 ┆     ┆     ┆     ┆     ┆     ┆     ┆     ┆ 608 ┆ .62 ┆ .78 ┆ .86 ┆ .61 ┆ .62 ┆ .01 ┆ 23. ┆ 0   ┆ 879 ┆ 3-1 ┆ 3-1 ┆ 787 ┆     ┆     ┆     ┆ l   ┆ l   ┆     ┆     ┆     ┆     ┆     ┆     ┆     ┆ l   ┆ l   ┆ l   ┆ l   ┆ l   ┆ l   ┆ l   ┆ l   ┆ 052 ┆ 051 ┆ 096 ┆ 092 ┆ 042 │\n",
       "│ 0   ┆ 0-0 ┆ 2-2 ┆ 1-2 ┆ 2-2 ┆     ┆ 10  ┆ 105 ┆ 10  ┆ 105 ┆     ┆     ┆     ┆     ┆ WHO ┆     ┆     ┆     ┆     ┆     ┆     ┆     ┆     ┆     ┆     ┆     ┆     ┆     ┆     ┆     ┆     ┆ L   ┆ 633 ┆ 0   ┆ WHO ┆ 226 ┆ 2-2 ┆     ┆     ┆     ┆ e8  ┆     ┆     ┆     ┆ 2-2 ┆ e8  ┆     ┆ 97  ┆ 97  ┆     ┆     ┆     ┆     ┆     ┆     ┆     ┆ 67e ┆     ┆     ┆     ┆     ┆     ┆     ┆ 0   ┆     ┆ e9  ┆ 1-2 ┆ 2-2 ┆ .0  ┆     ┆     ┆     ┆     ┆     ┆     ┆     ┆     ┆     ┆     ┆     ┆     ┆     ┆     ┆     ┆     ┆     ┆     ┆     ┆     ┆ 18  ┆ 99  ┆ 74  ┆ 99  ┆ 32  │\n",
       "│     ┆ 1   ┆ 9   ┆ 7   ┆ 9   ┆     ┆     ┆     ┆     ┆     ┆     ┆     ┆     ┆     ┆ LES ┆     ┆     ┆     ┆     ┆     ┆     ┆     ┆     ┆     ┆     ┆     ┆     ┆     ┆     ┆     ┆     ┆     ┆ e7  ┆     ┆ LES ┆ e7  ┆ 6   ┆     ┆     ┆     ┆     ┆     ┆     ┆     ┆ 2   ┆     ┆     ┆     ┆     ┆     ┆     ┆     ┆     ┆     ┆     ┆     ┆ 6   ┆     ┆     ┆     ┆     ┆     ┆     ┆     ┆     ┆     ┆ 4   ┆ 9   ┆     ┆     ┆     ┆     ┆     ┆     ┆     ┆     ┆     ┆     ┆     ┆     ┆     ┆     ┆     ┆     ┆     ┆     ┆     ┆     ┆     ┆     ┆     ┆     ┆     ┆     │\n",
       "│     ┆ 00: ┆ 00: ┆ 00: ┆ 00: ┆     ┆     ┆     ┆     ┆     ┆     ┆     ┆     ┆     ┆ ALE ┆     ┆     ┆     ┆     ┆     ┆     ┆     ┆     ┆     ┆     ┆     ┆     ┆     ┆     ┆     ┆     ┆     ┆     ┆     ┆ ALE ┆     ┆ 00: ┆     ┆     ┆     ┆     ┆     ┆     ┆     ┆ 00: ┆     ┆     ┆     ┆     ┆     ┆     ┆     ┆     ┆     ┆     ┆     ┆     ┆     ┆     ┆     ┆     ┆     ┆     ┆     ┆     ┆     ┆ 00: ┆ 00: ┆     ┆     ┆     ┆     ┆     ┆     ┆     ┆     ┆     ┆     ┆     ┆     ┆     ┆     ┆     ┆     ┆     ┆     ┆     ┆     ┆     ┆     ┆     ┆     ┆     ┆     │\n",
       "│     ┆ 00: ┆ 00: ┆ 00: ┆ 00: ┆     ┆     ┆     ┆     ┆     ┆     ┆     ┆     ┆     ┆ COR ┆     ┆     ┆     ┆     ┆     ┆     ┆     ┆     ┆     ┆     ┆     ┆     ┆     ┆     ┆     ┆     ┆     ┆     ┆     ┆ COR ┆     ┆ 00: ┆     ┆     ┆     ┆     ┆     ┆     ┆     ┆ 00: ┆     ┆     ┆     ┆     ┆     ┆     ┆     ┆     ┆     ┆     ┆     ┆     ┆     ┆     ┆     ┆     ┆     ┆     ┆     ┆     ┆     ┆ 00: ┆ 00: ┆     ┆     ┆     ┆     ┆     ┆     ┆     ┆     ┆     ┆     ┆     ┆     ┆     ┆     ┆     ┆     ┆     ┆     ┆     ┆     ┆     ┆     ┆     ┆     ┆     ┆     │\n",
       "│     ┆ 00  ┆ 00  ┆ 00  ┆ 00  ┆     ┆     ┆     ┆     ┆     ┆     ┆     ┆     ┆     ┆ P   ┆     ┆     ┆     ┆     ┆     ┆     ┆     ┆     ┆     ┆     ┆     ┆     ┆     ┆     ┆     ┆     ┆     ┆     ┆     ┆ P   ┆     ┆ 00  ┆     ┆     ┆     ┆     ┆     ┆     ┆     ┆ 00  ┆     ┆     ┆     ┆     ┆     ┆     ┆     ┆     ┆     ┆     ┆     ┆     ┆     ┆     ┆     ┆     ┆     ┆     ┆     ┆     ┆     ┆ 00  ┆ 00  ┆     ┆     ┆     ┆     ┆     ┆     ┆     ┆     ┆     ┆     ┆     ┆     ┆     ┆     ┆     ┆     ┆     ┆     ┆     ┆     ┆     ┆     ┆     ┆     ┆     ┆     │\n",
       "│     ┆     ┆     ┆     ┆     ┆     ┆     ┆     ┆     ┆     ┆     ┆     ┆     ┆     ┆ NEW ┆     ┆     ┆     ┆     ┆     ┆     ┆     ┆     ┆     ┆     ┆     ┆     ┆     ┆     ┆     ┆     ┆     ┆     ┆     ┆ NEW ┆     ┆     ┆     ┆     ┆     ┆     ┆     ┆     ┆     ┆     ┆     ┆     ┆     ┆     ┆     ┆     ┆     ┆     ┆     ┆     ┆     ┆     ┆     ┆     ┆     ┆     ┆     ┆     ┆     ┆     ┆     ┆     ┆     ┆     ┆     ┆     ┆     ┆     ┆     ┆     ┆     ┆     ┆     ┆     ┆     ┆     ┆     ┆     ┆     ┆     ┆     ┆     ┆     ┆     ┆     ┆     ┆     ┆     ┆     │\n",
       "│     ┆     ┆     ┆     ┆     ┆     ┆     ┆     ┆     ┆     ┆     ┆     ┆     ┆     ┆ ;   ┆     ┆     ┆     ┆     ┆     ┆     ┆     ┆     ┆     ┆     ┆     ┆     ┆     ┆     ┆     ┆     ┆     ┆     ┆     ┆     ┆     ┆     ┆     ┆     ┆     ┆     ┆     ┆     ┆     ┆     ┆     ┆     ┆     ┆     ┆     ┆     ┆     ┆     ┆     ┆     ┆     ┆     ┆     ┆     ┆     ┆     ┆     ┆     ┆     ┆     ┆     ┆     ┆     ┆     ┆     ┆     ┆     ┆     ┆     ┆     ┆     ┆     ┆     ┆     ┆     ┆     ┆     ┆     ┆     ┆     ┆     ┆     ┆     ┆     ┆     ┆     ┆     ┆     ┆     │\n",
       "│     ┆     ┆     ┆     ┆     ┆     ┆     ┆     ┆     ┆     ┆     ┆     ┆     ┆     ┆ COM ┆     ┆     ┆     ┆     ┆     ┆     ┆     ┆     ┆     ┆     ┆     ┆     ┆     ┆     ┆     ┆     ┆     ┆     ┆     ┆     ┆     ┆     ┆     ┆     ┆     ┆     ┆     ┆     ┆     ┆     ┆     ┆     ┆     ┆     ┆     ┆     ┆     ┆     ┆     ┆     ┆     ┆     ┆     ┆     ┆     ┆     ┆     ┆     ┆     ┆     ┆     ┆     ┆     ┆     ┆     ┆     ┆     ┆     ┆     ┆     ┆     ┆     ┆     ┆     ┆     ┆     ┆     ┆     ┆     ┆     ┆     ┆     ┆     ┆     ┆     ┆     ┆     ┆     ┆     │\n",
       "│     ┆     ┆     ┆     ┆     ┆     ┆     ┆     ┆     ┆     ┆     ┆     ┆     ┆     ┆ …   ┆     ┆     ┆     ┆     ┆     ┆     ┆     ┆     ┆     ┆     ┆     ┆     ┆     ┆     ┆     ┆     ┆     ┆     ┆     ┆     ┆     ┆     ┆     ┆     ┆     ┆     ┆     ┆     ┆     ┆     ┆     ┆     ┆     ┆     ┆     ┆     ┆     ┆     ┆     ┆     ┆     ┆     ┆     ┆     ┆     ┆     ┆     ┆     ┆     ┆     ┆     ┆     ┆     ┆     ┆     ┆     ┆     ┆     ┆     ┆     ┆     ┆     ┆     ┆     ┆     ┆     ┆     ┆     ┆     ┆     ┆     ┆     ┆     ┆     ┆     ┆     ┆     ┆     ┆     │\n",
       "│ 870 ┆ 202 ┆ 202 ┆ 198 ┆ 202 ┆ Y   ┆ 221 ┆ 221 ┆ 221 ┆ 221 ┆ Q   ┆ RW  ┆ S   ┆ A   ┆ COS ┆     ┆ Y   ┆ COR ┆ EQT ┆ COM ┆ NS  ┆ Y   ┆ N/A ┆ UNA ┆ NAC ┆ UNA ┆ COS ┆ COS ┆ 788 ┆ 533 ┆ 452 ┆ NOA ┆ 6.0 ┆ 172 ┆ COS ┆ 2.0 ┆ 202 ┆ N   ┆ 666 ┆ TR  ┆ 2.9 ┆ BP  ┆ 674 ┆ TR  ┆ 202 ┆ 2.9 ┆ PB  ┆ 0.0 ┆ -0. ┆ 0.0 ┆ NA  ┆ D1  ┆ 15. ┆ 0.0 ┆ 1.0 ┆ C1  ┆ 1.8 ┆ 666 ┆ 660 ┆ 668 ┆ 666 ┆ 667 ┆ 662 ┆ 636 ┆ 55. ┆ 1.2 ┆ 202 ┆ 202 ┆ 443 ┆ OBS ┆ NA  ┆ N   ┆ 202 ┆ 1.0 ┆ Y   ┆ SD  ┆ E   ┆ USD ┆ SDI ┆ D   ┆ USD ┆ 15. ┆ 0.0 ┆ 0.0 ┆ 202 ┆ 202 ┆ 202 ┆ 0.0 ┆ 0.0 ┆ 0.0 ┆ 0.0 ┆ 0.0 ┆ 0.0 ┆ 0.0 │\n",
       "│ 55. ┆ 3-1 ┆ 3-1 ┆ 5-1 ┆ 3-1 ┆     ┆ 60K ┆ 60K ┆ 60K ┆ 60K ┆     ┆     ┆     ┆     ┆ TCO ┆     ┆     ┆ P   ┆ Y   ┆     ┆     ┆     ┆     ┆ V   ┆ T   ┆ V   ┆ T   ┆ T   ┆ 2.0 ┆ 0.0 ┆ 319 ┆ VAI ┆ 012 ┆ 54. ┆ TCO ┆ 231 ┆ 3-1 ┆     ┆ .8  ┆     ┆ 592 ┆     ┆ .62 ┆     ┆ 3-1 ┆ 939 ┆     ┆ 106 ┆ 011 ┆ 222 ┆     ┆     ┆ 0   ┆     ┆     ┆     ┆ 550 ┆ .8  ┆ .4  ┆ .58 ┆ .82 ┆ .0  ┆ .7  ┆ 49. ┆ 0   ┆ 369 ┆ 3-1 ┆ 3-1 ┆ 787 ┆     ┆     ┆     ┆ 3-1 ┆     ┆     ┆     ┆     ┆     ┆ V   ┆     ┆     ┆ 0   ┆     ┆     ┆ 3-1 ┆ 3-1 ┆ 4-0 ┆     ┆     ┆ 019 ┆ 018 ┆ 052 ┆ 049 ┆ 014 │\n",
       "│ 0   ┆ 0-0 ┆ 2-2 ┆ 1-2 ┆ 2-2 ┆     ┆ 10  ┆ 105 ┆ 10  ┆ 105 ┆     ┆     ┆     ┆     ┆ WHO ┆     ┆     ┆     ┆     ┆     ┆     ┆     ┆     ┆     ┆     ┆     ┆     ┆     ┆     ┆     ┆     ┆ L   ┆ 633 ┆ 0   ┆ WHO ┆ 227 ┆ 2-2 ┆     ┆     ┆     ┆ e8  ┆     ┆     ┆     ┆ 2-2 ┆ e8  ┆     ┆ 43  ┆ 592 ┆ 35  ┆     ┆     ┆     ┆     ┆     ┆     ┆ 47e ┆     ┆     ┆     ┆     ┆     ┆     ┆ 0   ┆     ┆ e9  ┆ 1-2 ┆ 2-2 ┆ .0  ┆     ┆     ┆     ┆ 2-2 ┆     ┆     ┆     ┆     ┆     ┆     ┆     ┆     ┆     ┆     ┆     ┆ 2-1 ┆ 2-2 ┆ 1-1 ┆     ┆     ┆ 95  ┆ 07  ┆ 76  ┆ 07  ┆ 3   │\n",
       "│     ┆ 1   ┆ 9   ┆ 7   ┆ 9   ┆     ┆     ┆     ┆     ┆     ┆     ┆     ┆     ┆     ┆ LES ┆     ┆     ┆     ┆     ┆     ┆     ┆     ┆     ┆     ┆     ┆     ┆     ┆     ┆     ┆     ┆     ┆     ┆ e7  ┆     ┆ LES ┆ e7  ┆ 7   ┆     ┆     ┆     ┆     ┆     ┆     ┆     ┆ 6   ┆     ┆     ┆     ┆     ┆     ┆     ┆     ┆     ┆     ┆     ┆     ┆ 6   ┆     ┆     ┆     ┆     ┆     ┆     ┆     ┆     ┆     ┆ 4   ┆ 9   ┆     ┆     ┆     ┆     ┆ 7   ┆     ┆     ┆     ┆     ┆     ┆     ┆     ┆     ┆     ┆     ┆     ┆ 4   ┆ 8   ┆ 2   ┆     ┆     ┆     ┆     ┆     ┆     ┆     │\n",
       "│     ┆ 00: ┆ 00: ┆ 00: ┆ 00: ┆     ┆     ┆     ┆     ┆     ┆     ┆     ┆     ┆     ┆ ALE ┆     ┆     ┆     ┆     ┆     ┆     ┆     ┆     ┆     ┆     ┆     ┆     ┆     ┆     ┆     ┆     ┆     ┆     ┆     ┆ ALE ┆     ┆ 00: ┆     ┆     ┆     ┆     ┆     ┆     ┆     ┆ 00: ┆     ┆     ┆     ┆     ┆     ┆     ┆     ┆     ┆     ┆     ┆     ┆     ┆     ┆     ┆     ┆     ┆     ┆     ┆     ┆     ┆     ┆ 00: ┆ 00: ┆     ┆     ┆     ┆     ┆ 00: ┆     ┆     ┆     ┆     ┆     ┆     ┆     ┆     ┆     ┆     ┆     ┆ 00: ┆ 00: ┆ 00: ┆     ┆     ┆     ┆     ┆     ┆     ┆     │\n",
       "│     ┆ 00: ┆ 00: ┆ 00: ┆ 00: ┆     ┆     ┆     ┆     ┆     ┆     ┆     ┆     ┆     ┆ COR ┆     ┆     ┆     ┆     ┆     ┆     ┆     ┆     ┆     ┆     ┆     ┆     ┆     ┆     ┆     ┆     ┆     ┆     ┆     ┆ COR ┆     ┆ 00: ┆     ┆     ┆     ┆     ┆     ┆     ┆     ┆ 00: ┆     ┆     ┆     ┆     ┆     ┆     ┆     ┆     ┆     ┆     ┆     ┆     ┆     ┆     ┆     ┆     ┆     ┆     ┆     ┆     ┆     ┆ 00: ┆ 00: ┆     ┆     ┆     ┆     ┆ 00: ┆     ┆     ┆     ┆     ┆     ┆     ┆     ┆     ┆     ┆     ┆     ┆ 00: ┆ 00: ┆ 00: ┆     ┆     ┆     ┆     ┆     ┆     ┆     │\n",
       "│     ┆ 00  ┆ 00  ┆ 00  ┆ 00  ┆     ┆     ┆     ┆     ┆     ┆     ┆     ┆     ┆     ┆ P   ┆     ┆     ┆     ┆     ┆     ┆     ┆     ┆     ┆     ┆     ┆     ┆     ┆     ┆     ┆     ┆     ┆     ┆     ┆     ┆ P   ┆     ┆ 00  ┆     ┆     ┆     ┆     ┆     ┆     ┆     ┆ 00  ┆     ┆     ┆     ┆     ┆     ┆     ┆     ┆     ┆     ┆     ┆     ┆     ┆     ┆     ┆     ┆     ┆     ┆     ┆     ┆     ┆     ┆ 00  ┆ 00  ┆     ┆     ┆     ┆     ┆ 00  ┆     ┆     ┆     ┆     ┆     ┆     ┆     ┆     ┆     ┆     ┆     ┆ 00  ┆ 00  ┆ 00  ┆     ┆     ┆     ┆     ┆     ┆     ┆     │\n",
       "│     ┆     ┆     ┆     ┆     ┆     ┆     ┆     ┆     ┆     ┆     ┆     ┆     ┆     ┆ NEW ┆     ┆     ┆     ┆     ┆     ┆     ┆     ┆     ┆     ┆     ┆     ┆     ┆     ┆     ┆     ┆     ┆     ┆     ┆     ┆ NEW ┆     ┆     ┆     ┆     ┆     ┆     ┆     ┆     ┆     ┆     ┆     ┆     ┆     ┆     ┆     ┆     ┆     ┆     ┆     ┆     ┆     ┆     ┆     ┆     ┆     ┆     ┆     ┆     ┆     ┆     ┆     ┆     ┆     ┆     ┆     ┆     ┆     ┆     ┆     ┆     ┆     ┆     ┆     ┆     ┆     ┆     ┆     ┆     ┆     ┆     ┆     ┆     ┆     ┆     ┆     ┆     ┆     ┆     ┆     │\n",
       "│     ┆     ┆     ┆     ┆     ┆     ┆     ┆     ┆     ┆     ┆     ┆     ┆     ┆     ┆ ;   ┆     ┆     ┆     ┆     ┆     ┆     ┆     ┆     ┆     ┆     ┆     ┆     ┆     ┆     ┆     ┆     ┆     ┆     ┆     ┆     ┆     ┆     ┆     ┆     ┆     ┆     ┆     ┆     ┆     ┆     ┆     ┆     ┆     ┆     ┆     ┆     ┆     ┆     ┆     ┆     ┆     ┆     ┆     ┆     ┆     ┆     ┆     ┆     ┆     ┆     ┆     ┆     ┆     ┆     ┆     ┆     ┆     ┆     ┆     ┆     ┆     ┆     ┆     ┆     ┆     ┆     ┆     ┆     ┆     ┆     ┆     ┆     ┆     ┆     ┆     ┆     ┆     ┆     ┆     │\n",
       "│     ┆     ┆     ┆     ┆     ┆     ┆     ┆     ┆     ┆     ┆     ┆     ┆     ┆     ┆ COM ┆     ┆     ┆     ┆     ┆     ┆     ┆     ┆     ┆     ┆     ┆     ┆     ┆     ┆     ┆     ┆     ┆     ┆     ┆     ┆     ┆     ┆     ┆     ┆     ┆     ┆     ┆     ┆     ┆     ┆     ┆     ┆     ┆     ┆     ┆     ┆     ┆     ┆     ┆     ┆     ┆     ┆     ┆     ┆     ┆     ┆     ┆     ┆     ┆     ┆     ┆     ┆     ┆     ┆     ┆     ┆     ┆     ┆     ┆     ┆     ┆     ┆     ┆     ┆     ┆     ┆     ┆     ┆     ┆     ┆     ┆     ┆     ┆     ┆     ┆     ┆     ┆     ┆     ┆     │\n",
       "│     ┆     ┆     ┆     ┆     ┆     ┆     ┆     ┆     ┆     ┆     ┆     ┆     ┆     ┆ …   ┆     ┆     ┆     ┆     ┆     ┆     ┆     ┆     ┆     ┆     ┆     ┆     ┆     ┆     ┆     ┆     ┆     ┆     ┆     ┆     ┆     ┆     ┆     ┆     ┆     ┆     ┆     ┆     ┆     ┆     ┆     ┆     ┆     ┆     ┆     ┆     ┆     ┆     ┆     ┆     ┆     ┆     ┆     ┆     ┆     ┆     ┆     ┆     ┆     ┆     ┆     ┆     ┆     ┆     ┆     ┆     ┆     ┆     ┆     ┆     ┆     ┆     ┆     ┆     ┆     ┆     ┆     ┆     ┆     ┆     ┆     ┆     ┆     ┆     ┆     ┆     ┆     ┆     ┆     │\n",
       "│ 870 ┆ 202 ┆ 202 ┆ 198 ┆ 202 ┆ Y   ┆ 221 ┆ 221 ┆ 221 ┆ 221 ┆ Q   ┆ RW  ┆ S   ┆ A   ┆ COS ┆     ┆ Y   ┆ COR ┆ EQT ┆ COM ┆ NS  ┆ Y   ┆ N/A ┆ UNA ┆ NAC ┆ UNA ┆ COS ┆ COS ┆ 788 ┆ 533 ┆ 452 ┆ NOA ┆ 6.0 ┆ 172 ┆ COS ┆ 2.0 ┆ 202 ┆ N   ┆ 663 ┆ TR  ┆ 2.9 ┆ BP  ┆ 666 ┆ TR  ┆ 202 ┆ 2.9 ┆ PB  ┆ -0. ┆ -0. ┆ 0.0 ┆ NA  ┆ D1  ┆ 0.0 ┆ 0.0 ┆ 1.0 ┆ NO  ┆ 1.4 ┆ 663 ┆ 661 ┆ 666 ┆ 663 ┆ 663 ┆ 665 ┆ 619 ┆ 55. ┆ 9.8 ┆ 202 ┆ 202 ┆ 443 ┆ OBS ┆ NA  ┆ N   ┆ nul ┆ nul ┆     ┆     ┆     ┆     ┆     ┆     ┆     ┆ nul ┆ nul ┆ nul ┆ nul ┆ nul ┆ nul ┆ nul ┆ nul ┆ -0. ┆ -0. ┆ 0.0 ┆ 0.0 ┆ 0.0 │\n",
       "│ 55. ┆ 3-1 ┆ 3-1 ┆ 5-1 ┆ 3-1 ┆     ┆ 60K ┆ 60K ┆ 60K ┆ 60K ┆     ┆     ┆     ┆     ┆ TCO ┆     ┆     ┆ P   ┆ Y   ┆     ┆     ┆     ┆     ┆ V   ┆ T   ┆ V   ┆ T   ┆ T   ┆ 2.0 ┆ 0.0 ┆ 319 ┆ VAI ┆ 012 ┆ 54. ┆ TCO ┆ 231 ┆ 3-1 ┆     ┆ .1  ┆     ┆ 428 ┆     ┆ .8  ┆     ┆ 3-1 ┆ 592 ┆     ┆ 005 ┆ 005 ┆     ┆     ┆     ┆     ┆     ┆     ┆     ┆ 805 ┆ .1  ┆ .59 ┆ .86 ┆ .1  ┆ .29 ┆ .85 ┆ 70. ┆ 0   ┆ 172 ┆ 3-1 ┆ 3-1 ┆ 787 ┆     ┆     ┆     ┆ l   ┆ l   ┆     ┆     ┆     ┆     ┆     ┆     ┆     ┆ l   ┆ l   ┆ l   ┆ l   ┆ l   ┆ l   ┆ l   ┆ l   ┆ 000 ┆ 000 ┆ 020 ┆ 014 ┆ 003 │\n",
       "│ 0   ┆ 0-0 ┆ 2-2 ┆ 1-2 ┆ 2-2 ┆     ┆ 10  ┆ 105 ┆ 10  ┆ 105 ┆     ┆     ┆     ┆     ┆ WHO ┆     ┆     ┆     ┆     ┆     ┆     ┆     ┆     ┆     ┆     ┆     ┆     ┆     ┆     ┆     ┆     ┆ L   ┆ 633 ┆ 0   ┆ WHO ┆ 228 ┆ 2-2 ┆     ┆     ┆     ┆ e8  ┆     ┆     ┆     ┆ 2-2 ┆ e8  ┆     ┆ 549 ┆ 549 ┆     ┆     ┆     ┆     ┆     ┆     ┆     ┆ 05e ┆     ┆ 01  ┆     ┆     ┆     ┆     ┆ 0   ┆     ┆ e8  ┆ 1-2 ┆ 2-2 ┆ .0  ┆     ┆     ┆     ┆     ┆     ┆     ┆     ┆     ┆     ┆     ┆     ┆     ┆     ┆     ┆     ┆     ┆     ┆     ┆     ┆     ┆ 108 ┆ 295 ┆ 42  ┆ 28  ┆ 7   │\n",
       "│     ┆ 1   ┆ 9   ┆ 7   ┆ 9   ┆     ┆     ┆     ┆     ┆     ┆     ┆     ┆     ┆     ┆ LES ┆     ┆     ┆     ┆     ┆     ┆     ┆     ┆     ┆     ┆     ┆     ┆     ┆     ┆     ┆     ┆     ┆     ┆ e7  ┆     ┆ LES ┆ e7  ┆ 8   ┆     ┆     ┆     ┆     ┆     ┆     ┆     ┆ 7   ┆     ┆     ┆     ┆     ┆     ┆     ┆     ┆     ┆     ┆     ┆     ┆ 6   ┆     ┆     ┆     ┆     ┆     ┆     ┆     ┆     ┆     ┆ 4   ┆ 9   ┆     ┆     ┆     ┆     ┆     ┆     ┆     ┆     ┆     ┆     ┆     ┆     ┆     ┆     ┆     ┆     ┆     ┆     ┆     ┆     ┆     ┆     ┆     ┆     ┆     ┆     │\n",
       "│     ┆ 00: ┆ 00: ┆ 00: ┆ 00: ┆     ┆     ┆     ┆     ┆     ┆     ┆     ┆     ┆     ┆ ALE ┆     ┆     ┆     ┆     ┆     ┆     ┆     ┆     ┆     ┆     ┆     ┆     ┆     ┆     ┆     ┆     ┆     ┆     ┆     ┆ ALE ┆     ┆ 00: ┆     ┆     ┆     ┆     ┆     ┆     ┆     ┆ 00: ┆     ┆     ┆     ┆     ┆     ┆     ┆     ┆     ┆     ┆     ┆     ┆     ┆     ┆     ┆     ┆     ┆     ┆     ┆     ┆     ┆     ┆ 00: ┆ 00: ┆     ┆     ┆     ┆     ┆     ┆     ┆     ┆     ┆     ┆     ┆     ┆     ┆     ┆     ┆     ┆     ┆     ┆     ┆     ┆     ┆     ┆     ┆     ┆     ┆     ┆     │\n",
       "│     ┆ 00: ┆ 00: ┆ 00: ┆ 00: ┆     ┆     ┆     ┆     ┆     ┆     ┆     ┆     ┆     ┆ COR ┆     ┆     ┆     ┆     ┆     ┆     ┆     ┆     ┆     ┆     ┆     ┆     ┆     ┆     ┆     ┆     ┆     ┆     ┆     ┆ COR ┆     ┆ 00: ┆     ┆     ┆     ┆     ┆     ┆     ┆     ┆ 00: ┆     ┆     ┆     ┆     ┆     ┆     ┆     ┆     ┆     ┆     ┆     ┆     ┆     ┆     ┆     ┆     ┆     ┆     ┆     ┆     ┆     ┆ 00: ┆ 00: ┆     ┆     ┆     ┆     ┆     ┆     ┆     ┆     ┆     ┆     ┆     ┆     ┆     ┆     ┆     ┆     ┆     ┆     ┆     ┆     ┆     ┆     ┆     ┆     ┆     ┆     │\n",
       "│     ┆ 00  ┆ 00  ┆ 00  ┆ 00  ┆     ┆     ┆     ┆     ┆     ┆     ┆     ┆     ┆     ┆ P   ┆     ┆     ┆     ┆     ┆     ┆     ┆     ┆     ┆     ┆     ┆     ┆     ┆     ┆     ┆     ┆     ┆     ┆     ┆     ┆ P   ┆     ┆ 00  ┆     ┆     ┆     ┆     ┆     ┆     ┆     ┆ 00  ┆     ┆     ┆     ┆     ┆     ┆     ┆     ┆     ┆     ┆     ┆     ┆     ┆     ┆     ┆     ┆     ┆     ┆     ┆     ┆     ┆     ┆ 00  ┆ 00  ┆     ┆     ┆     ┆     ┆     ┆     ┆     ┆     ┆     ┆     ┆     ┆     ┆     ┆     ┆     ┆     ┆     ┆     ┆     ┆     ┆     ┆     ┆     ┆     ┆     ┆     │\n",
       "│     ┆     ┆     ┆     ┆     ┆     ┆     ┆     ┆     ┆     ┆     ┆     ┆     ┆     ┆ NEW ┆     ┆     ┆     ┆     ┆     ┆     ┆     ┆     ┆     ┆     ┆     ┆     ┆     ┆     ┆     ┆     ┆     ┆     ┆     ┆ NEW ┆     ┆     ┆     ┆     ┆     ┆     ┆     ┆     ┆     ┆     ┆     ┆     ┆     ┆     ┆     ┆     ┆     ┆     ┆     ┆     ┆     ┆     ┆     ┆     ┆     ┆     ┆     ┆     ┆     ┆     ┆     ┆     ┆     ┆     ┆     ┆     ┆     ┆     ┆     ┆     ┆     ┆     ┆     ┆     ┆     ┆     ┆     ┆     ┆     ┆     ┆     ┆     ┆     ┆     ┆     ┆     ┆     ┆     ┆     │\n",
       "│     ┆     ┆     ┆     ┆     ┆     ┆     ┆     ┆     ┆     ┆     ┆     ┆     ┆     ┆ ;   ┆     ┆     ┆     ┆     ┆     ┆     ┆     ┆     ┆     ┆     ┆     ┆     ┆     ┆     ┆     ┆     ┆     ┆     ┆     ┆     ┆     ┆     ┆     ┆     ┆     ┆     ┆     ┆     ┆     ┆     ┆     ┆     ┆     ┆     ┆     ┆     ┆     ┆     ┆     ┆     ┆     ┆     ┆     ┆     ┆     ┆     ┆     ┆     ┆     ┆     ┆     ┆     ┆     ┆     ┆     ┆     ┆     ┆     ┆     ┆     ┆     ┆     ┆     ┆     ┆     ┆     ┆     ┆     ┆     ┆     ┆     ┆     ┆     ┆     ┆     ┆     ┆     ┆     ┆     │\n",
       "│     ┆     ┆     ┆     ┆     ┆     ┆     ┆     ┆     ┆     ┆     ┆     ┆     ┆     ┆ COM ┆     ┆     ┆     ┆     ┆     ┆     ┆     ┆     ┆     ┆     ┆     ┆     ┆     ┆     ┆     ┆     ┆     ┆     ┆     ┆     ┆     ┆     ┆     ┆     ┆     ┆     ┆     ┆     ┆     ┆     ┆     ┆     ┆     ┆     ┆     ┆     ┆     ┆     ┆     ┆     ┆     ┆     ┆     ┆     ┆     ┆     ┆     ┆     ┆     ┆     ┆     ┆     ┆     ┆     ┆     ┆     ┆     ┆     ┆     ┆     ┆     ┆     ┆     ┆     ┆     ┆     ┆     ┆     ┆     ┆     ┆     ┆     ┆     ┆     ┆     ┆     ┆     ┆     ┆     │\n",
       "│     ┆     ┆     ┆     ┆     ┆     ┆     ┆     ┆     ┆     ┆     ┆     ┆     ┆     ┆ …   ┆     ┆     ┆     ┆     ┆     ┆     ┆     ┆     ┆     ┆     ┆     ┆     ┆     ┆     ┆     ┆     ┆     ┆     ┆     ┆     ┆     ┆     ┆     ┆     ┆     ┆     ┆     ┆     ┆     ┆     ┆     ┆     ┆     ┆     ┆     ┆     ┆     ┆     ┆     ┆     ┆     ┆     ┆     ┆     ┆     ┆     ┆     ┆     ┆     ┆     ┆     ┆     ┆     ┆     ┆     ┆     ┆     ┆     ┆     ┆     ┆     ┆     ┆     ┆     ┆     ┆     ┆     ┆     ┆     ┆     ┆     ┆     ┆     ┆     ┆     ┆     ┆     ┆     ┆     │\n",
       "│ 870 ┆ 202 ┆ 202 ┆ 198 ┆ 202 ┆ Y   ┆ 221 ┆ 221 ┆ 221 ┆ 221 ┆ Q   ┆ RW  ┆ S   ┆ A   ┆ COS ┆     ┆ Y   ┆ COR ┆ EQT ┆ COM ┆ NS  ┆ Y   ┆ N/A ┆ UNA ┆ NAC ┆ UNA ┆ COS ┆ COS ┆ 788 ┆ 533 ┆ 452 ┆ NOA ┆ 6.0 ┆ 172 ┆ COS ┆ 2.0 ┆ 202 ┆ N   ┆ 660 ┆ TR  ┆ 2.9 ┆ BP  ┆ 663 ┆ TR  ┆ 202 ┆ 2.9 ┆ PB  ┆ -0. ┆ -0. ┆ 0.0 ┆ NA  ┆ D1  ┆ 0.0 ┆ 0.0 ┆ 1.0 ┆ NO  ┆ 1.9 ┆ 660 ┆ 657 ┆ 663 ┆ 660 ┆ 660 ┆ 661 ┆ 594 ┆ 55. ┆ 1.2 ┆ 202 ┆ 202 ┆ 443 ┆ OBS ┆ NA  ┆ N   ┆ nul ┆ nul ┆     ┆     ┆     ┆     ┆     ┆     ┆     ┆ nul ┆ nul ┆ nul ┆ nul ┆ nul ┆ nul ┆ nul ┆ nul ┆ -0. ┆ -0. ┆ -0. ┆ -0. ┆ -0. │\n",
       "│ 55. ┆ 3-1 ┆ 3-1 ┆ 5-1 ┆ 3-1 ┆     ┆ 60K ┆ 60K ┆ 60K ┆ 60K ┆     ┆     ┆     ┆     ┆ TCO ┆     ┆     ┆ P   ┆ Y   ┆     ┆     ┆     ┆     ┆ V   ┆ T   ┆ V   ┆ T   ┆ T   ┆ 2.0 ┆ 0.0 ┆ 319 ┆ VAI ┆ 012 ┆ 54. ┆ TCO ┆ 231 ┆ 3-1 ┆     ┆ .08 ┆     ┆ 293 ┆     ┆ .1  ┆     ┆ 3-1 ┆ 428 ┆     ┆ 004 ┆ 004 ┆     ┆     ┆     ┆     ┆     ┆     ┆     ┆ 143 ┆ .08 ┆ .16 ┆ .18 ┆ .21 ┆ .32 ┆ .0  ┆ 62. ┆ 0   ┆ 636 ┆ 3-1 ┆ 3-1 ┆ 787 ┆     ┆     ┆     ┆ l   ┆ l   ┆     ┆     ┆     ┆     ┆     ┆     ┆     ┆ l   ┆ l   ┆ l   ┆ l   ┆ l   ┆ l   ┆ l   ┆ l   ┆ 004 ┆ 004 ┆ 007 ┆ 007 ┆ 002 │\n",
       "│ 0   ┆ 0-0 ┆ 2-2 ┆ 1-2 ┆ 2-2 ┆     ┆ 10  ┆ 105 ┆ 10  ┆ 105 ┆     ┆     ┆     ┆     ┆ WHO ┆     ┆     ┆     ┆     ┆     ┆     ┆     ┆     ┆     ┆     ┆     ┆     ┆     ┆     ┆     ┆     ┆ L   ┆ 633 ┆ 0   ┆ WHO ┆ 229 ┆ 2-2 ┆     ┆     ┆     ┆ e8  ┆     ┆     ┆     ┆ 2-2 ┆ e8  ┆     ┆ 554 ┆ 554 ┆     ┆     ┆     ┆     ┆     ┆     ┆     ┆ 41e ┆     ┆     ┆ 5   ┆     ┆     ┆     ┆ 0   ┆     ┆ e9  ┆ 1-2 ┆ 2-2 ┆ .0  ┆     ┆     ┆     ┆     ┆     ┆     ┆     ┆     ┆     ┆     ┆     ┆     ┆     ┆     ┆     ┆     ┆     ┆     ┆     ┆     ┆ 045 ┆ 084 ┆ 48  ┆ 546 ┆ 826 │\n",
       "│     ┆ 1   ┆ 9   ┆ 7   ┆ 9   ┆     ┆     ┆     ┆     ┆     ┆     ┆     ┆     ┆     ┆ LES ┆     ┆     ┆     ┆     ┆     ┆     ┆     ┆     ┆     ┆     ┆     ┆     ┆     ┆     ┆     ┆     ┆     ┆ e7  ┆     ┆ LES ┆ e7  ┆ 9   ┆     ┆     ┆     ┆     ┆     ┆     ┆     ┆ 8   ┆     ┆     ┆     ┆     ┆     ┆     ┆     ┆     ┆     ┆     ┆     ┆ 6   ┆     ┆     ┆     ┆     ┆     ┆     ┆     ┆     ┆     ┆ 4   ┆ 9   ┆     ┆     ┆     ┆     ┆     ┆     ┆     ┆     ┆     ┆     ┆     ┆     ┆     ┆     ┆     ┆     ┆     ┆     ┆     ┆     ┆     ┆     ┆     ┆     ┆     ┆     │\n",
       "│     ┆ 00: ┆ 00: ┆ 00: ┆ 00: ┆     ┆     ┆     ┆     ┆     ┆     ┆     ┆     ┆     ┆ ALE ┆     ┆     ┆     ┆     ┆     ┆     ┆     ┆     ┆     ┆     ┆     ┆     ┆     ┆     ┆     ┆     ┆     ┆     ┆     ┆ ALE ┆     ┆ 00: ┆     ┆     ┆     ┆     ┆     ┆     ┆     ┆ 00: ┆     ┆     ┆     ┆     ┆     ┆     ┆     ┆     ┆     ┆     ┆     ┆     ┆     ┆     ┆     ┆     ┆     ┆     ┆     ┆     ┆     ┆ 00: ┆ 00: ┆     ┆     ┆     ┆     ┆     ┆     ┆     ┆     ┆     ┆     ┆     ┆     ┆     ┆     ┆     ┆     ┆     ┆     ┆     ┆     ┆     ┆     ┆     ┆     ┆     ┆     │\n",
       "│     ┆ 00: ┆ 00: ┆ 00: ┆ 00: ┆     ┆     ┆     ┆     ┆     ┆     ┆     ┆     ┆     ┆ COR ┆     ┆     ┆     ┆     ┆     ┆     ┆     ┆     ┆     ┆     ┆     ┆     ┆     ┆     ┆     ┆     ┆     ┆     ┆     ┆ COR ┆     ┆ 00: ┆     ┆     ┆     ┆     ┆     ┆     ┆     ┆ 00: ┆     ┆     ┆     ┆     ┆     ┆     ┆     ┆     ┆     ┆     ┆     ┆     ┆     ┆     ┆     ┆     ┆     ┆     ┆     ┆     ┆     ┆ 00: ┆ 00: ┆     ┆     ┆     ┆     ┆     ┆     ┆     ┆     ┆     ┆     ┆     ┆     ┆     ┆     ┆     ┆     ┆     ┆     ┆     ┆     ┆     ┆     ┆     ┆     ┆     ┆     │\n",
       "│     ┆ 00  ┆ 00  ┆ 00  ┆ 00  ┆     ┆     ┆     ┆     ┆     ┆     ┆     ┆     ┆     ┆ P   ┆     ┆     ┆     ┆     ┆     ┆     ┆     ┆     ┆     ┆     ┆     ┆     ┆     ┆     ┆     ┆     ┆     ┆     ┆     ┆ P   ┆     ┆ 00  ┆     ┆     ┆     ┆     ┆     ┆     ┆     ┆ 00  ┆     ┆     ┆     ┆     ┆     ┆     ┆     ┆     ┆     ┆     ┆     ┆     ┆     ┆     ┆     ┆     ┆     ┆     ┆     ┆     ┆     ┆ 00  ┆ 00  ┆     ┆     ┆     ┆     ┆     ┆     ┆     ┆     ┆     ┆     ┆     ┆     ┆     ┆     ┆     ┆     ┆     ┆     ┆     ┆     ┆     ┆     ┆     ┆     ┆     ┆     │\n",
       "│     ┆     ┆     ┆     ┆     ┆     ┆     ┆     ┆     ┆     ┆     ┆     ┆     ┆     ┆ NEW ┆     ┆     ┆     ┆     ┆     ┆     ┆     ┆     ┆     ┆     ┆     ┆     ┆     ┆     ┆     ┆     ┆     ┆     ┆     ┆ NEW ┆     ┆     ┆     ┆     ┆     ┆     ┆     ┆     ┆     ┆     ┆     ┆     ┆     ┆     ┆     ┆     ┆     ┆     ┆     ┆     ┆     ┆     ┆     ┆     ┆     ┆     ┆     ┆     ┆     ┆     ┆     ┆     ┆     ┆     ┆     ┆     ┆     ┆     ┆     ┆     ┆     ┆     ┆     ┆     ┆     ┆     ┆     ┆     ┆     ┆     ┆     ┆     ┆     ┆     ┆     ┆     ┆     ┆     ┆     │\n",
       "│     ┆     ┆     ┆     ┆     ┆     ┆     ┆     ┆     ┆     ┆     ┆     ┆     ┆     ┆ ;   ┆     ┆     ┆     ┆     ┆     ┆     ┆     ┆     ┆     ┆     ┆     ┆     ┆     ┆     ┆     ┆     ┆     ┆     ┆     ┆     ┆     ┆     ┆     ┆     ┆     ┆     ┆     ┆     ┆     ┆     ┆     ┆     ┆     ┆     ┆     ┆     ┆     ┆     ┆     ┆     ┆     ┆     ┆     ┆     ┆     ┆     ┆     ┆     ┆     ┆     ┆     ┆     ┆     ┆     ┆     ┆     ┆     ┆     ┆     ┆     ┆     ┆     ┆     ┆     ┆     ┆     ┆     ┆     ┆     ┆     ┆     ┆     ┆     ┆     ┆     ┆     ┆     ┆     ┆     │\n",
       "│     ┆     ┆     ┆     ┆     ┆     ┆     ┆     ┆     ┆     ┆     ┆     ┆     ┆     ┆ COM ┆     ┆     ┆     ┆     ┆     ┆     ┆     ┆     ┆     ┆     ┆     ┆     ┆     ┆     ┆     ┆     ┆     ┆     ┆     ┆     ┆     ┆     ┆     ┆     ┆     ┆     ┆     ┆     ┆     ┆     ┆     ┆     ┆     ┆     ┆     ┆     ┆     ┆     ┆     ┆     ┆     ┆     ┆     ┆     ┆     ┆     ┆     ┆     ┆     ┆     ┆     ┆     ┆     ┆     ┆     ┆     ┆     ┆     ┆     ┆     ┆     ┆     ┆     ┆     ┆     ┆     ┆     ┆     ┆     ┆     ┆     ┆     ┆     ┆     ┆     ┆     ┆     ┆     ┆     │\n",
       "│     ┆     ┆     ┆     ┆     ┆     ┆     ┆     ┆     ┆     ┆     ┆     ┆     ┆     ┆ …   ┆     ┆     ┆     ┆     ┆     ┆     ┆     ┆     ┆     ┆     ┆     ┆     ┆     ┆     ┆     ┆     ┆     ┆     ┆     ┆     ┆     ┆     ┆     ┆     ┆     ┆     ┆     ┆     ┆     ┆     ┆     ┆     ┆     ┆     ┆     ┆     ┆     ┆     ┆     ┆     ┆     ┆     ┆     ┆     ┆     ┆     ┆     ┆     ┆     ┆     ┆     ┆     ┆     ┆     ┆     ┆     ┆     ┆     ┆     ┆     ┆     ┆     ┆     ┆     ┆     ┆     ┆     ┆     ┆     ┆     ┆     ┆     ┆     ┆     ┆     ┆     ┆     ┆     ┆     │\n",
       "└─────┴─────┴─────┴─────┴─────┴─────┴─────┴─────┴─────┴─────┴─────┴─────┴─────┴─────┴─────┴─────┴─────┴─────┴─────┴─────┴─────┴─────┴─────┴─────┴─────┴─────┴─────┴─────┴─────┴─────┴─────┴─────┴─────┴─────┴─────┴─────┴─────┴─────┴─────┴─────┴─────┴─────┴─────┴─────┴─────┴─────┴─────┴─────┴─────┴─────┴─────┴─────┴─────┴─────┴─────┴─────┴─────┴─────┴─────┴─────┴─────┴─────┴─────┴─────┴─────┴─────┴─────┴─────┴─────┴─────┴─────┴─────┴─────┴─────┴─────┴─────┴─────┴─────┴─────┴─────┴─────┴─────┴─────┴─────┴─────┴─────┴─────┴─────┴─────┴─────┴─────┴─────┴─────┴─────┘"
      ]
     },
     "metadata": {},
     "output_type": "display_data"
    }
   ],
   "source": [
    "df_costco_crsp = pl.read_parquet('/home/hzhang/data/wrds/crsp_costco_v2.parq')\n",
    "df_costco_crsp = df_costco_crsp.filter((c('DlyCalDt').is_between(datetime(2023,12,26), datetime(2024,1,1), closed=\"both\")))\n",
    "with pl.Config(tbl_cols=-1):\n",
    "    display(df_costco_crsp)"
   ]
  },
  {
   "cell_type": "code",
   "execution_count": 3,
   "id": "5144c8b6-5765-4ba6-82e2-16d83698d913",
   "metadata": {
    "execution": {
     "iopub.execute_input": "2025-02-02T05:18:09.103363Z",
     "iopub.status.busy": "2025-02-02T05:18:09.103191Z",
     "iopub.status.idle": "2025-02-02T05:18:09.119918Z",
     "shell.execute_reply": "2025-02-02T05:18:09.118696Z",
     "shell.execute_reply.started": "2025-02-02T05:18:09.103349Z"
    }
   },
   "outputs": [],
   "source": [
    "df = df_costco_crsp\n",
    "np.testing.assert_almost_equal( df[1, 'DlyRet'] , \n",
    "                               (df[1, 'DlyClose'] + df[1, 'DlyOrdDivAmt'])/df[0, 'DlyClose'] -1)\n",
    "np.testing.assert_almost_equal( df[1, 'DlyRetx'] , (df[1, 'DlyClose'] )/df[0, 'DlyClose'] -1)\n",
    "np.testing.assert_almost_equal( df[1, 'DlyRetI'] , (df[1, 'DlyOrdDivAmt'])/df[0, 'DlyClose'])"
   ]
  },
  {
   "cell_type": "code",
   "execution_count": 4,
   "id": "39ae0544-002b-492f-be36-395107032b33",
   "metadata": {
    "execution": {
     "iopub.execute_input": "2025-02-02T05:18:09.121311Z",
     "iopub.status.busy": "2025-02-02T05:18:09.120616Z",
     "iopub.status.idle": "2025-02-02T05:18:09.129392Z",
     "shell.execute_reply": "2025-02-02T05:18:09.127077Z",
     "shell.execute_reply.started": "2025-02-02T05:18:09.121279Z"
    }
   },
   "outputs": [
    {
     "data": {
      "text/html": [
       "<div><style>\n",
       ".dataframe > thead > tr,\n",
       ".dataframe > tbody > tr {\n",
       "  text-align: right;\n",
       "  white-space: pre-wrap;\n",
       "}\n",
       "</style>\n",
       "<small>shape: (4, 3)</small><table border=\"1\" class=\"dataframe\"><thead><tr><th>date</th><th>adj_close</th><th>close</th></tr><tr><td>datetime[μs]</td><td>f64</td><td>f64</td></tr></thead><tbody><tr><td>2023-12-26 00:00:00</td><td>655.79</td><td>674.62</td></tr><tr><td>2023-12-27 00:00:00</td><td>662.93</td><td>668.8</td></tr><tr><td>2023-12-28 00:00:00</td><td>659.25</td><td>663.1</td></tr><tr><td>2023-12-29 00:00:00</td><td>656.25</td><td>660.08</td></tr></tbody></table></div>"
      ],
      "text/plain": [
       "shape: (4, 3)\n",
       "┌─────────────────────┬───────────┬────────┐\n",
       "│ date                ┆ adj_close ┆ close  │\n",
       "│ ---                 ┆ ---       ┆ ---    │\n",
       "│ datetime[μs]        ┆ f64       ┆ f64    │\n",
       "╞═════════════════════╪═══════════╪════════╡\n",
       "│ 2023-12-26 00:00:00 ┆ 655.79    ┆ 674.62 │\n",
       "│ 2023-12-27 00:00:00 ┆ 662.93    ┆ 668.8  │\n",
       "│ 2023-12-28 00:00:00 ┆ 659.25    ┆ 663.1  │\n",
       "│ 2023-12-29 00:00:00 ┆ 656.25    ┆ 660.08 │\n",
       "└─────────────────────┴───────────┴────────┘"
      ]
     },
     "execution_count": 4,
     "metadata": {},
     "output_type": "execute_result"
    }
   ],
   "source": [
    "# price and dividend: https://finance.yahoo.com/quote/COST/history/?period1=1580417983&period2=1738270775\n",
    "df_costco_yahoo =pl.DataFrame({'date': [datetime(2023,12,26), datetime(2023,12,27), datetime(2023,12,28), datetime(2023,12,29)],\n",
    "                               'adj_close': [655.79, 662.93, 659.25,656.25],\n",
    "                               'close': [674.62, 668.80, 663.10, 660.08]\n",
    "                              })\n",
    "df_costco_yahoo"
   ]
  },
  {
   "cell_type": "code",
   "execution_count": 5,
   "id": "4bd462b0-7ad7-431e-8851-d7daa6984291",
   "metadata": {
    "execution": {
     "iopub.execute_input": "2025-02-02T05:18:09.131889Z",
     "iopub.status.busy": "2025-02-02T05:18:09.131407Z",
     "iopub.status.idle": "2025-02-02T05:18:09.145809Z",
     "shell.execute_reply": "2025-02-02T05:18:09.143840Z",
     "shell.execute_reply.started": "2025-02-02T05:18:09.131854Z"
    }
   },
   "outputs": [
    {
     "data": {
      "text/plain": [
       "653.830572069378"
      ]
     },
     "execution_count": 5,
     "metadata": {},
     "output_type": "execute_result"
    }
   ],
   "source": [
    "df = df_costco_yahoo\n",
    "df_costco_yahoo_t0_adjprice = (df[1,'adj_close'] / df[1,'close']  # t_1 adjustment factor\n",
    "                       * (1 - 15.0/df[0,'close']) # dividend adjustment factor per Yahoo definition\n",
    "                       * df[0, 'close'])\n",
    "df_costco_yahoo_t0_adjprice"
   ]
  },
  {
   "cell_type": "markdown",
   "id": "25f5bead-cf73-474a-b7cc-7294fde01070",
   "metadata": {},
   "source": [
    "### Real world example 2\n",
    "\n",
    "CVI in mid Aug 2023 [link](https://cvrenergy.gcs-web.com/cash-dividends)\n",
    "\n",
    "but I cannot really reproduce Yahoo's computation (why do I match only to 2 sig fig's, rather than 4 sig fig's considering rounding?).\n",
    "\n",
    "⏳Might have to wait another data source for comparison."
   ]
  },
  {
   "cell_type": "code",
   "execution_count": 6,
   "id": "4dcc9e59-637a-4e3f-a253-4357feb44635",
   "metadata": {
    "execution": {
     "iopub.execute_input": "2025-02-02T05:18:09.151652Z",
     "iopub.status.busy": "2025-02-02T05:18:09.151174Z",
     "iopub.status.idle": "2025-02-02T05:18:09.160384Z",
     "shell.execute_reply": "2025-02-02T05:18:09.158253Z",
     "shell.execute_reply.started": "2025-02-02T05:18:09.151618Z"
    }
   },
   "outputs": [],
   "source": [
    "# price and dividend: https://finance.yahoo.com/quote/CVI/history/?period1=1690934400&period2=1692662400\n",
    "df_cvi_yahoo =pl.DataFrame({'date': [datetime(2023,8,10), datetime(2023,8,11)],\n",
    "                               'adj_close': [31.97, 32.49],\n",
    "                               'close': [36.55, 35.99]\n",
    "                              })"
   ]
  },
  {
   "cell_type": "code",
   "execution_count": 7,
   "id": "0bbc8c37-982e-4005-993e-284d47a6c1f9",
   "metadata": {
    "execution": {
     "iopub.execute_input": "2025-02-02T05:18:09.162925Z",
     "iopub.status.busy": "2025-02-02T05:18:09.162046Z",
     "iopub.status.idle": "2025-02-02T05:18:09.178839Z",
     "shell.execute_reply": "2025-02-02T05:18:09.176149Z",
     "shell.execute_reply.started": "2025-02-02T05:18:09.162877Z"
    }
   },
   "outputs": [
    {
     "data": {
      "text/plain": [
       "31.641414281744925"
      ]
     },
     "execution_count": 7,
     "metadata": {},
     "output_type": "execute_result"
    }
   ],
   "source": [
    "df = df_cvi_yahoo\n",
    "df_cvi_yahoo_t0_adjprice = (df[1,'adj_close'] / df[1,'close']  # t_1 adjustment factor\n",
    "                       * (1 - 1.5/df[0,'close']) # dividend adjustment factor per Yahoo definition\n",
    "                       * df[0, 'close'])\n",
    "df_cvi_yahoo_t0_adjprice"
   ]
  },
  {
   "cell_type": "code",
   "execution_count": 8,
   "id": "299fcd5b-c738-4d4f-9b9b-62cc22877936",
   "metadata": {
    "execution": {
     "iopub.execute_input": "2025-02-02T05:18:09.182299Z",
     "iopub.status.busy": "2025-02-02T05:18:09.181604Z",
     "iopub.status.idle": "2025-02-02T05:18:09.222749Z",
     "shell.execute_reply": "2025-02-02T05:18:09.221220Z",
     "shell.execute_reply.started": "2025-02-02T05:18:09.182253Z"
    }
   },
   "outputs": [
    {
     "data": {
      "text/html": [
       "<div><style>\n",
       ".dataframe > thead > tr,\n",
       ".dataframe > tbody > tr {\n",
       "  text-align: right;\n",
       "  white-space: pre-wrap;\n",
       "}\n",
       "</style>\n",
       "<small>shape: (3, 94)</small><table border=\"1\" class=\"dataframe\"><thead><tr><th>PERMNO</th><th>SecInfoStartDt</th><th>SecInfoEndDt</th><th>SecurityBegDt</th><th>SecurityEndDt</th><th>SecurityHdrFlg</th><th>HdrCUSIP</th><th>HdrCUSIP9</th><th>CUSIP</th><th>CUSIP9</th><th>PrimaryExch</th><th>ConditionalType</th><th>ExchangeTier</th><th>TradingStatusFlg</th><th>SecurityNm</th><th>ShareClass</th><th>USIncFlg</th><th>IssuerType</th><th>SecurityType</th><th>SecuritySubType</th><th>ShareType</th><th>SecurityActiveFlg</th><th>DelActionType</th><th>DelStatusType</th><th>DelReasonType</th><th>DelPaymentType</th><th>Ticker</th><th>TradingSymbol</th><th>PERMCO</th><th>SICCD</th><th>NAICS</th><th>ICBIndustry</th><th>NASDCompno</th><th>NASDIssuno</th><th>IssuerNm</th><th>YYYYMMDD</th><th>DlyCalDt</th><th>&hellip;</th><th>DlyClose</th><th>DlyLow</th><th>DlyHigh</th><th>DlyBid</th><th>DlyAsk</th><th>DlyOpen</th><th>DlyNumTrd</th><th>DlyMMCnt</th><th>DlyPrcVol</th><th>ShrStartDt</th><th>ShrEndDt</th><th>ShrOut</th><th>ShrSource</th><th>ShrFacType</th><th>ShrAdrFlg</th><th>DisExDt</th><th>DisSeqNbr</th><th>DisOrdinaryFlg</th><th>DisType</th><th>DisFreqType</th><th>DisPaymentType</th><th>DisDetailType</th><th>DisTaxType</th><th>DisOrigCurType</th><th>DisDivAmt</th><th>DisFacPr</th><th>DisFacShr</th><th>DisDeclareDt</th><th>DisRecordDt</th><th>DisPayDt</th><th>DisPERMNO</th><th>DisPERMCO</th><th>vwretd</th><th>vwretx</th><th>ewretd</th><th>ewretx</th><th>sprtrn</th></tr><tr><td>f64</td><td>datetime[ns]</td><td>datetime[ns]</td><td>datetime[ns]</td><td>datetime[ns]</td><td>str</td><td>str</td><td>str</td><td>str</td><td>str</td><td>str</td><td>str</td><td>str</td><td>str</td><td>str</td><td>str</td><td>str</td><td>str</td><td>str</td><td>str</td><td>str</td><td>str</td><td>str</td><td>str</td><td>str</td><td>str</td><td>str</td><td>str</td><td>f64</td><td>f64</td><td>str</td><td>str</td><td>f64</td><td>f64</td><td>str</td><td>f64</td><td>datetime[ns]</td><td>&hellip;</td><td>f64</td><td>f64</td><td>f64</td><td>f64</td><td>f64</td><td>f64</td><td>f64</td><td>f64</td><td>f64</td><td>datetime[ns]</td><td>datetime[ns]</td><td>f64</td><td>str</td><td>str</td><td>str</td><td>datetime[ns]</td><td>f64</td><td>str</td><td>str</td><td>str</td><td>str</td><td>str</td><td>str</td><td>str</td><td>f64</td><td>f64</td><td>f64</td><td>datetime[ns]</td><td>datetime[ns]</td><td>datetime[ns]</td><td>f64</td><td>f64</td><td>f64</td><td>f64</td><td>f64</td><td>f64</td><td>f64</td></tr></thead><tbody><tr><td>92326.0</td><td>2008-06-27 00:00:00</td><td>2023-09-28 00:00:00</td><td>2007-10-23 00:00:00</td><td>2023-12-29 00:00:00</td><td>&quot;N&quot;</td><td>&quot;12662P10&quot;</td><td>&quot;12662P108&quot;</td><td>&quot;12662P10&quot;</td><td>&quot;12662P108&quot;</td><td>&quot;N&quot;</td><td>&quot;RW&quot;</td><td>&quot;N/A&quot;</td><td>&quot;A&quot;</td><td>&quot;C V R ENERGY; COM NONE; CONS&quot;</td><td>&quot;&quot;</td><td>&quot;Y&quot;</td><td>&quot;CORP&quot;</td><td>&quot;EQTY&quot;</td><td>&quot;COM&quot;</td><td>&quot;NS&quot;</td><td>&quot;Y&quot;</td><td>&quot;N/A&quot;</td><td>&quot;UNAV&quot;</td><td>&quot;NACT&quot;</td><td>&quot;UNAV&quot;</td><td>&quot;CVI&quot;</td><td>&quot;CVI&quot;</td><td>52793.0</td><td>2911.0</td><td>&quot;324110&quot;</td><td>&quot;ENERGY&quot;</td><td>0.0</td><td>0.0</td><td>&quot;C V R ENERGY&quot;</td><td>2.023081e7</td><td>2023-08-10 00:00:00</td><td>&hellip;</td><td>37.46</td><td>37.08</td><td>38.63</td><td>37.45</td><td>37.46</td><td>37.67</td><td>null</td><td>null</td><td>4.4605e7</td><td>2023-07-31 00:00:00</td><td>2023-08-30 00:00:00</td><td>100531.0</td><td>&quot;OBS&quot;</td><td>&quot;NA&quot;</td><td>&quot;N&quot;</td><td>null</td><td>null</td><td>&quot;&quot;</td><td>&quot;&quot;</td><td>&quot;&quot;</td><td>&quot;&quot;</td><td>&quot;&quot;</td><td>&quot;&quot;</td><td>&quot;&quot;</td><td>null</td><td>null</td><td>null</td><td>null</td><td>null</td><td>null</td><td>null</td><td>null</td><td>0.000093</td><td>-0.000024</td><td>-0.002073</td><td>-0.002202</td><td>0.000251</td></tr><tr><td>92326.0</td><td>2008-06-27 00:00:00</td><td>2023-09-28 00:00:00</td><td>2007-10-23 00:00:00</td><td>2023-12-29 00:00:00</td><td>&quot;N&quot;</td><td>&quot;12662P10&quot;</td><td>&quot;12662P108&quot;</td><td>&quot;12662P10&quot;</td><td>&quot;12662P108&quot;</td><td>&quot;N&quot;</td><td>&quot;RW&quot;</td><td>&quot;N/A&quot;</td><td>&quot;A&quot;</td><td>&quot;C V R ENERGY; COM NONE; CONS&quot;</td><td>&quot;&quot;</td><td>&quot;Y&quot;</td><td>&quot;CORP&quot;</td><td>&quot;EQTY&quot;</td><td>&quot;COM&quot;</td><td>&quot;NS&quot;</td><td>&quot;Y&quot;</td><td>&quot;N/A&quot;</td><td>&quot;UNAV&quot;</td><td>&quot;NACT&quot;</td><td>&quot;UNAV&quot;</td><td>&quot;CVI&quot;</td><td>&quot;CVI&quot;</td><td>52793.0</td><td>2911.0</td><td>&quot;324110&quot;</td><td>&quot;ENERGY&quot;</td><td>0.0</td><td>0.0</td><td>&quot;C V R ENERGY&quot;</td><td>2.0230811e7</td><td>2023-08-11 00:00:00</td><td>&hellip;</td><td>36.55</td><td>35.79</td><td>37.07</td><td>36.55</td><td>36.56</td><td>35.89</td><td>null</td><td>null</td><td>3.0012e7</td><td>2023-07-31 00:00:00</td><td>2023-08-30 00:00:00</td><td>100531.0</td><td>&quot;OBS&quot;</td><td>&quot;NA&quot;</td><td>&quot;N&quot;</td><td>2023-08-11 00:00:00</td><td>1.0</td><td>&quot;Y&quot;</td><td>&quot;CD&quot;</td><td>&quot;Q&quot;</td><td>&quot;USD&quot;</td><td>&quot;CDIV&quot;</td><td>&quot;D&quot;</td><td>&quot;USD&quot;</td><td>0.5</td><td>0.0</td><td>0.0</td><td>2023-07-31 00:00:00</td><td>2023-08-14 00:00:00</td><td>2023-08-21 00:00:00</td><td>0.0</td><td>0.0</td><td>-0.000907</td><td>-0.001037</td><td>-0.001429</td><td>-0.001489</td><td>-0.00107</td></tr><tr><td>92326.0</td><td>2008-06-27 00:00:00</td><td>2023-09-28 00:00:00</td><td>2007-10-23 00:00:00</td><td>2023-12-29 00:00:00</td><td>&quot;N&quot;</td><td>&quot;12662P10&quot;</td><td>&quot;12662P108&quot;</td><td>&quot;12662P10&quot;</td><td>&quot;12662P108&quot;</td><td>&quot;N&quot;</td><td>&quot;RW&quot;</td><td>&quot;N/A&quot;</td><td>&quot;A&quot;</td><td>&quot;C V R ENERGY; COM NONE; CONS&quot;</td><td>&quot;&quot;</td><td>&quot;Y&quot;</td><td>&quot;CORP&quot;</td><td>&quot;EQTY&quot;</td><td>&quot;COM&quot;</td><td>&quot;NS&quot;</td><td>&quot;Y&quot;</td><td>&quot;N/A&quot;</td><td>&quot;UNAV&quot;</td><td>&quot;NACT&quot;</td><td>&quot;UNAV&quot;</td><td>&quot;CVI&quot;</td><td>&quot;CVI&quot;</td><td>52793.0</td><td>2911.0</td><td>&quot;324110&quot;</td><td>&quot;ENERGY&quot;</td><td>0.0</td><td>0.0</td><td>&quot;C V R ENERGY&quot;</td><td>2.0230811e7</td><td>2023-08-11 00:00:00</td><td>&hellip;</td><td>36.55</td><td>35.79</td><td>37.07</td><td>36.55</td><td>36.56</td><td>35.89</td><td>null</td><td>null</td><td>3.0012e7</td><td>2023-07-31 00:00:00</td><td>2023-08-30 00:00:00</td><td>100531.0</td><td>&quot;OBS&quot;</td><td>&quot;NA&quot;</td><td>&quot;N&quot;</td><td>2023-08-11 00:00:00</td><td>2.0</td><td>&quot;Y&quot;</td><td>&quot;SD&quot;</td><td>&quot;E&quot;</td><td>&quot;USD&quot;</td><td>&quot;SDIV&quot;</td><td>&quot;D&quot;</td><td>&quot;USD&quot;</td><td>1.0</td><td>0.0</td><td>0.0</td><td>2023-07-31 00:00:00</td><td>2023-08-14 00:00:00</td><td>2023-08-21 00:00:00</td><td>0.0</td><td>0.0</td><td>-0.000907</td><td>-0.001037</td><td>-0.001429</td><td>-0.001489</td><td>-0.00107</td></tr></tbody></table></div>"
      ],
      "text/plain": [
       "shape: (3, 94)\n",
       "┌─────────┬────────────┬────────────┬───────────┬───┬───────────┬───────────┬───────────┬──────────┐\n",
       "│ PERMNO  ┆ SecInfoSta ┆ SecInfoEnd ┆ SecurityB ┆ … ┆ vwretx    ┆ ewretd    ┆ ewretx    ┆ sprtrn   │\n",
       "│ ---     ┆ rtDt       ┆ Dt         ┆ egDt      ┆   ┆ ---       ┆ ---       ┆ ---       ┆ ---      │\n",
       "│ f64     ┆ ---        ┆ ---        ┆ ---       ┆   ┆ f64       ┆ f64       ┆ f64       ┆ f64      │\n",
       "│         ┆ datetime[n ┆ datetime[n ┆ datetime[ ┆   ┆           ┆           ┆           ┆          │\n",
       "│         ┆ s]         ┆ s]         ┆ ns]       ┆   ┆           ┆           ┆           ┆          │\n",
       "╞═════════╪════════════╪════════════╪═══════════╪═══╪═══════════╪═══════════╪═══════════╪══════════╡\n",
       "│ 92326.0 ┆ 2008-06-27 ┆ 2023-09-28 ┆ 2007-10-2 ┆ … ┆ -0.000024 ┆ -0.002073 ┆ -0.002202 ┆ 0.000251 │\n",
       "│         ┆ 00:00:00   ┆ 00:00:00   ┆ 3         ┆   ┆           ┆           ┆           ┆          │\n",
       "│         ┆            ┆            ┆ 00:00:00  ┆   ┆           ┆           ┆           ┆          │\n",
       "│ 92326.0 ┆ 2008-06-27 ┆ 2023-09-28 ┆ 2007-10-2 ┆ … ┆ -0.001037 ┆ -0.001429 ┆ -0.001489 ┆ -0.00107 │\n",
       "│         ┆ 00:00:00   ┆ 00:00:00   ┆ 3         ┆   ┆           ┆           ┆           ┆          │\n",
       "│         ┆            ┆            ┆ 00:00:00  ┆   ┆           ┆           ┆           ┆          │\n",
       "│ 92326.0 ┆ 2008-06-27 ┆ 2023-09-28 ┆ 2007-10-2 ┆ … ┆ -0.001037 ┆ -0.001429 ┆ -0.001489 ┆ -0.00107 │\n",
       "│         ┆ 00:00:00   ┆ 00:00:00   ┆ 3         ┆   ┆           ┆           ┆           ┆          │\n",
       "│         ┆            ┆            ┆ 00:00:00  ┆   ┆           ┆           ┆           ┆          │\n",
       "└─────────┴────────────┴────────────┴───────────┴───┴───────────┴───────────┴───────────┴──────────┘"
      ]
     },
     "execution_count": 8,
     "metadata": {},
     "output_type": "execute_result"
    }
   ],
   "source": [
    "df_cvi_crsp = pl.read_parquet('/home/hzhang/data/wrds/crsp_cvi_v2.parq')\n",
    "df_cvi_crsp = df_cvi_crsp.filter(c('DlyCalDt').is_between(datetime(2023,8,10), datetime(2023,8,11), closed=\"both\"))\n",
    "df_cvi_crsp"
   ]
  },
  {
   "cell_type": "code",
   "execution_count": 9,
   "id": "40250720-3259-4654-b0e2-4e8d9f90aa60",
   "metadata": {
    "execution": {
     "iopub.execute_input": "2025-02-02T05:18:09.225543Z",
     "iopub.status.busy": "2025-02-02T05:18:09.224453Z",
     "iopub.status.idle": "2025-02-02T05:18:09.230458Z",
     "shell.execute_reply": "2025-02-02T05:18:09.229422Z",
     "shell.execute_reply.started": "2025-02-02T05:18:09.225512Z"
    }
   },
   "outputs": [],
   "source": [
    "df = df_cvi_crsp\n",
    "np.testing.assert_almost_equal( df[1, 'DlyRet'] , \n",
    "                               (df[1, 'DlyClose'] + df[1, 'DlyOrdDivAmt'])/df[0, 'DlyClose'] -1)\n",
    "np.testing.assert_almost_equal( df[1, 'DlyRetx'] , (df[1, 'DlyClose'] )/df[0, 'DlyClose'] -1)\n",
    "np.testing.assert_almost_equal( df[1, 'DlyRetI'] , (df[1, 'DlyOrdDivAmt'])/df[0, 'DlyClose'])"
   ]
  },
  {
   "cell_type": "code",
   "execution_count": 10,
   "id": "8ab72850-2dae-4e08-8123-678a5545acd4",
   "metadata": {
    "execution": {
     "iopub.execute_input": "2025-02-02T05:18:09.232096Z",
     "iopub.status.busy": "2025-02-02T05:18:09.231684Z",
     "iopub.status.idle": "2025-02-02T05:18:09.383627Z",
     "shell.execute_reply": "2025-02-02T05:18:09.382465Z",
     "shell.execute_reply.started": "2025-02-02T05:18:09.232032Z"
    }
   },
   "outputs": [
    {
     "ename": "InterruptedError",
     "evalue": "",
     "output_type": "error",
     "traceback": [
      "\u001b[0;31m---------------------------------------------------------------------------\u001b[0m",
      "\u001b[0;31mInterruptedError\u001b[0m                          Traceback (most recent call last)",
      "Cell \u001b[0;32mIn[10], line 1\u001b[0m\n\u001b[0;32m----> 1\u001b[0m \u001b[38;5;28;01mraise\u001b[39;00m \u001b[38;5;167;01mInterruptedError\u001b[39;00m\n",
      "\u001b[0;31mInterruptedError\u001b[0m: "
     ]
    }
   ],
   "source": [
    "raise InterruptedError"
   ]
  },
  {
   "cell_type": "code",
   "execution_count": null,
   "id": "f0a68cf2-095b-44af-8e76-3478b894dee1",
   "metadata": {
    "execution": {
     "iopub.status.busy": "2025-02-02T05:18:09.384144Z",
     "iopub.status.idle": "2025-02-02T05:18:09.384341Z",
     "shell.execute_reply": "2025-02-02T05:18:09.384261Z",
     "shell.execute_reply.started": "2025-02-02T05:18:09.384253Z"
    }
   },
   "outputs": [],
   "source": [
    "fn = 'crsp_2023_v2'\n",
    "df = pd.read_stata(f'/home/hzhang/data/wrds/{fn}.dta.gz')\n",
    "df_crsp  = pl.from_pandas(df)\n",
    "df_crsp.write_parquet(f'/home/hzhang/data/wrds/{fn}.parq')"
   ]
  },
  {
   "cell_type": "code",
   "execution_count": null,
   "id": "9a224271-2eea-48dc-8bc1-b8dcbc6af404",
   "metadata": {
    "execution": {
     "iopub.status.busy": "2025-02-02T05:18:09.385522Z",
     "iopub.status.idle": "2025-02-02T05:18:09.385735Z",
     "shell.execute_reply": "2025-02-02T05:18:09.385653Z",
     "shell.execute_reply.started": "2025-02-02T05:18:09.385645Z"
    }
   },
   "outputs": [],
   "source": [
    "df = pl.read_parquet('/home/hzhang/data/wrds/crsp_2023_v2.parq')"
   ]
  },
  {
   "cell_type": "code",
   "execution_count": null,
   "id": "2d6a7f80-97d8-4765-ad82-e697147a07cb",
   "metadata": {
    "execution": {
     "iopub.status.busy": "2025-02-02T05:18:09.387078Z",
     "iopub.status.idle": "2025-02-02T05:18:09.387265Z",
     "shell.execute_reply": "2025-02-02T05:18:09.387189Z",
     "shell.execute_reply.started": "2025-02-02T05:18:09.387182Z"
    }
   },
   "outputs": [],
   "source": [
    "with pl.Config(tbl_cols=-1):\n",
    "    display(df.filter(c('DlyNonOrdDivAmt').ne_missing(0))[:4])"
   ]
  },
  {
   "cell_type": "code",
   "execution_count": null,
   "id": "cb8c048a-9f36-45f6-a6eb-2e85f96e86cd",
   "metadata": {},
   "outputs": [],
   "source": []
  }
 ],
 "metadata": {
  "kernelspec": {
   "display_name": "Python 3 (ipykernel)",
   "language": "python",
   "name": "python3"
  },
  "language_info": {
   "codemirror_mode": {
    "name": "ipython",
    "version": 3
   },
   "file_extension": ".py",
   "mimetype": "text/x-python",
   "name": "python",
   "nbconvert_exporter": "python",
   "pygments_lexer": "ipython3",
   "version": "3.12.3"
  }
 },
 "nbformat": 4,
 "nbformat_minor": 5
}
