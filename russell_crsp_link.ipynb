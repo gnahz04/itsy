{
 "cells": [
  {
   "cell_type": "markdown",
   "id": "9ddbef80-55be-4a23-82ca-6955f536742d",
   "metadata": {
    "execution": {
     "iopub.execute_input": "2025-02-27T18:55:12.773636Z",
     "iopub.status.busy": "2025-02-27T18:55:12.773143Z",
     "iopub.status.idle": "2025-02-27T18:55:12.778767Z",
     "shell.execute_reply": "2025-02-27T18:55:12.777576Z",
     "shell.execute_reply.started": "2025-02-27T18:55:12.773589Z"
    }
   },
   "source": [
    "## Data Linking:  Universe with Price Volume"
   ]
  },
  {
   "cell_type": "code",
   "execution_count": 1,
   "id": "074e89d0-4e14-4788-8518-796ec544ca73",
   "metadata": {
    "execution": {
     "iopub.execute_input": "2025-06-02T15:53:17.976077Z",
     "iopub.status.busy": "2025-06-02T15:53:17.975387Z",
     "iopub.status.idle": "2025-06-02T15:53:18.558532Z",
     "shell.execute_reply": "2025-06-02T15:53:18.557843Z",
     "shell.execute_reply.started": "2025-06-02T15:53:17.976046Z"
    }
   },
   "outputs": [],
   "source": [
    "from datetime import datetime\n",
    "\n",
    "import pandas as pd\n",
    "import plotly.express as px\n",
    "import polars as pl\n",
    "import pyreadstat\n",
    "import rapidfuzz as rf\n",
    "from polars import col as c"
   ]
  },
  {
   "cell_type": "markdown",
   "id": "e979e566-0f5e-430c-97e3-2667459b0da5",
   "metadata": {},
   "source": [
    "### Load the data between needed dates\n",
    "\n",
    "N.B. also check if known issue are fixed, and apply workaround if not\n",
    "1. ⏳on FTSE: still > 100 missing weights in June 2014"
   ]
  },
  {
   "cell_type": "code",
   "execution_count": 2,
   "id": "db7d33b5-8b48-4b08-97dc-99a405ac5058",
   "metadata": {
    "execution": {
     "iopub.execute_input": "2025-06-02T15:53:18.559580Z",
     "iopub.status.busy": "2025-06-02T15:53:18.559290Z",
     "iopub.status.idle": "2025-06-02T15:53:31.923392Z",
     "shell.execute_reply": "2025-06-02T15:53:31.921895Z",
     "shell.execute_reply.started": "2025-06-02T15:53:18.559564Z"
    }
   },
   "outputs": [],
   "source": [
    "df = pl.from_pandas(\n",
    "    pyreadstat.read_file_multiprocessing(\n",
    "        pyreadstat.read_sas7bdat,\n",
    "        \"/home/hzhang/data/wrds/russell/idx_holdings_us_20250531.sas7bdat\",\n",
    "        extra_date_formats=[\"YYMMDDN8\"],\n",
    "    )[0]\n",
    ").filter(\n",
    "    c(\"Date\").is_between(\n",
    "        datetime.fromisoformat(\"1995-05-31\"),\n",
    "        datetime.fromisoformat(\"2024-12-31\"),\n",
    "        closed=\"both\",\n",
    "    )\n",
    ")"
   ]
  },
  {
   "cell_type": "code",
   "execution_count": 3,
   "id": "b0c24bc1-3a1a-4026-b381-472feb954b46",
   "metadata": {
    "execution": {
     "iopub.execute_input": "2025-06-02T15:53:31.924644Z",
     "iopub.status.busy": "2025-06-02T15:53:31.924419Z",
     "iopub.status.idle": "2025-06-02T15:53:31.938643Z",
     "shell.execute_reply": "2025-06-02T15:53:31.937671Z",
     "shell.execute_reply.started": "2025-06-02T15:53:31.924625Z"
    }
   },
   "outputs": [],
   "source": [
    "assert df.filter(\n",
    "    c(\"Name\").is_null()\n",
    ").is_empty(), \"rows with shifted columns not fixed https://wrds-support.wharton.upenn.edu/hc/en-us/requests/123032?\""
   ]
  },
  {
   "cell_type": "code",
   "execution_count": 4,
   "id": "24be81b5-bb08-431c-b82d-f1ec1eaa1f5c",
   "metadata": {
    "execution": {
     "iopub.execute_input": "2025-06-02T15:53:31.939462Z",
     "iopub.status.busy": "2025-06-02T15:53:31.939270Z",
     "iopub.status.idle": "2025-06-02T15:53:31.965769Z",
     "shell.execute_reply": "2025-06-02T15:53:31.964816Z",
     "shell.execute_reply.started": "2025-06-02T15:53:31.939447Z"
    }
   },
   "outputs": [
    {
     "name": "stdout",
     "output_type": "stream",
     "text": [
      "ERROR: high max_num_missing_weight=175 pending https://wrds-support.wharton.upenn.edu/hc/en-us/requests/121314\n"
     ]
    }
   ],
   "source": [
    "if (\n",
    "    max_num_missing_weight := df.filter(c(\"R3000_WT\").is_null() | (c(\"R3000_WT\") == 0))[\n",
    "        \"Date\"\n",
    "    ]\n",
    "    .value_counts(sort=True)[\"count\"]\n",
    "    .max()\n",
    ") > 100:\n",
    "    print(\n",
    "        f\"ERROR: high {max_num_missing_weight=} pending https://wrds-support.wharton.upenn.edu/hc/en-us/requests/121314\"\n",
    "    )"
   ]
  },
  {
   "cell_type": "code",
   "execution_count": 5,
   "id": "98fb94ff-6d98-421f-b4d7-c9ce49f8f612",
   "metadata": {
    "execution": {
     "iopub.execute_input": "2025-06-02T15:53:31.967368Z",
     "iopub.status.busy": "2025-06-02T15:53:31.966637Z",
     "iopub.status.idle": "2025-06-02T15:53:32.067040Z",
     "shell.execute_reply": "2025-06-02T15:53:32.065655Z",
     "shell.execute_reply.started": "2025-06-02T15:53:31.967347Z"
    }
   },
   "outputs": [],
   "source": [
    "df = df.with_columns(wt=c(\"R3000_WT\").forward_fill().over(\"CUSIP\"))"
   ]
  },
  {
   "cell_type": "code",
   "execution_count": 6,
   "id": "d647b506-47c6-4f2a-a40b-6797e1323e7c",
   "metadata": {
    "execution": {
     "iopub.execute_input": "2025-06-02T15:53:32.070186Z",
     "iopub.status.busy": "2025-06-02T15:53:32.069809Z",
     "iopub.status.idle": "2025-06-02T15:53:32.409475Z",
     "shell.execute_reply": "2025-06-02T15:53:32.408262Z",
     "shell.execute_reply.started": "2025-06-02T15:53:32.070160Z"
    }
   },
   "outputs": [
    {
     "data": {
      "text/html": [
       "\n",
       "<style>\n",
       "  #altair-viz-4138a66282424a27a784ac5382cf6df8.vega-embed {\n",
       "    width: 100%;\n",
       "    display: flex;\n",
       "  }\n",
       "\n",
       "  #altair-viz-4138a66282424a27a784ac5382cf6df8.vega-embed details,\n",
       "  #altair-viz-4138a66282424a27a784ac5382cf6df8.vega-embed details summary {\n",
       "    position: relative;\n",
       "  }\n",
       "</style>\n",
       "<div id=\"altair-viz-4138a66282424a27a784ac5382cf6df8\"></div>\n",
       "<script type=\"text/javascript\">\n",
       "  var VEGA_DEBUG = (typeof VEGA_DEBUG == \"undefined\") ? {} : VEGA_DEBUG;\n",
       "  (function(spec, embedOpt){\n",
       "    let outputDiv = document.currentScript.previousElementSibling;\n",
       "    if (outputDiv.id !== \"altair-viz-4138a66282424a27a784ac5382cf6df8\") {\n",
       "      outputDiv = document.getElementById(\"altair-viz-4138a66282424a27a784ac5382cf6df8\");\n",
       "    }\n",
       "    const paths = {\n",
       "      \"vega\": \"https://cdn.jsdelivr.net/npm/vega@5?noext\",\n",
       "      \"vega-lib\": \"https://cdn.jsdelivr.net/npm/vega-lib?noext\",\n",
       "      \"vega-lite\": \"https://cdn.jsdelivr.net/npm/vega-lite@5.20.1?noext\",\n",
       "      \"vega-embed\": \"https://cdn.jsdelivr.net/npm/vega-embed@6?noext\",\n",
       "    };\n",
       "\n",
       "    function maybeLoadScript(lib, version) {\n",
       "      var key = `${lib.replace(\"-\", \"\")}_version`;\n",
       "      return (VEGA_DEBUG[key] == version) ?\n",
       "        Promise.resolve(paths[lib]) :\n",
       "        new Promise(function(resolve, reject) {\n",
       "          var s = document.createElement('script');\n",
       "          document.getElementsByTagName(\"head\")[0].appendChild(s);\n",
       "          s.async = true;\n",
       "          s.onload = () => {\n",
       "            VEGA_DEBUG[key] = version;\n",
       "            return resolve(paths[lib]);\n",
       "          };\n",
       "          s.onerror = () => reject(`Error loading script: ${paths[lib]}`);\n",
       "          s.src = paths[lib];\n",
       "        });\n",
       "    }\n",
       "\n",
       "    function showError(err) {\n",
       "      outputDiv.innerHTML = `<div class=\"error\" style=\"color:red;\">${err}</div>`;\n",
       "      throw err;\n",
       "    }\n",
       "\n",
       "    function displayChart(vegaEmbed) {\n",
       "      vegaEmbed(outputDiv, spec, embedOpt)\n",
       "        .catch(err => showError(`Javascript Error: ${err.message}<br>This usually means there's a typo in your chart specification. See the javascript console for the full traceback.`));\n",
       "    }\n",
       "\n",
       "    if(typeof define === \"function\" && define.amd) {\n",
       "      requirejs.config({paths});\n",
       "      require([\"vega-embed\"], displayChart, err => showError(`Error loading script: ${err.message}`));\n",
       "    } else {\n",
       "      maybeLoadScript(\"vega\", \"5\")\n",
       "        .then(() => maybeLoadScript(\"vega-lite\", \"5.20.1\"))\n",
       "        .then(() => maybeLoadScript(\"vega-embed\", \"6\"))\n",
       "        .catch(showError)\n",
       "        .then(() => displayChart(vegaEmbed));\n",
       "    }\n",
       "  })({\"config\": {\"view\": {\"continuousWidth\": 300, \"continuousHeight\": 300}}, \"data\": {\"name\": \"data-6b0b388bd7fb5eaa49db85699d438185\"}, \"mark\": {\"type\": \"line\", \"tooltip\": true}, \"encoding\": {\"x\": {\"field\": \"Date\", \"type\": \"temporal\"}, \"y\": {\"field\": \"count\", \"type\": \"quantitative\"}}, \"params\": [{\"name\": \"param_1\", \"select\": {\"type\": \"interval\", \"encodings\": [\"x\", \"y\"]}, \"bind\": \"scales\"}], \"$schema\": \"https://vega.github.io/schema/vega-lite/v5.20.1.json\", \"datasets\": {\"data-6b0b388bd7fb5eaa49db85699d438185\": [{\"Date\": \"2005-02-28T00:00:00\", \"count\": 1}, {\"Date\": \"2008-11-28T00:00:00\", \"count\": 5}, {\"Date\": \"2019-01-31T00:00:00\", \"count\": 5}, {\"Date\": \"2016-08-31T00:00:00\", \"count\": 1}, {\"Date\": \"2014-02-28T00:00:00\", \"count\": 2}, {\"Date\": \"2008-04-30T00:00:00\", \"count\": 2}, {\"Date\": \"2015-12-31T00:00:00\", \"count\": 3}, {\"Date\": \"2011-03-31T00:00:00\", \"count\": 3}, {\"Date\": \"1999-04-30T00:00:00\", \"count\": 1}, {\"Date\": \"2004-03-31T00:00:00\", \"count\": 1}, {\"Date\": \"2001-05-31T00:00:00\", \"count\": 20}, {\"Date\": \"2001-09-28T00:00:00\", \"count\": 5}, {\"Date\": \"2017-04-28T00:00:00\", \"count\": 4}, {\"Date\": \"1999-10-29T00:00:00\", \"count\": 1}, {\"Date\": \"2020-01-31T00:00:00\", \"count\": 6}, {\"Date\": \"2005-10-31T00:00:00\", \"count\": 1}, {\"Date\": \"2011-11-30T00:00:00\", \"count\": 1}, {\"Date\": \"2019-12-31T00:00:00\", \"count\": 3}, {\"Date\": \"2007-11-30T00:00:00\", \"count\": 1}, {\"Date\": \"2014-06-30T00:00:00\", \"count\": 5}, {\"Date\": \"2019-07-31T00:00:00\", \"count\": 2}, {\"Date\": \"2020-07-31T00:00:00\", \"count\": 3}, {\"Date\": \"2017-08-31T00:00:00\", \"count\": 1}, {\"Date\": \"2019-10-31T00:00:00\", \"count\": 5}, {\"Date\": \"2004-06-30T00:00:00\", \"count\": 1}, {\"Date\": \"1999-03-31T00:00:00\", \"count\": 2}, {\"Date\": \"2003-05-30T00:00:00\", \"count\": 3}, {\"Date\": \"2016-05-31T00:00:00\", \"count\": 6}, {\"Date\": \"2001-10-30T00:00:00\", \"count\": 4}, {\"Date\": \"2014-04-30T00:00:00\", \"count\": 1}, {\"Date\": \"2015-02-27T00:00:00\", \"count\": 1}, {\"Date\": \"2005-05-31T00:00:00\", \"count\": 2}, {\"Date\": \"2009-04-30T00:00:00\", \"count\": 4}, {\"Date\": \"2003-04-30T00:00:00\", \"count\": 3}, {\"Date\": \"2019-08-30T00:00:00\", \"count\": 3}, {\"Date\": \"2004-08-31T00:00:00\", \"count\": 1}, {\"Date\": \"2007-12-31T00:00:00\", \"count\": 1}, {\"Date\": \"2015-08-31T00:00:00\", \"count\": 1}, {\"Date\": \"2000-11-30T00:00:00\", \"count\": 5}, {\"Date\": \"2004-07-30T00:00:00\", \"count\": 1}, {\"Date\": \"2003-01-31T00:00:00\", \"count\": 3}, {\"Date\": \"2008-12-31T00:00:00\", \"count\": 7}, {\"Date\": \"2011-04-29T00:00:00\", \"count\": 2}, {\"Date\": \"2018-07-31T00:00:00\", \"count\": 2}, {\"Date\": \"2002-12-31T00:00:00\", \"count\": 3}, {\"Date\": \"2017-03-31T00:00:00\", \"count\": 3}, {\"Date\": \"2016-12-30T00:00:00\", \"count\": 1}, {\"Date\": \"1998-11-30T00:00:00\", \"count\": 1}, {\"Date\": \"2018-08-31T00:00:00\", \"count\": 3}, {\"Date\": \"2000-10-31T00:00:00\", \"count\": 3}, {\"Date\": \"2018-01-31T00:00:00\", \"count\": 1}, {\"Date\": \"2018-03-29T00:00:00\", \"count\": 4}, {\"Date\": \"2017-05-31T00:00:00\", \"count\": 4}, {\"Date\": \"2018-11-30T00:00:00\", \"count\": 4}, {\"Date\": \"2000-05-31T00:00:00\", \"count\": 3}, {\"Date\": \"2004-12-31T00:00:00\", \"count\": 1}, {\"Date\": \"2020-05-29T00:00:00\", \"count\": 19}, {\"Date\": \"2020-06-30T00:00:00\", \"count\": 1}, {\"Date\": \"2018-06-29T00:00:00\", \"count\": 1}, {\"Date\": \"2016-02-29T00:00:00\", \"count\": 4}, {\"Date\": \"2003-02-28T00:00:00\", \"count\": 1}, {\"Date\": \"2000-12-29T00:00:00\", \"count\": 15}, {\"Date\": \"2016-04-29T00:00:00\", \"count\": 6}, {\"Date\": \"2008-02-29T00:00:00\", \"count\": 1}, {\"Date\": \"1998-12-31T00:00:00\", \"count\": 2}, {\"Date\": \"2001-11-30T00:00:00\", \"count\": 4}, {\"Date\": \"1999-05-28T00:00:00\", \"count\": 1}, {\"Date\": \"2004-10-29T00:00:00\", \"count\": 1}, {\"Date\": \"2018-10-31T00:00:00\", \"count\": 4}, {\"Date\": \"2018-05-31T00:00:00\", \"count\": 5}, {\"Date\": \"2020-03-31T00:00:00\", \"count\": 18}, {\"Date\": \"2015-04-30T00:00:00\", \"count\": 1}, {\"Date\": \"2014-03-31T00:00:00\", \"count\": 1}, {\"Date\": \"2002-01-31T00:00:00\", \"count\": 4}, {\"Date\": \"2013-11-29T00:00:00\", \"count\": 1}, {\"Date\": \"2003-03-31T00:00:00\", \"count\": 4}, {\"Date\": \"2001-01-31T00:00:00\", \"count\": 5}, {\"Date\": \"2020-02-28T00:00:00\", \"count\": 10}, {\"Date\": \"2019-02-28T00:00:00\", \"count\": 5}, {\"Date\": \"2005-03-31T00:00:00\", \"count\": 2}, {\"Date\": \"2017-02-28T00:00:00\", \"count\": 2}, {\"Date\": \"2013-01-31T00:00:00\", \"count\": 1}, {\"Date\": \"2018-02-28T00:00:00\", \"count\": 3}, {\"Date\": \"2009-02-27T00:00:00\", \"count\": 3}, {\"Date\": \"2013-05-31T00:00:00\", \"count\": 2}, {\"Date\": \"2004-09-30T00:00:00\", \"count\": 1}, {\"Date\": \"1999-11-30T00:00:00\", \"count\": 1}, {\"Date\": \"2009-03-31T00:00:00\", \"count\": 5}, {\"Date\": \"2019-11-29T00:00:00\", \"count\": 6}, {\"Date\": \"2014-01-31T00:00:00\", \"count\": 1}, {\"Date\": \"2005-01-31T00:00:00\", \"count\": 1}, {\"Date\": \"2001-03-30T00:00:00\", \"count\": 26}, {\"Date\": \"2017-01-31T00:00:00\", \"count\": 2}, {\"Date\": \"2011-05-31T00:00:00\", \"count\": 1}, {\"Date\": \"2013-03-28T00:00:00\", \"count\": 2}, {\"Date\": \"2015-09-30T00:00:00\", \"count\": 2}, {\"Date\": \"2002-05-31T00:00:00\", \"count\": 5}, {\"Date\": \"2015-07-31T00:00:00\", \"count\": 1}, {\"Date\": \"2013-02-28T00:00:00\", \"count\": 1}, {\"Date\": \"2002-03-28T00:00:00\", \"count\": 9}, {\"Date\": \"2011-12-30T00:00:00\", \"count\": 1}, {\"Date\": \"2013-12-31T00:00:00\", \"count\": 1}, {\"Date\": \"2002-09-30T00:00:00\", \"count\": 1}, {\"Date\": \"2002-02-28T00:00:00\", \"count\": 9}, {\"Date\": \"2009-01-30T00:00:00\", \"count\": 4}, {\"Date\": \"2020-08-31T00:00:00\", \"count\": 3}, {\"Date\": \"2020-04-30T00:00:00\", \"count\": 14}, {\"Date\": \"2004-11-30T00:00:00\", \"count\": 1}, {\"Date\": \"2019-05-31T00:00:00\", \"count\": 11}, {\"Date\": \"1999-01-29T00:00:00\", \"count\": 2}, {\"Date\": \"2015-01-30T00:00:00\", \"count\": 1}, {\"Date\": \"2018-04-30T00:00:00\", \"count\": 3}, {\"Date\": \"2016-03-31T00:00:00\", \"count\": 6}, {\"Date\": \"2015-11-30T00:00:00\", \"count\": 3}, {\"Date\": \"2019-09-30T00:00:00\", \"count\": 3}, {\"Date\": \"2014-05-30T00:00:00\", \"count\": 2}, {\"Date\": \"2019-04-30T00:00:00\", \"count\": 6}, {\"Date\": \"2008-05-30T00:00:00\", \"count\": 1}, {\"Date\": \"2019-06-28T00:00:00\", \"count\": 13}, {\"Date\": \"2018-12-31T00:00:00\", \"count\": 8}, {\"Date\": \"2001-08-31T00:00:00\", \"count\": 1}, {\"Date\": \"2008-10-31T00:00:00\", \"count\": 1}, {\"Date\": \"2012-05-31T00:00:00\", \"count\": 2}, {\"Date\": \"1999-02-26T00:00:00\", \"count\": 1}, {\"Date\": \"2008-03-31T00:00:00\", \"count\": 1}, {\"Date\": \"2016-10-31T00:00:00\", \"count\": 1}, {\"Date\": \"2013-06-28T00:00:00\", \"count\": 1}, {\"Date\": \"2001-02-28T00:00:00\", \"count\": 10}, {\"Date\": \"1999-12-31T00:00:00\", \"count\": 1}, {\"Date\": \"2015-10-30T00:00:00\", \"count\": 2}, {\"Date\": \"2008-09-30T00:00:00\", \"count\": 3}, {\"Date\": \"2013-04-30T00:00:00\", \"count\": 2}, {\"Date\": \"2016-11-30T00:00:00\", \"count\": 1}, {\"Date\": \"2019-03-29T00:00:00\", \"count\": 5}, {\"Date\": \"2005-04-29T00:00:00\", \"count\": 2}, {\"Date\": \"2011-02-28T00:00:00\", \"count\": 2}, {\"Date\": \"2001-04-30T00:00:00\", \"count\": 28}, {\"Date\": \"2002-04-30T00:00:00\", \"count\": 5}, {\"Date\": \"2018-09-28T00:00:00\", \"count\": 5}, {\"Date\": \"2008-01-31T00:00:00\", \"count\": 1}, {\"Date\": \"2012-04-30T00:00:00\", \"count\": 1}, {\"Date\": \"2009-05-29T00:00:00\", \"count\": 1}, {\"Date\": \"2016-01-29T00:00:00\", \"count\": 4}, {\"Date\": \"2001-12-31T00:00:00\", \"count\": 4}, {\"Date\": \"2015-03-31T00:00:00\", \"count\": 1}]}}, {\"mode\": \"vega-lite\"});\n",
       "</script>"
      ],
      "text/plain": [
       "alt.Chart(...)"
      ]
     },
     "execution_count": 6,
     "metadata": {},
     "output_type": "execute_result"
    }
   ],
   "source": [
    "# df.filter(c('Date').dt.month_start() == datetime.fromisoformat('2014-06-01'))['wt'].sum()\n",
    "df.filter(c(\"wt\").is_null() | c(\"wt\").eq(0))[\"Date\"].value_counts().plot.line(\n",
    "    \"Date\", \"count\"\n",
    ")"
   ]
  },
  {
   "cell_type": "code",
   "execution_count": 7,
   "id": "0cad192f-164d-4305-a5d0-41c0de199e50",
   "metadata": {
    "execution": {
     "iopub.execute_input": "2025-06-02T15:53:32.410954Z",
     "iopub.status.busy": "2025-06-02T15:53:32.410624Z",
     "iopub.status.idle": "2025-06-02T15:53:32.523217Z",
     "shell.execute_reply": "2025-06-02T15:53:32.522201Z",
     "shell.execute_reply.started": "2025-06-02T15:53:32.410931Z"
    }
   },
   "outputs": [
    {
     "data": {
      "text/html": [
       "<div><style>\n",
       ".dataframe > thead > tr,\n",
       ".dataframe > tbody > tr {\n",
       "  text-align: right;\n",
       "  white-space: pre-wrap;\n",
       "}\n",
       "</style>\n",
       "<small>shape: (3, 61)</small><table border=\"1\" class=\"dataframe\"><thead><tr><th>Date</th><th>ConsCode</th><th>CUSIP</th><th>ISIN</th><th>Ticker</th><th>Exchange</th><th>Name</th><th>IndCodeICB</th><th>SupSecICB</th><th>SectorICB</th><th>SubSecICB</th><th>ShareChg</th><th>Shares</th><th>InvWeight</th><th>ValShares</th><th>GroShares</th><th>DefShares</th><th>DymShares</th><th>Return</th><th>MTDReturn</th><th>MktCap</th><th>Russell1000</th><th>Russell2000</th><th>Russell2500</th><th>RussellMC</th><th>RussellT200</th><th>RussellSC</th><th>RTOP50</th><th>R3000_WT</th><th>R3000G_WT</th><th>R3000V_WT</th><th>R1000_WT</th><th>R1000G_WT</th><th>R1000V_WT</th><th>R2000_WT</th><th>R2000G_WT</th><th>R2000V_WT</th><th>R2500_WT</th><th>R2500G_WT</th><th>R2500V_WT</th><th>RMIDC_WT</th><th>RMIDCG_WT</th><th>RMIDCV_WT</th><th>R200_WT</th><th>R200G_WT</th><th>R200V_WT</th><th>RSSC_WT</th><th>RSSCG_WT</th><th>RSSCV_WT</th><th>MktValue</th><th>ESCode</th><th>EconSector</th><th>SubSCode</th><th>SubSector</th><th>IndCode</th><th>Industry</th><th>SupSec</th><th>Sector</th><th>SubSec</th><th>Price</th><th>wt</th></tr><tr><td>date</td><td>str</td><td>str</td><td>str</td><td>str</td><td>str</td><td>str</td><td>str</td><td>str</td><td>str</td><td>str</td><td>f64</td><td>f64</td><td>f64</td><td>f64</td><td>f64</td><td>f64</td><td>f64</td><td>f64</td><td>f64</td><td>f64</td><td>str</td><td>str</td><td>str</td><td>str</td><td>str</td><td>str</td><td>str</td><td>f64</td><td>f64</td><td>f64</td><td>f64</td><td>f64</td><td>f64</td><td>f64</td><td>f64</td><td>f64</td><td>f64</td><td>f64</td><td>f64</td><td>f64</td><td>f64</td><td>f64</td><td>f64</td><td>f64</td><td>f64</td><td>f64</td><td>f64</td><td>f64</td><td>f64</td><td>str</td><td>str</td><td>str</td><td>str</td><td>str</td><td>str</td><td>str</td><td>str</td><td>str</td><td>f64</td><td>f64</td></tr></thead><tbody><tr><td>1995-05-31</td><td>&quot;&quot;</td><td>&quot;072012107&quot;</td><td>&quot;&quot;</td><td>&quot;BYA&quot;</td><td>&quot;NYSE&quot;</td><td>&quot;BAY APARTMENT CMNTYS&quot;</td><td>&quot;&quot;</td><td>&quot;&quot;</td><td>&quot;&quot;</td><td>&quot;&quot;</td><td>0.0</td><td>11544.0</td><td>null</td><td>8323.0</td><td>3221.0</td><td>null</td><td>null</td><td>null</td><td>null</td><td>null</td><td>&quot;N&quot;</td><td>&quot;Y&quot;</td><td>&quot;Y&quot;</td><td>&quot;N&quot;</td><td>&quot;N&quot;</td><td>&quot;N&quot;</td><td>&quot;&quot;</td><td>0.000045</td><td>0.000024</td><td>0.000067</td><td>null</td><td>null</td><td>null</td><td>0.000466</td><td>0.000255</td><td>0.000684</td><td>0.000217</td><td>0.000118</td><td>0.000322</td><td>null</td><td>null</td><td>null</td><td>null</td><td>null</td><td>null</td><td>null</td><td>null</td><td>null</td><td>null</td><td>&quot;07&quot;</td><td>&quot;Materials &amp; Processing&quot;</td><td>&quot;&quot;</td><td>&quot;&quot;</td><td>&quot;0000805&quot;</td><td>&quot;Real Estate&quot;</td><td>&quot;&quot;</td><td>&quot;&quot;</td><td>&quot;&quot;</td><td>null</td><td>0.000045</td></tr><tr><td>1998-06-30</td><td>&quot;&quot;</td><td>&quot;053373106&quot;</td><td>&quot;&quot;</td><td>&quot;AVB&quot;</td><td>&quot;&quot;</td><td>&quot;AVALON BAY COMMUNITI&quot;</td><td>&quot;&quot;</td><td>&quot;&quot;</td><td>&quot;&quot;</td><td>&quot;&quot;</td><td>1682.0</td><td>62123.0</td><td>null</td><td>62123.0</td><td>0.0</td><td>null</td><td>null</td><td>2.703</td><td>null</td><td>null</td><td>&quot;N&quot;</td><td>&quot;Y&quot;</td><td>&quot;Y&quot;</td><td>&quot;N&quot;</td><td>&quot;N&quot;</td><td>&quot;N&quot;</td><td>&quot;&quot;</td><td>0.000224</td><td>null</td><td>0.000457</td><td>null</td><td>null</td><td>null</td><td>0.002273</td><td>null</td><td>0.004739</td><td>0.001184</td><td>null</td><td>0.00219</td><td>null</td><td>null</td><td>null</td><td>null</td><td>null</td><td>null</td><td>null</td><td>null</td><td>null</td><td>2.360674e6</td><td>&quot;10&quot;</td><td>&quot;Financial Services&quot;</td><td>&quot;&quot;</td><td>&quot;&quot;</td><td>&quot;0000806&quot;</td><td>&quot;Real Estate Investment Trusts …</td><td>&quot;&quot;</td><td>&quot;&quot;</td><td>&quot;&quot;</td><td>null</td><td>0.000224</td></tr><tr><td>1998-10-30</td><td>&quot;&quot;</td><td>&quot;053484101&quot;</td><td>&quot;&quot;</td><td>&quot;AVB&quot;</td><td>&quot;&quot;</td><td>&quot;AVALONBAY COMMS&quot;</td><td>&quot;&quot;</td><td>&quot;&quot;</td><td>&quot;&quot;</td><td>&quot;&quot;</td><td>0.0</td><td>63574.0</td><td>null</td><td>63574.0</td><td>0.0</td><td>null</td><td>null</td><td>1.181</td><td>null</td><td>null</td><td>&quot;Y&quot;</td><td>&quot;N&quot;</td><td>&quot;Y&quot;</td><td>&quot;Y&quot;</td><td>&quot;N&quot;</td><td>&quot;N&quot;</td><td>&quot;&quot;</td><td>0.000204</td><td>null</td><td>0.000424</td><td>0.000221</td><td>null</td><td>0.00046</td><td>null</td><td>null</td><td>null</td><td>0.001282</td><td>null</td><td>0.002306</td><td>0.000874</td><td>null</td><td>0.001404</td><td>null</td><td>null</td><td>null</td><td>null</td><td>null</td><td>null</td><td>2.0423e6</td><td>&quot;10&quot;</td><td>&quot;Financial Services&quot;</td><td>&quot;&quot;</td><td>&quot;&quot;</td><td>&quot;0000806&quot;</td><td>&quot;Real Estate Investment Trusts …</td><td>&quot;&quot;</td><td>&quot;&quot;</td><td>&quot;&quot;</td><td>null</td><td>0.000204</td></tr></tbody></table></div>"
      ],
      "text/plain": [
       "shape: (3, 61)\n",
       "┌────────────┬──────────┬───────────┬──────┬───┬────────┬────────┬───────┬──────────┐\n",
       "│ Date       ┆ ConsCode ┆ CUSIP     ┆ ISIN ┆ … ┆ Sector ┆ SubSec ┆ Price ┆ wt       │\n",
       "│ ---        ┆ ---      ┆ ---       ┆ ---  ┆   ┆ ---    ┆ ---    ┆ ---   ┆ ---      │\n",
       "│ date       ┆ str      ┆ str       ┆ str  ┆   ┆ str    ┆ str    ┆ f64   ┆ f64      │\n",
       "╞════════════╪══════════╪═══════════╪══════╪═══╪════════╪════════╪═══════╪══════════╡\n",
       "│ 1995-05-31 ┆          ┆ 072012107 ┆      ┆ … ┆        ┆        ┆ null  ┆ 0.000045 │\n",
       "│ 1998-06-30 ┆          ┆ 053373106 ┆      ┆ … ┆        ┆        ┆ null  ┆ 0.000224 │\n",
       "│ 1998-10-30 ┆          ┆ 053484101 ┆      ┆ … ┆        ┆        ┆ null  ┆ 0.000204 │\n",
       "└────────────┴──────────┴───────────┴──────┴───┴────────┴────────┴───────┴──────────┘"
      ]
     },
     "execution_count": 7,
     "metadata": {},
     "output_type": "execute_result"
    }
   ],
   "source": [
    "df.filter(c('Ticker').is_in(['BYA', 'AVB'])).filter(c('CUSIP').is_first_distinct())"
   ]
  },
  {
   "cell_type": "markdown",
   "id": "55682dce-d865-44f1-8980-2cb6ad73c08d",
   "metadata": {},
   "source": [
    "### Prune the data where the weight is zero or still missing"
   ]
  },
  {
   "cell_type": "code",
   "execution_count": 8,
   "id": "43a32fce-50e4-4b9a-8047-7761a1cf18f6",
   "metadata": {
    "execution": {
     "iopub.execute_input": "2025-06-02T15:53:32.524032Z",
     "iopub.status.busy": "2025-06-02T15:53:32.523852Z",
     "iopub.status.idle": "2025-06-02T15:53:32.803232Z",
     "shell.execute_reply": "2025-06-02T15:53:32.802592Z",
     "shell.execute_reply.started": "2025-06-02T15:53:32.524018Z"
    }
   },
   "outputs": [],
   "source": [
    "df = df.filter(c(\"wt\").is_not_null() & (c(\"wt\") > 0))"
   ]
  },
  {
   "cell_type": "markdown",
   "id": "9ad92b1e-f3c1-4e35-8fb2-e8a6d9a5f819",
   "metadata": {},
   "source": [
    "### Correct CUSIP mapping error"
   ]
  },
  {
   "cell_type": "code",
   "execution_count": 9,
   "id": "890896b9-b610-4b24-ab0c-89010cc911e1",
   "metadata": {
    "execution": {
     "iopub.execute_input": "2025-06-02T15:53:32.804104Z",
     "iopub.status.busy": "2025-06-02T15:53:32.803918Z",
     "iopub.status.idle": "2025-06-02T15:53:32.969437Z",
     "shell.execute_reply": "2025-06-02T15:53:32.967809Z",
     "shell.execute_reply.started": "2025-06-02T15:53:32.804090Z"
    }
   },
   "outputs": [],
   "source": [
    "ticker_cusip_bdate_edate = [\n",
    "    # Russell wrong, CRSP and Barra correct\n",
    "    [\"TNTX\", \"879244200\", \"\", \"1995-10-22\"],\n",
    "    # Russell wrong, Barra wrong, CRSP correct: \n",
    "    [\"TRFI\", \"89323N102\", \"1995-05-10\", \"1998-08-21\"],\n",
    "    # Rusell wrong, Barra and CRSP correct\n",
    "    [\"VWRX\", \"918435108\", \"1986-03-03\", \"1999-07-30\"],\n",
    "]\n",
    "\n",
    "expr = pl\n",
    "for ticker, cusip, bdate, edate in ticker_cusip_bdate_edate:\n",
    "    bdate_dt = datetime.fromisoformat(\"1990-01-01\" if bdate == \"\" else bdate)\n",
    "    edate_dt = datetime.fromisoformat(\"2100-01-01\" if edate == \"\" else edate)\n",
    "    expr = expr.when(\n",
    "        c(\"Ticker\").eq(ticker)\n",
    "        & c(\"Date\")\n",
    "        .dt.month_start()\n",
    "        .is_between(bdate_dt.replace(day=1), edate_dt.replace(day=1))\n",
    "    ).then(pl.lit(cusip))\n",
    "expr = expr.otherwise(\"CUSIP\").alias(\"CUSIP\")\n",
    "\n",
    "df = df.with_columns(expr)"
   ]
  },
  {
   "cell_type": "markdown",
   "id": "b2c3f0c8-cda8-4d92-bfda-ee8a6f89b1fc",
   "metadata": {},
   "source": [
    "### Load and also correct CRSP data"
   ]
  },
  {
   "cell_type": "code",
   "execution_count": 10,
   "id": "6f9406a8-949a-40c2-bbf8-9afb3251693e",
   "metadata": {
    "execution": {
     "iopub.execute_input": "2025-06-02T15:53:32.971169Z",
     "iopub.status.busy": "2025-06-02T15:53:32.970804Z",
     "iopub.status.idle": "2025-06-02T15:53:33.413263Z",
     "shell.execute_reply": "2025-06-02T15:53:33.412507Z",
     "shell.execute_reply.started": "2025-06-02T15:53:32.971142Z"
    }
   },
   "outputs": [],
   "source": [
    "crsp_dse = pl.from_pandas(\n",
    "    pyreadstat.read_sas7bdat(\n",
    "        \"/home/hzhang/data/wrds/crsp/stocknames_v2.sas7bdat\",\n",
    "        extra_date_formats=[\"YYMMDDN8\"],\n",
    "    )[0]\n",
    ")"
   ]
  },
  {
   "cell_type": "code",
   "execution_count": 11,
   "id": "1570f3af-0f14-4f50-bfe0-67640aefa09d",
   "metadata": {
    "execution": {
     "iopub.execute_input": "2025-06-02T15:53:33.414447Z",
     "iopub.status.busy": "2025-06-02T15:53:33.414212Z",
     "iopub.status.idle": "2025-06-02T15:53:33.429140Z",
     "shell.execute_reply": "2025-06-02T15:53:33.428062Z",
     "shell.execute_reply.started": "2025-06-02T15:53:33.414431Z"
    }
   },
   "outputs": [],
   "source": [
    "crsp_dse = crsp_dse.with_columns(\n",
    "    c(\"CUSIP9\").replace(\n",
    "        {\n",
    "            # PAS dummy CUSIP\n",
    "            \"71399P90X\": \"71343P101\",\n",
    "            # XPRSA dummy CUSIP\n",
    "            \"90399N90X\": \"90338N103\",\n",
    "            # GNSA 144A\n",
    "            \"372450304\": \"372450106\",\n",
    "            # GNV 144A\n",
    "            \"372252304\": \"372252106\",\n",
    "            # ALW CUSIP upstream fix\n",
    "            \"020047205\": \"020047106\",\n",
    "        }\n",
    "    )\n",
    ")"
   ]
  },
  {
   "cell_type": "code",
   "execution_count": 12,
   "id": "76dd338d-25d4-4710-8667-c193b3cf38c9",
   "metadata": {
    "execution": {
     "iopub.execute_input": "2025-06-02T15:53:33.430659Z",
     "iopub.status.busy": "2025-06-02T15:53:33.429944Z",
     "iopub.status.idle": "2025-06-02T15:53:33.458238Z",
     "shell.execute_reply": "2025-06-02T15:53:33.457277Z",
     "shell.execute_reply.started": "2025-06-02T15:53:33.430636Z"
    }
   },
   "outputs": [
    {
     "data": {
      "text/html": [
       "<div><style>\n",
       ".dataframe > thead > tr,\n",
       ".dataframe > tbody > tr {\n",
       "  text-align: right;\n",
       "  white-space: pre-wrap;\n",
       "}\n",
       "</style>\n",
       "<small>shape: (3, 22)</small><table border=\"1\" class=\"dataframe\"><thead><tr><th>PERMNO</th><th>PERMCO</th><th>NameDt</th><th>NameEndDt</th><th>SecurityBegDt</th><th>SecurityEndDt</th><th>HdrCUSIP</th><th>HdrCUSIP9</th><th>CUSIP</th><th>CUSIP9</th><th>Ticker</th><th>IssuerNm</th><th>PrimaryExch</th><th>ConditionalType</th><th>TradingStatusFlg</th><th>ShareClass</th><th>ShareType</th><th>SecurityType</th><th>SecuritySubType</th><th>USIncFlg</th><th>IssuerType</th><th>SICCD</th></tr><tr><td>f64</td><td>f64</td><td>date</td><td>date</td><td>date</td><td>date</td><td>str</td><td>str</td><td>str</td><td>str</td><td>str</td><td>str</td><td>str</td><td>str</td><td>str</td><td>str</td><td>str</td><td>str</td><td>str</td><td>str</td><td>str</td><td>f64</td></tr></thead><tbody><tr><td>80381.0</td><td>30345.0</td><td>1994-03-11</td><td>1996-07-31</td><td>1994-03-11</td><td>2024-12-31</td><td>&quot;05348410&quot;</td><td>&quot;053484101&quot;</td><td>&quot;07201210&quot;</td><td>&quot;072012107&quot;</td><td>&quot;BYA&quot;</td><td>&quot;BAY APARTMENT COMMUNITIES INC&quot;</td><td>&quot;N&quot;</td><td>&quot;RW&quot;</td><td>&quot;A&quot;</td><td>&quot;&quot;</td><td>&quot;NS&quot;</td><td>&quot;EQTY&quot;</td><td>&quot;COM&quot;</td><td>&quot;Y&quot;</td><td>&quot;REIT&quot;</td><td>1522.0</td></tr><tr><td>80381.0</td><td>30345.0</td><td>1998-06-05</td><td>1998-10-04</td><td>1994-03-11</td><td>2024-12-31</td><td>&quot;05348410&quot;</td><td>&quot;053484101&quot;</td><td>&quot;05337310&quot;</td><td>&quot;053373106&quot;</td><td>&quot;AVB&quot;</td><td>&quot;AVALON BAY COMMUNITIES INC&quot;</td><td>&quot;N&quot;</td><td>&quot;RW&quot;</td><td>&quot;A&quot;</td><td>&quot;&quot;</td><td>&quot;NS&quot;</td><td>&quot;EQTY&quot;</td><td>&quot;COM&quot;</td><td>&quot;Y&quot;</td><td>&quot;REIT&quot;</td><td>6798.0</td></tr><tr><td>80381.0</td><td>30345.0</td><td>1998-10-05</td><td>2024-12-31</td><td>1994-03-11</td><td>2024-12-31</td><td>&quot;05348410&quot;</td><td>&quot;053484101&quot;</td><td>&quot;05348410&quot;</td><td>&quot;053484101&quot;</td><td>&quot;AVB&quot;</td><td>&quot;AVALONBAY COMMUNITIES INC&quot;</td><td>&quot;N&quot;</td><td>&quot;RW&quot;</td><td>&quot;A&quot;</td><td>&quot;&quot;</td><td>&quot;NS&quot;</td><td>&quot;EQTY&quot;</td><td>&quot;COM&quot;</td><td>&quot;Y&quot;</td><td>&quot;REIT&quot;</td><td>6798.0</td></tr></tbody></table></div>"
      ],
      "text/plain": [
       "shape: (3, 22)\n",
       "┌─────────┬─────────┬────────────┬────────────┬───┬───────────────┬──────────┬────────────┬────────┐\n",
       "│ PERMNO  ┆ PERMCO  ┆ NameDt     ┆ NameEndDt  ┆ … ┆ SecuritySubTy ┆ USIncFlg ┆ IssuerType ┆ SICCD  │\n",
       "│ ---     ┆ ---     ┆ ---        ┆ ---        ┆   ┆ pe            ┆ ---      ┆ ---        ┆ ---    │\n",
       "│ f64     ┆ f64     ┆ date       ┆ date       ┆   ┆ ---           ┆ str      ┆ str        ┆ f64    │\n",
       "│         ┆         ┆            ┆            ┆   ┆ str           ┆          ┆            ┆        │\n",
       "╞═════════╪═════════╪════════════╪════════════╪═══╪═══════════════╪══════════╪════════════╪════════╡\n",
       "│ 80381.0 ┆ 30345.0 ┆ 1994-03-11 ┆ 1996-07-31 ┆ … ┆ COM           ┆ Y        ┆ REIT       ┆ 1522.0 │\n",
       "│ 80381.0 ┆ 30345.0 ┆ 1998-06-05 ┆ 1998-10-04 ┆ … ┆ COM           ┆ Y        ┆ REIT       ┆ 6798.0 │\n",
       "│ 80381.0 ┆ 30345.0 ┆ 1998-10-05 ┆ 2024-12-31 ┆ … ┆ COM           ┆ Y        ┆ REIT       ┆ 6798.0 │\n",
       "└─────────┴─────────┴────────────┴────────────┴───┴───────────────┴──────────┴────────────┴────────┘"
      ]
     },
     "execution_count": 12,
     "metadata": {},
     "output_type": "execute_result"
    }
   ],
   "source": [
    "crsp_dse.filter(c('PERMNO')==80381).filter(c(\"CUSIP\").is_first_distinct())"
   ]
  },
  {
   "cell_type": "code",
   "execution_count": 13,
   "id": "4028b2ac-602b-4609-828c-54d3fc5db68e",
   "metadata": {
    "execution": {
     "iopub.execute_input": "2025-06-02T15:53:33.461579Z",
     "iopub.status.busy": "2025-06-02T15:53:33.459859Z",
     "iopub.status.idle": "2025-06-02T15:53:33.468974Z",
     "shell.execute_reply": "2025-06-02T15:53:33.467931Z",
     "shell.execute_reply.started": "2025-06-02T15:53:33.461499Z"
    }
   },
   "outputs": [],
   "source": [
    "CUSIP9_date_s = [\n",
    "    # CVTY wrong CUSIP change date\n",
    "    [\"222853103\", 1998, 4, 1, \"222862104\", 1998, 4, 2],\n",
    "    # HARB wrong CUSIP change date\n",
    "    [\"411510100\", 1998, 3, 17, \"411901101\", 1998, 3, 18],\n",
    "    # PPL wrong CUSIP change date\n",
    "    [\"709051106\", 1995, 4, 30, \"693499105\", 1995, 5, 1],\n",
    "]\n",
    "expr_NameEndDt, expr_NameDt = pl, pl\n",
    "for cusip1, y1, m1, d1, cusip2, y2, m2, d2 in CUSIP9_date_s:\n",
    "    expr_NameEndDt = expr_NameEndDt.when(c(\"CUSIP9\").eq(cusip1)).then(\n",
    "        pl.date(y1, m1, d1)\n",
    "    )\n",
    "    expr_NameDt = expr_NameDt.when(c(\"CUSIP9\").eq(cusip2)).then(pl.date(y2, m2, d2))\n",
    "expr_NameEndDt = expr_NameEndDt.otherwise(\"NameEndDt\").alias(\"NameEndDt\")\n",
    "expr_NameDt = expr_NameDt.otherwise(\"NameDt\").alias(\"NameDt\")\n",
    "# expr_NameEndDt"
   ]
  },
  {
   "cell_type": "code",
   "execution_count": 14,
   "id": "e7dfe7c5-d997-4947-a27a-169b919caa1e",
   "metadata": {
    "execution": {
     "iopub.execute_input": "2025-06-02T15:53:33.470251Z",
     "iopub.status.busy": "2025-06-02T15:53:33.470011Z",
     "iopub.status.idle": "2025-06-02T15:53:33.477955Z",
     "shell.execute_reply": "2025-06-02T15:53:33.476997Z",
     "shell.execute_reply.started": "2025-06-02T15:53:33.470232Z"
    }
   },
   "outputs": [],
   "source": [
    "crsp_dse = crsp_dse.with_columns(expr_NameEndDt, expr_NameDt)"
   ]
  },
  {
   "cell_type": "markdown",
   "id": "19858a6e-e7b1-46c7-8cd4-cd9216c3a406",
   "metadata": {},
   "source": [
    "### Get rid of \"_x\" dummies"
   ]
  },
  {
   "cell_type": "code",
   "execution_count": 15,
   "id": "0507f617-8c4b-4684-8df9-d710215800da",
   "metadata": {
    "execution": {
     "iopub.execute_input": "2025-06-02T15:53:33.479467Z",
     "iopub.status.busy": "2025-06-02T15:53:33.478956Z",
     "iopub.status.idle": "2025-06-02T15:53:33.527785Z",
     "shell.execute_reply": "2025-06-02T15:53:33.526801Z",
     "shell.execute_reply.started": "2025-06-02T15:53:33.479448Z"
    }
   },
   "outputs": [],
   "source": [
    "df = df.filter(~c(\"Ticker\").str.contains(\"_x\"))"
   ]
  },
  {
   "cell_type": "markdown",
   "id": "0ef7c4e7-dad0-4443-a8cb-1efe45bc8902",
   "metadata": {
    "execution": {
     "iopub.execute_input": "2025-06-01T22:40:44.224843Z",
     "iopub.status.busy": "2025-06-01T22:40:44.224221Z",
     "iopub.status.idle": "2025-06-01T22:40:44.235574Z",
     "shell.execute_reply": "2025-06-01T22:40:44.233590Z",
     "shell.execute_reply.started": "2025-06-01T22:40:44.224808Z"
    }
   },
   "source": [
    "## Join R3K universe with CRSP coverage"
   ]
  },
  {
   "cell_type": "code",
   "execution_count": 16,
   "id": "3452c8d1-9b4f-4612-a10b-c2eb7c222e8e",
   "metadata": {
    "execution": {
     "iopub.execute_input": "2025-06-02T15:53:33.529090Z",
     "iopub.status.busy": "2025-06-02T15:53:33.528620Z",
     "iopub.status.idle": "2025-06-02T15:53:34.170098Z",
     "shell.execute_reply": "2025-06-02T15:53:34.168728Z",
     "shell.execute_reply.started": "2025-06-02T15:53:33.529068Z"
    }
   },
   "outputs": [],
   "source": [
    "res0 = df.join(crsp_dse, left_on=\"CUSIP\", right_on=\"CUSIP9\").with_columns(\n",
    "    match_priority=pl.when(\n",
    "        c(\"Date\")\n",
    "        .dt.month_start()\n",
    "        .is_between(c(\"NameDt\").dt.month_start(), c(\"NameEndDt\").dt.month_start())\n",
    "    )\n",
    "    .then(0)\n",
    "    .otherwise(\n",
    "        pl.when(\n",
    "            c(\"Date\").is_between(\n",
    "                c(\"NameDt\").dt.month_start().dt.offset_by(\"-1mo\"),\n",
    "                c(\"NameEndDt\").dt.month_start().dt.offset_by(\"6mo\"),\n",
    "            )\n",
    "        )\n",
    "        .then(1)\n",
    "        .otherwise(-1)\n",
    "    )\n",
    ")"
   ]
  },
  {
   "cell_type": "code",
   "execution_count": 17,
   "id": "105a00f4-3921-4766-9e6a-9fbf0401e7ad",
   "metadata": {
    "execution": {
     "iopub.execute_input": "2025-06-02T15:53:34.171161Z",
     "iopub.status.busy": "2025-06-02T15:53:34.170943Z",
     "iopub.status.idle": "2025-06-02T15:53:34.970862Z",
     "shell.execute_reply": "2025-06-02T15:53:34.970034Z",
     "shell.execute_reply.started": "2025-06-02T15:53:34.171146Z"
    }
   },
   "outputs": [],
   "source": [
    "res = (\n",
    "    res0.filter(c(\"match_priority\") >= 0)\n",
    "    .sort([\"Date\", \"PERMNO\", \"match_priority\"])\n",
    "    .unique(subset=[\"Date\", \"PERMNO\"], keep=\"first\", maintain_order=True)\n",
    ")"
   ]
  },
  {
   "cell_type": "markdown",
   "id": "fac79385-cc39-47e4-8798-5f53f24e410f",
   "metadata": {},
   "source": [
    "### Verify results\n",
    "1. Unmatched R3K consituents are foreign stocks (not covered by CRSP), or stock traded on Chicago Philadelpha exchanges historically\n",
    "2. match_priority > 0 should be rare"
   ]
  },
  {
   "cell_type": "code",
   "execution_count": 18,
   "id": "5a8fa117-8dfb-4625-a507-bfe2e959cf5f",
   "metadata": {
    "execution": {
     "iopub.execute_input": "2025-06-02T15:53:34.972117Z",
     "iopub.status.busy": "2025-06-02T15:53:34.971686Z",
     "iopub.status.idle": "2025-06-02T15:53:35.042759Z",
     "shell.execute_reply": "2025-06-02T15:53:35.041997Z",
     "shell.execute_reply.started": "2025-06-02T15:53:34.972099Z"
    }
   },
   "outputs": [
    {
     "data": {
      "text/html": [
       "<div><style>\n",
       ".dataframe > thead > tr,\n",
       ".dataframe > tbody > tr {\n",
       "  text-align: right;\n",
       "  white-space: pre-wrap;\n",
       "}\n",
       "</style>\n",
       "<small>shape: (6, 7)</small><table border=\"1\" class=\"dataframe\"><thead><tr><th>Date</th><th>ConsCode</th><th>CUSIP</th><th>ISIN</th><th>Ticker</th><th>Exchange</th><th>Name</th></tr><tr><td>date</td><td>str</td><td>str</td><td>str</td><td>str</td><td>str</td><td>str</td></tr></thead><tbody><tr><td>1995-05-31</td><td>&quot;&quot;</td><td>&quot;206189102&quot;</td><td>&quot;&quot;</td><td>&quot;CEFT&quot;</td><td>&quot;NASDAQ&quot;</td><td>&quot;CONCORD EFS INC&quot;</td></tr><tr><td>2007-06-29</td><td>&quot;&quot;</td><td>&quot;G5299G106&quot;</td><td>&quot;&quot;</td><td>&quot;VLCCF&quot;</td><td>&quot;&quot;</td><td>&quot;KNIGHTSBRIDGE TANKERS&quot;</td></tr><tr><td>2007-06-29</td><td>&quot;&quot;</td><td>&quot;P16994132&quot;</td><td>&quot;&quot;</td><td>&quot;BLX&quot;</td><td>&quot;&quot;</td><td>&quot;BANCO LATINOAMERICANO&quot;</td></tr><tr><td>2008-06-30</td><td>&quot;&quot;</td><td>&quot;G02995101&quot;</td><td>&quot;&quot;</td><td>&quot;ASI&quot;</td><td>&quot;&quot;</td><td>&quot;AMERICAN SAFETY INS HLDG&quot;</td></tr><tr><td>2023-03-31</td><td>&quot;C69803&quot;</td><td>&quot;45031U101&quot;</td><td>&quot;US45031U1016&quot;</td><td>&quot;STAR&quot;</td><td>&quot;NYSE&quot;</td><td>&quot;ISTAR INC&quot;</td></tr><tr><td>2023-12-29</td><td>&quot;C196349&quot;</td><td>&quot;14817C115&quot;</td><td>&quot;US14817C1154&quot;</td><td>&quot;SAVAW&quot;</td><td>&quot;NASDAQ&quot;</td><td>&quot;CASAVA SCIENCES WARRANTS&quot;</td></tr></tbody></table></div>"
      ],
      "text/plain": [
       "shape: (6, 7)\n",
       "┌────────────┬──────────┬───────────┬──────────────┬────────┬──────────┬──────────────────────────┐\n",
       "│ Date       ┆ ConsCode ┆ CUSIP     ┆ ISIN         ┆ Ticker ┆ Exchange ┆ Name                     │\n",
       "│ ---        ┆ ---      ┆ ---       ┆ ---          ┆ ---    ┆ ---      ┆ ---                      │\n",
       "│ date       ┆ str      ┆ str       ┆ str          ┆ str    ┆ str      ┆ str                      │\n",
       "╞════════════╪══════════╪═══════════╪══════════════╪════════╪══════════╪══════════════════════════╡\n",
       "│ 1995-05-31 ┆          ┆ 206189102 ┆              ┆ CEFT   ┆ NASDAQ   ┆ CONCORD EFS INC          │\n",
       "│ 2007-06-29 ┆          ┆ G5299G106 ┆              ┆ VLCCF  ┆          ┆ KNIGHTSBRIDGE TANKERS    │\n",
       "│ 2007-06-29 ┆          ┆ P16994132 ┆              ┆ BLX    ┆          ┆ BANCO LATINOAMERICANO    │\n",
       "│ 2008-06-30 ┆          ┆ G02995101 ┆              ┆ ASI    ┆          ┆ AMERICAN SAFETY INS HLDG │\n",
       "│ 2023-03-31 ┆ C69803   ┆ 45031U101 ┆ US45031U1016 ┆ STAR   ┆ NYSE     ┆ ISTAR INC                │\n",
       "│ 2023-12-29 ┆ C196349  ┆ 14817C115 ┆ US14817C1154 ┆ SAVAW  ┆ NASDAQ   ┆ CASAVA SCIENCES WARRANTS │\n",
       "└────────────┴──────────┴───────────┴──────────────┴────────┴──────────┴──────────────────────────┘"
      ]
     },
     "execution_count": 18,
     "metadata": {},
     "output_type": "execute_result"
    }
   ],
   "source": [
    "df.join(\n",
    "    res,\n",
    "    how=\"anti\",\n",
    "    on=[\"Date\", \"CUSIP\"],\n",
    ").filter(\n",
    "    ~c(\"Ticker\").is_in([\"AFE\", \"AX\", \"GBC\"])  # in other exchanges\n",
    "    & ~c(\"Ticker\").str.ends_with(\"x\")  # Known dummy tickers\n",
    ").select([\"Date\", \"ConsCode\", \"CUSIP\", \"ISIN\", \"Ticker\", \"Exchange\", \"Name\"]).filter(\n",
    "    c(\"CUSIP\").is_first_distinct()\n",
    ")"
   ]
  },
  {
   "cell_type": "code",
   "execution_count": 19,
   "id": "061600a8-0e93-4965-9f17-75f2d3fe8db8",
   "metadata": {
    "execution": {
     "iopub.execute_input": "2025-06-02T15:53:35.043745Z",
     "iopub.status.busy": "2025-06-02T15:53:35.043561Z",
     "iopub.status.idle": "2025-06-02T15:53:35.073671Z",
     "shell.execute_reply": "2025-06-02T15:53:35.071173Z",
     "shell.execute_reply.started": "2025-06-02T15:53:35.043731Z"
    }
   },
   "outputs": [
    {
     "data": {
      "text/html": [
       "\n",
       "<style>\n",
       "  #altair-viz-d279cfaa5bcb471d8398415bd186f11f.vega-embed {\n",
       "    width: 100%;\n",
       "    display: flex;\n",
       "  }\n",
       "\n",
       "  #altair-viz-d279cfaa5bcb471d8398415bd186f11f.vega-embed details,\n",
       "  #altair-viz-d279cfaa5bcb471d8398415bd186f11f.vega-embed details summary {\n",
       "    position: relative;\n",
       "  }\n",
       "</style>\n",
       "<div id=\"altair-viz-d279cfaa5bcb471d8398415bd186f11f\"></div>\n",
       "<script type=\"text/javascript\">\n",
       "  var VEGA_DEBUG = (typeof VEGA_DEBUG == \"undefined\") ? {} : VEGA_DEBUG;\n",
       "  (function(spec, embedOpt){\n",
       "    let outputDiv = document.currentScript.previousElementSibling;\n",
       "    if (outputDiv.id !== \"altair-viz-d279cfaa5bcb471d8398415bd186f11f\") {\n",
       "      outputDiv = document.getElementById(\"altair-viz-d279cfaa5bcb471d8398415bd186f11f\");\n",
       "    }\n",
       "    const paths = {\n",
       "      \"vega\": \"https://cdn.jsdelivr.net/npm/vega@5?noext\",\n",
       "      \"vega-lib\": \"https://cdn.jsdelivr.net/npm/vega-lib?noext\",\n",
       "      \"vega-lite\": \"https://cdn.jsdelivr.net/npm/vega-lite@5.20.1?noext\",\n",
       "      \"vega-embed\": \"https://cdn.jsdelivr.net/npm/vega-embed@6?noext\",\n",
       "    };\n",
       "\n",
       "    function maybeLoadScript(lib, version) {\n",
       "      var key = `${lib.replace(\"-\", \"\")}_version`;\n",
       "      return (VEGA_DEBUG[key] == version) ?\n",
       "        Promise.resolve(paths[lib]) :\n",
       "        new Promise(function(resolve, reject) {\n",
       "          var s = document.createElement('script');\n",
       "          document.getElementsByTagName(\"head\")[0].appendChild(s);\n",
       "          s.async = true;\n",
       "          s.onload = () => {\n",
       "            VEGA_DEBUG[key] = version;\n",
       "            return resolve(paths[lib]);\n",
       "          };\n",
       "          s.onerror = () => reject(`Error loading script: ${paths[lib]}`);\n",
       "          s.src = paths[lib];\n",
       "        });\n",
       "    }\n",
       "\n",
       "    function showError(err) {\n",
       "      outputDiv.innerHTML = `<div class=\"error\" style=\"color:red;\">${err}</div>`;\n",
       "      throw err;\n",
       "    }\n",
       "\n",
       "    function displayChart(vegaEmbed) {\n",
       "      vegaEmbed(outputDiv, spec, embedOpt)\n",
       "        .catch(err => showError(`Javascript Error: ${err.message}<br>This usually means there's a typo in your chart specification. See the javascript console for the full traceback.`));\n",
       "    }\n",
       "\n",
       "    if(typeof define === \"function\" && define.amd) {\n",
       "      requirejs.config({paths});\n",
       "      require([\"vega-embed\"], displayChart, err => showError(`Error loading script: ${err.message}`));\n",
       "    } else {\n",
       "      maybeLoadScript(\"vega\", \"5\")\n",
       "        .then(() => maybeLoadScript(\"vega-lite\", \"5.20.1\"))\n",
       "        .then(() => maybeLoadScript(\"vega-embed\", \"6\"))\n",
       "        .catch(showError)\n",
       "        .then(() => displayChart(vegaEmbed));\n",
       "    }\n",
       "  })({\"config\": {\"view\": {\"continuousWidth\": 300, \"continuousHeight\": 300}}, \"data\": {\"name\": \"data-ff644e2a5d095bd95d89c9a03ea03c3d\"}, \"mark\": {\"type\": \"line\", \"tooltip\": true}, \"encoding\": {\"x\": {\"field\": \"Date\", \"type\": \"temporal\"}, \"y\": {\"field\": \"count\", \"type\": \"quantitative\"}}, \"params\": [{\"name\": \"param_2\", \"select\": {\"type\": \"interval\", \"encodings\": [\"x\", \"y\"]}, \"bind\": \"scales\"}], \"$schema\": \"https://vega.github.io/schema/vega-lite/v5.20.1.json\", \"datasets\": {\"data-ff644e2a5d095bd95d89c9a03ea03c3d\": [{\"Date\": \"2001-12-31T00:00:00\", \"count\": 3}, {\"Date\": \"1999-08-31T00:00:00\", \"count\": 2}, {\"Date\": \"2001-10-30T00:00:00\", \"count\": 2}, {\"Date\": \"2001-11-30T00:00:00\", \"count\": 2}, {\"Date\": \"1996-02-29T00:00:00\", \"count\": 1}, {\"Date\": \"1996-09-30T00:00:00\", \"count\": 1}, {\"Date\": \"1996-12-31T00:00:00\", \"count\": 1}, {\"Date\": \"1997-02-28T00:00:00\", \"count\": 1}, {\"Date\": \"1999-09-30T00:00:00\", \"count\": 1}, {\"Date\": \"1999-10-29T00:00:00\", \"count\": 1}, {\"Date\": \"1999-11-30T00:00:00\", \"count\": 1}, {\"Date\": \"1999-12-31T00:00:00\", \"count\": 1}, {\"Date\": \"2000-02-29T00:00:00\", \"count\": 1}, {\"Date\": \"2000-11-30T00:00:00\", \"count\": 1}, {\"Date\": \"2000-12-29T00:00:00\", \"count\": 1}, {\"Date\": \"2001-01-31T00:00:00\", \"count\": 1}, {\"Date\": \"2001-02-28T00:00:00\", \"count\": 1}, {\"Date\": \"2001-03-30T00:00:00\", \"count\": 1}, {\"Date\": \"2001-04-30T00:00:00\", \"count\": 1}, {\"Date\": \"2001-09-28T00:00:00\", \"count\": 1}, {\"Date\": \"2002-01-31T00:00:00\", \"count\": 1}, {\"Date\": \"2002-02-28T00:00:00\", \"count\": 1}, {\"Date\": \"2002-03-28T00:00:00\", \"count\": 1}, {\"Date\": \"2002-08-30T00:00:00\", \"count\": 1}, {\"Date\": \"2002-09-30T00:00:00\", \"count\": 1}, {\"Date\": \"2002-10-31T00:00:00\", \"count\": 1}, {\"Date\": \"2002-11-29T00:00:00\", \"count\": 1}, {\"Date\": \"2003-09-30T00:00:00\", \"count\": 1}, {\"Date\": \"2006-03-31T00:00:00\", \"count\": 1}, {\"Date\": \"2006-04-28T00:00:00\", \"count\": 1}, {\"Date\": \"2006-05-31T00:00:00\", \"count\": 1}, {\"Date\": \"2006-06-30T00:00:00\", \"count\": 1}, {\"Date\": \"2008-09-30T00:00:00\", \"count\": 1}, {\"Date\": \"2009-06-30T00:00:00\", \"count\": 1}, {\"Date\": \"2011-12-30T00:00:00\", \"count\": 1}, {\"Date\": \"2013-12-31T00:00:00\", \"count\": 1}, {\"Date\": \"2014-01-31T00:00:00\", \"count\": 1}, {\"Date\": \"2014-02-28T00:00:00\", \"count\": 1}, {\"Date\": \"2014-03-31T00:00:00\", \"count\": 1}, {\"Date\": \"2015-10-30T00:00:00\", \"count\": 1}, {\"Date\": \"2015-11-30T00:00:00\", \"count\": 1}, {\"Date\": \"2015-12-31T00:00:00\", \"count\": 1}, {\"Date\": \"2016-01-29T00:00:00\", \"count\": 1}, {\"Date\": \"2016-02-29T00:00:00\", \"count\": 1}, {\"Date\": \"2016-03-31T00:00:00\", \"count\": 1}, {\"Date\": \"2016-04-29T00:00:00\", \"count\": 1}, {\"Date\": \"2016-05-31T00:00:00\", \"count\": 1}, {\"Date\": \"2023-12-29T00:00:00\", \"count\": 1}]}}, {\"mode\": \"vega-lite\"});\n",
       "</script>"
      ],
      "text/plain": [
       "alt.Chart(...)"
      ]
     },
     "execution_count": 19,
     "metadata": {},
     "output_type": "execute_result"
    }
   ],
   "source": [
    "res.filter(c(\"match_priority\") == 1)[\"Date\"].value_counts(sort=True).plot.line(\n",
    "    x=\"Date\", y=\"count\"\n",
    ")"
   ]
  },
  {
   "cell_type": "markdown",
   "id": "2bfd0ee9-5625-41e6-847c-96d69f7bd23f",
   "metadata": {},
   "source": [
    "## Write results"
   ]
  },
  {
   "cell_type": "code",
   "execution_count": 20,
   "id": "b5f8e663-9253-4166-9bfc-0f0c86b40d5a",
   "metadata": {
    "execution": {
     "iopub.execute_input": "2025-06-02T15:53:35.076244Z",
     "iopub.status.busy": "2025-06-02T15:53:35.074903Z",
     "iopub.status.idle": "2025-06-02T15:53:36.110587Z",
     "shell.execute_reply": "2025-06-02T15:53:36.109703Z",
     "shell.execute_reply.started": "2025-06-02T15:53:35.076204Z"
    }
   },
   "outputs": [],
   "source": [
    "res.write_parquet(\"/home/hzhang/data/russell_crsp_link_20250601.parquet\")"
   ]
  },
  {
   "cell_type": "code",
   "execution_count": 21,
   "id": "9c271d9c-fe8f-4cce-b985-84161cb6f7be",
   "metadata": {
    "execution": {
     "iopub.execute_input": "2025-06-02T15:53:36.113363Z",
     "iopub.status.busy": "2025-06-02T15:53:36.113140Z",
     "iopub.status.idle": "2025-06-02T15:53:36.259083Z",
     "shell.execute_reply": "2025-06-02T15:53:36.257779Z",
     "shell.execute_reply.started": "2025-06-02T15:53:36.113347Z"
    }
   },
   "outputs": [
    {
     "ename": "InterruptedError",
     "evalue": "",
     "output_type": "error",
     "traceback": [
      "\u001b[0;31m---------------------------------------------------------------------------\u001b[0m",
      "\u001b[0;31mInterruptedError\u001b[0m                          Traceback (most recent call last)",
      "Cell \u001b[0;32mIn[21], line 1\u001b[0m\n\u001b[0;32m----> 1\u001b[0m \u001b[38;5;28;01mraise\u001b[39;00m \u001b[38;5;167;01mInterruptedError\u001b[39;00m\n",
      "\u001b[0;31mInterruptedError\u001b[0m: "
     ]
    }
   ],
   "source": [
    "raise InterruptedError"
   ]
  },
  {
   "cell_type": "code",
   "execution_count": null,
   "id": "5e81cc5a-7458-4c4a-8fd8-10f4c04b703c",
   "metadata": {
    "execution": {
     "iopub.status.busy": "2025-06-02T15:53:36.259608Z",
     "iopub.status.idle": "2025-06-02T15:53:36.259846Z",
     "shell.execute_reply": "2025-06-02T15:53:36.259746Z",
     "shell.execute_reply.started": "2025-06-02T15:53:36.259737Z"
    }
   },
   "outputs": [],
   "source": [
    "# FTSE won't fix https://wrds-support.wharton.upenn.edu/hc/en-us/requests/120961\n",
    "df = df.with_columns(\n",
    "    Ticker=pl.when(\n",
    "        (c(\"Name\") == \"US FOODSERVICE\")\n",
    "        & (c(\"Date\") < datetime.fromisoformat(\"1998-06-01\"))\n",
    "    )\n",
    "    .then(pl.lit(\"UFS\"))\n",
    "    .otherwise(c(\"Ticker\"))\n",
    ")"
   ]
  },
  {
   "cell_type": "code",
   "execution_count": null,
   "id": "8fabfbed-8ae9-456b-80c5-00df38acaf7e",
   "metadata": {
    "execution": {
     "iopub.status.busy": "2025-06-02T15:53:36.261300Z",
     "iopub.status.idle": "2025-06-02T15:53:36.261522Z",
     "shell.execute_reply": "2025-06-02T15:53:36.261436Z",
     "shell.execute_reply.started": "2025-06-02T15:53:36.261426Z"
    }
   },
   "outputs": [],
   "source": [
    "# px.line(df.filter(c('MktValue').is_null()).group_by('Date', maintain_order=True).len(), x='Date', y='len', markers=True)"
   ]
  },
  {
   "cell_type": "markdown",
   "id": "9b55a91c-269d-424a-94ef-049d8d032de9",
   "metadata": {},
   "source": [
    "### Get rid of rows with shifted columns (2025-03-26)\n",
    "filed WRDS [ticket](https://wrds-support.wharton.upenn.edu/hc/en-us/requests/123032)"
   ]
  },
  {
   "cell_type": "code",
   "execution_count": null,
   "id": "5346fef3-88e2-4c50-a67c-0366ac9d82f6",
   "metadata": {
    "execution": {
     "iopub.status.busy": "2025-06-02T15:53:36.263125Z",
     "iopub.status.idle": "2025-06-02T15:53:36.263353Z",
     "shell.execute_reply": "2025-06-02T15:53:36.263263Z",
     "shell.execute_reply.started": "2025-06-02T15:53:36.263254Z"
    }
   },
   "outputs": [],
   "source": [
    "df = df.filter(~c(\"Name\").is_null())  # Known bug filed with WRDS"
   ]
  },
  {
   "cell_type": "markdown",
   "id": "d6a61863-0227-4447-952d-019ef6c41df4",
   "metadata": {},
   "source": [
    "### Fix missing R3000_WT columns\n",
    "\n",
    "Among MarketCap, R3000_WT, and MarketVal, choose the one column with least missing data. Then just fill forward.\n",
    "\n",
    "⏳Per WRDS, FTSE sent them new data, which they will populate in a week. [link](https://wrds-support.wharton.upenn.edu/hc/en-us/requests/121314)"
   ]
  },
  {
   "cell_type": "code",
   "execution_count": null,
   "id": "83b5a6c2-8bc8-4d80-a3f2-c8ace8de48a6",
   "metadata": {
    "execution": {
     "iopub.status.busy": "2025-06-02T15:53:36.264286Z",
     "iopub.status.idle": "2025-06-02T15:53:36.264675Z",
     "shell.execute_reply": "2025-06-02T15:53:36.264563Z",
     "shell.execute_reply.started": "2025-06-02T15:53:36.264536Z"
    }
   },
   "outputs": [],
   "source": [
    "df = df.with_columns(wt=c(\"R3000_WT\").forward_fill().over(\"CUSIP\")).with_columns(\n",
    "    wt=pl.when(c(\"Date\").lt(datetime.fromisoformat(\"1998-04-01\")))\n",
    "    .then(c(\"wt\") / 100.0)\n",
    "    .otherwise(c(\"wt\"))\n",
    ")"
   ]
  },
  {
   "cell_type": "markdown",
   "id": "0d22bb1a-50f5-4988-9afc-dace69bb8b84",
   "metadata": {},
   "source": [
    "### Rid of zero or missing weights"
   ]
  },
  {
   "cell_type": "code",
   "execution_count": null,
   "id": "e5e004fe-9883-4e9a-92ea-fa55f0753749",
   "metadata": {
    "execution": {
     "iopub.status.busy": "2025-06-02T15:53:36.265427Z",
     "iopub.status.idle": "2025-06-02T15:53:36.265706Z",
     "shell.execute_reply": "2025-06-02T15:53:36.265563Z",
     "shell.execute_reply.started": "2025-06-02T15:53:36.265552Z"
    }
   },
   "outputs": [],
   "source": [
    "px.line(\n",
    "    df.filter(c(\"wt\").is_null() | (c(\"wt\") == 0))\n",
    "    .group_by(\"Date\", maintain_order=True)\n",
    "    .agg(pl.len()),\n",
    "    x=\"Date\",\n",
    "    y=\"len\",\n",
    "    markers=True,\n",
    "    title=\"# zero or null weights\",\n",
    ")"
   ]
  },
  {
   "cell_type": "code",
   "execution_count": null,
   "id": "e85b407a-7755-4d9f-98c2-a6109a3692fb",
   "metadata": {
    "execution": {
     "iopub.status.busy": "2025-06-02T15:53:36.266767Z",
     "iopub.status.idle": "2025-06-02T15:53:36.266975Z",
     "shell.execute_reply": "2025-06-02T15:53:36.266893Z",
     "shell.execute_reply.started": "2025-06-02T15:53:36.266884Z"
    }
   },
   "outputs": [],
   "source": [
    "df = df.filter(c(\"wt\").is_not_null() & (c(\"wt\") > 0))"
   ]
  },
  {
   "cell_type": "code",
   "execution_count": null,
   "id": "41f7f0bc-2698-471c-9f85-23c6082ca0da",
   "metadata": {
    "execution": {
     "iopub.status.busy": "2025-06-02T15:53:36.268227Z",
     "iopub.status.idle": "2025-06-02T15:53:36.268450Z",
     "shell.execute_reply": "2025-06-02T15:53:36.268359Z",
     "shell.execute_reply.started": "2025-06-02T15:53:36.268350Z"
    }
   },
   "outputs": [],
   "source": [
    "# with pl.Config(tbl_rows=-1):\n",
    "#     display(df.filter((c('wt')==0 ) & (c('Date').dt.month_start() == datetime.fromisoformat('2001-04-01'))))"
   ]
  },
  {
   "cell_type": "markdown",
   "id": "bee9696a-d7c5-4a65-8739-8623b97205a2",
   "metadata": {},
   "source": [
    "### Hand fix a early ticker error\n",
    "\n",
    "⏳[ticket](https://wrds-support.wharton.upenn.edu/hc/en-us/requests/120961) to WRDS -> Russell\n",
    "\n"
   ]
  },
  {
   "cell_type": "code",
   "execution_count": null,
   "id": "4bf694c8-ae7b-4a8e-a62c-b128290b3c1c",
   "metadata": {
    "execution": {
     "iopub.status.busy": "2025-06-02T15:53:36.269278Z",
     "iopub.status.idle": "2025-06-02T15:53:36.269484Z",
     "shell.execute_reply": "2025-06-02T15:53:36.269402Z",
     "shell.execute_reply.started": "2025-06-02T15:53:36.269394Z"
    }
   },
   "outputs": [],
   "source": [
    "df = df.with_columns(\n",
    "    Ticker=pl.when(\n",
    "        (c(\"Name\") == \"US FOODSERVICE\")\n",
    "        & (c(\"Date\") < datetime.fromisoformat(\"1998-06-01\"))\n",
    "    )\n",
    "    .then(pl.lit(\"UFS\"))\n",
    "    .otherwise(c(\"Ticker\"))\n",
    ")"
   ]
  },
  {
   "cell_type": "markdown",
   "id": "4807f727-e4c6-4085-b9c1-4be3582927a6",
   "metadata": {},
   "source": [
    "## Hand fix CUSIPs\n",
    "\n",
    "### Non-NY Exchanges\n",
    "\n",
    "Examples are Chicago, Philadelpha, Pacific, etc. Exchanges.\n",
    "\n",
    "1. American Financial Enterprises (AFEP, AFEM) prices are not available because they were traded in Chicago and Pacific exchanges thus not covered by CRSP (SEC [link](https://www.sec.gov/Archives/edgar/data/319157/0000319157-96-000007.txt))\n",
    "2. Archipelago Holdings (AX) trades on Pacific Exchange and not covered (SEC [link](https://www.sec.gov/Archives/edgar/data/1107389/000104746905007391/a2154055z10-k.htm))\n",
    "3. Greif Brothers traded on Chicago exchange for much of 1995 (SEC [link](https://www.sec.gov/Archives/edgar/data/43920/0000043920-96-000001.txt))\n",
    "\n",
    "### Erronerous early CUSIPS\n",
    "There was a number of CUSIP erros prior to 2000, which is fixed using CRSP as ground truth.\n",
    "\n",
    "### \"_x\" suffix\n",
    "A number of recent tickers have \"_x\" and CUSIPs have \"XX\" in them, ✅raised to WRDS in turn to FTSE ([link](https://wrds-support.wharton.upenn.edu/hc/en-us/requests/121321))\n",
    "> Please note the _x and xxxx in CUSIP/ISIN are used to represent temporary lines representing a stock distribution or some other corporate action.\n",
    "> \n",
    "> Section 3\n",
    ">\n",
    "> The use of dummy lines in FTSE\n",
    ">\n",
    "> Russell indices\n",
    "> \n",
    "> The use of dummy lines in FTSE Russell indices\n",
    ">\n",
    "> 3.1 Dummy lines are non-tradable instruments which have been temporarily created by FTSE Russell in order\n",
    "to reflect a corporate event.\n",
    "> \n",
    "> 3.2 The use of dummy lines is normally determined on an ad hoc basis and typically results from complexities\n",
    "surrounding a corporate event.\n",
    ">\n",
    "> 3.3 Where the use of dummy lines is necessary FTSE Russell provides advance notification either via an\n",
    "informative notice published on the FTSE Russell website, or via the Russell Corporate Action Calendar.\n",
    "Dummy lines will also be visible within the standard corporate action deliverables when they are being\n",
    "utilized.\n",
    ">\n",
    "> 3.4 Dummy lines are generally used in order to ensure the index reflects the investor experience or in order to\n",
    "facilitate index replication by index funds."
   ]
  },
  {
   "cell_type": "code",
   "execution_count": null,
   "id": "e45208aa-bd44-4a8f-8797-7ece564771e0",
   "metadata": {
    "execution": {
     "iopub.status.busy": "2025-06-02T15:53:36.270741Z",
     "iopub.status.idle": "2025-06-02T15:53:36.270969Z",
     "shell.execute_reply": "2025-06-02T15:53:36.270866Z",
     "shell.execute_reply.started": "2025-06-02T15:53:36.270858Z"
    }
   },
   "outputs": [],
   "source": [
    "df = df.with_columns(CUSIP8=c(\"CUSIP\").str.head(8))\n",
    "\n",
    "on_other_exchanges = [\"AFE\", \"AX\", \"GBC\"]\n",
    "\n",
    "ticker_cusip8_bdate_edate = [\n",
    "    [\n",
    "        \"ALW\",\n",
    "        \"02004710\",\n",
    "        \"\",\n",
    "        \"1997-07-31\",\n",
    "    ],  # CUSIP fixed it, Barra is correct, CRSP was wrong,\n",
    "    [\"GNV\", \"37225230\", \"\", \"2000-01-01\"],  # WAITING ON CRSP: CRSP lists a 144A\n",
    "    [\"TNTX\", \"87924420\", \"\", \"1995-10-22\"],  # russell wrong, CRSP and Barra correct\n",
    "    [\"TNTX\", \"87259710\", \"1995-10-23\", \"2004-03-04\"],  # ibid\n",
    "    [\n",
    "        \"TRFI\",\n",
    "        \"89323N10\",\n",
    "        \"1995-05-10\",\n",
    "        \"1998-08-21\",\n",
    "    ],  # russell wrong, Barra wrong, CRSP correct\n",
    "    [\n",
    "        \"VWRX\",\n",
    "        \"91843510\",\n",
    "        \"1986-03-03\",\n",
    "        \"1999-07-30\",\n",
    "    ],  # Rusell wrong, Barra and CRSP correct\n",
    "    [\"PAS\", \"71399P90\", \"\", \"2000-11-30\"],  # dummy cusip: CRSP assigned dummy CUSIP\n",
    "    [\"PAS\", \"71343P20\", \"2001-01-24\", \"2010-02-26\"],\n",
    "    [\n",
    "        \"GNSA\",\n",
    "        \"37245030\",\n",
    "        \"1997-04-22\",\n",
    "        \"1999-06-17\",\n",
    "    ],  # WAITING CRSP: see CRSP erroneously uses a 144A CUSIP\n",
    "    [\n",
    "        \"CVTY\",\n",
    "        \"22285310\",\n",
    "        \"\",\n",
    "        \"1999-06-30\",\n",
    "    ],  #  WAITING CRSP: see CRSP got the dates wrong of change of CUSIP\n",
    "    [\n",
    "        \"HARB\",\n",
    "        \"41190110\",\n",
    "        \"1997-06-26\",\n",
    "        \"2006-11-30\",\n",
    "    ],  #  WAITING CRSP: see CRSP got the dates wrong of change of CUSIP\n",
    "    [\n",
    "        \"PPL\",\n",
    "        \"70905110\",\n",
    "        \"\",\n",
    "        \"1997-09-11\",\n",
    "    ],  # TO FILE: Barra got the dates wrong of change of CUSIP\n",
    "    [\n",
    "        \"XPRSA\",\n",
    "        \"90399N90\",\n",
    "        \"1994-10-16\",\n",
    "        \"2007-10-12\",\n",
    "    ],  # dummy cusip: CRP assigned dummy CUSIP\n",
    "]\n",
    "\n",
    "for ticker, cusip8, bdate, edate in ticker_cusip8_bdate_edate:\n",
    "    bdate_dt = datetime.fromisoformat(\"1990-01-01\" if bdate == \"\" else bdate)\n",
    "    edate_dt = datetime.fromisoformat(\"2100-01-01\" if edate == \"\" else edate)\n",
    "    df = df.with_columns(\n",
    "        CUSIP8=pl.when(\n",
    "            c(\"Ticker\").eq(ticker) & c(\"Date\").is_between(bdate_dt, edate_dt)\n",
    "        )\n",
    "        .then(pl.lit(cusip8))\n",
    "        .otherwise(c(\"CUSIP8\"))\n",
    "    )"
   ]
  },
  {
   "cell_type": "code",
   "execution_count": null,
   "id": "f3f760a8-67a8-45c7-9ec0-b76f23508486",
   "metadata": {
    "execution": {
     "iopub.status.busy": "2025-06-02T15:53:36.271929Z",
     "iopub.status.idle": "2025-06-02T15:53:36.272148Z",
     "shell.execute_reply": "2025-06-02T15:53:36.272061Z",
     "shell.execute_reply.started": "2025-06-02T15:53:36.272052Z"
    }
   },
   "outputs": [],
   "source": [
    "df.filter(c(\"Ticker\") == \"GNV\")"
   ]
  },
  {
   "cell_type": "code",
   "execution_count": null,
   "id": "fb03954a-c0fb-49ec-9907-164ecb78c1f6",
   "metadata": {
    "execution": {
     "iopub.status.busy": "2025-06-02T15:53:36.272690Z",
     "iopub.status.idle": "2025-06-02T15:53:36.272885Z",
     "shell.execute_reply": "2025-06-02T15:53:36.272806Z",
     "shell.execute_reply.started": "2025-06-02T15:53:36.272798Z"
    }
   },
   "outputs": [],
   "source": [
    "# df.filter(df.select([\"Date\", \"Ticker\"]).is_duplicated())"
   ]
  },
  {
   "cell_type": "code",
   "execution_count": null,
   "id": "5ad2ac31-8b4f-4571-9648-a152d3e4f2af",
   "metadata": {
    "execution": {
     "iopub.status.busy": "2025-06-02T15:53:36.273892Z",
     "iopub.status.idle": "2025-06-02T15:53:36.274117Z",
     "shell.execute_reply": "2025-06-02T15:53:36.274024Z",
     "shell.execute_reply.started": "2025-06-02T15:53:36.274015Z"
    }
   },
   "outputs": [],
   "source": [
    "crsp_dse = pl.from_pandas(\n",
    "    pd.read_sas(\"/home/hzhang/data/wrds/dsenames.sas7bdat\", encoding=\"latin-1\")\n",
    ").with_columns(c(\"NAMEDT\").cast(pl.Date), c(\"NAMEENDT\").cast(pl.Date))"
   ]
  },
  {
   "cell_type": "code",
   "execution_count": null,
   "id": "d2004e81-ef64-4658-954b-1baa78b1a82f",
   "metadata": {
    "execution": {
     "iopub.status.busy": "2025-06-02T15:53:36.275228Z",
     "iopub.status.idle": "2025-06-02T15:53:36.275440Z",
     "shell.execute_reply": "2025-06-02T15:53:36.275357Z",
     "shell.execute_reply.started": "2025-06-02T15:53:36.275349Z"
    }
   },
   "outputs": [],
   "source": [
    "crsp_dse.write_parquet"
   ]
  },
  {
   "cell_type": "code",
   "execution_count": null,
   "id": "5ef5dad8-3434-481d-bb3a-7f645c79254c",
   "metadata": {
    "execution": {
     "iopub.status.busy": "2025-06-02T15:53:36.275965Z",
     "iopub.status.idle": "2025-06-02T15:53:36.276168Z",
     "shell.execute_reply": "2025-06-02T15:53:36.276087Z",
     "shell.execute_reply.started": "2025-06-02T15:53:36.276079Z"
    }
   },
   "outputs": [],
   "source": [
    "crsp_dse.filter(c(\"COMNAM\").str.starts_with(\"VARITY\"))"
   ]
  },
  {
   "cell_type": "code",
   "execution_count": null,
   "id": "2e61366f-89bd-4b88-ae1d-785ed72a8c54",
   "metadata": {
    "execution": {
     "iopub.status.busy": "2025-06-02T15:53:36.276928Z",
     "iopub.status.idle": "2025-06-02T15:53:36.277121Z",
     "shell.execute_reply": "2025-06-02T15:53:36.277043Z",
     "shell.execute_reply.started": "2025-06-02T15:53:36.277035Z"
    }
   },
   "outputs": [],
   "source": [
    "# df.filter(c(\"Ticker\")=='HARB').filter(c('CUSIP').is_first_distinct())"
   ]
  },
  {
   "cell_type": "code",
   "execution_count": null,
   "id": "1f517749-d0b9-413e-a8e7-508627f04a17",
   "metadata": {
    "execution": {
     "iopub.status.busy": "2025-06-02T15:53:36.277984Z",
     "iopub.status.idle": "2025-06-02T15:53:36.278165Z",
     "shell.execute_reply": "2025-06-02T15:53:36.278091Z",
     "shell.execute_reply.started": "2025-06-02T15:53:36.278084Z"
    }
   },
   "outputs": [],
   "source": [
    "# crsp_dse.filter(c(\"TICKER\") == 'PPL')\n",
    "with pl.Config(tbl_rows=-1):\n",
    "    display(crsp_dse.filter(c(\"PERMCO\") == 21376))"
   ]
  },
  {
   "cell_type": "code",
   "execution_count": null,
   "id": "8b6d80bf-c7db-44df-b8fe-a36cb6ac13a3",
   "metadata": {
    "execution": {
     "iopub.status.busy": "2025-06-02T15:53:36.278923Z",
     "iopub.status.idle": "2025-06-02T15:53:36.279096Z",
     "shell.execute_reply": "2025-06-02T15:53:36.279024Z",
     "shell.execute_reply.started": "2025-06-02T15:53:36.279018Z"
    }
   },
   "outputs": [],
   "source": [
    "crsp_dse.filter(c(\"COMNAM\").str.starts_with(\"PEPSIAM\"))"
   ]
  },
  {
   "cell_type": "code",
   "execution_count": null,
   "id": "b0daa290-5599-426b-9b68-ca7859bfdd2f",
   "metadata": {
    "execution": {
     "iopub.status.busy": "2025-06-02T15:53:36.279445Z",
     "iopub.status.idle": "2025-06-02T15:53:36.279617Z",
     "shell.execute_reply": "2025-06-02T15:53:36.279542Z",
     "shell.execute_reply.started": "2025-06-02T15:53:36.279535Z"
    }
   },
   "outputs": [],
   "source": [
    "crsp_dse.filter(c(\"NCUSIP\").str.head(6) == \"71343P\")"
   ]
  },
  {
   "cell_type": "code",
   "execution_count": null,
   "id": "41ccb71c-814e-4a44-8d8a-805e3ba0a99c",
   "metadata": {
    "execution": {
     "iopub.status.busy": "2025-06-02T15:53:36.280432Z",
     "iopub.status.idle": "2025-06-02T15:53:36.280640Z",
     "shell.execute_reply": "2025-06-02T15:53:36.280557Z",
     "shell.execute_reply.started": "2025-06-02T15:53:36.280549Z"
    }
   },
   "outputs": [],
   "source": [
    "crsp_dse.filter(c(\"NCUSIP\").str.starts_with(\"90338N\"))"
   ]
  },
  {
   "cell_type": "code",
   "execution_count": null,
   "id": "6bd26e6b-5652-4928-b241-c6133c5c88b9",
   "metadata": {
    "execution": {
     "iopub.status.busy": "2025-06-02T15:53:36.281948Z",
     "iopub.status.idle": "2025-06-02T15:53:36.282150Z",
     "shell.execute_reply": "2025-06-02T15:53:36.282070Z",
     "shell.execute_reply.started": "2025-06-02T15:53:36.282063Z"
    }
   },
   "outputs": [],
   "source": [
    "crsp_dse.join(crsp_dse, on=c(\"NCUSIP\").str.head(6), how=\"inner\").filter(\n",
    "    c(\"PERMCO\") != c(\"PERMCO_right\")\n",
    ")"
   ]
  },
  {
   "cell_type": "code",
   "execution_count": null,
   "id": "c6dcc6e1-f75a-4d9a-bee4-8dd1a9ff245f",
   "metadata": {},
   "outputs": [],
   "source": []
  },
  {
   "cell_type": "code",
   "execution_count": null,
   "id": "e1d58577-52dd-4c27-8208-02244840535c",
   "metadata": {
    "execution": {
     "iopub.status.busy": "2025-06-02T15:53:36.282657Z",
     "iopub.status.idle": "2025-06-02T15:53:36.282860Z",
     "shell.execute_reply": "2025-06-02T15:53:36.282777Z",
     "shell.execute_reply.started": "2025-06-02T15:53:36.282769Z"
    }
   },
   "outputs": [],
   "source": [
    "def cusip8_to_9(\n",
    "    df: pl.DataFrame, cusip8_col: str = \"CUSIP8\", cusip9_col: str = \"CUSIP9\"\n",
    ") -> pl.DataFrame:\n",
    "    # Assume df is a Polars DataFrame with a column \"cusip8\" containing 8-char CUSIP strings\n",
    "    df_o = (\n",
    "        df.with_columns(\n",
    "            # 1. Ensure CUSIP is uppercase (if not already) to handle letters uniformly\n",
    "            pl.col(cusip8_col)\n",
    "            .str.to_uppercase()\n",
    "            .alias(cusip8_col)\n",
    "        )\n",
    "        .with_columns(\n",
    "            # 2. Compute numeric value of each character (val0...val7 for positions 0-7)\n",
    "            *[\n",
    "                pl.when(pl.col(cusip8_col).str.slice(i, 1).str.contains(r\"^\\d$\"))\n",
    "                .then(\n",
    "                    pl.col(cusip8_col).str.slice(i, 1).str.to_integer(strict=False)\n",
    "                )  # digit -> its numeric value\n",
    "                .when(pl.col(cusip8_col).str.slice(i, 1).str.contains(r\"^[A-Z]$\"))\n",
    "                .then(\n",
    "                    pl.col(cusip8_col)\n",
    "                    .str.slice(i, 1)\n",
    "                    .map_elements(lambda x: ord(x), return_dtype=pl.UInt8)\n",
    "                    - 55\n",
    "                )  # letter -> codepoint minus 55 (e.g. 'A'(65) -> 10)\n",
    "                .when(pl.col(cusip8_col).str.slice(i, 1) == \"*\")\n",
    "                .then(pl.lit(36))  # '*' -> 36\n",
    "                .when(pl.col(cusip8_col).str.slice(i, 1) == \"@\")\n",
    "                .then(pl.lit(37))  # '@' -> 37\n",
    "                .when(pl.col(cusip8_col).str.slice(i, 1) == \"#\")\n",
    "                .then(pl.lit(38))  # '#' -> 38\n",
    "                .otherwise(pl.lit(0))\n",
    "                .alias(f\"val{i}\")\n",
    "                for i in range(8)\n",
    "            ]\n",
    "        )\n",
    "        .with_columns(\n",
    "            # 3. Sum the weighted values with the Luhn double-add-double rules\n",
    "            pl.sum_horizontal(\n",
    "                [\n",
    "                    # For even index (0-based) positions: use the value as-is\n",
    "                    (\n",
    "                        pl.col(f\"val{i}\")\n",
    "                        if i % 2 == 0\n",
    "                        # For odd index positions: double the value and sum its digits => (val*2 mod 10) + (val*2 // 10)\n",
    "                        else (\n",
    "                            (pl.col(f\"val{i}\") * 2) % 10 + (pl.col(f\"val{i}\") * 2) // 10\n",
    "                        )\n",
    "                    )\n",
    "                    for i in range(8)\n",
    "                ]\n",
    "            ).alias(\"sum\")\n",
    "        )\n",
    "        .with_columns(\n",
    "            # 4. Compute check digit = (10 - (sum mod 10)) mod 10\n",
    "            ((10 - (pl.col(\"sum\") % 10)) % 10).alias(\"check_digit\")\n",
    "        )\n",
    "        .with_columns(\n",
    "            # 5. Concatenate original 8-char CUSIP with the check digit to form CUSIP-9\n",
    "            (pl.col(cusip8_col) + pl.col(\"check_digit\").cast(pl.Utf8)).alias(cusip9_col)\n",
    "        )\n",
    "    )\n",
    "\n",
    "    # (Optionally, drop intermediate columns if they are not needed beyond this point)\n",
    "    df_o = df_o.drop([f\"val{i}\" for i in range(8)] + [\"sum\", \"check_digit\"])\n",
    "    return df_o"
   ]
  },
  {
   "cell_type": "code",
   "execution_count": null,
   "id": "c4bff05e-c5eb-410c-9bc7-f41062250bd3",
   "metadata": {
    "execution": {
     "iopub.status.busy": "2025-06-02T15:53:36.284093Z",
     "iopub.status.idle": "2025-06-02T15:53:36.284308Z",
     "shell.execute_reply": "2025-06-02T15:53:36.284216Z",
     "shell.execute_reply.started": "2025-06-02T15:53:36.284208Z"
    }
   },
   "outputs": [],
   "source": [
    "crsp_dse_cusip9 = cusip8_to_9(\n",
    "    crsp_dse, cusip8_col=\"NCUSIP\", cusip9_col=\"NCUSIP9\"\n",
    ").select(\"PERMNO\", \"NCUSIP9\", pl.exclude(\"PERMNO\", \"NCUSIP9\"))"
   ]
  },
  {
   "cell_type": "code",
   "execution_count": null,
   "id": "e637b83f-64d7-47e8-a991-c3e86c8a3d3c",
   "metadata": {
    "execution": {
     "iopub.status.busy": "2025-06-02T15:53:36.284737Z",
     "iopub.status.idle": "2025-06-02T15:53:36.284927Z",
     "shell.execute_reply": "2025-06-02T15:53:36.284854Z",
     "shell.execute_reply.started": "2025-06-02T15:53:36.284846Z"
    }
   },
   "outputs": [],
   "source": [
    "crsp_dse_cusip9.filter(c(\"NCUSIP\").str.starts_with(\"372252\"))"
   ]
  },
  {
   "cell_type": "code",
   "execution_count": null,
   "id": "aad3522f-9792-401a-a994-c0bffce8f3be",
   "metadata": {
    "execution": {
     "iopub.status.busy": "2025-06-02T15:53:36.285487Z",
     "iopub.status.idle": "2025-06-02T15:53:36.285661Z",
     "shell.execute_reply": "2025-06-02T15:53:36.285589Z",
     "shell.execute_reply.started": "2025-06-02T15:53:36.285581Z"
    }
   },
   "outputs": [],
   "source": [
    "df.filter(c(\"CUSIP\").str.head(8).is_in([\"02004710\", \"02004720\"])).filter(\n",
    "    c(\"CUSIP\").is_first_distinct()\n",
    ")"
   ]
  },
  {
   "cell_type": "code",
   "execution_count": null,
   "id": "791a43b1-56b4-41ff-a73d-0d8c5ed17678",
   "metadata": {
    "execution": {
     "iopub.status.busy": "2025-06-02T15:53:36.286728Z",
     "iopub.status.idle": "2025-06-02T15:53:36.286941Z",
     "shell.execute_reply": "2025-06-02T15:53:36.286856Z",
     "shell.execute_reply.started": "2025-06-02T15:53:36.286847Z"
    }
   },
   "outputs": [],
   "source": [
    "raise InterruptedError"
   ]
  },
  {
   "cell_type": "code",
   "execution_count": null,
   "id": "541b462e-24ef-414a-8981-17fb14ea28b0",
   "metadata": {
    "execution": {
     "iopub.status.busy": "2025-06-02T15:53:36.288151Z",
     "iopub.status.idle": "2025-06-02T15:53:36.288337Z",
     "shell.execute_reply": "2025-06-02T15:53:36.288261Z",
     "shell.execute_reply.started": "2025-06-02T15:53:36.288254Z"
    }
   },
   "outputs": [],
   "source": [
    "df.filter(c(\"CUSIP8\") == \"87259710\")"
   ]
  },
  {
   "cell_type": "code",
   "execution_count": null,
   "id": "d30e5938-a44a-456b-bee7-94bc7f163013",
   "metadata": {
    "execution": {
     "iopub.status.busy": "2025-06-02T15:53:36.288758Z",
     "iopub.status.idle": "2025-06-02T15:53:36.288932Z",
     "shell.execute_reply": "2025-06-02T15:53:36.288858Z",
     "shell.execute_reply.started": "2025-06-02T15:53:36.288851Z"
    }
   },
   "outputs": [],
   "source": [
    "res0 = df.join(crsp_dse, left_on=\"CUSIP8\", right_on=\"NCUSIP\").with_columns(\n",
    "    match_priority=pl.when(\n",
    "        c(\"Date\")\n",
    "        .dt.month_start()\n",
    "        .is_between(c(\"NAMEDT\").dt.month_start(), c(\"NAMEENDT\").dt.month_start())\n",
    "    )\n",
    "    .then(0)\n",
    "    .otherwise(\n",
    "        pl.when(\n",
    "            c(\"Date\").is_between(\n",
    "                c(\"NAMEDT\").dt.month_start().dt.offset_by(\"-1mo\"),\n",
    "                c(\"NAMEENDT\").dt.month_start().dt.offset_by(\"6mo\"),\n",
    "            )\n",
    "        )\n",
    "        .then(1)\n",
    "        .otherwise(-1)\n",
    "    )\n",
    ")"
   ]
  },
  {
   "cell_type": "code",
   "execution_count": null,
   "id": "18b5a208-c0a1-4527-a0e4-d3478d283079",
   "metadata": {
    "execution": {
     "iopub.status.busy": "2025-06-02T15:53:36.289685Z",
     "iopub.status.idle": "2025-06-02T15:53:36.289873Z",
     "shell.execute_reply": "2025-06-02T15:53:36.289798Z",
     "shell.execute_reply.started": "2025-06-02T15:53:36.289790Z"
    }
   },
   "outputs": [],
   "source": [
    "res0.filter(c(\"CUSIP\") == \"888741105\")"
   ]
  },
  {
   "cell_type": "code",
   "execution_count": null,
   "id": "b79d4da5-7788-4f13-b9ed-5c0e6e95831c",
   "metadata": {
    "execution": {
     "iopub.status.busy": "2025-06-02T15:53:36.290661Z",
     "iopub.status.idle": "2025-06-02T15:53:36.290862Z",
     "shell.execute_reply": "2025-06-02T15:53:36.290780Z",
     "shell.execute_reply.started": "2025-06-02T15:53:36.290772Z"
    }
   },
   "outputs": [],
   "source": [
    "# res0.filter((c('PERMNO')==88661) & (c('Date').dt.month_start() == datetime.fromisoformat('2017-10-01')))"
   ]
  },
  {
   "cell_type": "code",
   "execution_count": null,
   "id": "d31c363c-8e05-4cf4-938f-edb2b7e3a108",
   "metadata": {
    "execution": {
     "iopub.status.busy": "2025-06-02T15:53:36.291726Z",
     "iopub.status.idle": "2025-06-02T15:53:36.291937Z",
     "shell.execute_reply": "2025-06-02T15:53:36.291852Z",
     "shell.execute_reply.started": "2025-06-02T15:53:36.291844Z"
    }
   },
   "outputs": [],
   "source": [
    "res = (\n",
    "    res0.filter(c(\"match_priority\") >= 0)\n",
    "    .sort([\"Date\", \"PERMNO\", \"match_priority\"])\n",
    "    .unique(subset=[\"Date\", \"PERMNO\"], keep=\"first\", maintain_order=True)\n",
    ")"
   ]
  },
  {
   "cell_type": "code",
   "execution_count": null,
   "id": "bc5478fe-7a96-4c27-918f-aa156faa3b1e",
   "metadata": {
    "execution": {
     "iopub.status.busy": "2025-06-02T15:53:36.292836Z",
     "iopub.status.idle": "2025-06-02T15:53:36.293021Z",
     "shell.execute_reply": "2025-06-02T15:53:36.292942Z",
     "shell.execute_reply.started": "2025-06-02T15:53:36.292934Z"
    }
   },
   "outputs": [],
   "source": [
    "# res.filter((c('Ticker')=='TPR') & (c('Date').dt.month_start() == datetime.fromisoformat('2017-10-01')))"
   ]
  },
  {
   "cell_type": "code",
   "execution_count": null,
   "id": "93f996fc-74ed-4338-802f-3f2d927da420",
   "metadata": {
    "execution": {
     "iopub.status.busy": "2025-06-02T15:53:36.293734Z",
     "iopub.status.idle": "2025-06-02T15:53:36.293938Z",
     "shell.execute_reply": "2025-06-02T15:53:36.293859Z",
     "shell.execute_reply.started": "2025-06-02T15:53:36.293851Z"
    }
   },
   "outputs": [],
   "source": [
    "df.join(\n",
    "    res,\n",
    "    how=\"anti\",\n",
    "    on=[\"Date\", \"CUSIP8\"],\n",
    ").filter(\n",
    "    ~c(\"Ticker\").is_in(on_other_exchanges)\n",
    "    & ~c(\"Ticker\").str.ends_with(\"x\")  # Known dummy tickers\n",
    ").select([\"Date\", \"ConsCode\", \"CUSIP\", \"ISIN\", \"Ticker\", \"Exchange\", \"Name\"])"
   ]
  },
  {
   "cell_type": "code",
   "execution_count": null,
   "id": "9af5656e-b0d7-4d87-b246-7f5a7222bb4e",
   "metadata": {
    "execution": {
     "iopub.status.busy": "2025-06-02T15:53:36.294942Z",
     "iopub.status.idle": "2025-06-02T15:53:36.295123Z",
     "shell.execute_reply": "2025-06-02T15:53:36.295050Z",
     "shell.execute_reply.started": "2025-06-02T15:53:36.295043Z"
    }
   },
   "outputs": [],
   "source": [
    "px.line(\n",
    "    res.filter(c(\"match_priority\") == 1)\n",
    "    .group_by(\"Date\", maintain_order=True)\n",
    "    .agg(pl.len()),\n",
    "    x=\"Date\",\n",
    "    y=\"len\",\n",
    "    markers=True,\n",
    "    title=\"# non-exact matches \",\n",
    ")"
   ]
  },
  {
   "cell_type": "code",
   "execution_count": null,
   "id": "1dceee71-340c-4e63-9c04-bab8ccf3a6c6",
   "metadata": {
    "execution": {
     "iopub.status.busy": "2025-06-02T15:53:36.295811Z",
     "iopub.status.idle": "2025-06-02T15:53:36.296094Z",
     "shell.execute_reply": "2025-06-02T15:53:36.296012Z",
     "shell.execute_reply.started": "2025-06-02T15:53:36.296004Z"
    }
   },
   "outputs": [],
   "source": [
    "res.write_parquet(\"/home/hzhang/data/russell_crsp_link.parquet\")"
   ]
  },
  {
   "cell_type": "code",
   "execution_count": null,
   "id": "6c0823c2-5c92-44ca-91d1-30cacaa11947",
   "metadata": {
    "execution": {
     "iopub.status.busy": "2025-06-02T15:53:36.296905Z",
     "iopub.status.idle": "2025-06-02T15:53:36.297083Z",
     "shell.execute_reply": "2025-06-02T15:53:36.297011Z",
     "shell.execute_reply.started": "2025-06-02T15:53:36.297004Z"
    }
   },
   "outputs": [],
   "source": [
    "res[\"CUSIP8\"].unique().count()"
   ]
  },
  {
   "cell_type": "code",
   "execution_count": null,
   "id": "8d8de0e9-5ec5-4099-b762-1571753eb559",
   "metadata": {
    "execution": {
     "iopub.status.busy": "2025-06-02T15:53:36.297980Z",
     "iopub.status.idle": "2025-06-02T15:53:36.298166Z",
     "shell.execute_reply": "2025-06-02T15:53:36.298090Z",
     "shell.execute_reply.started": "2025-06-02T15:53:36.298083Z"
    }
   },
   "outputs": [],
   "source": [
    "raise InterruptedError"
   ]
  },
  {
   "cell_type": "code",
   "execution_count": null,
   "id": "fed94e1d-8c75-4287-95d9-460cc7a04a33",
   "metadata": {
    "execution": {
     "iopub.status.busy": "2025-06-02T15:53:36.298753Z",
     "iopub.status.idle": "2025-06-02T15:53:36.298959Z",
     "shell.execute_reply": "2025-06-02T15:53:36.298878Z",
     "shell.execute_reply.started": "2025-06-02T15:53:36.298870Z"
    }
   },
   "outputs": [],
   "source": [
    "res.filter(c(\"CUSIP\") == \"887315109\")"
   ]
  },
  {
   "cell_type": "code",
   "execution_count": null,
   "id": "f63f6c71-88d0-4534-8ccd-7fc3205a0e5a",
   "metadata": {
    "execution": {
     "iopub.status.busy": "2025-06-02T15:53:36.300213Z",
     "iopub.status.idle": "2025-06-02T15:53:36.300442Z",
     "shell.execute_reply": "2025-06-02T15:53:36.300340Z",
     "shell.execute_reply.started": "2025-06-02T15:53:36.300331Z"
    }
   },
   "outputs": [],
   "source": [
    "(\n",
    "    res.with_columns(month_no=c(\"Date\").dt.year() * 12 + c(\"Date\").dt.month())\n",
    "    .select([\"Date\", \"PERMNO\", \"month_no\"])\n",
    "    .with_columns(diff_month_no=c(\"month_no\").diff().over(\"PERMNO\"))\n",
    "    .filter(c(\"diff_month_no\") > 1)\n",
    ").filter(c(\"diff_month_no\") == 2)"
   ]
  },
  {
   "cell_type": "code",
   "execution_count": null,
   "id": "8ef3b2f1-d547-4301-aa12-acdda6667ad2",
   "metadata": {
    "execution": {
     "iopub.status.busy": "2025-06-02T15:53:36.301516Z",
     "iopub.status.idle": "2025-06-02T15:53:36.301703Z",
     "shell.execute_reply": "2025-06-02T15:53:36.301627Z",
     "shell.execute_reply.started": "2025-06-02T15:53:36.301619Z"
    }
   },
   "outputs": [],
   "source": [
    "res.filter(\n",
    "    c(\"PERMNO\").eq(16465)\n",
    "    & c(\"Date\").is_between(\n",
    "        datetime.fromisoformat(\"2020-07-01\"), datetime.fromisoformat(\"2020-10-01\")\n",
    "    )\n",
    ")"
   ]
  },
  {
   "cell_type": "code",
   "execution_count": null,
   "id": "22134b13-05f3-4849-876d-b7390034756f",
   "metadata": {
    "execution": {
     "iopub.status.busy": "2025-06-02T15:53:36.303294Z",
     "iopub.status.idle": "2025-06-02T15:53:36.306666Z",
     "shell.execute_reply": "2025-06-02T15:53:36.306560Z",
     "shell.execute_reply.started": "2025-06-02T15:53:36.306549Z"
    }
   },
   "outputs": [],
   "source": [
    "[c for c in res.columns if c.startswith(\"R\")]"
   ]
  },
  {
   "cell_type": "code",
   "execution_count": null,
   "id": "5567ba03-bc5d-4842-91f9-69c60fb00b3a",
   "metadata": {
    "execution": {
     "iopub.status.busy": "2025-06-02T15:53:36.307650Z",
     "iopub.status.idle": "2025-06-02T15:53:36.307895Z",
     "shell.execute_reply": "2025-06-02T15:53:36.307781Z",
     "shell.execute_reply.started": "2025-06-02T15:53:36.307773Z"
    }
   },
   "outputs": [],
   "source": [
    "res[\"PERMNO\"].unique()"
   ]
  },
  {
   "cell_type": "code",
   "execution_count": null,
   "id": "00097398-1c2f-49f8-9454-7c2b083e80e1",
   "metadata": {
    "execution": {
     "iopub.status.busy": "2025-06-02T15:53:36.309893Z",
     "iopub.status.idle": "2025-06-02T15:53:36.310365Z",
     "shell.execute_reply": "2025-06-02T15:53:36.310209Z",
     "shell.execute_reply.started": "2025-06-02T15:53:36.310196Z"
    }
   },
   "outputs": [],
   "source": [
    "# df.filter(c('Ticker').is_in(on_other_exchanges))\n",
    "df.filter(c(\"Ticker\") == \"TRFI\")"
   ]
  },
  {
   "cell_type": "code",
   "execution_count": null,
   "id": "ce9a4e17-27e9-49a9-a4d3-a124a19ebd67",
   "metadata": {
    "execution": {
     "iopub.status.busy": "2025-06-02T15:53:36.311256Z",
     "iopub.status.idle": "2025-06-02T15:53:36.311484Z",
     "shell.execute_reply": "2025-06-02T15:53:36.311395Z",
     "shell.execute_reply.started": "2025-06-02T15:53:36.311386Z"
    }
   },
   "outputs": [],
   "source": [
    "df.filter(c(\"Date\") < datetime.fromisoformat(\"2000-01-01\"))[\"Exchange\"].unique()"
   ]
  },
  {
   "cell_type": "code",
   "execution_count": null,
   "id": "3d3e3e97-aca5-45c6-b07f-7e52fbd1a9c3",
   "metadata": {
    "execution": {
     "iopub.status.busy": "2025-06-02T15:53:36.312901Z",
     "iopub.status.idle": "2025-06-02T15:53:36.313114Z",
     "shell.execute_reply": "2025-06-02T15:53:36.313033Z",
     "shell.execute_reply.started": "2025-06-02T15:53:36.313025Z"
    }
   },
   "outputs": [],
   "source": [
    "crsp_dse.filter(c(\"NCUSIP\").eq(\"25380710\"))"
   ]
  },
  {
   "cell_type": "code",
   "execution_count": null,
   "id": "07b747fb-fe49-461b-bf09-3b6042c8b656",
   "metadata": {
    "execution": {
     "iopub.status.busy": "2025-06-02T15:53:36.314253Z",
     "iopub.status.idle": "2025-06-02T15:53:36.314468Z",
     "shell.execute_reply": "2025-06-02T15:53:36.314383Z",
     "shell.execute_reply.started": "2025-06-02T15:53:36.314375Z"
    }
   },
   "outputs": [],
   "source": [
    "crsp_dse.filter(c(\"TICKER\").eq(\"USITQ\"))"
   ]
  },
  {
   "cell_type": "code",
   "execution_count": null,
   "id": "888b7b35-f06d-4d8f-bae6-eae7092ab1aa",
   "metadata": {
    "execution": {
     "iopub.status.busy": "2025-06-02T15:53:36.315689Z",
     "iopub.status.idle": "2025-06-02T15:53:36.315908Z",
     "shell.execute_reply": "2025-06-02T15:53:36.315822Z",
     "shell.execute_reply.started": "2025-06-02T15:53:36.315814Z"
    }
   },
   "outputs": [],
   "source": [
    "crsp_dse.filter(c(\"COMNAM\").str.starts_with(\"GREIF\"))"
   ]
  },
  {
   "cell_type": "code",
   "execution_count": null,
   "id": "585057f6-b851-4f02-bec2-17a9fd4c79d3",
   "metadata": {
    "execution": {
     "iopub.status.busy": "2025-06-02T15:53:36.317084Z",
     "iopub.status.idle": "2025-06-02T15:53:36.317298Z",
     "shell.execute_reply": "2025-06-02T15:53:36.317213Z",
     "shell.execute_reply.started": "2025-06-02T15:53:36.317204Z"
    }
   },
   "outputs": [],
   "source": [
    "rf.process.extractOne(\n",
    "    \"ARCHIPELEGO HOLDINGS INC\",\n",
    "    crsp_dse[\"COMNAM\"].unique(),\n",
    "    scorer=rf.fuzz.ratio,\n",
    "    processor=rf.utils.default_process,\n",
    ")"
   ]
  },
  {
   "cell_type": "code",
   "execution_count": null,
   "id": "dcadfd60-5b1e-47b8-8d08-973c39802f3c",
   "metadata": {
    "execution": {
     "iopub.status.busy": "2025-06-02T15:53:36.318145Z",
     "iopub.status.idle": "2025-06-02T15:53:36.318357Z",
     "shell.execute_reply": "2025-06-02T15:53:36.318271Z",
     "shell.execute_reply.started": "2025-06-02T15:53:36.318263Z"
    }
   },
   "outputs": [],
   "source": [
    "import rapidfuzz as rf"
   ]
  },
  {
   "cell_type": "code",
   "execution_count": null,
   "id": "cff170bb-8fb1-490d-82e6-c06bacd54728",
   "metadata": {
    "execution": {
     "iopub.status.busy": "2025-06-02T15:53:36.319338Z",
     "iopub.status.idle": "2025-06-02T15:53:36.319549Z",
     "shell.execute_reply": "2025-06-02T15:53:36.319466Z",
     "shell.execute_reply.started": "2025-06-02T15:53:36.319458Z"
    }
   },
   "outputs": [],
   "source": [
    "choices = [\"Atlanta Falcons\", \"New York Jets\", \"New York Giants\", \"Dallas Cowboys\"]"
   ]
  },
  {
   "cell_type": "code",
   "execution_count": null,
   "id": "3d523fe2-9456-4150-b874-476ae063a9be",
   "metadata": {
    "execution": {
     "iopub.status.busy": "2025-06-02T15:53:36.321438Z",
     "iopub.status.idle": "2025-06-02T15:53:36.322204Z",
     "shell.execute_reply": "2025-06-02T15:53:36.322093Z",
     "shell.execute_reply.started": "2025-06-02T15:53:36.322081Z"
    }
   },
   "outputs": [],
   "source": [
    "rf.process.extractOne(\n",
    "    \"cowboys\", choices, scorer=rf.fuzz.ratio, processor=rf.utils.default_process\n",
    ")"
   ]
  },
  {
   "cell_type": "code",
   "execution_count": null,
   "id": "ec69ea19-485b-466f-8e6c-ca3583ad7dd7",
   "metadata": {
    "execution": {
     "iopub.status.busy": "2025-06-02T15:53:36.323539Z",
     "iopub.status.idle": "2025-06-02T15:53:36.324467Z",
     "shell.execute_reply": "2025-06-02T15:53:36.324322Z",
     "shell.execute_reply.started": "2025-06-02T15:53:36.324307Z"
    }
   },
   "outputs": [],
   "source": [
    "rf.process.extractOne(\n",
    "    \"ADLAC\",\n",
    "    crsp_dse[\"TICKER\"].unique(),\n",
    "    scorer=rf.fuzz.ratio,\n",
    "    processor=rf.utils.default_process,\n",
    ")"
   ]
  },
  {
   "cell_type": "code",
   "execution_count": null,
   "id": "d73eff6d-e9d5-4c21-bd01-010e949b1b51",
   "metadata": {
    "execution": {
     "iopub.status.busy": "2025-06-02T15:53:36.325335Z",
     "iopub.status.idle": "2025-06-02T15:53:36.325535Z",
     "shell.execute_reply": "2025-06-02T15:53:36.325454Z",
     "shell.execute_reply.started": "2025-06-02T15:53:36.325446Z"
    }
   },
   "outputs": [],
   "source": [
    "rf.process.extractOne(\n",
    "    \"ADELPHIA COMMUN -CL\",\n",
    "    crsp_dse[\"COMNAM\"].unique(),\n",
    "    scorer=rf.fuzz.ratio,\n",
    "    processor=rf.utils.default_process,\n",
    ")"
   ]
  },
  {
   "cell_type": "code",
   "execution_count": null,
   "id": "9ee2b551-9a49-4aaf-8f92-9bd69797df55",
   "metadata": {
    "execution": {
     "iopub.status.busy": "2025-06-02T15:53:36.326326Z",
     "iopub.status.idle": "2025-06-02T15:53:36.326587Z",
     "shell.execute_reply": "2025-06-02T15:53:36.326457Z",
     "shell.execute_reply.started": "2025-06-02T15:53:36.326448Z"
    }
   },
   "outputs": [],
   "source": [
    "[\n",
    "    df.filter(c(\"Date\").dt.month_start() == datetime.fromisoformat(f\"{month}-01\"))[\n",
    "        \"wt\"\n",
    "    ].sum()\n",
    "    for month in [\"2012-07\", \"2014-06\"]\n",
    "]"
   ]
  },
  {
   "cell_type": "code",
   "execution_count": null,
   "id": "fa9e4097-1376-43c0-a67b-1da784cc94c6",
   "metadata": {
    "execution": {
     "iopub.status.busy": "2025-06-02T15:53:36.327673Z",
     "iopub.status.idle": "2025-06-02T15:53:36.327891Z",
     "shell.execute_reply": "2025-06-02T15:53:36.327805Z",
     "shell.execute_reply.started": "2025-06-02T15:53:36.327796Z"
    }
   },
   "outputs": [],
   "source": [
    "px.line(\n",
    "    df.group_by(\"Date\").agg(c(\"wt\").sum()).sort(by=\"Date\"),\n",
    "    x=\"Date\",\n",
    "    y=\"wt\",\n",
    "    markers=True,\n",
    ")"
   ]
  },
  {
   "cell_type": "code",
   "execution_count": null,
   "id": "4a6b1072-fddf-4172-b4d1-5b3545bc39a7",
   "metadata": {
    "execution": {
     "iopub.status.busy": "2025-06-02T15:53:36.328668Z",
     "iopub.status.idle": "2025-06-02T15:53:36.329235Z",
     "shell.execute_reply": "2025-06-02T15:53:36.329146Z",
     "shell.execute_reply.started": "2025-06-02T15:53:36.329137Z"
    }
   },
   "outputs": [],
   "source": [
    "df"
   ]
  },
  {
   "cell_type": "code",
   "execution_count": null,
   "id": "42d74b3e-6dca-4379-8bc6-ecf6bd7fb112",
   "metadata": {
    "execution": {
     "iopub.status.busy": "2025-06-02T15:53:36.330207Z",
     "iopub.status.idle": "2025-06-02T15:53:36.330409Z",
     "shell.execute_reply": "2025-06-02T15:53:36.330329Z",
     "shell.execute_reply.started": "2025-06-02T15:53:36.330321Z"
    }
   },
   "outputs": [],
   "source": [
    "crsp_dse"
   ]
  },
  {
   "cell_type": "code",
   "execution_count": null,
   "id": "70e4875b-dd99-43e1-b176-a7c11673a1b5",
   "metadata": {},
   "outputs": [],
   "source": []
  }
 ],
 "metadata": {
  "kernelspec": {
   "display_name": "Python 3 (ipykernel)",
   "language": "python",
   "name": "python3"
  },
  "language_info": {
   "codemirror_mode": {
    "name": "ipython",
    "version": 3
   },
   "file_extension": ".py",
   "mimetype": "text/x-python",
   "name": "python",
   "nbconvert_exporter": "python",
   "pygments_lexer": "ipython3",
   "version": "3.12.3"
  }
 },
 "nbformat": 4,
 "nbformat_minor": 5
}
