{
  "nbformat": 4,
  "nbformat_minor": 0,
  "metadata": {
    "colab": {
      "provenance": [],
      "authorship_tag": "ABX9TyNhl4teifbRs8bNRmkZBPmE",
      "include_colab_link": true
    },
    "kernelspec": {
      "name": "python3",
      "display_name": "Python 3"
    },
    "language_info": {
      "name": "python"
    }
  },
  "cells": [
    {
      "cell_type": "markdown",
      "metadata": {
        "id": "view-in-github",
        "colab_type": "text"
      },
      "source": [
        "<a href=\"https://colab.research.google.com/github/gnahz04/itsy/blob/master/AllegedAMC8_10Question.ipynb\" target=\"_parent\"><img src=\"https://colab.research.google.com/assets/colab-badge.svg\" alt=\"Open In Colab\"/></a>"
      ]
    },
    {
      "cell_type": "markdown",
      "source": [
        "Two Sigma Wechat group asks\n",
        "\n",
        "\\begin{align}\n",
        " x^2 + y^2 + xy &= 3  \\tag{1} \\\\\n",
        " y^2 + z^2 + yz &= 7  \\tag{2} \\\\\n",
        " x^2 + z^2 + xz &= 13 \\tag{3}\n",
        "\\end{align}\n",
        "\n",
        "Solve for $x,y,z$\n",
        "\n",
        "First, feed it to a [CAS](https://en.wikipedia.org/wiki/Computer_algebra_system), e.g., `sympy`"
      ],
      "metadata": {
        "id": "JvJFw_cEBdOd"
      }
    },
    {
      "cell_type": "code",
      "execution_count": 1,
      "metadata": {
        "id": "4MrNO1poAaXc"
      },
      "outputs": [],
      "source": [
        "from sympy import solve\n",
        "from sympy.abc import x,y,z"
      ]
    },
    {
      "cell_type": "code",
      "source": [
        "solve([x**2 + y**2 + x*y - 3, y**2 + z**2 + y*z - 7, x**2 + z**2 + x*z - 13], [x,y,z], dict=True)"
      ],
      "metadata": {
        "colab": {
          "base_uri": "https://localhost:8080/"
        },
        "id": "cHSZbupoAcGY",
        "outputId": "c282111d-8c6e-407d-bbad-11ca45cb7776"
      },
      "execution_count": 2,
      "outputs": [
        {
          "output_type": "execute_result",
          "data": {
            "text/plain": [
              "[{x: -1, y: 2, z: -3},\n",
              " {x: 1, y: -2, z: 3},\n",
              " {x: -7*sqrt(19)/19, y: -sqrt(19)/19, z: -11*sqrt(19)/19},\n",
              " {x: 7*sqrt(19)/19, y: sqrt(19)/19, z: 11*sqrt(19)/19}]"
            ]
          },
          "metadata": {},
          "execution_count": 2
        }
      ]
    },
    {
      "cell_type": "markdown",
      "source": [
        "Tracing sympy source code [`polysys.py`](https://github.com/sympy/sympy/blob/master/sympy/solvers/polysys.py#L148) leads to the liteature on **Groebner basis**, esp. on examples where this mechnical procedure is carried out, see e.g. [scholarpedia link](http://www.scholarpedia.org/article/Groebner_basis#Definition_via_the_Leading_Power_Product_Property)\n",
        "\n",
        "\n",
        "Thus it prompts the general idea of \"multiplying a term to the equations, then add them\", a natural choice is to multiply $(x-y)$ to equation (1), and so on, giving rise to\n",
        "\\begin{align*}\n",
        "x^3 - y^3 &= 3(x-y)\\\\\n",
        "y^3 - z^3 &= 7(y-z) \\\\\n",
        "z^3 - x^3 &= 13(z-x) \n",
        "\\end{align*}\n",
        "and adding them up gives $$3(x-y) + 7(y-z) + 13 (z-x) = 0 \\tag{4}$$\n",
        "\n",
        "We can also think of it in a geomtric way, all three equations are elliptical cylinders in the 3 dimensional $x,y,z$ space. The intersectin of two such cylinders is an ecllipse. And the intersection of two such ellipses are a set of four points. \n",
        "\n",
        "Combining the algebraic view and the geometric view, we will pick whichever is the path of least resistance. So far, we know that such ellipses lie in a plane that pass through the origin as in equation (4).\n",
        "\n",
        "So $(4) \\Longrightarrow -10x + 4y + 6z =0 \\Longrightarrow y = (5x-3z)/2$, and we simplify to two equations of order 2:\n",
        "\\begin{align*}\n",
        "x^2 + z^2 + xz &= 13 \\tag{5}\\\\\n",
        "(z-y)(z+y+x) &= 10\\ \\text{via (3)-(1)} \\\\\n",
        "(z-(5x-3z)/2)(z+x+(5x-3z)/2) &= 10\\\\\n",
        "(x-z)(7x-z) &= -8 \\tag{6}\n",
        "\\end{align*}"
      ],
      "metadata": {
        "id": "B4EwLYdOBnQt"
      }
    },
    {
      "cell_type": "code",
      "source": [
        "from sympy import simplify, groebner"
      ],
      "metadata": {
        "id": "WZWsTWYGGhR4"
      },
      "execution_count": 3,
      "outputs": []
    },
    {
      "cell_type": "code",
      "source": [
        "display(simplify(3*(x-y)+7*(y-z)+13*(z-x)))\n",
        "display(simplify((z-(-3*z+5*x)/2)*(z+x+(-3*z+5*x)/2 )))\n",
        "#groebner([x**2 + z**2 + x*z - 13, -3/4*(x-7*z)*(x-z) - 10], x, z)"
      ],
      "metadata": {
        "colab": {
          "base_uri": "https://localhost:8080/",
          "height": 74
        },
        "id": "TF4rr_H3Gppy",
        "outputId": "9ab53cca-ae57-40ca-b3e5-c56dbfb29ed7"
      },
      "execution_count": 4,
      "outputs": [
        {
          "output_type": "display_data",
          "data": {
            "text/plain": [
              "-10*x + 4*y + 6*z"
            ],
            "text/latex": "$\\displaystyle - 10 x + 4 y + 6 z$"
          },
          "metadata": {}
        },
        {
          "output_type": "display_data",
          "data": {
            "text/plain": [
              "-5*(x - z)*(7*x - z)/4"
            ],
            "text/latex": "$\\displaystyle - \\frac{5 \\left(x - z\\right) \\left(7 x - z\\right)}{4}$"
          },
          "metadata": {}
        }
      ]
    },
    {
      "cell_type": "markdown",
      "source": [
        "One way is to keep the equations **homogenous** (i.e. only second-order monomials) by getting rid of constants, thus\n",
        "\\begin{align*}\n",
        "(x^2 + z^2 + xz)/13 &= (x-z)(7x-z) / (-8)\\\\\n",
        "33 x^2 - 32xz + 7z^2 &= 0\\\\\n",
        "(11x -7z)(3x-z) &= 0 \\\\\n",
        "x : z = 7:11,\\  \\text{or} \\ 1: 3 \\tag{7}\n",
        "\\end{align*}"
      ],
      "metadata": {
        "id": "kC4gU4TCG68A"
      }
    },
    {
      "cell_type": "code",
      "source": [
        "simplify((7*x-z)*(x-z)*13 + (x**2 + z**2 + x*z)*8)"
      ],
      "metadata": {
        "colab": {
          "base_uri": "https://localhost:8080/",
          "height": 39
        },
        "id": "dGjlHaPKI-tE",
        "outputId": "dc9577bd-4542-4260-a2c4-4360ff5f2172"
      },
      "execution_count": 5,
      "outputs": [
        {
          "output_type": "execute_result",
          "data": {
            "text/plain": [
              "99*x**2 - 96*x*z + 21*z**2"
            ],
            "text/latex": "$\\displaystyle 99 x^{2} - 96 x z + 21 z^{2}$"
          },
          "metadata": {},
          "execution_count": 5
        }
      ]
    },
    {
      "cell_type": "code",
      "source": [
        "solve(99*x**2-96*x+21, x)"
      ],
      "metadata": {
        "colab": {
          "base_uri": "https://localhost:8080/"
        },
        "id": "VmelaoPUJPBf",
        "outputId": "237dbc93-c71d-4219-e1d7-609c89894249"
      },
      "execution_count": 6,
      "outputs": [
        {
          "output_type": "execute_result",
          "data": {
            "text/plain": [
              "[1/3, 7/11]"
            ]
          },
          "metadata": {},
          "execution_count": 6
        }
      ]
    },
    {
      "cell_type": "markdown",
      "source": [
        "Coupling equation (7)  with $y = (5x-3z)/2$, we see that $x:y:z = 1:-2:3$, or $7:1:11$, substitute back into equation (1), we have $u^2 + (-2u)^2 + u(-2u) = 3 \\Longrightarrow u=\\pm 1$, and in the second case, $(7u)^2 + u^2 + 7uu = 3$, $u=\\pm \\sqrt{19}$. \n",
        "\n",
        "Thus $(x,y,z) = (1,-2,3)\\cdot \\pm 1$, or $ (7,1,11) \\cdot \\pm \\sqrt{19}$\n",
        "\n",
        "\n",
        "### Alternative solution:\n",
        "\n",
        "There's a cute planar geometry approach courtesy of Prof Jiashun Jin, of a [Fermat's point](https://en.wikipedia.org/wiki/Fermat_point) in a triangle.\n",
        "\n",
        "![Fermat's point](https://raw.githubusercontent.com/gnahz04/itsy/master/Untitled%20Diagram.drawio.svg)\n",
        "\n",
        "But that's for another day."
      ],
      "metadata": {
        "id": "CPQdhdl7XXcX"
      }
    }
  ]
}